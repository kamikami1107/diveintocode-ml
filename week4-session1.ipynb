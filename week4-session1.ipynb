{
 "cells": [
  {
   "cell_type": "code",
   "execution_count": 1,
   "metadata": {},
   "outputs": [],
   "source": [
    "import matplotlib.pyplot as plt\n",
    "%matplotlib inline\n",
    "import numpy as np\n",
    "import pandas as pd\n",
    "import seaborn as sns"
   ]
  },
  {
   "cell_type": "markdown",
   "metadata": {},
   "source": [
    "Kaggleの Home Credit Default Risk コンペティションの学習および推定を行います。\n",
    "\n",
    "[Home Credit Default Risk](https://www.kaggle.com/c/home-credit-default-risk)"
   ]
  },
  {
   "cell_type": "markdown",
   "metadata": {},
   "source": [
    "### 【問題1】コンペティション内容の確認\n",
    "\n",
    "コンペティションのOverviewページ読み、「Home Credit Default Risk」について以下の観点について確認してください。\n",
    "\n",
    "1. 何を学習し、何を予測するのか\n",
    "2. どのようなファイルを作りKaggleに提出するか\n",
    "3. 提出されたものはどういった指標値で評価されるのか"
   ]
  },
  {
   "cell_type": "markdown",
   "metadata": {},
   "source": [
    "#### 1. 何を学習し、何を予測するのか"
   ]
  },
  {
   "cell_type": "markdown",
   "metadata": {},
   "source": [
    "application_train.csvを学習し、顧客の返済能力を予測する。"
   ]
  },
  {
   "cell_type": "markdown",
   "metadata": {},
   "source": [
    "#### 2. どのようなファイルを作りKaggleに提出するか"
   ]
  },
  {
   "cell_type": "markdown",
   "metadata": {},
   "source": [
    "ファイルにはヘッダが含まれており、次のような形式になっていなければなりません。"
   ]
  },
  {
   "cell_type": "code",
   "execution_count": 2,
   "metadata": {},
   "outputs": [
    {
     "data": {
      "text/html": [
       "<div>\n",
       "<style scoped>\n",
       "    .dataframe tbody tr th:only-of-type {\n",
       "        vertical-align: middle;\n",
       "    }\n",
       "\n",
       "    .dataframe tbody tr th {\n",
       "        vertical-align: top;\n",
       "    }\n",
       "\n",
       "    .dataframe thead th {\n",
       "        text-align: right;\n",
       "    }\n",
       "</style>\n",
       "<table border=\"1\" class=\"dataframe\">\n",
       "  <thead>\n",
       "    <tr style=\"text-align: right;\">\n",
       "      <th></th>\n",
       "      <th>SK_ID_CURR</th>\n",
       "      <th>TARGET</th>\n",
       "    </tr>\n",
       "  </thead>\n",
       "  <tbody>\n",
       "    <tr>\n",
       "      <th>0</th>\n",
       "      <td>100001</td>\n",
       "      <td>0.1</td>\n",
       "    </tr>\n",
       "    <tr>\n",
       "      <th>1</th>\n",
       "      <td>100005</td>\n",
       "      <td>0.9</td>\n",
       "    </tr>\n",
       "    <tr>\n",
       "      <th>2</th>\n",
       "      <td>100013</td>\n",
       "      <td>0.2</td>\n",
       "    </tr>\n",
       "  </tbody>\n",
       "</table>\n",
       "</div>"
      ],
      "text/plain": [
       "   SK_ID_CURR  TARGET\n",
       "0      100001     0.1\n",
       "1      100005     0.9\n",
       "2      100013     0.2"
      ]
     },
     "execution_count": 2,
     "metadata": {},
     "output_type": "execute_result"
    }
   ],
   "source": [
    "example = pd.DataFrame({'SK_ID_CURR' : [100001, 100005, 100013], \n",
    "                                               'TARGET' : [0.1, 0.9, 0.2]})\n",
    "\n",
    "example"
   ]
  },
  {
   "cell_type": "markdown",
   "metadata": {},
   "source": [
    "#### 3. 提出されたものはどういった指標値で評価されるのか"
   ]
  },
  {
   "cell_type": "markdown",
   "metadata": {},
   "source": [
    "提出物は、予測された確率と観測された目標との間のROC曲線の下の面積(AUC)で評価されます。\n",
    "\n",
    "テストセットの各SK_ID_CURRについて、TARGET変数の確率を予測する必要があります。"
   ]
  },
  {
   "cell_type": "markdown",
   "metadata": {},
   "source": [
    "## ベースラインモデルの作成"
   ]
  },
  {
   "cell_type": "markdown",
   "metadata": {},
   "source": [
    "まずは単純な方法による ベースラインモデル　を作成します。精度の基準となるモデルです。\n",
    "\n",
    "精度を高くする必要はありません。エラーなく実行でき、Kaggle側に推定値を提出できることを目指します。"
   ]
  },
  {
   "cell_type": "markdown",
   "metadata": {},
   "source": [
    "### 【問題2】学習と検証\n",
    "\n",
    "データを簡単に分析、前処理し、学習、検証するまでの一連の流れを作成・実行してください。\n",
    "\n",
    "\n",
    "検証にはこのコンペティションで使用される評価指標を用いるようにしてください。学習に用いる手法は指定しません。"
   ]
  },
  {
   "cell_type": "code",
   "execution_count": 3,
   "metadata": {},
   "outputs": [
    {
     "name": "stdout",
     "output_type": "stream",
     "text": [
      "Training data shape:  (307511, 122)\n"
     ]
    },
    {
     "data": {
      "text/html": [
       "<div>\n",
       "<style scoped>\n",
       "    .dataframe tbody tr th:only-of-type {\n",
       "        vertical-align: middle;\n",
       "    }\n",
       "\n",
       "    .dataframe tbody tr th {\n",
       "        vertical-align: top;\n",
       "    }\n",
       "\n",
       "    .dataframe thead th {\n",
       "        text-align: right;\n",
       "    }\n",
       "</style>\n",
       "<table border=\"1\" class=\"dataframe\">\n",
       "  <thead>\n",
       "    <tr style=\"text-align: right;\">\n",
       "      <th></th>\n",
       "      <th>SK_ID_CURR</th>\n",
       "      <th>TARGET</th>\n",
       "      <th>NAME_CONTRACT_TYPE</th>\n",
       "      <th>CODE_GENDER</th>\n",
       "      <th>FLAG_OWN_CAR</th>\n",
       "      <th>FLAG_OWN_REALTY</th>\n",
       "      <th>CNT_CHILDREN</th>\n",
       "      <th>AMT_INCOME_TOTAL</th>\n",
       "      <th>AMT_CREDIT</th>\n",
       "      <th>AMT_ANNUITY</th>\n",
       "      <th>...</th>\n",
       "      <th>FLAG_DOCUMENT_18</th>\n",
       "      <th>FLAG_DOCUMENT_19</th>\n",
       "      <th>FLAG_DOCUMENT_20</th>\n",
       "      <th>FLAG_DOCUMENT_21</th>\n",
       "      <th>AMT_REQ_CREDIT_BUREAU_HOUR</th>\n",
       "      <th>AMT_REQ_CREDIT_BUREAU_DAY</th>\n",
       "      <th>AMT_REQ_CREDIT_BUREAU_WEEK</th>\n",
       "      <th>AMT_REQ_CREDIT_BUREAU_MON</th>\n",
       "      <th>AMT_REQ_CREDIT_BUREAU_QRT</th>\n",
       "      <th>AMT_REQ_CREDIT_BUREAU_YEAR</th>\n",
       "    </tr>\n",
       "  </thead>\n",
       "  <tbody>\n",
       "    <tr>\n",
       "      <th>0</th>\n",
       "      <td>100002</td>\n",
       "      <td>1</td>\n",
       "      <td>Cash loans</td>\n",
       "      <td>M</td>\n",
       "      <td>N</td>\n",
       "      <td>Y</td>\n",
       "      <td>0</td>\n",
       "      <td>202500.0</td>\n",
       "      <td>406597.5</td>\n",
       "      <td>24700.5</td>\n",
       "      <td>...</td>\n",
       "      <td>0</td>\n",
       "      <td>0</td>\n",
       "      <td>0</td>\n",
       "      <td>0</td>\n",
       "      <td>0.0</td>\n",
       "      <td>0.0</td>\n",
       "      <td>0.0</td>\n",
       "      <td>0.0</td>\n",
       "      <td>0.0</td>\n",
       "      <td>1.0</td>\n",
       "    </tr>\n",
       "    <tr>\n",
       "      <th>1</th>\n",
       "      <td>100003</td>\n",
       "      <td>0</td>\n",
       "      <td>Cash loans</td>\n",
       "      <td>F</td>\n",
       "      <td>N</td>\n",
       "      <td>N</td>\n",
       "      <td>0</td>\n",
       "      <td>270000.0</td>\n",
       "      <td>1293502.5</td>\n",
       "      <td>35698.5</td>\n",
       "      <td>...</td>\n",
       "      <td>0</td>\n",
       "      <td>0</td>\n",
       "      <td>0</td>\n",
       "      <td>0</td>\n",
       "      <td>0.0</td>\n",
       "      <td>0.0</td>\n",
       "      <td>0.0</td>\n",
       "      <td>0.0</td>\n",
       "      <td>0.0</td>\n",
       "      <td>0.0</td>\n",
       "    </tr>\n",
       "    <tr>\n",
       "      <th>2</th>\n",
       "      <td>100004</td>\n",
       "      <td>0</td>\n",
       "      <td>Revolving loans</td>\n",
       "      <td>M</td>\n",
       "      <td>Y</td>\n",
       "      <td>Y</td>\n",
       "      <td>0</td>\n",
       "      <td>67500.0</td>\n",
       "      <td>135000.0</td>\n",
       "      <td>6750.0</td>\n",
       "      <td>...</td>\n",
       "      <td>0</td>\n",
       "      <td>0</td>\n",
       "      <td>0</td>\n",
       "      <td>0</td>\n",
       "      <td>0.0</td>\n",
       "      <td>0.0</td>\n",
       "      <td>0.0</td>\n",
       "      <td>0.0</td>\n",
       "      <td>0.0</td>\n",
       "      <td>0.0</td>\n",
       "    </tr>\n",
       "    <tr>\n",
       "      <th>3</th>\n",
       "      <td>100006</td>\n",
       "      <td>0</td>\n",
       "      <td>Cash loans</td>\n",
       "      <td>F</td>\n",
       "      <td>N</td>\n",
       "      <td>Y</td>\n",
       "      <td>0</td>\n",
       "      <td>135000.0</td>\n",
       "      <td>312682.5</td>\n",
       "      <td>29686.5</td>\n",
       "      <td>...</td>\n",
       "      <td>0</td>\n",
       "      <td>0</td>\n",
       "      <td>0</td>\n",
       "      <td>0</td>\n",
       "      <td>NaN</td>\n",
       "      <td>NaN</td>\n",
       "      <td>NaN</td>\n",
       "      <td>NaN</td>\n",
       "      <td>NaN</td>\n",
       "      <td>NaN</td>\n",
       "    </tr>\n",
       "    <tr>\n",
       "      <th>4</th>\n",
       "      <td>100007</td>\n",
       "      <td>0</td>\n",
       "      <td>Cash loans</td>\n",
       "      <td>M</td>\n",
       "      <td>N</td>\n",
       "      <td>Y</td>\n",
       "      <td>0</td>\n",
       "      <td>121500.0</td>\n",
       "      <td>513000.0</td>\n",
       "      <td>21865.5</td>\n",
       "      <td>...</td>\n",
       "      <td>0</td>\n",
       "      <td>0</td>\n",
       "      <td>0</td>\n",
       "      <td>0</td>\n",
       "      <td>0.0</td>\n",
       "      <td>0.0</td>\n",
       "      <td>0.0</td>\n",
       "      <td>0.0</td>\n",
       "      <td>0.0</td>\n",
       "      <td>0.0</td>\n",
       "    </tr>\n",
       "  </tbody>\n",
       "</table>\n",
       "<p>5 rows × 122 columns</p>\n",
       "</div>"
      ],
      "text/plain": [
       "   SK_ID_CURR  TARGET NAME_CONTRACT_TYPE CODE_GENDER FLAG_OWN_CAR  \\\n",
       "0      100002       1         Cash loans           M            N   \n",
       "1      100003       0         Cash loans           F            N   \n",
       "2      100004       0    Revolving loans           M            Y   \n",
       "3      100006       0         Cash loans           F            N   \n",
       "4      100007       0         Cash loans           M            N   \n",
       "\n",
       "  FLAG_OWN_REALTY  CNT_CHILDREN  AMT_INCOME_TOTAL  AMT_CREDIT  AMT_ANNUITY  \\\n",
       "0               Y             0          202500.0    406597.5      24700.5   \n",
       "1               N             0          270000.0   1293502.5      35698.5   \n",
       "2               Y             0           67500.0    135000.0       6750.0   \n",
       "3               Y             0          135000.0    312682.5      29686.5   \n",
       "4               Y             0          121500.0    513000.0      21865.5   \n",
       "\n",
       "   ...  FLAG_DOCUMENT_18 FLAG_DOCUMENT_19 FLAG_DOCUMENT_20 FLAG_DOCUMENT_21  \\\n",
       "0  ...                 0                0                0                0   \n",
       "1  ...                 0                0                0                0   \n",
       "2  ...                 0                0                0                0   \n",
       "3  ...                 0                0                0                0   \n",
       "4  ...                 0                0                0                0   \n",
       "\n",
       "  AMT_REQ_CREDIT_BUREAU_HOUR AMT_REQ_CREDIT_BUREAU_DAY  \\\n",
       "0                        0.0                       0.0   \n",
       "1                        0.0                       0.0   \n",
       "2                        0.0                       0.0   \n",
       "3                        NaN                       NaN   \n",
       "4                        0.0                       0.0   \n",
       "\n",
       "   AMT_REQ_CREDIT_BUREAU_WEEK  AMT_REQ_CREDIT_BUREAU_MON  \\\n",
       "0                         0.0                        0.0   \n",
       "1                         0.0                        0.0   \n",
       "2                         0.0                        0.0   \n",
       "3                         NaN                        NaN   \n",
       "4                         0.0                        0.0   \n",
       "\n",
       "   AMT_REQ_CREDIT_BUREAU_QRT  AMT_REQ_CREDIT_BUREAU_YEAR  \n",
       "0                        0.0                         1.0  \n",
       "1                        0.0                         0.0  \n",
       "2                        0.0                         0.0  \n",
       "3                        NaN                         NaN  \n",
       "4                        0.0                         0.0  \n",
       "\n",
       "[5 rows x 122 columns]"
      ]
     },
     "execution_count": 3,
     "metadata": {},
     "output_type": "execute_result"
    }
   ],
   "source": [
    "#訓練データの読み込み\n",
    "train = pd.read_csv(\"application_train.csv\")\n",
    "print('Training data shape: ', train.shape)\n",
    "train.head()"
   ]
  },
  {
   "cell_type": "markdown",
   "metadata": {},
   "source": [
    "まずはTARGETと相関性の高いものを探し出す。\n",
    "その上で、正の相関性の高い特徴量と、負の相関性が高い特徴量の中から各1個ずつ特徴量を選び、計2個の特徴量を標準化し、ランダムフォレストで学習推定を行い、これをベースラインモデルとする。ベースラインでの欠損値対応は、0に変換する、という対応をとる。"
   ]
  },
  {
   "cell_type": "code",
   "execution_count": 4,
   "metadata": {},
   "outputs": [
    {
     "name": "stdout",
     "output_type": "stream",
     "text": [
      "Most Positive Correlations:\n",
      " DAYS_BIRTH                     0.078239\n",
      "REGION_RATING_CLIENT_W_CITY    0.060893\n",
      "REGION_RATING_CLIENT           0.058899\n",
      "DAYS_LAST_PHONE_CHANGE         0.055218\n",
      "DAYS_ID_PUBLISH                0.051457\n",
      "REG_CITY_NOT_WORK_CITY         0.050994\n",
      "FLAG_EMP_PHONE                 0.045982\n",
      "REG_CITY_NOT_LIVE_CITY         0.044395\n",
      "FLAG_DOCUMENT_3                0.044346\n",
      "DAYS_REGISTRATION              0.041975\n",
      "Name: TARGET, dtype: float64\n"
     ]
    }
   ],
   "source": [
    "#目的変数(TARGET)と正の相関性の高いものを、相関性が高い方から順に10個表示\n",
    "\n",
    "train_corr = train.corr()\n",
    "train_corr_plus = train_corr['TARGET'].sort_values(ascending=False)# ascending=Trueで負の相関性になる\n",
    "print('Most Positive Correlations:\\n', train_corr_plus[1:].head(10))"
   ]
  },
  {
   "cell_type": "code",
   "execution_count": 5,
   "metadata": {},
   "outputs": [
    {
     "name": "stdout",
     "output_type": "stream",
     "text": [
      "Most Negative Correlations:\n",
      " EXT_SOURCE_3                 -0.178919\n",
      "EXT_SOURCE_2                 -0.160472\n",
      "EXT_SOURCE_1                 -0.155317\n",
      "DAYS_EMPLOYED                -0.044932\n",
      "FLOORSMAX_AVG                -0.044003\n",
      "FLOORSMAX_MEDI               -0.043768\n",
      "FLOORSMAX_MODE               -0.043226\n",
      "AMT_GOODS_PRICE              -0.039645\n",
      "REGION_POPULATION_RELATIVE   -0.037227\n",
      "ELEVATORS_AVG                -0.034199\n",
      "Name: TARGET, dtype: float64\n"
     ]
    }
   ],
   "source": [
    "#目的変数(TARGET)と正の相関性の高いものを、相関性が高い方から順に10個表示\n",
    "\n",
    "train_corr_minus = train_corr['TARGET'].sort_values(ascending=True)\n",
    "print('Most Negative Correlations:\\n', train_corr_minus.head(10))"
   ]
  },
  {
   "cell_type": "markdown",
   "metadata": {},
   "source": [
    "正の相関性が最も高いのは**DAYS_BIRTH**、負の相関性の最も高いものは**EXT_SOURCE_3**であるので、これら2つを用いてランダムフォレストにてベースラインを作成する。"
   ]
  },
  {
   "cell_type": "code",
   "execution_count": 6,
   "metadata": {},
   "outputs": [
    {
     "data": {
      "text/html": [
       "<div>\n",
       "<style scoped>\n",
       "    .dataframe tbody tr th:only-of-type {\n",
       "        vertical-align: middle;\n",
       "    }\n",
       "\n",
       "    .dataframe tbody tr th {\n",
       "        vertical-align: top;\n",
       "    }\n",
       "\n",
       "    .dataframe thead th {\n",
       "        text-align: right;\n",
       "    }\n",
       "</style>\n",
       "<table border=\"1\" class=\"dataframe\">\n",
       "  <thead>\n",
       "    <tr style=\"text-align: right;\">\n",
       "      <th></th>\n",
       "      <th>DAYS_BIRTH</th>\n",
       "    </tr>\n",
       "  </thead>\n",
       "  <tbody>\n",
       "    <tr>\n",
       "      <th>0</th>\n",
       "      <td>-9461</td>\n",
       "    </tr>\n",
       "    <tr>\n",
       "      <th>1</th>\n",
       "      <td>-16765</td>\n",
       "    </tr>\n",
       "    <tr>\n",
       "      <th>2</th>\n",
       "      <td>-19046</td>\n",
       "    </tr>\n",
       "    <tr>\n",
       "      <th>3</th>\n",
       "      <td>-19005</td>\n",
       "    </tr>\n",
       "    <tr>\n",
       "      <th>4</th>\n",
       "      <td>-19932</td>\n",
       "    </tr>\n",
       "    <tr>\n",
       "      <th>...</th>\n",
       "      <td>...</td>\n",
       "    </tr>\n",
       "    <tr>\n",
       "      <th>307506</th>\n",
       "      <td>-9327</td>\n",
       "    </tr>\n",
       "    <tr>\n",
       "      <th>307507</th>\n",
       "      <td>-20775</td>\n",
       "    </tr>\n",
       "    <tr>\n",
       "      <th>307508</th>\n",
       "      <td>-14966</td>\n",
       "    </tr>\n",
       "    <tr>\n",
       "      <th>307509</th>\n",
       "      <td>-11961</td>\n",
       "    </tr>\n",
       "    <tr>\n",
       "      <th>307510</th>\n",
       "      <td>-16856</td>\n",
       "    </tr>\n",
       "  </tbody>\n",
       "</table>\n",
       "<p>307511 rows × 1 columns</p>\n",
       "</div>"
      ],
      "text/plain": [
       "        DAYS_BIRTH\n",
       "0            -9461\n",
       "1           -16765\n",
       "2           -19046\n",
       "3           -19005\n",
       "4           -19932\n",
       "...            ...\n",
       "307506       -9327\n",
       "307507      -20775\n",
       "307508      -14966\n",
       "307509      -11961\n",
       "307510      -16856\n",
       "\n",
       "[307511 rows x 1 columns]"
      ]
     },
     "metadata": {},
     "output_type": "display_data"
    },
    {
     "data": {
      "text/html": [
       "<div>\n",
       "<style scoped>\n",
       "    .dataframe tbody tr th:only-of-type {\n",
       "        vertical-align: middle;\n",
       "    }\n",
       "\n",
       "    .dataframe tbody tr th {\n",
       "        vertical-align: top;\n",
       "    }\n",
       "\n",
       "    .dataframe thead th {\n",
       "        text-align: right;\n",
       "    }\n",
       "</style>\n",
       "<table border=\"1\" class=\"dataframe\">\n",
       "  <thead>\n",
       "    <tr style=\"text-align: right;\">\n",
       "      <th></th>\n",
       "      <th>EXT_SOURCE_3</th>\n",
       "    </tr>\n",
       "  </thead>\n",
       "  <tbody>\n",
       "    <tr>\n",
       "      <th>0</th>\n",
       "      <td>0.139376</td>\n",
       "    </tr>\n",
       "    <tr>\n",
       "      <th>1</th>\n",
       "      <td>NaN</td>\n",
       "    </tr>\n",
       "    <tr>\n",
       "      <th>2</th>\n",
       "      <td>0.729567</td>\n",
       "    </tr>\n",
       "    <tr>\n",
       "      <th>3</th>\n",
       "      <td>NaN</td>\n",
       "    </tr>\n",
       "    <tr>\n",
       "      <th>4</th>\n",
       "      <td>NaN</td>\n",
       "    </tr>\n",
       "    <tr>\n",
       "      <th>...</th>\n",
       "      <td>...</td>\n",
       "    </tr>\n",
       "    <tr>\n",
       "      <th>307506</th>\n",
       "      <td>NaN</td>\n",
       "    </tr>\n",
       "    <tr>\n",
       "      <th>307507</th>\n",
       "      <td>NaN</td>\n",
       "    </tr>\n",
       "    <tr>\n",
       "      <th>307508</th>\n",
       "      <td>0.218859</td>\n",
       "    </tr>\n",
       "    <tr>\n",
       "      <th>307509</th>\n",
       "      <td>0.661024</td>\n",
       "    </tr>\n",
       "    <tr>\n",
       "      <th>307510</th>\n",
       "      <td>0.113922</td>\n",
       "    </tr>\n",
       "  </tbody>\n",
       "</table>\n",
       "<p>307511 rows × 1 columns</p>\n",
       "</div>"
      ],
      "text/plain": [
       "        EXT_SOURCE_3\n",
       "0           0.139376\n",
       "1                NaN\n",
       "2           0.729567\n",
       "3                NaN\n",
       "4                NaN\n",
       "...              ...\n",
       "307506           NaN\n",
       "307507           NaN\n",
       "307508      0.218859\n",
       "307509      0.661024\n",
       "307510      0.113922\n",
       "\n",
       "[307511 rows x 1 columns]"
      ]
     },
     "metadata": {},
     "output_type": "display_data"
    },
    {
     "data": {
      "text/html": [
       "<div>\n",
       "<style scoped>\n",
       "    .dataframe tbody tr th:only-of-type {\n",
       "        vertical-align: middle;\n",
       "    }\n",
       "\n",
       "    .dataframe tbody tr th {\n",
       "        vertical-align: top;\n",
       "    }\n",
       "\n",
       "    .dataframe thead th {\n",
       "        text-align: right;\n",
       "    }\n",
       "</style>\n",
       "<table border=\"1\" class=\"dataframe\">\n",
       "  <thead>\n",
       "    <tr style=\"text-align: right;\">\n",
       "      <th></th>\n",
       "      <th>TARGET</th>\n",
       "    </tr>\n",
       "  </thead>\n",
       "  <tbody>\n",
       "    <tr>\n",
       "      <th>0</th>\n",
       "      <td>1</td>\n",
       "    </tr>\n",
       "    <tr>\n",
       "      <th>1</th>\n",
       "      <td>0</td>\n",
       "    </tr>\n",
       "    <tr>\n",
       "      <th>2</th>\n",
       "      <td>0</td>\n",
       "    </tr>\n",
       "    <tr>\n",
       "      <th>3</th>\n",
       "      <td>0</td>\n",
       "    </tr>\n",
       "    <tr>\n",
       "      <th>4</th>\n",
       "      <td>0</td>\n",
       "    </tr>\n",
       "    <tr>\n",
       "      <th>...</th>\n",
       "      <td>...</td>\n",
       "    </tr>\n",
       "    <tr>\n",
       "      <th>307506</th>\n",
       "      <td>0</td>\n",
       "    </tr>\n",
       "    <tr>\n",
       "      <th>307507</th>\n",
       "      <td>0</td>\n",
       "    </tr>\n",
       "    <tr>\n",
       "      <th>307508</th>\n",
       "      <td>0</td>\n",
       "    </tr>\n",
       "    <tr>\n",
       "      <th>307509</th>\n",
       "      <td>1</td>\n",
       "    </tr>\n",
       "    <tr>\n",
       "      <th>307510</th>\n",
       "      <td>0</td>\n",
       "    </tr>\n",
       "  </tbody>\n",
       "</table>\n",
       "<p>307511 rows × 1 columns</p>\n",
       "</div>"
      ],
      "text/plain": [
       "        TARGET\n",
       "0            1\n",
       "1            0\n",
       "2            0\n",
       "3            0\n",
       "4            0\n",
       "...        ...\n",
       "307506       0\n",
       "307507       0\n",
       "307508       0\n",
       "307509       1\n",
       "307510       0\n",
       "\n",
       "[307511 rows x 1 columns]"
      ]
     },
     "metadata": {},
     "output_type": "display_data"
    }
   ],
   "source": [
    "#各特徴量を抜き出す\n",
    "x1 = pd.DataFrame(train, columns = ['DAYS_BIRTH'])\n",
    "x2 = pd.DataFrame(train, columns = ['EXT_SOURCE_3'])\n",
    "y = pd.DataFrame(train, columns = ['TARGET'])\n",
    "display(x1)\n",
    "display(x2)\n",
    "display(y)"
   ]
  },
  {
   "cell_type": "code",
   "execution_count": 7,
   "metadata": {},
   "outputs": [
    {
     "name": "stdout",
     "output_type": "stream",
     "text": [
      "DAYS_BIRTH    0\n",
      "dtype: int64\n",
      "EXT_SOURCE_3    60965\n",
      "dtype: int64\n",
      "TARGET    0\n",
      "dtype: int64\n"
     ]
    }
   ],
   "source": [
    "#欠損値を調べる\n",
    "print( x1.isnull().sum())\n",
    "print(x2.isnull().sum())\n",
    "print(y.isnull().sum())"
   ]
  },
  {
   "cell_type": "code",
   "execution_count": 8,
   "metadata": {},
   "outputs": [
    {
     "data": {
      "text/plain": [
       "EXT_SOURCE_3    0\n",
       "dtype: int64"
      ]
     },
     "execution_count": 8,
     "metadata": {},
     "output_type": "execute_result"
    }
   ],
   "source": [
    "#欠損値を0で埋める\n",
    "x2.fillna(0, inplace=True)\n",
    "\n",
    "#欠損値が消えたか再確認\n",
    "x2.isnull().sum()"
   ]
  },
  {
   "cell_type": "code",
   "execution_count": 9,
   "metadata": {},
   "outputs": [
    {
     "data": {
      "text/html": [
       "<div>\n",
       "<style scoped>\n",
       "    .dataframe tbody tr th:only-of-type {\n",
       "        vertical-align: middle;\n",
       "    }\n",
       "\n",
       "    .dataframe tbody tr th {\n",
       "        vertical-align: top;\n",
       "    }\n",
       "\n",
       "    .dataframe thead th {\n",
       "        text-align: right;\n",
       "    }\n",
       "</style>\n",
       "<table border=\"1\" class=\"dataframe\">\n",
       "  <thead>\n",
       "    <tr style=\"text-align: right;\">\n",
       "      <th></th>\n",
       "      <th>DAYS_BIRTH</th>\n",
       "      <th>EXT_SOURCE_3</th>\n",
       "    </tr>\n",
       "  </thead>\n",
       "  <tbody>\n",
       "    <tr>\n",
       "      <th>0</th>\n",
       "      <td>-9461</td>\n",
       "      <td>0.139376</td>\n",
       "    </tr>\n",
       "    <tr>\n",
       "      <th>1</th>\n",
       "      <td>-16765</td>\n",
       "      <td>0.000000</td>\n",
       "    </tr>\n",
       "    <tr>\n",
       "      <th>2</th>\n",
       "      <td>-19046</td>\n",
       "      <td>0.729567</td>\n",
       "    </tr>\n",
       "    <tr>\n",
       "      <th>3</th>\n",
       "      <td>-19005</td>\n",
       "      <td>0.000000</td>\n",
       "    </tr>\n",
       "    <tr>\n",
       "      <th>4</th>\n",
       "      <td>-19932</td>\n",
       "      <td>0.000000</td>\n",
       "    </tr>\n",
       "    <tr>\n",
       "      <th>...</th>\n",
       "      <td>...</td>\n",
       "      <td>...</td>\n",
       "    </tr>\n",
       "    <tr>\n",
       "      <th>307506</th>\n",
       "      <td>-9327</td>\n",
       "      <td>0.000000</td>\n",
       "    </tr>\n",
       "    <tr>\n",
       "      <th>307507</th>\n",
       "      <td>-20775</td>\n",
       "      <td>0.000000</td>\n",
       "    </tr>\n",
       "    <tr>\n",
       "      <th>307508</th>\n",
       "      <td>-14966</td>\n",
       "      <td>0.218859</td>\n",
       "    </tr>\n",
       "    <tr>\n",
       "      <th>307509</th>\n",
       "      <td>-11961</td>\n",
       "      <td>0.661024</td>\n",
       "    </tr>\n",
       "    <tr>\n",
       "      <th>307510</th>\n",
       "      <td>-16856</td>\n",
       "      <td>0.113922</td>\n",
       "    </tr>\n",
       "  </tbody>\n",
       "</table>\n",
       "<p>307511 rows × 2 columns</p>\n",
       "</div>"
      ],
      "text/plain": [
       "        DAYS_BIRTH  EXT_SOURCE_3\n",
       "0            -9461      0.139376\n",
       "1           -16765      0.000000\n",
       "2           -19046      0.729567\n",
       "3           -19005      0.000000\n",
       "4           -19932      0.000000\n",
       "...            ...           ...\n",
       "307506       -9327      0.000000\n",
       "307507      -20775      0.000000\n",
       "307508      -14966      0.218859\n",
       "307509      -11961      0.661024\n",
       "307510      -16856      0.113922\n",
       "\n",
       "[307511 rows x 2 columns]"
      ]
     },
     "metadata": {},
     "output_type": "display_data"
    }
   ],
   "source": [
    "# データセットを作る\n",
    "X = pd.concat([x1, x2], axis=1)\n",
    "display(X)"
   ]
  },
  {
   "cell_type": "code",
   "execution_count": 10,
   "metadata": {},
   "outputs": [
    {
     "name": "stdout",
     "output_type": "stream",
     "text": [
      "<class 'numpy.ndarray'>\n",
      "<class 'numpy.ndarray'>\n",
      "(307511, 1)\n"
     ]
    }
   ],
   "source": [
    "# numpy配列に変換\n",
    "X = X.values\n",
    "y = y.values\n",
    "\n",
    "print(type(X))\n",
    "print(type(y))\n",
    "print(y.shape)"
   ]
  },
  {
   "cell_type": "code",
   "execution_count": 11,
   "metadata": {},
   "outputs": [
    {
     "name": "stdout",
     "output_type": "stream",
     "text": [
      "X_train: (230633, 2)\n",
      "y_train: (230633, 1)\n",
      "X_val: (76878, 2)\n",
      "y_val: (76878, 1)\n"
     ]
    }
   ],
   "source": [
    "#データを分割\n",
    "from sklearn.model_selection import train_test_split\n",
    "X_train, X_val, y_train, y_val = train_test_split(X, y, test_size=0.25, random_state=0)\n",
    "\n",
    "\n",
    "print('X_train:', X_train.shape)\n",
    "print('y_train:', y_train.shape)\n",
    "print('X_val:', X_val.shape)\n",
    "print('y_val:', y_val.shape)"
   ]
  },
  {
   "cell_type": "code",
   "execution_count": 12,
   "metadata": {},
   "outputs": [
    {
     "name": "stdout",
     "output_type": "stream",
     "text": [
      "X_train_mean: [-3.14524600e-17 -5.87985808e-14]\n",
      "X_train_std: [1. 1.]\n",
      "X_val_mean: [ 0.00680216 -0.00115887]\n",
      "X_val_std: [0.99738035 1.00151887]\n"
     ]
    }
   ],
   "source": [
    "#標準化\n",
    "from sklearn.preprocessing import StandardScaler\n",
    "scaler = StandardScaler()\n",
    "scaler.fit(X_train)\n",
    "X_train_std = scaler.transform(X_train)\n",
    "X_val_std = scaler.transform(X_val)\n",
    "\n",
    "print('X_train_mean:', X_train_std.mean(axis=0))\n",
    "print('X_train_std:', X_train_std.std(axis=0))\n",
    "print('X_val_mean:', X_val_std.mean(axis=0))\n",
    "print('X_val_std:', X_val_std.std(axis=0))"
   ]
  },
  {
   "cell_type": "code",
   "execution_count": 13,
   "metadata": {},
   "outputs": [
    {
     "name": "stderr",
     "output_type": "stream",
     "text": [
      "/Users/SHOTA/.pyenv/versions/anaconda3-5.3.1/lib/python3.7/site-packages/ipykernel_launcher.py:4: DataConversionWarning: A column-vector y was passed when a 1d array was expected. Please change the shape of y to (n_samples,), for example using ravel().\n",
      "  after removing the cwd from sys.path.\n"
     ]
    },
    {
     "data": {
      "text/plain": [
       "array([[0.93, 0.07],\n",
       "       [1.  , 0.  ],\n",
       "       [0.89, 0.11],\n",
       "       ...,\n",
       "       [1.  , 0.  ],\n",
       "       [0.96, 0.04],\n",
       "       [1.  , 0.  ]])"
      ]
     },
     "execution_count": 13,
     "metadata": {},
     "output_type": "execute_result"
    }
   ],
   "source": [
    "#ランダムフォレストで学習、推定\n",
    "from sklearn.ensemble import RandomForestClassifier# 2値分類問題なのでClassifier\n",
    "rf = RandomForestClassifier()\n",
    "rf.fit(X_train_std, y_train)\n",
    "y_pred_rf_base = rf.predict_proba(X_val_std)# probaで各確率を返す\n",
    "y_pred_rf_base# ［0である確率, 1である確率］"
   ]
  },
  {
   "cell_type": "code",
   "execution_count": 14,
   "metadata": {},
   "outputs": [
    {
     "name": "stdout",
     "output_type": "stream",
     "text": [
      "AUC 0.5733748564410991\n"
     ]
    },
    {
     "data": {
      "image/png": "[encoded data removed]",
      "text/plain": [
       "<Figure size 432x288 with 1 Axes>"
      ]
     },
     "metadata": {
      "needs_background": "light"
     },
     "output_type": "display_data"
    }
   ],
   "source": [
    "# 評価（ROC曲線とAUC）\n",
    "from sklearn.metrics import roc_curve\n",
    "from sklearn.metrics import roc_auc_score\n",
    "\n",
    "# 3つの要素は順番にfpr, tpr, thresholdsで、それぞれFPR（偽陽性率）、TPR（真陽性率）、閾値\n",
    "fpr, tpr, threshold = roc_curve(y_val, y_pred_rf_base[:, 1])# 1である確率なので、欲しいのは一列目\n",
    "plt.plot(fpr, tpr, marker='o')\n",
    "plt.tick_params(labelsize=12)\n",
    "plt.title('BaseLine of RandomForest', size=20, weight='heavy')\n",
    "plt.xlabel('FPR: False positive rate', size=18)\n",
    "plt.ylabel('TPR: True positive rate', size=18)\n",
    "plt.grid()\n",
    "print('AUC', roc_auc_score(y_val, y_pred_rf_base[:, 1]))"
   ]
  },
  {
   "cell_type": "code",
   "execution_count": 15,
   "metadata": {},
   "outputs": [
    {
     "data": {
      "text/html": [
       "<div>\n",
       "<style scoped>\n",
       "    .dataframe tbody tr th:only-of-type {\n",
       "        vertical-align: middle;\n",
       "    }\n",
       "\n",
       "    .dataframe tbody tr th {\n",
       "        vertical-align: top;\n",
       "    }\n",
       "\n",
       "    .dataframe thead th {\n",
       "        text-align: right;\n",
       "    }\n",
       "</style>\n",
       "<table border=\"1\" class=\"dataframe\">\n",
       "  <thead>\n",
       "    <tr style=\"text-align: right;\">\n",
       "      <th></th>\n",
       "      <th>BASELINE:feature_2</th>\n",
       "    </tr>\n",
       "  </thead>\n",
       "  <tbody>\n",
       "    <tr>\n",
       "      <th>AUC</th>\n",
       "      <td>0.573375</td>\n",
       "    </tr>\n",
       "  </tbody>\n",
       "</table>\n",
       "</div>"
      ],
      "text/plain": [
       "     BASELINE:feature_2\n",
       "AUC            0.573375"
      ]
     },
     "execution_count": 15,
     "metadata": {},
     "output_type": "execute_result"
    }
   ],
   "source": [
    "df_pred = pd.DataFrame({'BASELINE:feature_2':roc_auc_score(y_val, y_pred_rf_base[:, 1])}, \n",
    "                      index = ['AUC'])\n",
    "df_pred"
   ]
  },
  {
   "cell_type": "markdown",
   "metadata": {},
   "source": [
    "参考URL①：\n",
    "\n",
    "[scikit-learnでROC曲線とそのAUCを算出](https://note.nkmk.me/python-sklearn-roc-curve-auc-score/)"
   ]
  },
  {
   "cell_type": "markdown",
   "metadata": {},
   "source": [
    "### 【問題3】テストデータに対する推定\n",
    "\n",
    "テストデータ（`application_test.csv`）に対して推定を行い、Kaggleに提出を行ってください。\n",
    "\n",
    "\n",
    "正しく提出が行えていれば、精度は低くても構いません。"
   ]
  },
  {
   "cell_type": "code",
   "execution_count": 16,
   "metadata": {},
   "outputs": [
    {
     "name": "stdout",
     "output_type": "stream",
     "text": [
      "Testing data shape:  (48744, 121)\n"
     ]
    },
    {
     "data": {
      "text/html": [
       "<div>\n",
       "<style scoped>\n",
       "    .dataframe tbody tr th:only-of-type {\n",
       "        vertical-align: middle;\n",
       "    }\n",
       "\n",
       "    .dataframe tbody tr th {\n",
       "        vertical-align: top;\n",
       "    }\n",
       "\n",
       "    .dataframe thead th {\n",
       "        text-align: right;\n",
       "    }\n",
       "</style>\n",
       "<table border=\"1\" class=\"dataframe\">\n",
       "  <thead>\n",
       "    <tr style=\"text-align: right;\">\n",
       "      <th></th>\n",
       "      <th>SK_ID_CURR</th>\n",
       "      <th>NAME_CONTRACT_TYPE</th>\n",
       "      <th>CODE_GENDER</th>\n",
       "      <th>FLAG_OWN_CAR</th>\n",
       "      <th>FLAG_OWN_REALTY</th>\n",
       "      <th>CNT_CHILDREN</th>\n",
       "      <th>AMT_INCOME_TOTAL</th>\n",
       "      <th>AMT_CREDIT</th>\n",
       "      <th>AMT_ANNUITY</th>\n",
       "      <th>AMT_GOODS_PRICE</th>\n",
       "      <th>...</th>\n",
       "      <th>FLAG_DOCUMENT_18</th>\n",
       "      <th>FLAG_DOCUMENT_19</th>\n",
       "      <th>FLAG_DOCUMENT_20</th>\n",
       "      <th>FLAG_DOCUMENT_21</th>\n",
       "      <th>AMT_REQ_CREDIT_BUREAU_HOUR</th>\n",
       "      <th>AMT_REQ_CREDIT_BUREAU_DAY</th>\n",
       "      <th>AMT_REQ_CREDIT_BUREAU_WEEK</th>\n",
       "      <th>AMT_REQ_CREDIT_BUREAU_MON</th>\n",
       "      <th>AMT_REQ_CREDIT_BUREAU_QRT</th>\n",
       "      <th>AMT_REQ_CREDIT_BUREAU_YEAR</th>\n",
       "    </tr>\n",
       "  </thead>\n",
       "  <tbody>\n",
       "    <tr>\n",
       "      <th>0</th>\n",
       "      <td>100001</td>\n",
       "      <td>Cash loans</td>\n",
       "      <td>F</td>\n",
       "      <td>N</td>\n",
       "      <td>Y</td>\n",
       "      <td>0</td>\n",
       "      <td>135000.0</td>\n",
       "      <td>568800.0</td>\n",
       "      <td>20560.5</td>\n",
       "      <td>450000.0</td>\n",
       "      <td>...</td>\n",
       "      <td>0</td>\n",
       "      <td>0</td>\n",
       "      <td>0</td>\n",
       "      <td>0</td>\n",
       "      <td>0.0</td>\n",
       "      <td>0.0</td>\n",
       "      <td>0.0</td>\n",
       "      <td>0.0</td>\n",
       "      <td>0.0</td>\n",
       "      <td>0.0</td>\n",
       "    </tr>\n",
       "    <tr>\n",
       "      <th>1</th>\n",
       "      <td>100005</td>\n",
       "      <td>Cash loans</td>\n",
       "      <td>M</td>\n",
       "      <td>N</td>\n",
       "      <td>Y</td>\n",
       "      <td>0</td>\n",
       "      <td>99000.0</td>\n",
       "      <td>222768.0</td>\n",
       "      <td>17370.0</td>\n",
       "      <td>180000.0</td>\n",
       "      <td>...</td>\n",
       "      <td>0</td>\n",
       "      <td>0</td>\n",
       "      <td>0</td>\n",
       "      <td>0</td>\n",
       "      <td>0.0</td>\n",
       "      <td>0.0</td>\n",
       "      <td>0.0</td>\n",
       "      <td>0.0</td>\n",
       "      <td>0.0</td>\n",
       "      <td>3.0</td>\n",
       "    </tr>\n",
       "    <tr>\n",
       "      <th>2</th>\n",
       "      <td>100013</td>\n",
       "      <td>Cash loans</td>\n",
       "      <td>M</td>\n",
       "      <td>Y</td>\n",
       "      <td>Y</td>\n",
       "      <td>0</td>\n",
       "      <td>202500.0</td>\n",
       "      <td>663264.0</td>\n",
       "      <td>69777.0</td>\n",
       "      <td>630000.0</td>\n",
       "      <td>...</td>\n",
       "      <td>0</td>\n",
       "      <td>0</td>\n",
       "      <td>0</td>\n",
       "      <td>0</td>\n",
       "      <td>0.0</td>\n",
       "      <td>0.0</td>\n",
       "      <td>0.0</td>\n",
       "      <td>0.0</td>\n",
       "      <td>1.0</td>\n",
       "      <td>4.0</td>\n",
       "    </tr>\n",
       "    <tr>\n",
       "      <th>3</th>\n",
       "      <td>100028</td>\n",
       "      <td>Cash loans</td>\n",
       "      <td>F</td>\n",
       "      <td>N</td>\n",
       "      <td>Y</td>\n",
       "      <td>2</td>\n",
       "      <td>315000.0</td>\n",
       "      <td>1575000.0</td>\n",
       "      <td>49018.5</td>\n",
       "      <td>1575000.0</td>\n",
       "      <td>...</td>\n",
       "      <td>0</td>\n",
       "      <td>0</td>\n",
       "      <td>0</td>\n",
       "      <td>0</td>\n",
       "      <td>0.0</td>\n",
       "      <td>0.0</td>\n",
       "      <td>0.0</td>\n",
       "      <td>0.0</td>\n",
       "      <td>0.0</td>\n",
       "      <td>3.0</td>\n",
       "    </tr>\n",
       "    <tr>\n",
       "      <th>4</th>\n",
       "      <td>100038</td>\n",
       "      <td>Cash loans</td>\n",
       "      <td>M</td>\n",
       "      <td>Y</td>\n",
       "      <td>N</td>\n",
       "      <td>1</td>\n",
       "      <td>180000.0</td>\n",
       "      <td>625500.0</td>\n",
       "      <td>32067.0</td>\n",
       "      <td>625500.0</td>\n",
       "      <td>...</td>\n",
       "      <td>0</td>\n",
       "      <td>0</td>\n",
       "      <td>0</td>\n",
       "      <td>0</td>\n",
       "      <td>NaN</td>\n",
       "      <td>NaN</td>\n",
       "      <td>NaN</td>\n",
       "      <td>NaN</td>\n",
       "      <td>NaN</td>\n",
       "      <td>NaN</td>\n",
       "    </tr>\n",
       "  </tbody>\n",
       "</table>\n",
       "<p>5 rows × 121 columns</p>\n",
       "</div>"
      ],
      "text/plain": [
       "   SK_ID_CURR NAME_CONTRACT_TYPE CODE_GENDER FLAG_OWN_CAR FLAG_OWN_REALTY  \\\n",
       "0      100001         Cash loans           F            N               Y   \n",
       "1      100005         Cash loans           M            N               Y   \n",
       "2      100013         Cash loans           M            Y               Y   \n",
       "3      100028         Cash loans           F            N               Y   \n",
       "4      100038         Cash loans           M            Y               N   \n",
       "\n",
       "   CNT_CHILDREN  AMT_INCOME_TOTAL  AMT_CREDIT  AMT_ANNUITY  AMT_GOODS_PRICE  \\\n",
       "0             0          135000.0    568800.0      20560.5         450000.0   \n",
       "1             0           99000.0    222768.0      17370.0         180000.0   \n",
       "2             0          202500.0    663264.0      69777.0         630000.0   \n",
       "3             2          315000.0   1575000.0      49018.5        1575000.0   \n",
       "4             1          180000.0    625500.0      32067.0         625500.0   \n",
       "\n",
       "   ... FLAG_DOCUMENT_18 FLAG_DOCUMENT_19 FLAG_DOCUMENT_20 FLAG_DOCUMENT_21  \\\n",
       "0  ...                0                0                0                0   \n",
       "1  ...                0                0                0                0   \n",
       "2  ...                0                0                0                0   \n",
       "3  ...                0                0                0                0   \n",
       "4  ...                0                0                0                0   \n",
       "\n",
       "  AMT_REQ_CREDIT_BUREAU_HOUR  AMT_REQ_CREDIT_BUREAU_DAY  \\\n",
       "0                        0.0                        0.0   \n",
       "1                        0.0                        0.0   \n",
       "2                        0.0                        0.0   \n",
       "3                        0.0                        0.0   \n",
       "4                        NaN                        NaN   \n",
       "\n",
       "   AMT_REQ_CREDIT_BUREAU_WEEK  AMT_REQ_CREDIT_BUREAU_MON  \\\n",
       "0                         0.0                        0.0   \n",
       "1                         0.0                        0.0   \n",
       "2                         0.0                        0.0   \n",
       "3                         0.0                        0.0   \n",
       "4                         NaN                        NaN   \n",
       "\n",
       "   AMT_REQ_CREDIT_BUREAU_QRT  AMT_REQ_CREDIT_BUREAU_YEAR  \n",
       "0                        0.0                         0.0  \n",
       "1                        0.0                         3.0  \n",
       "2                        1.0                         4.0  \n",
       "3                        0.0                         3.0  \n",
       "4                        NaN                         NaN  \n",
       "\n",
       "[5 rows x 121 columns]"
      ]
     },
     "execution_count": 16,
     "metadata": {},
     "output_type": "execute_result"
    }
   ],
   "source": [
    "# テストデータの読み込み\n",
    "test = pd.read_csv(\"application_test.csv\")\n",
    "print('Testing data shape: ', test.shape)\n",
    "test.head()"
   ]
  },
  {
   "cell_type": "code",
   "execution_count": 17,
   "metadata": {},
   "outputs": [
    {
     "name": "stdout",
     "output_type": "stream",
     "text": [
      "type: <class 'pandas.core.frame.DataFrame'>\n",
      "shape: (48744, 2)\n"
     ]
    },
    {
     "data": {
      "text/html": [
       "<div>\n",
       "<style scoped>\n",
       "    .dataframe tbody tr th:only-of-type {\n",
       "        vertical-align: middle;\n",
       "    }\n",
       "\n",
       "    .dataframe tbody tr th {\n",
       "        vertical-align: top;\n",
       "    }\n",
       "\n",
       "    .dataframe thead th {\n",
       "        text-align: right;\n",
       "    }\n",
       "</style>\n",
       "<table border=\"1\" class=\"dataframe\">\n",
       "  <thead>\n",
       "    <tr style=\"text-align: right;\">\n",
       "      <th></th>\n",
       "      <th>DAYS_BIRTH</th>\n",
       "      <th>EXT_SOURCE_3</th>\n",
       "    </tr>\n",
       "  </thead>\n",
       "  <tbody>\n",
       "    <tr>\n",
       "      <th>0</th>\n",
       "      <td>-19241</td>\n",
       "      <td>0.159520</td>\n",
       "    </tr>\n",
       "    <tr>\n",
       "      <th>1</th>\n",
       "      <td>-18064</td>\n",
       "      <td>0.432962</td>\n",
       "    </tr>\n",
       "    <tr>\n",
       "      <th>2</th>\n",
       "      <td>-20038</td>\n",
       "      <td>0.610991</td>\n",
       "    </tr>\n",
       "    <tr>\n",
       "      <th>3</th>\n",
       "      <td>-13976</td>\n",
       "      <td>0.612704</td>\n",
       "    </tr>\n",
       "    <tr>\n",
       "      <th>4</th>\n",
       "      <td>-13040</td>\n",
       "      <td>NaN</td>\n",
       "    </tr>\n",
       "    <tr>\n",
       "      <th>...</th>\n",
       "      <td>...</td>\n",
       "      <td>...</td>\n",
       "    </tr>\n",
       "    <tr>\n",
       "      <th>48739</th>\n",
       "      <td>-19970</td>\n",
       "      <td>0.643026</td>\n",
       "    </tr>\n",
       "    <tr>\n",
       "      <th>48740</th>\n",
       "      <td>-11186</td>\n",
       "      <td>NaN</td>\n",
       "    </tr>\n",
       "    <tr>\n",
       "      <th>48741</th>\n",
       "      <td>-15922</td>\n",
       "      <td>0.283712</td>\n",
       "    </tr>\n",
       "    <tr>\n",
       "      <th>48742</th>\n",
       "      <td>-13968</td>\n",
       "      <td>0.595456</td>\n",
       "    </tr>\n",
       "    <tr>\n",
       "      <th>48743</th>\n",
       "      <td>-13962</td>\n",
       "      <td>0.272134</td>\n",
       "    </tr>\n",
       "  </tbody>\n",
       "</table>\n",
       "<p>48744 rows × 2 columns</p>\n",
       "</div>"
      ],
      "text/plain": [
       "       DAYS_BIRTH  EXT_SOURCE_3\n",
       "0          -19241      0.159520\n",
       "1          -18064      0.432962\n",
       "2          -20038      0.610991\n",
       "3          -13976      0.612704\n",
       "4          -13040           NaN\n",
       "...           ...           ...\n",
       "48739      -19970      0.643026\n",
       "48740      -11186           NaN\n",
       "48741      -15922      0.283712\n",
       "48742      -13968      0.595456\n",
       "48743      -13962      0.272134\n",
       "\n",
       "[48744 rows x 2 columns]"
      ]
     },
     "execution_count": 17,
     "metadata": {},
     "output_type": "execute_result"
    }
   ],
   "source": [
    "# データセットの作成\n",
    "X_test = pd.DataFrame(test, columns=['DAYS_BIRTH', 'EXT_SOURCE_3'])\n",
    "print('type:', type(X_test))\n",
    "print('shape:', X_test.shape)\n",
    "X_test"
   ]
  },
  {
   "cell_type": "code",
   "execution_count": 18,
   "metadata": {},
   "outputs": [
    {
     "data": {
      "text/plain": [
       "DAYS_BIRTH      0\n",
       "EXT_SOURCE_3    0\n",
       "dtype: int64"
      ]
     },
     "execution_count": 18,
     "metadata": {},
     "output_type": "execute_result"
    }
   ],
   "source": [
    "#欠損値を0で代替\n",
    "X_test.fillna(0, inplace=True)\n",
    "\n",
    "#欠損値が消えたか再確認\n",
    "X_test.isnull().sum()"
   ]
  },
  {
   "cell_type": "code",
   "execution_count": 19,
   "metadata": {},
   "outputs": [
    {
     "data": {
      "text/plain": [
       "numpy.ndarray"
      ]
     },
     "execution_count": 19,
     "metadata": {},
     "output_type": "execute_result"
    }
   ],
   "source": [
    "# numpy  arrayに変換\n",
    "X_test = X_test.values\n",
    "type(X_test)"
   ]
  },
  {
   "cell_type": "code",
   "execution_count": 20,
   "metadata": {},
   "outputs": [
    {
     "name": "stdout",
     "output_type": "stream",
     "text": [
      "(48744, 2)\n"
     ]
    },
    {
     "data": {
      "text/plain": [
       "array([[0.88, 0.12],\n",
       "       [0.93, 0.07],\n",
       "       [1.  , 0.  ],\n",
       "       ...,\n",
       "       [0.67, 0.33],\n",
       "       [0.98, 0.02],\n",
       "       [0.72, 0.28]])"
      ]
     },
     "execution_count": 20,
     "metadata": {},
     "output_type": "execute_result"
    }
   ],
   "source": [
    "# 検証データで推定\n",
    "y_pred_rf = rf.predict_proba(X_test)# probaで各確率を返す\n",
    "print(y_pred_rf.shape)\n",
    "y_pred_rf# ［0である確率, 1である確率］"
   ]
  },
  {
   "cell_type": "code",
   "execution_count": 21,
   "metadata": {},
   "outputs": [
    {
     "data": {
      "text/html": [
       "<div>\n",
       "<style scoped>\n",
       "    .dataframe tbody tr th:only-of-type {\n",
       "        vertical-align: middle;\n",
       "    }\n",
       "\n",
       "    .dataframe tbody tr th {\n",
       "        vertical-align: top;\n",
       "    }\n",
       "\n",
       "    .dataframe thead th {\n",
       "        text-align: right;\n",
       "    }\n",
       "</style>\n",
       "<table border=\"1\" class=\"dataframe\">\n",
       "  <thead>\n",
       "    <tr style=\"text-align: right;\">\n",
       "      <th></th>\n",
       "      <th>SK_ID_CURR</th>\n",
       "      <th>TARGET</th>\n",
       "    </tr>\n",
       "  </thead>\n",
       "  <tbody>\n",
       "    <tr>\n",
       "      <th>0</th>\n",
       "      <td>100001</td>\n",
       "      <td>0.12</td>\n",
       "    </tr>\n",
       "    <tr>\n",
       "      <th>1</th>\n",
       "      <td>100005</td>\n",
       "      <td>0.07</td>\n",
       "    </tr>\n",
       "    <tr>\n",
       "      <th>2</th>\n",
       "      <td>100013</td>\n",
       "      <td>0.00</td>\n",
       "    </tr>\n",
       "    <tr>\n",
       "      <th>3</th>\n",
       "      <td>100028</td>\n",
       "      <td>0.00</td>\n",
       "    </tr>\n",
       "    <tr>\n",
       "      <th>4</th>\n",
       "      <td>100038</td>\n",
       "      <td>0.03</td>\n",
       "    </tr>\n",
       "  </tbody>\n",
       "</table>\n",
       "</div>"
      ],
      "text/plain": [
       "   SK_ID_CURR  TARGET\n",
       "0      100001    0.12\n",
       "1      100005    0.07\n",
       "2      100013    0.00\n",
       "3      100028    0.00\n",
       "4      100038    0.03"
      ]
     },
     "execution_count": 21,
     "metadata": {},
     "output_type": "execute_result"
    }
   ],
   "source": [
    "# Submission dataframe\n",
    "submit = pd.DataFrame(test['SK_ID_CURR'])\n",
    "submit['TARGET'] = y_pred_rf[:, 1]# TARGETである確率\n",
    "\n",
    "submit.head()"
   ]
  },
  {
   "cell_type": "markdown",
   "metadata": {},
   "source": [
    "### 【問題4】特徴量エンジニアリング\n",
    "精度を上げるために以下のような観点で 特徴量エンジニアリング（Feature Engineering） を行ってください。\n",
    "\n",
    "1. どの特徴量を使うか\n",
    "2. どう前処理をするか\n",
    "\n",
    "何をした時に検証データに対する評価指標がどのようになったかをまとめてください。最低5パターンの学習・検証を行ってください。\n",
    "\n",
    "\n",
    "精度が高かったものに関してはテストデータに対しても推定を行い、Kaggleに提出を行ってください。"
   ]
  },
  {
   "cell_type": "markdown",
   "metadata": {},
   "source": [
    "#### 1. どの特徴量を使うか\n",
    "問題2では2つの特徴量を用いたが、今回は正の相関のあるもの、負の相関のあるものから各3個を用いて、計6個の特徴量を用いて学習を行う。\n",
    "各特徴量は上位3つを、それぞれ選択する。\n",
    "\n",
    "さらにここでは異常値の処理も行ってみる。\n",
    "異常値の処理とは、ここでは、DAYS_BIRTHが負の値となっている為、-1をかけて、365で除し、年単位にすることである。"
   ]
  },
  {
   "cell_type": "code",
   "execution_count": 22,
   "metadata": {},
   "outputs": [
    {
     "data": {
      "text/html": [
       "<div>\n",
       "<style scoped>\n",
       "    .dataframe tbody tr th:only-of-type {\n",
       "        vertical-align: middle;\n",
       "    }\n",
       "\n",
       "    .dataframe tbody tr th {\n",
       "        vertical-align: top;\n",
       "    }\n",
       "\n",
       "    .dataframe thead th {\n",
       "        text-align: right;\n",
       "    }\n",
       "</style>\n",
       "<table border=\"1\" class=\"dataframe\">\n",
       "  <thead>\n",
       "    <tr style=\"text-align: right;\">\n",
       "      <th></th>\n",
       "      <th>DAYS_BIRTH</th>\n",
       "      <th>REGION_RATING_CLIENT_W_CITY</th>\n",
       "      <th>REGION_RATING_CLIENT</th>\n",
       "      <th>EXT_SOURCE_3</th>\n",
       "      <th>EXT_SOURCE_2</th>\n",
       "      <th>EXT_SOURCE_1</th>\n",
       "    </tr>\n",
       "  </thead>\n",
       "  <tbody>\n",
       "    <tr>\n",
       "      <th>0</th>\n",
       "      <td>25.920548</td>\n",
       "      <td>2</td>\n",
       "      <td>2</td>\n",
       "      <td>0.139376</td>\n",
       "      <td>0.262949</td>\n",
       "      <td>0.083037</td>\n",
       "    </tr>\n",
       "    <tr>\n",
       "      <th>1</th>\n",
       "      <td>45.931507</td>\n",
       "      <td>1</td>\n",
       "      <td>1</td>\n",
       "      <td>NaN</td>\n",
       "      <td>0.622246</td>\n",
       "      <td>0.311267</td>\n",
       "    </tr>\n",
       "    <tr>\n",
       "      <th>2</th>\n",
       "      <td>52.180822</td>\n",
       "      <td>2</td>\n",
       "      <td>2</td>\n",
       "      <td>0.729567</td>\n",
       "      <td>0.555912</td>\n",
       "      <td>NaN</td>\n",
       "    </tr>\n",
       "    <tr>\n",
       "      <th>3</th>\n",
       "      <td>52.068493</td>\n",
       "      <td>2</td>\n",
       "      <td>2</td>\n",
       "      <td>NaN</td>\n",
       "      <td>0.650442</td>\n",
       "      <td>NaN</td>\n",
       "    </tr>\n",
       "    <tr>\n",
       "      <th>4</th>\n",
       "      <td>54.608219</td>\n",
       "      <td>2</td>\n",
       "      <td>2</td>\n",
       "      <td>NaN</td>\n",
       "      <td>0.322738</td>\n",
       "      <td>NaN</td>\n",
       "    </tr>\n",
       "    <tr>\n",
       "      <th>...</th>\n",
       "      <td>...</td>\n",
       "      <td>...</td>\n",
       "      <td>...</td>\n",
       "      <td>...</td>\n",
       "      <td>...</td>\n",
       "      <td>...</td>\n",
       "    </tr>\n",
       "    <tr>\n",
       "      <th>307506</th>\n",
       "      <td>25.553425</td>\n",
       "      <td>1</td>\n",
       "      <td>1</td>\n",
       "      <td>NaN</td>\n",
       "      <td>0.681632</td>\n",
       "      <td>0.145570</td>\n",
       "    </tr>\n",
       "    <tr>\n",
       "      <th>307507</th>\n",
       "      <td>56.917808</td>\n",
       "      <td>2</td>\n",
       "      <td>2</td>\n",
       "      <td>NaN</td>\n",
       "      <td>0.115992</td>\n",
       "      <td>NaN</td>\n",
       "    </tr>\n",
       "    <tr>\n",
       "      <th>307508</th>\n",
       "      <td>41.002740</td>\n",
       "      <td>3</td>\n",
       "      <td>3</td>\n",
       "      <td>0.218859</td>\n",
       "      <td>0.535722</td>\n",
       "      <td>0.744026</td>\n",
       "    </tr>\n",
       "    <tr>\n",
       "      <th>307509</th>\n",
       "      <td>32.769863</td>\n",
       "      <td>2</td>\n",
       "      <td>2</td>\n",
       "      <td>0.661024</td>\n",
       "      <td>0.514163</td>\n",
       "      <td>NaN</td>\n",
       "    </tr>\n",
       "    <tr>\n",
       "      <th>307510</th>\n",
       "      <td>46.180822</td>\n",
       "      <td>1</td>\n",
       "      <td>1</td>\n",
       "      <td>0.113922</td>\n",
       "      <td>0.708569</td>\n",
       "      <td>0.734460</td>\n",
       "    </tr>\n",
       "  </tbody>\n",
       "</table>\n",
       "<p>307511 rows × 6 columns</p>\n",
       "</div>"
      ],
      "text/plain": [
       "        DAYS_BIRTH  REGION_RATING_CLIENT_W_CITY  REGION_RATING_CLIENT  \\\n",
       "0        25.920548                            2                     2   \n",
       "1        45.931507                            1                     1   \n",
       "2        52.180822                            2                     2   \n",
       "3        52.068493                            2                     2   \n",
       "4        54.608219                            2                     2   \n",
       "...            ...                          ...                   ...   \n",
       "307506   25.553425                            1                     1   \n",
       "307507   56.917808                            2                     2   \n",
       "307508   41.002740                            3                     3   \n",
       "307509   32.769863                            2                     2   \n",
       "307510   46.180822                            1                     1   \n",
       "\n",
       "        EXT_SOURCE_3  EXT_SOURCE_2  EXT_SOURCE_1  \n",
       "0           0.139376      0.262949      0.083037  \n",
       "1                NaN      0.622246      0.311267  \n",
       "2           0.729567      0.555912           NaN  \n",
       "3                NaN      0.650442           NaN  \n",
       "4                NaN      0.322738           NaN  \n",
       "...              ...           ...           ...  \n",
       "307506           NaN      0.681632      0.145570  \n",
       "307507           NaN      0.115992           NaN  \n",
       "307508      0.218859      0.535722      0.744026  \n",
       "307509      0.661024      0.514163           NaN  \n",
       "307510      0.113922      0.708569      0.734460  \n",
       "\n",
       "[307511 rows x 6 columns]"
      ]
     },
     "execution_count": 22,
     "metadata": {},
     "output_type": "execute_result"
    }
   ],
   "source": [
    "#データセットの作成\n",
    "\n",
    "x1 = pd.DataFrame(train, columns = ['DAYS_BIRTH'])\n",
    "x1_after = x1 / -365# 異常値の処理\n",
    "x5 = pd.DataFrame(train, columns = ['REGION_RATING_CLIENT_W_CITY', \n",
    "                                'REGION_RATING_CLIENT', 'EXT_SOURCE_3', 'EXT_SOURCE_2', \n",
    "                                'EXT_SOURCE_1'])#欠損値未対応で再作成\n",
    "\n",
    "X_6 = pd.concat([x1_after, x5], axis=1)\n",
    "\n",
    "X_6"
   ]
  },
  {
   "cell_type": "code",
   "execution_count": 23,
   "metadata": {},
   "outputs": [
    {
     "data": {
      "text/plain": [
       "DAYS_BIRTH                          0\n",
       "REGION_RATING_CLIENT_W_CITY         0\n",
       "REGION_RATING_CLIENT                0\n",
       "EXT_SOURCE_3                    60965\n",
       "EXT_SOURCE_2                      660\n",
       "EXT_SOURCE_1                   173378\n",
       "dtype: int64"
      ]
     },
     "execution_count": 23,
     "metadata": {},
     "output_type": "execute_result"
    }
   ],
   "source": [
    "#欠損値を確認\n",
    "X_6.isnull().sum()"
   ]
  },
  {
   "cell_type": "code",
   "execution_count": 24,
   "metadata": {},
   "outputs": [
    {
     "data": {
      "text/plain": [
       "DAYS_BIRTH                     0\n",
       "REGION_RATING_CLIENT_W_CITY    0\n",
       "REGION_RATING_CLIENT           0\n",
       "EXT_SOURCE_3                   0\n",
       "EXT_SOURCE_2                   0\n",
       "EXT_SOURCE_1                   0\n",
       "dtype: int64"
      ]
     },
     "execution_count": 24,
     "metadata": {},
     "output_type": "execute_result"
    }
   ],
   "source": [
    "# 欠損値を0で代替\n",
    "X_6.fillna(0, inplace=True)\n",
    "X_6.isnull(). sum()"
   ]
  },
  {
   "cell_type": "code",
   "execution_count": 25,
   "metadata": {},
   "outputs": [
    {
     "data": {
      "text/plain": [
       "numpy.ndarray"
      ]
     },
     "execution_count": 25,
     "metadata": {},
     "output_type": "execute_result"
    }
   ],
   "source": [
    "#numpy arrayに変換\n",
    "X_6 = X_6.values\n",
    "type(X_6)"
   ]
  },
  {
   "cell_type": "code",
   "execution_count": 26,
   "metadata": {},
   "outputs": [
    {
     "name": "stdout",
     "output_type": "stream",
     "text": [
      "X_train: (230633, 6)\n",
      "y_train: (230633, 1)\n",
      "X_val: (76878, 6)\n",
      "y_val: (76878, 1)\n"
     ]
    }
   ],
   "source": [
    "# データ分割\n",
    "X_train, X_val, y_train, y_val = train_test_split(X_6, y, test_size=0.25, random_state=0)\n",
    "\n",
    "print('X_train:', X_train.shape)\n",
    "print('y_train:', y_train.shape)\n",
    "print('X_val:', X_val.shape)\n",
    "print('y_val:', y_val.shape)"
   ]
  },
  {
   "cell_type": "code",
   "execution_count": 27,
   "metadata": {},
   "outputs": [
    {
     "name": "stdout",
     "output_type": "stream",
     "text": [
      "X_train_mean: [-1.43493184e-14  1.23366321e-15  3.32880938e-15 -5.87985808e-14\n",
      "  2.40663356e-15 -1.08529270e-14]\n",
      "X_train_std: [1. 1. 1. 1. 1. 1.]\n",
      "X_val_mean: [-0.00680216  0.00388828  0.00309021 -0.00115887  0.00064598  0.0019243 ]\n",
      "X_val_std: [0.99738035 0.99883237 0.99827955 1.00151887 1.00141636 0.99911649]\n"
     ]
    }
   ],
   "source": [
    "#標準化\n",
    "\n",
    "scaler.fit(X_train)\n",
    "X_train_std = scaler.transform(X_train)\n",
    "X_val_std = scaler.transform(X_val)\n",
    "\n",
    "print('X_train_mean:', X_train_std.mean(axis=0))\n",
    "print('X_train_std:', X_train_std.std(axis=0))\n",
    "print('X_val_mean:', X_val_std.mean(axis=0))\n",
    "print('X_val_std:', X_val_std.std(axis=0))"
   ]
  },
  {
   "cell_type": "code",
   "execution_count": 28,
   "metadata": {},
   "outputs": [
    {
     "name": "stderr",
     "output_type": "stream",
     "text": [
      "/Users/SHOTA/.pyenv/versions/anaconda3-5.3.1/lib/python3.7/site-packages/ipykernel_launcher.py:4: DataConversionWarning: A column-vector y was passed when a 1d array was expected. Please change the shape of y to (n_samples,), for example using ravel().\n",
      "  after removing the cwd from sys.path.\n"
     ]
    },
    {
     "data": {
      "text/plain": [
       "array([[0.73, 0.27],\n",
       "       [0.99, 0.01],\n",
       "       [0.92, 0.08],\n",
       "       ...,\n",
       "       [0.98, 0.02],\n",
       "       [0.75, 0.25],\n",
       "       [0.91, 0.09]])"
      ]
     },
     "execution_count": 28,
     "metadata": {},
     "output_type": "execute_result"
    }
   ],
   "source": [
    "#学習\n",
    "\n",
    "rf = RandomForestClassifier()\n",
    "rf.fit(X_train_std, y_train)\n",
    "y_pred_rf_6 = rf.predict_proba(X_val_std)\n",
    "y_pred_rf_6"
   ]
  },
  {
   "cell_type": "code",
   "execution_count": 29,
   "metadata": {},
   "outputs": [
    {
     "name": "stdout",
     "output_type": "stream",
     "text": [
      "AUC 0.6738909802308296\n"
     ]
    }
   ],
   "source": [
    "#評価　\n",
    "\n",
    "print('AUC', roc_auc_score(y_val, y_pred_rf_6[:, 1]))"
   ]
  },
  {
   "cell_type": "code",
   "execution_count": 30,
   "metadata": {},
   "outputs": [
    {
     "data": {
      "text/html": [
       "<div>\n",
       "<style scoped>\n",
       "    .dataframe tbody tr th:only-of-type {\n",
       "        vertical-align: middle;\n",
       "    }\n",
       "\n",
       "    .dataframe tbody tr th {\n",
       "        vertical-align: top;\n",
       "    }\n",
       "\n",
       "    .dataframe thead th {\n",
       "        text-align: right;\n",
       "    }\n",
       "</style>\n",
       "<table border=\"1\" class=\"dataframe\">\n",
       "  <thead>\n",
       "    <tr style=\"text-align: right;\">\n",
       "      <th></th>\n",
       "      <th>BASELINE:feature_2</th>\n",
       "      <th>ZERO_FEATURE_6</th>\n",
       "    </tr>\n",
       "  </thead>\n",
       "  <tbody>\n",
       "    <tr>\n",
       "      <th>AUC</th>\n",
       "      <td>0.573375</td>\n",
       "      <td>0.673891</td>\n",
       "    </tr>\n",
       "  </tbody>\n",
       "</table>\n",
       "</div>"
      ],
      "text/plain": [
       "     BASELINE:feature_2  ZERO_FEATURE_6\n",
       "AUC            0.573375        0.673891"
      ]
     },
     "execution_count": 30,
     "metadata": {},
     "output_type": "execute_result"
    }
   ],
   "source": [
    "#AUCを表に追加\n",
    "\n",
    "df_pred = df_pred.assign(ZERO_FEATURE_6 = [roc_auc_score(y_val, y_pred_rf_6[:, 1])])\n",
    "df_pred"
   ]
  },
  {
   "cell_type": "markdown",
   "metadata": {},
   "source": [
    "#### 【結果】\n",
    "特徴量を増やしたら、AUCは上がった！"
   ]
  },
  {
   "cell_type": "markdown",
   "metadata": {},
   "source": [
    "#### 2. どう前処理をするか"
   ]
  },
  {
   "cell_type": "markdown",
   "metadata": {},
   "source": [
    "以下の二点を改良してみる。\n",
    "\n",
    "1. 欠損値のある行を削除する\n",
    "2. 欠損値を中央値で代替する\n",
    "\n",
    "\n",
    "特徴量を6個に増やしたモデルに、以上の2点を変更して、改良を行う。"
   ]
  },
  {
   "cell_type": "markdown",
   "metadata": {},
   "source": [
    "#### 2.1. 欠損値のある行を削除する"
   ]
  },
  {
   "cell_type": "code",
   "execution_count": 31,
   "metadata": {},
   "outputs": [
    {
     "data": {
      "text/html": [
       "<div>\n",
       "<style scoped>\n",
       "    .dataframe tbody tr th:only-of-type {\n",
       "        vertical-align: middle;\n",
       "    }\n",
       "\n",
       "    .dataframe tbody tr th {\n",
       "        vertical-align: top;\n",
       "    }\n",
       "\n",
       "    .dataframe thead th {\n",
       "        text-align: right;\n",
       "    }\n",
       "</style>\n",
       "<table border=\"1\" class=\"dataframe\">\n",
       "  <thead>\n",
       "    <tr style=\"text-align: right;\">\n",
       "      <th></th>\n",
       "      <th>DAYS_BIRTH</th>\n",
       "      <th>REGION_RATING_CLIENT_W_CITY</th>\n",
       "      <th>REGION_RATING_CLIENT</th>\n",
       "      <th>EXT_SOURCE_3</th>\n",
       "      <th>EXT_SOURCE_2</th>\n",
       "      <th>EXT_SOURCE_1</th>\n",
       "      <th>TARGET</th>\n",
       "    </tr>\n",
       "  </thead>\n",
       "  <tbody>\n",
       "    <tr>\n",
       "      <th>0</th>\n",
       "      <td>25.920548</td>\n",
       "      <td>2</td>\n",
       "      <td>2</td>\n",
       "      <td>0.139376</td>\n",
       "      <td>0.262949</td>\n",
       "      <td>0.083037</td>\n",
       "      <td>1</td>\n",
       "    </tr>\n",
       "    <tr>\n",
       "      <th>1</th>\n",
       "      <td>45.931507</td>\n",
       "      <td>1</td>\n",
       "      <td>1</td>\n",
       "      <td>NaN</td>\n",
       "      <td>0.622246</td>\n",
       "      <td>0.311267</td>\n",
       "      <td>0</td>\n",
       "    </tr>\n",
       "    <tr>\n",
       "      <th>2</th>\n",
       "      <td>52.180822</td>\n",
       "      <td>2</td>\n",
       "      <td>2</td>\n",
       "      <td>0.729567</td>\n",
       "      <td>0.555912</td>\n",
       "      <td>NaN</td>\n",
       "      <td>0</td>\n",
       "    </tr>\n",
       "    <tr>\n",
       "      <th>3</th>\n",
       "      <td>52.068493</td>\n",
       "      <td>2</td>\n",
       "      <td>2</td>\n",
       "      <td>NaN</td>\n",
       "      <td>0.650442</td>\n",
       "      <td>NaN</td>\n",
       "      <td>0</td>\n",
       "    </tr>\n",
       "    <tr>\n",
       "      <th>4</th>\n",
       "      <td>54.608219</td>\n",
       "      <td>2</td>\n",
       "      <td>2</td>\n",
       "      <td>NaN</td>\n",
       "      <td>0.322738</td>\n",
       "      <td>NaN</td>\n",
       "      <td>0</td>\n",
       "    </tr>\n",
       "    <tr>\n",
       "      <th>...</th>\n",
       "      <td>...</td>\n",
       "      <td>...</td>\n",
       "      <td>...</td>\n",
       "      <td>...</td>\n",
       "      <td>...</td>\n",
       "      <td>...</td>\n",
       "      <td>...</td>\n",
       "    </tr>\n",
       "    <tr>\n",
       "      <th>307506</th>\n",
       "      <td>25.553425</td>\n",
       "      <td>1</td>\n",
       "      <td>1</td>\n",
       "      <td>NaN</td>\n",
       "      <td>0.681632</td>\n",
       "      <td>0.145570</td>\n",
       "      <td>0</td>\n",
       "    </tr>\n",
       "    <tr>\n",
       "      <th>307507</th>\n",
       "      <td>56.917808</td>\n",
       "      <td>2</td>\n",
       "      <td>2</td>\n",
       "      <td>NaN</td>\n",
       "      <td>0.115992</td>\n",
       "      <td>NaN</td>\n",
       "      <td>0</td>\n",
       "    </tr>\n",
       "    <tr>\n",
       "      <th>307508</th>\n",
       "      <td>41.002740</td>\n",
       "      <td>3</td>\n",
       "      <td>3</td>\n",
       "      <td>0.218859</td>\n",
       "      <td>0.535722</td>\n",
       "      <td>0.744026</td>\n",
       "      <td>0</td>\n",
       "    </tr>\n",
       "    <tr>\n",
       "      <th>307509</th>\n",
       "      <td>32.769863</td>\n",
       "      <td>2</td>\n",
       "      <td>2</td>\n",
       "      <td>0.661024</td>\n",
       "      <td>0.514163</td>\n",
       "      <td>NaN</td>\n",
       "      <td>1</td>\n",
       "    </tr>\n",
       "    <tr>\n",
       "      <th>307510</th>\n",
       "      <td>46.180822</td>\n",
       "      <td>1</td>\n",
       "      <td>1</td>\n",
       "      <td>0.113922</td>\n",
       "      <td>0.708569</td>\n",
       "      <td>0.734460</td>\n",
       "      <td>0</td>\n",
       "    </tr>\n",
       "  </tbody>\n",
       "</table>\n",
       "<p>307511 rows × 7 columns</p>\n",
       "</div>"
      ],
      "text/plain": [
       "        DAYS_BIRTH  REGION_RATING_CLIENT_W_CITY  REGION_RATING_CLIENT  \\\n",
       "0        25.920548                            2                     2   \n",
       "1        45.931507                            1                     1   \n",
       "2        52.180822                            2                     2   \n",
       "3        52.068493                            2                     2   \n",
       "4        54.608219                            2                     2   \n",
       "...            ...                          ...                   ...   \n",
       "307506   25.553425                            1                     1   \n",
       "307507   56.917808                            2                     2   \n",
       "307508   41.002740                            3                     3   \n",
       "307509   32.769863                            2                     2   \n",
       "307510   46.180822                            1                     1   \n",
       "\n",
       "        EXT_SOURCE_3  EXT_SOURCE_2  EXT_SOURCE_1  TARGET  \n",
       "0           0.139376      0.262949      0.083037       1  \n",
       "1                NaN      0.622246      0.311267       0  \n",
       "2           0.729567      0.555912           NaN       0  \n",
       "3                NaN      0.650442           NaN       0  \n",
       "4                NaN      0.322738           NaN       0  \n",
       "...              ...           ...           ...     ...  \n",
       "307506           NaN      0.681632      0.145570       0  \n",
       "307507           NaN      0.115992           NaN       0  \n",
       "307508      0.218859      0.535722      0.744026       0  \n",
       "307509      0.661024      0.514163           NaN       1  \n",
       "307510      0.113922      0.708569      0.734460       0  \n",
       "\n",
       "[307511 rows x 7 columns]"
      ]
     },
     "execution_count": 31,
     "metadata": {},
     "output_type": "execute_result"
    }
   ],
   "source": [
    "x1 = pd.DataFrame(train, columns = ['DAYS_BIRTH'])\n",
    "x1_after = x1 / -365# 異常値の処理\n",
    "x5 = pd.DataFrame(train, columns = ['REGION_RATING_CLIENT_W_CITY', \n",
    "                                'REGION_RATING_CLIENT', 'EXT_SOURCE_3', 'EXT_SOURCE_2', \n",
    "                                'EXT_SOURCE_1'])#欠損値未対応で再作成\n",
    "\n",
    "X_1 = pd.concat([x1_after, x5], axis=1)\n",
    "y_1 = pd.DataFrame(train, columns = ['TARGET'])\n",
    "Xy = pd.concat([X_1, y_1], axis=1)\n",
    "Xy"
   ]
  },
  {
   "cell_type": "code",
   "execution_count": 32,
   "metadata": {},
   "outputs": [
    {
     "data": {
      "text/html": [
       "<div>\n",
       "<style scoped>\n",
       "    .dataframe tbody tr th:only-of-type {\n",
       "        vertical-align: middle;\n",
       "    }\n",
       "\n",
       "    .dataframe tbody tr th {\n",
       "        vertical-align: top;\n",
       "    }\n",
       "\n",
       "    .dataframe thead th {\n",
       "        text-align: right;\n",
       "    }\n",
       "</style>\n",
       "<table border=\"1\" class=\"dataframe\">\n",
       "  <thead>\n",
       "    <tr style=\"text-align: right;\">\n",
       "      <th></th>\n",
       "      <th>DAYS_BIRTH</th>\n",
       "      <th>REGION_RATING_CLIENT_W_CITY</th>\n",
       "      <th>REGION_RATING_CLIENT</th>\n",
       "      <th>EXT_SOURCE_3</th>\n",
       "      <th>EXT_SOURCE_2</th>\n",
       "      <th>EXT_SOURCE_1</th>\n",
       "      <th>TARGET</th>\n",
       "    </tr>\n",
       "  </thead>\n",
       "  <tbody>\n",
       "    <tr>\n",
       "      <th>0</th>\n",
       "      <td>25.920548</td>\n",
       "      <td>2</td>\n",
       "      <td>2</td>\n",
       "      <td>0.139376</td>\n",
       "      <td>0.262949</td>\n",
       "      <td>0.083037</td>\n",
       "      <td>1</td>\n",
       "    </tr>\n",
       "    <tr>\n",
       "      <th>6</th>\n",
       "      <td>37.747945</td>\n",
       "      <td>2</td>\n",
       "      <td>2</td>\n",
       "      <td>0.492060</td>\n",
       "      <td>0.724000</td>\n",
       "      <td>0.774761</td>\n",
       "      <td>0</td>\n",
       "    </tr>\n",
       "    <tr>\n",
       "      <th>8</th>\n",
       "      <td>55.065753</td>\n",
       "      <td>2</td>\n",
       "      <td>2</td>\n",
       "      <td>0.751724</td>\n",
       "      <td>0.205747</td>\n",
       "      <td>0.587334</td>\n",
       "      <td>0</td>\n",
       "    </tr>\n",
       "    <tr>\n",
       "      <th>10</th>\n",
       "      <td>27.936986</td>\n",
       "      <td>2</td>\n",
       "      <td>2</td>\n",
       "      <td>0.363945</td>\n",
       "      <td>0.651862</td>\n",
       "      <td>0.319760</td>\n",
       "      <td>0</td>\n",
       "    </tr>\n",
       "    <tr>\n",
       "      <th>11</th>\n",
       "      <td>55.936986</td>\n",
       "      <td>2</td>\n",
       "      <td>2</td>\n",
       "      <td>0.652897</td>\n",
       "      <td>0.555183</td>\n",
       "      <td>0.722044</td>\n",
       "      <td>0</td>\n",
       "    </tr>\n",
       "    <tr>\n",
       "      <th>...</th>\n",
       "      <td>...</td>\n",
       "      <td>...</td>\n",
       "      <td>...</td>\n",
       "      <td>...</td>\n",
       "      <td>...</td>\n",
       "      <td>...</td>\n",
       "      <td>...</td>\n",
       "    </tr>\n",
       "    <tr>\n",
       "      <th>307499</th>\n",
       "      <td>46.542466</td>\n",
       "      <td>2</td>\n",
       "      <td>2</td>\n",
       "      <td>0.206779</td>\n",
       "      <td>0.649123</td>\n",
       "      <td>0.665343</td>\n",
       "      <td>0</td>\n",
       "    </tr>\n",
       "    <tr>\n",
       "      <th>307500</th>\n",
       "      <td>55.863014</td>\n",
       "      <td>2</td>\n",
       "      <td>2</td>\n",
       "      <td>0.337673</td>\n",
       "      <td>0.789389</td>\n",
       "      <td>0.896042</td>\n",
       "      <td>0</td>\n",
       "    </tr>\n",
       "    <tr>\n",
       "      <th>307503</th>\n",
       "      <td>32.520548</td>\n",
       "      <td>2</td>\n",
       "      <td>2</td>\n",
       "      <td>0.609276</td>\n",
       "      <td>0.501221</td>\n",
       "      <td>0.243466</td>\n",
       "      <td>0</td>\n",
       "    </tr>\n",
       "    <tr>\n",
       "      <th>307508</th>\n",
       "      <td>41.002740</td>\n",
       "      <td>3</td>\n",
       "      <td>3</td>\n",
       "      <td>0.218859</td>\n",
       "      <td>0.535722</td>\n",
       "      <td>0.744026</td>\n",
       "      <td>0</td>\n",
       "    </tr>\n",
       "    <tr>\n",
       "      <th>307510</th>\n",
       "      <td>46.180822</td>\n",
       "      <td>1</td>\n",
       "      <td>1</td>\n",
       "      <td>0.113922</td>\n",
       "      <td>0.708569</td>\n",
       "      <td>0.734460</td>\n",
       "      <td>0</td>\n",
       "    </tr>\n",
       "  </tbody>\n",
       "</table>\n",
       "<p>109589 rows × 7 columns</p>\n",
       "</div>"
      ],
      "text/plain": [
       "        DAYS_BIRTH  REGION_RATING_CLIENT_W_CITY  REGION_RATING_CLIENT  \\\n",
       "0        25.920548                            2                     2   \n",
       "6        37.747945                            2                     2   \n",
       "8        55.065753                            2                     2   \n",
       "10       27.936986                            2                     2   \n",
       "11       55.936986                            2                     2   \n",
       "...            ...                          ...                   ...   \n",
       "307499   46.542466                            2                     2   \n",
       "307500   55.863014                            2                     2   \n",
       "307503   32.520548                            2                     2   \n",
       "307508   41.002740                            3                     3   \n",
       "307510   46.180822                            1                     1   \n",
       "\n",
       "        EXT_SOURCE_3  EXT_SOURCE_2  EXT_SOURCE_1  TARGET  \n",
       "0           0.139376      0.262949      0.083037       1  \n",
       "6           0.492060      0.724000      0.774761       0  \n",
       "8           0.751724      0.205747      0.587334       0  \n",
       "10          0.363945      0.651862      0.319760       0  \n",
       "11          0.652897      0.555183      0.722044       0  \n",
       "...              ...           ...           ...     ...  \n",
       "307499      0.206779      0.649123      0.665343       0  \n",
       "307500      0.337673      0.789389      0.896042       0  \n",
       "307503      0.609276      0.501221      0.243466       0  \n",
       "307508      0.218859      0.535722      0.744026       0  \n",
       "307510      0.113922      0.708569      0.734460       0  \n",
       "\n",
       "[109589 rows x 7 columns]"
      ]
     },
     "execution_count": 32,
     "metadata": {},
     "output_type": "execute_result"
    }
   ],
   "source": [
    "#欠損値のある行を削除\n",
    "Xy = Xy.dropna()\n",
    "Xy"
   ]
  },
  {
   "cell_type": "code",
   "execution_count": 33,
   "metadata": {},
   "outputs": [
    {
     "name": "stdout",
     "output_type": "stream",
     "text": [
      "[[25.92054795  2.          2.          0.13937578  0.26294859  0.08303697]\n",
      " [37.74794521  2.          2.          0.49206009  0.72399985  0.77476141]\n",
      " [55.06575342  2.          2.          0.75172371  0.20574729  0.58733405]\n",
      " ...\n",
      " [32.52054795  2.          2.          0.60927567  0.501221    0.24346585]\n",
      " [41.00273973  3.          3.          0.21885908  0.53572175  0.7440264 ]\n",
      " [46.18082192  1.          1.          0.1139224   0.7085689   0.73445967]]\n",
      "[[1.]\n",
      " [0.]\n",
      " [0.]\n",
      " ...\n",
      " [0.]\n",
      " [0.]\n",
      " [0.]]\n"
     ]
    }
   ],
   "source": [
    "#numpy ndarrayに変換\n",
    "Xy = Xy.values\n",
    "\n",
    "# Xとyに再分割後\n",
    "X1 = Xy[:, :6]\n",
    "y1 = Xy[:, 6:]\n",
    "print(X1)\n",
    "print(y1)"
   ]
  },
  {
   "cell_type": "code",
   "execution_count": 34,
   "metadata": {},
   "outputs": [
    {
     "name": "stdout",
     "output_type": "stream",
     "text": [
      "X_train: (82191, 6)\n",
      "y_train: (82191, 1)\n",
      "X_val: (27398, 6)\n",
      "y_val: (27398, 1)\n"
     ]
    }
   ],
   "source": [
    "# データ分割\n",
    "\n",
    "X_train, X_val, y_train, y_val = train_test_split(X1, y1, test_size=0.25, random_state=0)\n",
    "\n",
    "print('X_train:', X_train.shape)\n",
    "print('y_train:', y_train.shape)\n",
    "print('X_val:', X_val.shape)\n",
    "print('y_val:', y_val.shape)"
   ]
  },
  {
   "cell_type": "code",
   "execution_count": 35,
   "metadata": {},
   "outputs": [
    {
     "name": "stdout",
     "output_type": "stream",
     "text": [
      "X_train_mean: [-3.71240203e-15  1.99326104e-15 -2.94754346e-15  9.27391252e-14\n",
      "  2.31493246e-14  1.40747463e-14]\n",
      "X_train_std: [1. 1. 1. 1. 1. 1.]\n",
      "X_val_mean: [ 0.00907648  0.00463357  0.0070647  -0.00194659  0.00044325  0.01410794]\n",
      "X_val_std: [0.9986827  0.99337135 0.99622427 1.0002857  0.99594527 0.99972294]\n"
     ]
    }
   ],
   "source": [
    "#標準化\n",
    "\n",
    "scaler.fit(X_train)\n",
    "X_train_std = scaler.transform(X_train)\n",
    "X_val_std = scaler.transform(X_val)\n",
    "\n",
    "print('X_train_mean:', X_train_std.mean(axis=0))\n",
    "print('X_train_std:', X_train_std.std(axis=0))\n",
    "print('X_val_mean:', X_val_std.mean(axis=0))\n",
    "print('X_val_std:', X_val_std.std(axis=0))"
   ]
  },
  {
   "cell_type": "code",
   "execution_count": 36,
   "metadata": {},
   "outputs": [
    {
     "name": "stderr",
     "output_type": "stream",
     "text": [
      "/Users/SHOTA/.pyenv/versions/anaconda3-5.3.1/lib/python3.7/site-packages/ipykernel_launcher.py:4: DataConversionWarning: A column-vector y was passed when a 1d array was expected. Please change the shape of y to (n_samples,), for example using ravel().\n",
      "  after removing the cwd from sys.path.\n"
     ]
    },
    {
     "data": {
      "text/plain": [
       "array([[0.81, 0.19],\n",
       "       [0.92, 0.08],\n",
       "       [0.66, 0.34],\n",
       "       ...,\n",
       "       [1.  , 0.  ],\n",
       "       [0.94, 0.06],\n",
       "       [0.86, 0.14]])"
      ]
     },
     "execution_count": 36,
     "metadata": {},
     "output_type": "execute_result"
    }
   ],
   "source": [
    "#学習\n",
    "\n",
    "rf = RandomForestClassifier()\n",
    "rf.fit(X_train_std, y_train)\n",
    "y_pred_rf_non = rf.predict_proba(X_val_std)\n",
    "y_pred_rf_non"
   ]
  },
  {
   "cell_type": "code",
   "execution_count": 37,
   "metadata": {},
   "outputs": [
    {
     "name": "stdout",
     "output_type": "stream",
     "text": [
      "AUC 0.6924232430097816\n"
     ]
    }
   ],
   "source": [
    "#評価　\n",
    "\n",
    "print('AUC', roc_auc_score(y_val, y_pred_rf_non[:, 1]))"
   ]
  },
  {
   "cell_type": "code",
   "execution_count": 38,
   "metadata": {},
   "outputs": [
    {
     "data": {
      "text/html": [
       "<div>\n",
       "<style scoped>\n",
       "    .dataframe tbody tr th:only-of-type {\n",
       "        vertical-align: middle;\n",
       "    }\n",
       "\n",
       "    .dataframe tbody tr th {\n",
       "        vertical-align: top;\n",
       "    }\n",
       "\n",
       "    .dataframe thead th {\n",
       "        text-align: right;\n",
       "    }\n",
       "</style>\n",
       "<table border=\"1\" class=\"dataframe\">\n",
       "  <thead>\n",
       "    <tr style=\"text-align: right;\">\n",
       "      <th></th>\n",
       "      <th>BASELINE:feature_2</th>\n",
       "      <th>ZERO_FEATURE_6</th>\n",
       "      <th>Non_missing_feature_6</th>\n",
       "    </tr>\n",
       "  </thead>\n",
       "  <tbody>\n",
       "    <tr>\n",
       "      <th>AUC</th>\n",
       "      <td>0.573375</td>\n",
       "      <td>0.673891</td>\n",
       "      <td>0.692423</td>\n",
       "    </tr>\n",
       "  </tbody>\n",
       "</table>\n",
       "</div>"
      ],
      "text/plain": [
       "     BASELINE:feature_2  ZERO_FEATURE_6  Non_missing_feature_6\n",
       "AUC            0.573375        0.673891               0.692423"
      ]
     },
     "execution_count": 38,
     "metadata": {},
     "output_type": "execute_result"
    }
   ],
   "source": [
    "#AUCを表に追加\n",
    "\n",
    "df_pred = df_pred.assign(Non_missing_feature_6 = [roc_auc_score(y_val, y_pred_rf_non[:, 1])])\n",
    "df_pred"
   ]
  },
  {
   "cell_type": "markdown",
   "metadata": {},
   "source": [
    "#### 【結果】\n",
    "欠損値を削除することでデータ量が少なくなったが、結果的にAUCは上がった。\n",
    "\n",
    "次はデータ量の減らない、中央値での代替を行ってみる。"
   ]
  },
  {
   "cell_type": "markdown",
   "metadata": {},
   "source": [
    "#### 2.2. 欠損値を中央値で代替する"
   ]
  },
  {
   "cell_type": "code",
   "execution_count": 39,
   "metadata": {},
   "outputs": [
    {
     "data": {
      "text/html": [
       "<div>\n",
       "<style scoped>\n",
       "    .dataframe tbody tr th:only-of-type {\n",
       "        vertical-align: middle;\n",
       "    }\n",
       "\n",
       "    .dataframe tbody tr th {\n",
       "        vertical-align: top;\n",
       "    }\n",
       "\n",
       "    .dataframe thead th {\n",
       "        text-align: right;\n",
       "    }\n",
       "</style>\n",
       "<table border=\"1\" class=\"dataframe\">\n",
       "  <thead>\n",
       "    <tr style=\"text-align: right;\">\n",
       "      <th></th>\n",
       "      <th>DAYS_BIRTH</th>\n",
       "      <th>REGION_RATING_CLIENT_W_CITY</th>\n",
       "      <th>REGION_RATING_CLIENT</th>\n",
       "      <th>EXT_SOURCE_3</th>\n",
       "      <th>EXT_SOURCE_2</th>\n",
       "      <th>EXT_SOURCE_1</th>\n",
       "    </tr>\n",
       "  </thead>\n",
       "  <tbody>\n",
       "    <tr>\n",
       "      <th>0</th>\n",
       "      <td>25.920548</td>\n",
       "      <td>2</td>\n",
       "      <td>2</td>\n",
       "      <td>0.139376</td>\n",
       "      <td>0.262949</td>\n",
       "      <td>0.083037</td>\n",
       "    </tr>\n",
       "    <tr>\n",
       "      <th>1</th>\n",
       "      <td>45.931507</td>\n",
       "      <td>1</td>\n",
       "      <td>1</td>\n",
       "      <td>NaN</td>\n",
       "      <td>0.622246</td>\n",
       "      <td>0.311267</td>\n",
       "    </tr>\n",
       "    <tr>\n",
       "      <th>2</th>\n",
       "      <td>52.180822</td>\n",
       "      <td>2</td>\n",
       "      <td>2</td>\n",
       "      <td>0.729567</td>\n",
       "      <td>0.555912</td>\n",
       "      <td>NaN</td>\n",
       "    </tr>\n",
       "    <tr>\n",
       "      <th>3</th>\n",
       "      <td>52.068493</td>\n",
       "      <td>2</td>\n",
       "      <td>2</td>\n",
       "      <td>NaN</td>\n",
       "      <td>0.650442</td>\n",
       "      <td>NaN</td>\n",
       "    </tr>\n",
       "    <tr>\n",
       "      <th>4</th>\n",
       "      <td>54.608219</td>\n",
       "      <td>2</td>\n",
       "      <td>2</td>\n",
       "      <td>NaN</td>\n",
       "      <td>0.322738</td>\n",
       "      <td>NaN</td>\n",
       "    </tr>\n",
       "    <tr>\n",
       "      <th>...</th>\n",
       "      <td>...</td>\n",
       "      <td>...</td>\n",
       "      <td>...</td>\n",
       "      <td>...</td>\n",
       "      <td>...</td>\n",
       "      <td>...</td>\n",
       "    </tr>\n",
       "    <tr>\n",
       "      <th>307506</th>\n",
       "      <td>25.553425</td>\n",
       "      <td>1</td>\n",
       "      <td>1</td>\n",
       "      <td>NaN</td>\n",
       "      <td>0.681632</td>\n",
       "      <td>0.145570</td>\n",
       "    </tr>\n",
       "    <tr>\n",
       "      <th>307507</th>\n",
       "      <td>56.917808</td>\n",
       "      <td>2</td>\n",
       "      <td>2</td>\n",
       "      <td>NaN</td>\n",
       "      <td>0.115992</td>\n",
       "      <td>NaN</td>\n",
       "    </tr>\n",
       "    <tr>\n",
       "      <th>307508</th>\n",
       "      <td>41.002740</td>\n",
       "      <td>3</td>\n",
       "      <td>3</td>\n",
       "      <td>0.218859</td>\n",
       "      <td>0.535722</td>\n",
       "      <td>0.744026</td>\n",
       "    </tr>\n",
       "    <tr>\n",
       "      <th>307509</th>\n",
       "      <td>32.769863</td>\n",
       "      <td>2</td>\n",
       "      <td>2</td>\n",
       "      <td>0.661024</td>\n",
       "      <td>0.514163</td>\n",
       "      <td>NaN</td>\n",
       "    </tr>\n",
       "    <tr>\n",
       "      <th>307510</th>\n",
       "      <td>46.180822</td>\n",
       "      <td>1</td>\n",
       "      <td>1</td>\n",
       "      <td>0.113922</td>\n",
       "      <td>0.708569</td>\n",
       "      <td>0.734460</td>\n",
       "    </tr>\n",
       "  </tbody>\n",
       "</table>\n",
       "<p>307511 rows × 6 columns</p>\n",
       "</div>"
      ],
      "text/plain": [
       "        DAYS_BIRTH  REGION_RATING_CLIENT_W_CITY  REGION_RATING_CLIENT  \\\n",
       "0        25.920548                            2                     2   \n",
       "1        45.931507                            1                     1   \n",
       "2        52.180822                            2                     2   \n",
       "3        52.068493                            2                     2   \n",
       "4        54.608219                            2                     2   \n",
       "...            ...                          ...                   ...   \n",
       "307506   25.553425                            1                     1   \n",
       "307507   56.917808                            2                     2   \n",
       "307508   41.002740                            3                     3   \n",
       "307509   32.769863                            2                     2   \n",
       "307510   46.180822                            1                     1   \n",
       "\n",
       "        EXT_SOURCE_3  EXT_SOURCE_2  EXT_SOURCE_1  \n",
       "0           0.139376      0.262949      0.083037  \n",
       "1                NaN      0.622246      0.311267  \n",
       "2           0.729567      0.555912           NaN  \n",
       "3                NaN      0.650442           NaN  \n",
       "4                NaN      0.322738           NaN  \n",
       "...              ...           ...           ...  \n",
       "307506           NaN      0.681632      0.145570  \n",
       "307507           NaN      0.115992           NaN  \n",
       "307508      0.218859      0.535722      0.744026  \n",
       "307509      0.661024      0.514163           NaN  \n",
       "307510      0.113922      0.708569      0.734460  \n",
       "\n",
       "[307511 rows x 6 columns]"
      ]
     },
     "execution_count": 39,
     "metadata": {},
     "output_type": "execute_result"
    }
   ],
   "source": [
    "# データセットの作成\n",
    "\n",
    "x1 = pd.DataFrame(train, columns = ['DAYS_BIRTH'])\n",
    "x1_after = x1 / -365# 異常値の処理\n",
    "x5 = pd.DataFrame(train, columns = ['REGION_RATING_CLIENT_W_CITY', \n",
    "                                'REGION_RATING_CLIENT', 'EXT_SOURCE_3', 'EXT_SOURCE_2', \n",
    "                                'EXT_SOURCE_1'])#欠損値未対応で再作成\n",
    "\n",
    "X_1 = pd.concat([x1_after, x5], axis=1)\n",
    "X_1"
   ]
  },
  {
   "cell_type": "code",
   "execution_count": 40,
   "metadata": {},
   "outputs": [
    {
     "data": {
      "text/html": [
       "<div>\n",
       "<style scoped>\n",
       "    .dataframe tbody tr th:only-of-type {\n",
       "        vertical-align: middle;\n",
       "    }\n",
       "\n",
       "    .dataframe tbody tr th {\n",
       "        vertical-align: top;\n",
       "    }\n",
       "\n",
       "    .dataframe thead th {\n",
       "        text-align: right;\n",
       "    }\n",
       "</style>\n",
       "<table border=\"1\" class=\"dataframe\">\n",
       "  <thead>\n",
       "    <tr style=\"text-align: right;\">\n",
       "      <th></th>\n",
       "      <th>DAYS_BIRTH</th>\n",
       "      <th>REGION_RATING_CLIENT_W_CITY</th>\n",
       "      <th>REGION_RATING_CLIENT</th>\n",
       "      <th>EXT_SOURCE_3</th>\n",
       "      <th>EXT_SOURCE_2</th>\n",
       "      <th>EXT_SOURCE_1</th>\n",
       "    </tr>\n",
       "  </thead>\n",
       "  <tbody>\n",
       "    <tr>\n",
       "      <th>0</th>\n",
       "      <td>25.920548</td>\n",
       "      <td>2</td>\n",
       "      <td>2</td>\n",
       "      <td>0.139376</td>\n",
       "      <td>0.262949</td>\n",
       "      <td>0.083037</td>\n",
       "    </tr>\n",
       "    <tr>\n",
       "      <th>1</th>\n",
       "      <td>45.931507</td>\n",
       "      <td>1</td>\n",
       "      <td>1</td>\n",
       "      <td>0.535276</td>\n",
       "      <td>0.622246</td>\n",
       "      <td>0.311267</td>\n",
       "    </tr>\n",
       "    <tr>\n",
       "      <th>2</th>\n",
       "      <td>52.180822</td>\n",
       "      <td>2</td>\n",
       "      <td>2</td>\n",
       "      <td>0.729567</td>\n",
       "      <td>0.555912</td>\n",
       "      <td>0.505998</td>\n",
       "    </tr>\n",
       "    <tr>\n",
       "      <th>3</th>\n",
       "      <td>52.068493</td>\n",
       "      <td>2</td>\n",
       "      <td>2</td>\n",
       "      <td>0.535276</td>\n",
       "      <td>0.650442</td>\n",
       "      <td>0.505998</td>\n",
       "    </tr>\n",
       "    <tr>\n",
       "      <th>4</th>\n",
       "      <td>54.608219</td>\n",
       "      <td>2</td>\n",
       "      <td>2</td>\n",
       "      <td>0.535276</td>\n",
       "      <td>0.322738</td>\n",
       "      <td>0.505998</td>\n",
       "    </tr>\n",
       "    <tr>\n",
       "      <th>...</th>\n",
       "      <td>...</td>\n",
       "      <td>...</td>\n",
       "      <td>...</td>\n",
       "      <td>...</td>\n",
       "      <td>...</td>\n",
       "      <td>...</td>\n",
       "    </tr>\n",
       "    <tr>\n",
       "      <th>307506</th>\n",
       "      <td>25.553425</td>\n",
       "      <td>1</td>\n",
       "      <td>1</td>\n",
       "      <td>0.535276</td>\n",
       "      <td>0.681632</td>\n",
       "      <td>0.145570</td>\n",
       "    </tr>\n",
       "    <tr>\n",
       "      <th>307507</th>\n",
       "      <td>56.917808</td>\n",
       "      <td>2</td>\n",
       "      <td>2</td>\n",
       "      <td>0.535276</td>\n",
       "      <td>0.115992</td>\n",
       "      <td>0.505998</td>\n",
       "    </tr>\n",
       "    <tr>\n",
       "      <th>307508</th>\n",
       "      <td>41.002740</td>\n",
       "      <td>3</td>\n",
       "      <td>3</td>\n",
       "      <td>0.218859</td>\n",
       "      <td>0.535722</td>\n",
       "      <td>0.744026</td>\n",
       "    </tr>\n",
       "    <tr>\n",
       "      <th>307509</th>\n",
       "      <td>32.769863</td>\n",
       "      <td>2</td>\n",
       "      <td>2</td>\n",
       "      <td>0.661024</td>\n",
       "      <td>0.514163</td>\n",
       "      <td>0.505998</td>\n",
       "    </tr>\n",
       "    <tr>\n",
       "      <th>307510</th>\n",
       "      <td>46.180822</td>\n",
       "      <td>1</td>\n",
       "      <td>1</td>\n",
       "      <td>0.113922</td>\n",
       "      <td>0.708569</td>\n",
       "      <td>0.734460</td>\n",
       "    </tr>\n",
       "  </tbody>\n",
       "</table>\n",
       "<p>307511 rows × 6 columns</p>\n",
       "</div>"
      ],
      "text/plain": [
       "        DAYS_BIRTH  REGION_RATING_CLIENT_W_CITY  REGION_RATING_CLIENT  \\\n",
       "0        25.920548                            2                     2   \n",
       "1        45.931507                            1                     1   \n",
       "2        52.180822                            2                     2   \n",
       "3        52.068493                            2                     2   \n",
       "4        54.608219                            2                     2   \n",
       "...            ...                          ...                   ...   \n",
       "307506   25.553425                            1                     1   \n",
       "307507   56.917808                            2                     2   \n",
       "307508   41.002740                            3                     3   \n",
       "307509   32.769863                            2                     2   \n",
       "307510   46.180822                            1                     1   \n",
       "\n",
       "        EXT_SOURCE_3  EXT_SOURCE_2  EXT_SOURCE_1  \n",
       "0           0.139376      0.262949      0.083037  \n",
       "1           0.535276      0.622246      0.311267  \n",
       "2           0.729567      0.555912      0.505998  \n",
       "3           0.535276      0.650442      0.505998  \n",
       "4           0.535276      0.322738      0.505998  \n",
       "...              ...           ...           ...  \n",
       "307506      0.535276      0.681632      0.145570  \n",
       "307507      0.535276      0.115992      0.505998  \n",
       "307508      0.218859      0.535722      0.744026  \n",
       "307509      0.661024      0.514163      0.505998  \n",
       "307510      0.113922      0.708569      0.734460  \n",
       "\n",
       "[307511 rows x 6 columns]"
      ]
     },
     "execution_count": 40,
     "metadata": {},
     "output_type": "execute_result"
    }
   ],
   "source": [
    "#欠損値を列の中央値で代替する\n",
    "\n",
    "X_1_center =  X_1.fillna(X_1.median())\n",
    "X_1_center"
   ]
  },
  {
   "cell_type": "code",
   "execution_count": 41,
   "metadata": {},
   "outputs": [
    {
     "data": {
      "text/plain": [
       "DAYS_BIRTH                     0\n",
       "REGION_RATING_CLIENT_W_CITY    0\n",
       "REGION_RATING_CLIENT           0\n",
       "EXT_SOURCE_3                   0\n",
       "EXT_SOURCE_2                   0\n",
       "EXT_SOURCE_1                   0\n",
       "dtype: int64"
      ]
     },
     "execution_count": 41,
     "metadata": {},
     "output_type": "execute_result"
    }
   ],
   "source": [
    "# 欠損値の再確認\n",
    "X_1_center.isnull().sum()"
   ]
  },
  {
   "cell_type": "code",
   "execution_count": 42,
   "metadata": {},
   "outputs": [
    {
     "data": {
      "text/plain": [
       "numpy.ndarray"
      ]
     },
     "execution_count": 42,
     "metadata": {},
     "output_type": "execute_result"
    }
   ],
   "source": [
    "# numpy ndarrayに変換\n",
    "X_a = X_1_center.values\n",
    "type(X_a)"
   ]
  },
  {
   "cell_type": "code",
   "execution_count": 43,
   "metadata": {},
   "outputs": [
    {
     "name": "stdout",
     "output_type": "stream",
     "text": [
      "X_train: (230633, 6)\n",
      "y_train: (230633, 1)\n",
      "X_val: (76878, 6)\n",
      "y_val: (76878, 1)\n"
     ]
    }
   ],
   "source": [
    "# データ分割\n",
    "\n",
    "X_train, X_val, y_train, y_val = train_test_split(X_a, y, test_size=0.25, random_state=0)\n",
    "\n",
    "print('X_train:', X_train.shape)\n",
    "print('y_train:', y_train.shape)\n",
    "print('X_val:', X_val.shape)\n",
    "print('y_val:', y_val.shape)"
   ]
  },
  {
   "cell_type": "code",
   "execution_count": 44,
   "metadata": {},
   "outputs": [
    {
     "name": "stdout",
     "output_type": "stream",
     "text": [
      "X_train_mean: [-1.43493184e-14  1.23366321e-15  3.32880938e-15 -1.92051973e-12\n",
      " -1.45090437e-14 -5.43234123e-12]\n",
      "X_train_std: [1. 1. 1. 1. 1. 1.]\n",
      "X_val_mean: [-0.00680216  0.00388828  0.00309021  0.00240263 -0.00058399 -0.00277334]\n",
      "X_val_std: [0.99738035 0.99883237 0.99827955 0.99872093 1.0029312  1.00033861]\n"
     ]
    }
   ],
   "source": [
    "#標準化\n",
    "\n",
    "scaler.fit(X_train)\n",
    "X_train_std = scaler.transform(X_train)\n",
    "X_val_std = scaler.transform(X_val)\n",
    "\n",
    "print('X_train_mean:', X_train_std.mean(axis=0))\n",
    "print('X_train_std:', X_train_std.std(axis=0))\n",
    "print('X_val_mean:', X_val_std.mean(axis=0))\n",
    "print('X_val_std:', X_val_std.std(axis=0))"
   ]
  },
  {
   "cell_type": "code",
   "execution_count": 45,
   "metadata": {},
   "outputs": [
    {
     "name": "stderr",
     "output_type": "stream",
     "text": [
      "/Users/SHOTA/.pyenv/versions/anaconda3-5.3.1/lib/python3.7/site-packages/ipykernel_launcher.py:4: DataConversionWarning: A column-vector y was passed when a 1d array was expected. Please change the shape of y to (n_samples,), for example using ravel().\n",
      "  after removing the cwd from sys.path.\n"
     ]
    },
    {
     "data": {
      "text/plain": [
       "array([[0.6 , 0.4 ],\n",
       "       [1.  , 0.  ],\n",
       "       [0.82, 0.18],\n",
       "       ...,\n",
       "       [0.99, 0.01],\n",
       "       [0.84, 0.16],\n",
       "       [0.98, 0.02]])"
      ]
     },
     "execution_count": 45,
     "metadata": {},
     "output_type": "execute_result"
    }
   ],
   "source": [
    "#学習\n",
    "\n",
    "rf = RandomForestClassifier()\n",
    "rf.fit(X_train_std, y_train)\n",
    "y_pred_rf_center = rf.predict_proba(X_val_std)\n",
    "y_pred_rf_center"
   ]
  },
  {
   "cell_type": "code",
   "execution_count": 46,
   "metadata": {},
   "outputs": [
    {
     "name": "stdout",
     "output_type": "stream",
     "text": [
      "AUC 0.671729750796668\n"
     ]
    }
   ],
   "source": [
    "#評価　\n",
    "\n",
    "print('AUC', roc_auc_score(y_val, y_pred_rf_center[:, 1]))"
   ]
  },
  {
   "cell_type": "code",
   "execution_count": 47,
   "metadata": {},
   "outputs": [
    {
     "data": {
      "text/html": [
       "<div>\n",
       "<style scoped>\n",
       "    .dataframe tbody tr th:only-of-type {\n",
       "        vertical-align: middle;\n",
       "    }\n",
       "\n",
       "    .dataframe tbody tr th {\n",
       "        vertical-align: top;\n",
       "    }\n",
       "\n",
       "    .dataframe thead th {\n",
       "        text-align: right;\n",
       "    }\n",
       "</style>\n",
       "<table border=\"1\" class=\"dataframe\">\n",
       "  <thead>\n",
       "    <tr style=\"text-align: right;\">\n",
       "      <th></th>\n",
       "      <th>BASELINE:feature_2</th>\n",
       "      <th>ZERO_FEATURE_6</th>\n",
       "      <th>Non_missing_feature_6</th>\n",
       "      <th>center_missing_feature_6</th>\n",
       "    </tr>\n",
       "  </thead>\n",
       "  <tbody>\n",
       "    <tr>\n",
       "      <th>AUC</th>\n",
       "      <td>0.573375</td>\n",
       "      <td>0.673891</td>\n",
       "      <td>0.692423</td>\n",
       "      <td>0.67173</td>\n",
       "    </tr>\n",
       "  </tbody>\n",
       "</table>\n",
       "</div>"
      ],
      "text/plain": [
       "     BASELINE:feature_2  ZERO_FEATURE_6  Non_missing_feature_6  \\\n",
       "AUC            0.573375        0.673891               0.692423   \n",
       "\n",
       "     center_missing_feature_6  \n",
       "AUC                   0.67173  "
      ]
     },
     "execution_count": 47,
     "metadata": {},
     "output_type": "execute_result"
    }
   ],
   "source": [
    "#AUCを表に追加\n",
    "\n",
    "df_pred = df_pred.assign(center_missing_feature_6 = [roc_auc_score(y_val, y_pred_rf_center[:, 1])])\n",
    "df_pred"
   ]
  },
  {
   "cell_type": "markdown",
   "metadata": {},
   "source": [
    "欠損値を削除して、特徴量を6つにしたモデルが最も AUCが良かったので、このモデルをkaggleに提出する。"
   ]
  },
  {
   "cell_type": "code",
   "execution_count": 48,
   "metadata": {},
   "outputs": [
    {
     "name": "stdout",
     "output_type": "stream",
     "text": [
      "X_type: <class 'pandas.core.frame.DataFrame'>\n",
      "X_shape: (48744, 7)\n"
     ]
    },
    {
     "data": {
      "text/html": [
       "<div>\n",
       "<style scoped>\n",
       "    .dataframe tbody tr th:only-of-type {\n",
       "        vertical-align: middle;\n",
       "    }\n",
       "\n",
       "    .dataframe tbody tr th {\n",
       "        vertical-align: top;\n",
       "    }\n",
       "\n",
       "    .dataframe thead th {\n",
       "        text-align: right;\n",
       "    }\n",
       "</style>\n",
       "<table border=\"1\" class=\"dataframe\">\n",
       "  <thead>\n",
       "    <tr style=\"text-align: right;\">\n",
       "      <th></th>\n",
       "      <th>DAYS_BIRTH</th>\n",
       "      <th>REGION_RATING_CLIENT_W_CITY</th>\n",
       "      <th>REGION_RATING_CLIENT</th>\n",
       "      <th>EXT_SOURCE_3</th>\n",
       "      <th>EXT_SOURCE_2</th>\n",
       "      <th>EXT_SOURCE_1</th>\n",
       "      <th>SK_ID_CURR</th>\n",
       "    </tr>\n",
       "  </thead>\n",
       "  <tbody>\n",
       "    <tr>\n",
       "      <th>0</th>\n",
       "      <td>52.715068</td>\n",
       "      <td>2</td>\n",
       "      <td>2</td>\n",
       "      <td>0.159520</td>\n",
       "      <td>0.789654</td>\n",
       "      <td>0.752614</td>\n",
       "      <td>100001</td>\n",
       "    </tr>\n",
       "    <tr>\n",
       "      <th>1</th>\n",
       "      <td>49.490411</td>\n",
       "      <td>2</td>\n",
       "      <td>2</td>\n",
       "      <td>0.432962</td>\n",
       "      <td>0.291656</td>\n",
       "      <td>0.564990</td>\n",
       "      <td>100005</td>\n",
       "    </tr>\n",
       "    <tr>\n",
       "      <th>2</th>\n",
       "      <td>54.898630</td>\n",
       "      <td>2</td>\n",
       "      <td>2</td>\n",
       "      <td>0.610991</td>\n",
       "      <td>0.699787</td>\n",
       "      <td>NaN</td>\n",
       "      <td>100013</td>\n",
       "    </tr>\n",
       "    <tr>\n",
       "      <th>3</th>\n",
       "      <td>38.290411</td>\n",
       "      <td>2</td>\n",
       "      <td>2</td>\n",
       "      <td>0.612704</td>\n",
       "      <td>0.509677</td>\n",
       "      <td>0.525734</td>\n",
       "      <td>100028</td>\n",
       "    </tr>\n",
       "    <tr>\n",
       "      <th>4</th>\n",
       "      <td>35.726027</td>\n",
       "      <td>2</td>\n",
       "      <td>2</td>\n",
       "      <td>NaN</td>\n",
       "      <td>0.425687</td>\n",
       "      <td>0.202145</td>\n",
       "      <td>100038</td>\n",
       "    </tr>\n",
       "    <tr>\n",
       "      <th>...</th>\n",
       "      <td>...</td>\n",
       "      <td>...</td>\n",
       "      <td>...</td>\n",
       "      <td>...</td>\n",
       "      <td>...</td>\n",
       "      <td>...</td>\n",
       "      <td>...</td>\n",
       "    </tr>\n",
       "    <tr>\n",
       "      <th>48739</th>\n",
       "      <td>54.712329</td>\n",
       "      <td>3</td>\n",
       "      <td>3</td>\n",
       "      <td>0.643026</td>\n",
       "      <td>0.648575</td>\n",
       "      <td>NaN</td>\n",
       "      <td>456221</td>\n",
       "    </tr>\n",
       "    <tr>\n",
       "      <th>48740</th>\n",
       "      <td>30.646575</td>\n",
       "      <td>2</td>\n",
       "      <td>2</td>\n",
       "      <td>NaN</td>\n",
       "      <td>0.684596</td>\n",
       "      <td>NaN</td>\n",
       "      <td>456222</td>\n",
       "    </tr>\n",
       "    <tr>\n",
       "      <th>48741</th>\n",
       "      <td>43.621918</td>\n",
       "      <td>2</td>\n",
       "      <td>2</td>\n",
       "      <td>0.283712</td>\n",
       "      <td>0.632770</td>\n",
       "      <td>0.733503</td>\n",
       "      <td>456223</td>\n",
       "    </tr>\n",
       "    <tr>\n",
       "      <th>48742</th>\n",
       "      <td>38.268493</td>\n",
       "      <td>2</td>\n",
       "      <td>2</td>\n",
       "      <td>0.595456</td>\n",
       "      <td>0.445701</td>\n",
       "      <td>0.373090</td>\n",
       "      <td>456224</td>\n",
       "    </tr>\n",
       "    <tr>\n",
       "      <th>48743</th>\n",
       "      <td>38.252055</td>\n",
       "      <td>2</td>\n",
       "      <td>2</td>\n",
       "      <td>0.272134</td>\n",
       "      <td>0.456541</td>\n",
       "      <td>NaN</td>\n",
       "      <td>456250</td>\n",
       "    </tr>\n",
       "  </tbody>\n",
       "</table>\n",
       "<p>48744 rows × 7 columns</p>\n",
       "</div>"
      ],
      "text/plain": [
       "       DAYS_BIRTH  REGION_RATING_CLIENT_W_CITY  REGION_RATING_CLIENT  \\\n",
       "0       52.715068                            2                     2   \n",
       "1       49.490411                            2                     2   \n",
       "2       54.898630                            2                     2   \n",
       "3       38.290411                            2                     2   \n",
       "4       35.726027                            2                     2   \n",
       "...           ...                          ...                   ...   \n",
       "48739   54.712329                            3                     3   \n",
       "48740   30.646575                            2                     2   \n",
       "48741   43.621918                            2                     2   \n",
       "48742   38.268493                            2                     2   \n",
       "48743   38.252055                            2                     2   \n",
       "\n",
       "       EXT_SOURCE_3  EXT_SOURCE_2  EXT_SOURCE_1  SK_ID_CURR  \n",
       "0          0.159520      0.789654      0.752614      100001  \n",
       "1          0.432962      0.291656      0.564990      100005  \n",
       "2          0.610991      0.699787           NaN      100013  \n",
       "3          0.612704      0.509677      0.525734      100028  \n",
       "4               NaN      0.425687      0.202145      100038  \n",
       "...             ...           ...           ...         ...  \n",
       "48739      0.643026      0.648575           NaN      456221  \n",
       "48740           NaN      0.684596           NaN      456222  \n",
       "48741      0.283712      0.632770      0.733503      456223  \n",
       "48742      0.595456      0.445701      0.373090      456224  \n",
       "48743      0.272134      0.456541           NaN      456250  \n",
       "\n",
       "[48744 rows x 7 columns]"
      ]
     },
     "execution_count": 48,
     "metadata": {},
     "output_type": "execute_result"
    }
   ],
   "source": [
    "# データセットの作成\n",
    "\n",
    "x1 = pd.DataFrame(test, columns = ['DAYS_BIRTH'])\n",
    "x1_after = x1 / -365# 異常値の処理\n",
    "\n",
    "#SK_ID_CURRも一緒に入れておくと、後でデータ削除の際に、該当するSK_ID_CURRも消える\n",
    "x_test_submit = pd.DataFrame(test, columns=['REGION_RATING_CLIENT_W_CITY', \n",
    "                                'REGION_RATING_CLIENT', 'EXT_SOURCE_3', 'EXT_SOURCE_2', \n",
    "                                'EXT_SOURCE_1', 'SK_ID_CURR'])\n",
    "\n",
    "X_test_submit = pd.concat([x1_after, x_test_submit], axis=1)\n",
    "\n",
    "print('X_type:', type(X_test_submit))\n",
    "print('X_shape:', X_test_submit.shape)\n",
    "\n",
    "X_test_submit"
   ]
  },
  {
   "cell_type": "code",
   "execution_count": 49,
   "metadata": {
    "scrolled": false
   },
   "outputs": [
    {
     "data": {
      "text/plain": [
       "pandas.core.frame.DataFrame"
      ]
     },
     "execution_count": 49,
     "metadata": {},
     "output_type": "execute_result"
    }
   ],
   "source": [
    "#欠損値のある行を削除\n",
    "X_test_submit_non = X_test_submit.dropna()\n",
    "type(X_test_submit_non)"
   ]
  },
  {
   "cell_type": "code",
   "execution_count": 50,
   "metadata": {},
   "outputs": [
    {
     "data": {
      "text/plain": [
       "DAYS_BIRTH                     0\n",
       "REGION_RATING_CLIENT_W_CITY    0\n",
       "REGION_RATING_CLIENT           0\n",
       "EXT_SOURCE_3                   0\n",
       "EXT_SOURCE_2                   0\n",
       "EXT_SOURCE_1                   0\n",
       "SK_ID_CURR                     0\n",
       "dtype: int64"
      ]
     },
     "execution_count": 50,
     "metadata": {},
     "output_type": "execute_result"
    }
   ],
   "source": [
    "#欠損値削除後の確認\n",
    "X_test_submit_non.isnull().sum()"
   ]
  },
  {
   "cell_type": "code",
   "execution_count": 51,
   "metadata": {},
   "outputs": [
    {
     "data": {
      "text/html": [
       "<div>\n",
       "<style scoped>\n",
       "    .dataframe tbody tr th:only-of-type {\n",
       "        vertical-align: middle;\n",
       "    }\n",
       "\n",
       "    .dataframe tbody tr th {\n",
       "        vertical-align: top;\n",
       "    }\n",
       "\n",
       "    .dataframe thead th {\n",
       "        text-align: right;\n",
       "    }\n",
       "</style>\n",
       "<table border=\"1\" class=\"dataframe\">\n",
       "  <thead>\n",
       "    <tr style=\"text-align: right;\">\n",
       "      <th></th>\n",
       "      <th>DAYS_BIRTH</th>\n",
       "      <th>REGION_RATING_CLIENT_W_CITY</th>\n",
       "      <th>REGION_RATING_CLIENT</th>\n",
       "      <th>EXT_SOURCE_3</th>\n",
       "      <th>EXT_SOURCE_2</th>\n",
       "      <th>EXT_SOURCE_1</th>\n",
       "    </tr>\n",
       "  </thead>\n",
       "  <tbody>\n",
       "    <tr>\n",
       "      <th>0</th>\n",
       "      <td>52.715068</td>\n",
       "      <td>2</td>\n",
       "      <td>2</td>\n",
       "      <td>0.159520</td>\n",
       "      <td>0.789654</td>\n",
       "      <td>0.752614</td>\n",
       "    </tr>\n",
       "    <tr>\n",
       "      <th>1</th>\n",
       "      <td>49.490411</td>\n",
       "      <td>2</td>\n",
       "      <td>2</td>\n",
       "      <td>0.432962</td>\n",
       "      <td>0.291656</td>\n",
       "      <td>0.564990</td>\n",
       "    </tr>\n",
       "    <tr>\n",
       "      <th>3</th>\n",
       "      <td>38.290411</td>\n",
       "      <td>2</td>\n",
       "      <td>2</td>\n",
       "      <td>0.612704</td>\n",
       "      <td>0.509677</td>\n",
       "      <td>0.525734</td>\n",
       "    </tr>\n",
       "    <tr>\n",
       "      <th>6</th>\n",
       "      <td>45.712329</td>\n",
       "      <td>2</td>\n",
       "      <td>2</td>\n",
       "      <td>0.651260</td>\n",
       "      <td>0.571084</td>\n",
       "      <td>0.760851</td>\n",
       "    </tr>\n",
       "    <tr>\n",
       "      <th>7</th>\n",
       "      <td>26.071233</td>\n",
       "      <td>2</td>\n",
       "      <td>2</td>\n",
       "      <td>0.312365</td>\n",
       "      <td>0.613033</td>\n",
       "      <td>0.565290</td>\n",
       "    </tr>\n",
       "    <tr>\n",
       "      <th>...</th>\n",
       "      <td>...</td>\n",
       "      <td>...</td>\n",
       "      <td>...</td>\n",
       "      <td>...</td>\n",
       "      <td>...</td>\n",
       "      <td>...</td>\n",
       "    </tr>\n",
       "    <tr>\n",
       "      <th>48736</th>\n",
       "      <td>59.671233</td>\n",
       "      <td>2</td>\n",
       "      <td>2</td>\n",
       "      <td>0.631355</td>\n",
       "      <td>0.471719</td>\n",
       "      <td>0.851722</td>\n",
       "    </tr>\n",
       "    <tr>\n",
       "      <th>48737</th>\n",
       "      <td>53.142466</td>\n",
       "      <td>2</td>\n",
       "      <td>2</td>\n",
       "      <td>0.255332</td>\n",
       "      <td>0.689832</td>\n",
       "      <td>0.442558</td>\n",
       "    </tr>\n",
       "    <tr>\n",
       "      <th>48738</th>\n",
       "      <td>32.076712</td>\n",
       "      <td>2</td>\n",
       "      <td>2</td>\n",
       "      <td>0.240541</td>\n",
       "      <td>0.762352</td>\n",
       "      <td>0.174671</td>\n",
       "    </tr>\n",
       "    <tr>\n",
       "      <th>48741</th>\n",
       "      <td>43.621918</td>\n",
       "      <td>2</td>\n",
       "      <td>2</td>\n",
       "      <td>0.283712</td>\n",
       "      <td>0.632770</td>\n",
       "      <td>0.733503</td>\n",
       "    </tr>\n",
       "    <tr>\n",
       "      <th>48742</th>\n",
       "      <td>38.268493</td>\n",
       "      <td>2</td>\n",
       "      <td>2</td>\n",
       "      <td>0.595456</td>\n",
       "      <td>0.445701</td>\n",
       "      <td>0.373090</td>\n",
       "    </tr>\n",
       "  </tbody>\n",
       "</table>\n",
       "<p>23584 rows × 6 columns</p>\n",
       "</div>"
      ],
      "text/plain": [
       "       DAYS_BIRTH  REGION_RATING_CLIENT_W_CITY  REGION_RATING_CLIENT  \\\n",
       "0       52.715068                            2                     2   \n",
       "1       49.490411                            2                     2   \n",
       "3       38.290411                            2                     2   \n",
       "6       45.712329                            2                     2   \n",
       "7       26.071233                            2                     2   \n",
       "...           ...                          ...                   ...   \n",
       "48736   59.671233                            2                     2   \n",
       "48737   53.142466                            2                     2   \n",
       "48738   32.076712                            2                     2   \n",
       "48741   43.621918                            2                     2   \n",
       "48742   38.268493                            2                     2   \n",
       "\n",
       "       EXT_SOURCE_3  EXT_SOURCE_2  EXT_SOURCE_1  \n",
       "0          0.159520      0.789654      0.752614  \n",
       "1          0.432962      0.291656      0.564990  \n",
       "3          0.612704      0.509677      0.525734  \n",
       "6          0.651260      0.571084      0.760851  \n",
       "7          0.312365      0.613033      0.565290  \n",
       "...             ...           ...           ...  \n",
       "48736      0.631355      0.471719      0.851722  \n",
       "48737      0.255332      0.689832      0.442558  \n",
       "48738      0.240541      0.762352      0.174671  \n",
       "48741      0.283712      0.632770      0.733503  \n",
       "48742      0.595456      0.445701      0.373090  \n",
       "\n",
       "[23584 rows x 6 columns]"
      ]
     },
     "execution_count": 51,
     "metadata": {},
     "output_type": "execute_result"
    }
   ],
   "source": [
    "# 検証データで推定する時にSK_ID_CURRが邪魔になるので、切り落とす\n",
    "X_test_submit_non_1 =X_test_submit_non.drop(columns='SK_ID_CURR')\n",
    "X_test_submit_non_1"
   ]
  },
  {
   "cell_type": "code",
   "execution_count": 52,
   "metadata": {},
   "outputs": [
    {
     "name": "stdout",
     "output_type": "stream",
     "text": [
      "(23584, 2)\n"
     ]
    },
    {
     "data": {
      "text/plain": [
       "array([[0.91, 0.09],\n",
       "       [0.84, 0.16],\n",
       "       [0.88, 0.12],\n",
       "       ...,\n",
       "       [0.96, 0.04],\n",
       "       [0.93, 0.07],\n",
       "       [0.88, 0.12]])"
      ]
     },
     "execution_count": 52,
     "metadata": {},
     "output_type": "execute_result"
    }
   ],
   "source": [
    "# 検証データで推定\n",
    "y_pred_rf_submit = rf.predict_proba(X_test_submit_non_1)# probaで各確率を返す\n",
    "print(y_pred_rf_submit.shape)\n",
    "y_pred_rf_submit# ［0である確率, 1である確率］"
   ]
  },
  {
   "cell_type": "code",
   "execution_count": 53,
   "metadata": {},
   "outputs": [
    {
     "data": {
      "text/html": [
       "<div>\n",
       "<style scoped>\n",
       "    .dataframe tbody tr th:only-of-type {\n",
       "        vertical-align: middle;\n",
       "    }\n",
       "\n",
       "    .dataframe tbody tr th {\n",
       "        vertical-align: top;\n",
       "    }\n",
       "\n",
       "    .dataframe thead th {\n",
       "        text-align: right;\n",
       "    }\n",
       "</style>\n",
       "<table border=\"1\" class=\"dataframe\">\n",
       "  <thead>\n",
       "    <tr style=\"text-align: right;\">\n",
       "      <th></th>\n",
       "      <th>SK_ID_CURR</th>\n",
       "      <th>TARGET</th>\n",
       "    </tr>\n",
       "  </thead>\n",
       "  <tbody>\n",
       "    <tr>\n",
       "      <th>0</th>\n",
       "      <td>100001</td>\n",
       "      <td>0.09</td>\n",
       "    </tr>\n",
       "    <tr>\n",
       "      <th>1</th>\n",
       "      <td>100005</td>\n",
       "      <td>0.16</td>\n",
       "    </tr>\n",
       "    <tr>\n",
       "      <th>3</th>\n",
       "      <td>100028</td>\n",
       "      <td>0.12</td>\n",
       "    </tr>\n",
       "    <tr>\n",
       "      <th>6</th>\n",
       "      <td>100057</td>\n",
       "      <td>0.11</td>\n",
       "    </tr>\n",
       "    <tr>\n",
       "      <th>7</th>\n",
       "      <td>100065</td>\n",
       "      <td>0.07</td>\n",
       "    </tr>\n",
       "  </tbody>\n",
       "</table>\n",
       "</div>"
      ],
      "text/plain": [
       "   SK_ID_CURR  TARGET\n",
       "0      100001    0.09\n",
       "1      100005    0.16\n",
       "3      100028    0.12\n",
       "6      100057    0.11\n",
       "7      100065    0.07"
      ]
     },
     "execution_count": 53,
     "metadata": {},
     "output_type": "execute_result"
    }
   ],
   "source": [
    "# Submission dataframe\n",
    "submit_true = pd.DataFrame(X_test_submit_non['SK_ID_CURR'])\n",
    "\n",
    "submit_true['TARGET'] = y_pred_rf_submit[:, 1]# TARGET1である確率\n",
    "\n",
    "submit_true.head()"
   ]
  },
  {
   "cell_type": "code",
   "execution_count": 54,
   "metadata": {},
   "outputs": [],
   "source": [
    "# Save the submission dataframe\n",
    "submit_true.to_csv('submission.csv', index = False)"
   ]
  },
  {
   "cell_type": "code",
   "execution_count": null,
   "metadata": {},
   "outputs": [],
   "source": []
  }
 ],
 "metadata": {
  "kernelspec": {
   "display_name": "Python 3",
   "language": "python",
   "name": "python3"
  },
  "language_info": {
   "codemirror_mode": {
    "name": "ipython",
    "version": 3
   },
   "file_extension": ".py",
   "mimetype": "text/x-python",
   "name": "python",
   "nbconvert_exporter": "python",
   "pygments_lexer": "ipython3",
   "version": "3.7.2"
  }
 },
 "nbformat": 4,
 "nbformat_minor": 4
}
