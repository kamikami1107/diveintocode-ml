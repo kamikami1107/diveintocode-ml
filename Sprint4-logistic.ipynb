{
 "cells": [
  {
   "cell_type": "markdown",
   "metadata": {},
   "source": [
    "# ロジスティック回帰スクラッチ"
   ]
  },
  {
   "cell_type": "code",
   "execution_count": 1,
   "metadata": {
    "ExecuteTime": {
     "end_time": "2021-01-21T12:44:18.650326Z",
     "start_time": "2021-01-21T12:44:17.583600Z"
    }
   },
   "outputs": [],
   "source": [
    "import numpy as np\n",
    "import pandas as pd\n",
    "import seaborn as sns\n",
    "import matplotlib.pyplot as plt\n",
    "%matplotlib inline"
   ]
  },
  {
   "cell_type": "markdown",
   "metadata": {},
   "source": [
    "## 【問題1】仮定関数\n",
    "\n",
    "ロジスティック回帰の仮定関数のメソッドをScratchLogisticRegressionクラスに実装してください。\n",
    "\n",
    "\n",
    "ロジスティック回帰の仮定関数は、線形回帰の仮定関数を**シグモイド関数**に通したものです。シグモイド関数は以下の式で表されます。\n",
    "\n",
    "$$\n",
    "g(z) = \\frac{1}{1+e^{−z}}.\n",
    "$$\n",
    "\n",
    "線形回帰の仮定関数は次の式でした。\n",
    "\n",
    "$$\n",
    "h_\\theta(x) = \\theta^T \\cdot x.\n",
    "$$\n",
    "\n",
    "まとめて書くと、ロジスティック回帰の仮定関数は次のようになります。\n",
    "\n",
    "$$\n",
    "h_\\theta(x) = \\frac{1}{1+e^{−\\theta^T \\cdot x}}.\n",
    "$$"
   ]
  },
  {
   "cell_type": "markdown",
   "metadata": {},
   "source": [
    "## 【問題2】最急降下法\n",
    "\n",
    "最急降下法により学習させる実装を行なってください。以下の式で表されるパラメータの更新式のメソッド_gradient_descentを追加し、fitメソッドから呼び出すようにしてください。\n",
    "\n",
    "$$\n",
    "\\theta_j := \\theta_j - \\alpha \\frac{\\partial J(\\theta)}{\\partial \\theta_j}\\\\ \\frac{\\partial J(\\theta)}{\\partial \\theta_0} = \\frac{1}{m}  \\sum_{i=1}^{m}(h_θ(x^{(i)}) − y^{(i)})x_j^{(i)}  ,j = 0\\\\ \\frac{\\partial J(\\theta)}{\\partial \\theta_j} = \\biggl(\\frac{1}{m}  \\sum_{i=1}^{m}(h_θ(x^{(i)}) − y^{(i)})x_j^{(i)} \\biggr) + \\frac{λ}{m}\\theta_j　 ,j\\geq 1\n",
    "$$\n",
    "\n",
    "\n",
    "$\\alpha$ : 学習率\n",
    "\n",
    "\n",
    "$i$ : サンプルのインデックス\n",
    "\n",
    "\n",
    "$j$ : 特徴量のインデックス\n",
    "\n",
    "\n",
    "$m$ : 入力されるデータの数\n",
    "\n",
    "\n",
    "$h_\\theta()$ : 仮定関数\n",
    "\n",
    "\n",
    "$x$ : 特徴量ベクトル\n",
    "\n",
    "\n",
    "$\\theta$ : パラメータ（重み）ベクトル\n",
    "\n",
    "\n",
    "$x^{(i)}$ : i番目のサンプルの特徴量ベクトル\n",
    "\n",
    "\n",
    "$y^{(i)}$ : i番目のサンプルの正解ラベル\n",
    "\n",
    "\n",
    "$\\theta_j$ : j番目のパラメータ（重み）\n",
    "\n",
    "\n",
    "$λ$ : 正則化パラメータ"
   ]
  },
  {
   "cell_type": "markdown",
   "metadata": {},
   "source": [
    "## 【問題3】推定\n",
    "\n",
    "推定する仕組みを実装してください。ScratchLogisticRegressionクラスの雛形に含まれるpredictメソッドとpredict_probaメソッドに書き加えてください。\n",
    "\n",
    "\n",
    "仮定関数 $h_\\theta(x)$ の出力がpredict_probaの返り値、さらにその値に閾値を設けて1と0のラベルとしたものがpredictの返り値となります。"
   ]
  },
  {
   "cell_type": "markdown",
   "metadata": {},
   "source": [
    "## 【問題4】目的関数\n",
    "\n",
    "以下の数式で表されるロジスティック回帰の 目的関数（損失関数） を実装してください。そして、これをself.loss, self.val_lossに記録するようにしてください。\n",
    "\n",
    "\n",
    "なお、この数式には正則化項が含まれています。\n",
    "\n",
    "\n",
    "＊数式が見切れる場合、DIVERを全画面にして御覧ください。\n",
    "\n",
    "$$\n",
    "J(\\theta)=  \\frac{1}{m}  \\sum_{i=1}^{m}[−y^{(i)} log(h_θ(x^{(i)})) − (1−y^{(i)}) log(1−h_θ(x^{(i)}))] +\n",
    "\\frac{λ}{2m}\\sum_{j=1}^n\n",
    "θ^2_j.\\\\\n",
    "$$\n",
    "\n",
    "$m$ : 入力されるデータの数\n",
    "\n",
    "\n",
    "$h_\\theta()$ : 仮定関数\n",
    "\n",
    "\n",
    "$x$ : 特徴量ベクトル\n",
    "\n",
    "\n",
    "$\\theta$ : パラメータ（重み）ベクトル\n",
    "\n",
    "\n",
    "$x^{(i)}$ : i番目のサンプルの特徴量ベクトル\n",
    "\n",
    "\n",
    "$y^{(i)}$ : i番目のサンプルの正解ラベル\n",
    "\n",
    "\n",
    "$\\theta_j$ : j番目のパラメータ（重み）\n",
    "\n",
    "\n",
    "$n$ : 特徴量の数\n",
    "\n",
    "\n",
    "$λ$ : 正則化パラメータ"
   ]
  },
  {
   "cell_type": "markdown",
   "metadata": {},
   "source": [
    "**問１〜問４までをまとめて実装**"
   ]
  },
  {
   "cell_type": "code",
   "execution_count": 2,
   "metadata": {
    "ExecuteTime": {
     "end_time": "2021-01-21T13:09:01.101159Z",
     "start_time": "2021-01-21T13:09:01.086052Z"
    }
   },
   "outputs": [],
   "source": [
    "class ScratchLogisticRegression():\n",
    "    def __init__(self, num_iter = 3000, lr = 0.1, lamb = 0.001, bias = True, verbose = False, save = True):\n",
    "        # ハイパーパラメータを属性として記録\n",
    "        self.num_iter = num_iter\n",
    "        self.lr = lr\n",
    "        self.lamb = lamb\n",
    "        self.bias = bias\n",
    "        self.verbose = verbose\n",
    "        self.save = save\n",
    "        # 損失を記録する配列を用意\n",
    "        self.loss = np.zeros(self.num_iter)\n",
    "        self.val_loss = np.zeros(self.num_iter)\n",
    "        self.coef_ = None\n",
    "\n",
    "    # 問題1\n",
    "    def _logistic_hypothesis(self, X):\n",
    "        hypothesis = np.matmul(X, self.coef_.T)\n",
    "        return self._sigmoid(hypothesis)\n",
    "\n",
    "    def _sigmoid(self, X):\n",
    "        return 1/ (1 + np.exp(-X))\n",
    "    \n",
    "    # 問題2\n",
    "    def fit(self, X, y, X_val=None, y_val=None):\n",
    "        if self.bias: # biasの有無で分岐させる\n",
    "            X = np.hstack([np.ones([X.shape[0], 1]), X])\n",
    "            self.coef_ = np.random.rand(len(X[0]))\n",
    "        else:\n",
    "            self.coef_ = np.random.rand(len(X[0]))\n",
    "\n",
    "        # 検証データが入力された（array属性を有する）場合とそれ以外で分岐させる\n",
    "        if hasattr(X_val, \"__array__\") and hasattr(y_val, \"__array__\"):\n",
    "            for i in range(self.num_iter):\n",
    "                hx = self._logistic_hypothesis(X)\n",
    "                self.coef_ = self._gradient_descent(X, y, hx)\n",
    "                self.loss[i] = self._loss_function(hx, y)\n",
    "                y_pred = self.predict_proba(X_val) # 検証データに対する学習を追加する\n",
    "                self.val_loss[i] = self._loss_function(y_pred, y_val)\n",
    "        \n",
    "        else:\n",
    "            for i in range(self.num_iter):\n",
    "                hx = self._logistic_hypothesis(X)               \n",
    "                self.coef_ = self._gradient_descent(X, y, hx)\n",
    "                self.loss[i] = self._loss_function(hx, y)\n",
    "\n",
    "        if self.verbose: # verboseをTrueにした際は学習過程を出力\n",
    "            print(\"loss：{}\".format(self.loss))\n",
    "            print(\"val_loss：{}\".format(self.val_loss))\n",
    "\n",
    "        # 問題8\n",
    "        if self.save:\n",
    "            np.savez(\"coef_.npz\", self.coef_)\n",
    "        \n",
    "    # 問題2\n",
    "    def _gradient_descent(self, X, y, hx):\n",
    "        if self.bias: # biasの有無で分岐させる\n",
    "            coef_adj = self.coef_ * np.hstack([np.zeros([1,]), np.ones([len(self.coef_) -1,])])\n",
    "            self.coef_ -= self.lr * np.matmul((hx - y), X) / X.shape[0] + self.lamb * coef_adj / X.shape[0]\n",
    "        else:\n",
    "            self.coef_ -= self.lr * np.matmul((hx - y), X) / X.shape[0] + self.lamb * self.coef_ / X.shape[0]\n",
    "     \n",
    "        return self.coef_\n",
    "\n",
    "    # 問題3\n",
    "    def predict(self, X):\n",
    "        if self.bias: # biasの有無で分岐させる\n",
    "            X = np.hstack([np.ones([X.shape[0], 1]), X]) \n",
    "        else:\n",
    "            pass\n",
    "\n",
    "        predict = self._logistic_hypothesis(X)\n",
    "        return np.where(predict >= 0.5, 1, 0)\n",
    "    \n",
    "    def predict_proba(self, X):\n",
    "        if self.bias: # biasの有無で分岐させる\n",
    "            X = np.hstack([np.ones([X.shape[0], 1]), X]) \n",
    "        else:\n",
    "            pass\n",
    "\n",
    "        predict_proba = self._logistic_hypothesis(X)\n",
    "        return predict_proba\n",
    "\n",
    "    # 問題4\n",
    "    def _loss_function(self, hx, y):\n",
    "        cross_entropy = np.sum((- y * np.log(hx)) - (1 - hx) * np.log(1 - hx)) / X.shape[0]\n",
    "\n",
    "        if self.bias: # biasの有無で分岐させる\n",
    "            weight_decay = self.lamb * np.sum(self.coef_[1:] ** 2) / (2 * X.shape[0] )\n",
    "        else:\n",
    "            weight_decay = self.lamb * np.sum(self.coef_ ** 2) / (2 * X.shape[0])\n",
    "\n",
    "        loss = cross_entropy + weight_decay\n",
    "        return loss\n",
    "\n",
    "    # 問題6\n",
    "    def learning_curve(self):\n",
    "        plt.figure(figsize=(10, 7))\n",
    "        plt.plot(np.arange(len(self.loss)) , self.loss, linewidth = 5.0, label = \"train_loss\")\n",
    "        plt.plot(np.arange(len(self.val_loss)) , self.val_loss, linewidth = 5.0, label = \"test_loss\")\n",
    "        plt.title(\"model loss\")\n",
    "        plt.xlabel(\"iter\")\n",
    "        plt.ylabel(\"loss\")\n",
    "        plt.legend()"
   ]
  },
  {
   "cell_type": "markdown",
   "metadata": {},
   "source": [
    "## 【問題5】学習と推定\n",
    "\n",
    "機械学習スクラッチ入門のSprintで用意したirisデータセットのvirgicolorとvirginicaの2値分類に対してスクラッチ実装の学習と推定を行なってください。\n",
    "\n",
    "\n",
    "scikit-learnによる実装と比べ、正しく動いているかを確認してください。\n",
    "\n",
    "\n",
    "AccuracyやPrecision、Recallなどの指標値はscikit-learnを使用してください。"
   ]
  },
  {
   "cell_type": "code",
   "execution_count": 3,
   "metadata": {
    "ExecuteTime": {
     "end_time": "2021-01-21T13:09:21.485464Z",
     "start_time": "2021-01-21T13:09:20.907053Z"
    }
   },
   "outputs": [
    {
     "data": {
      "text/html": [
       "<div>\n",
       "<style scoped>\n",
       "    .dataframe tbody tr th:only-of-type {\n",
       "        vertical-align: middle;\n",
       "    }\n",
       "\n",
       "    .dataframe tbody tr th {\n",
       "        vertical-align: top;\n",
       "    }\n",
       "\n",
       "    .dataframe thead th {\n",
       "        text-align: right;\n",
       "    }\n",
       "</style>\n",
       "<table border=\"1\" class=\"dataframe\">\n",
       "  <thead>\n",
       "    <tr style=\"text-align: right;\">\n",
       "      <th></th>\n",
       "      <th>sepal_length</th>\n",
       "      <th>petal_length</th>\n",
       "      <th>Species</th>\n",
       "    </tr>\n",
       "  </thead>\n",
       "  <tbody>\n",
       "    <tr>\n",
       "      <th>50</th>\n",
       "      <td>7.0</td>\n",
       "      <td>4.7</td>\n",
       "      <td>0</td>\n",
       "    </tr>\n",
       "    <tr>\n",
       "      <th>51</th>\n",
       "      <td>6.4</td>\n",
       "      <td>4.5</td>\n",
       "      <td>0</td>\n",
       "    </tr>\n",
       "    <tr>\n",
       "      <th>52</th>\n",
       "      <td>6.9</td>\n",
       "      <td>4.9</td>\n",
       "      <td>0</td>\n",
       "    </tr>\n",
       "    <tr>\n",
       "      <th>53</th>\n",
       "      <td>5.5</td>\n",
       "      <td>4.0</td>\n",
       "      <td>0</td>\n",
       "    </tr>\n",
       "    <tr>\n",
       "      <th>54</th>\n",
       "      <td>6.5</td>\n",
       "      <td>4.6</td>\n",
       "      <td>0</td>\n",
       "    </tr>\n",
       "    <tr>\n",
       "      <th>...</th>\n",
       "      <td>...</td>\n",
       "      <td>...</td>\n",
       "      <td>...</td>\n",
       "    </tr>\n",
       "    <tr>\n",
       "      <th>145</th>\n",
       "      <td>6.7</td>\n",
       "      <td>5.2</td>\n",
       "      <td>1</td>\n",
       "    </tr>\n",
       "    <tr>\n",
       "      <th>146</th>\n",
       "      <td>6.3</td>\n",
       "      <td>5.0</td>\n",
       "      <td>1</td>\n",
       "    </tr>\n",
       "    <tr>\n",
       "      <th>147</th>\n",
       "      <td>6.5</td>\n",
       "      <td>5.2</td>\n",
       "      <td>1</td>\n",
       "    </tr>\n",
       "    <tr>\n",
       "      <th>148</th>\n",
       "      <td>6.2</td>\n",
       "      <td>5.4</td>\n",
       "      <td>1</td>\n",
       "    </tr>\n",
       "    <tr>\n",
       "      <th>149</th>\n",
       "      <td>5.9</td>\n",
       "      <td>5.1</td>\n",
       "      <td>1</td>\n",
       "    </tr>\n",
       "  </tbody>\n",
       "</table>\n",
       "<p>100 rows × 3 columns</p>\n",
       "</div>"
      ],
      "text/plain": [
       "     sepal_length  petal_length  Species\n",
       "50            7.0           4.7        0\n",
       "51            6.4           4.5        0\n",
       "52            6.9           4.9        0\n",
       "53            5.5           4.0        0\n",
       "54            6.5           4.6        0\n",
       "..            ...           ...      ...\n",
       "145           6.7           5.2        1\n",
       "146           6.3           5.0        1\n",
       "147           6.5           5.2        1\n",
       "148           6.2           5.4        1\n",
       "149           5.9           5.1        1\n",
       "\n",
       "[100 rows x 3 columns]"
      ]
     },
     "execution_count": 3,
     "metadata": {},
     "output_type": "execute_result"
    }
   ],
   "source": [
    "# irisデータセットを取得する\n",
    "from sklearn.datasets import load_iris\n",
    "iris = load_iris()\n",
    "\n",
    "#データフレームに変換（列名を指定）し、データを結合する\n",
    "iris_data = pd.DataFrame(iris.data, columns=[\"sepal_length\", \"sepal_width\", \"petal_length\", \"petal_width\"])\n",
    "iris_target = pd.DataFrame(iris.target, columns=[\"Species\"])\n",
    "iris_all = pd.concat([iris_data, iris_target], axis=1)\n",
    "\n",
    "# 「sepal_length」列、「petal_length」列、及び\n",
    "# 「Species」列が「versicolor=1」か「virginica=2」である行を抽出する\n",
    "iris_all = iris_all[[\"sepal_length\",\"petal_length\",\"Species\"]][iris_all[\"Species\"].isin([1,2])]\n",
    "\n",
    "# 比較の便宜のため「versicolor=1⇨0」か「virginica=2⇨1」に値を変更する\n",
    "iris_all2 = iris_all.replace({\"Species\": {1: 0, 2: 1}})\n",
    "\n",
    "iris_all2"
   ]
  },
  {
   "cell_type": "code",
   "execution_count": 4,
   "metadata": {
    "ExecuteTime": {
     "end_time": "2021-01-21T13:09:49.021255Z",
     "start_time": "2021-01-21T13:09:48.984478Z"
    }
   },
   "outputs": [],
   "source": [
    "# 目的変数と説明変数を切り離して、それぞれ配列に変換する\n",
    "X = iris_all2.iloc[:,:-1].values\n",
    "y = iris_all2.iloc[:,-1].values\n",
    "\n",
    "# 訓練データと検証データに分割する（訓練データ75%、検証データ25%）\n",
    "from sklearn.model_selection import train_test_split\n",
    "\n",
    "X_train, X_test, y_train, y_test = train_test_split(X, y, train_size = 0.75)\n",
    "\n",
    "# 標準化を行う（訓練用のデータでfitを行い、訓練用、検証用双方のデータにtransformを行う）\n",
    "from sklearn.preprocessing import StandardScaler\n",
    "\n",
    "sc = StandardScaler()\n",
    "X_train_std = sc.fit_transform(X_train)\n",
    "X_test_std = sc.transform(X_test)"
   ]
  },
  {
   "cell_type": "code",
   "execution_count": 5,
   "metadata": {
    "ExecuteTime": {
     "end_time": "2021-01-21T13:10:00.138289Z",
     "start_time": "2021-01-21T13:09:59.908607Z"
    }
   },
   "outputs": [
    {
     "name": "stdout",
     "output_type": "stream",
     "text": [
      "仮定関数hθ(x)の出力\n",
      "[9.99705981e-01 4.72123674e-01 9.99772026e-01 9.99997777e-01\n",
      " 6.47536449e-05 7.85506399e-02 1.45618591e-01 3.22188690e-04\n",
      " 3.96192092e-05 9.99855494e-01 9.99721143e-01 9.31290746e-01\n",
      " 2.50823868e-01 3.82122970e-02 3.88664220e-02 9.99982233e-01\n",
      " 9.77536688e-01 1.16720010e-01 9.71214486e-01 9.77536688e-01\n",
      " 4.94663603e-03 6.26018972e-03 9.99999827e-01 9.45892953e-01\n",
      " 5.12349754e-03]\n",
      "予測値\n",
      "[1 0 1 1 0 0 0 0 0 1 1 1 0 0 0 1 1 0 1 1 0 0 1 1 0]\n",
      "正解値\n",
      "[1 1 1 1 0 0 0 0 0 1 1 1 0 0 0 1 1 0 1 1 0 0 1 0 0]\n"
     ]
    }
   ],
   "source": [
    "# インスタンスを生成し、学習する\n",
    "lr_scratch = ScratchLogisticRegression()\n",
    "lr_scratch.fit(X_train_std, y_train, X_test_std, y_test)\n",
    "\n",
    "# 推定し、結果を表示する\n",
    "y_pred_lr = lr_scratch.predict(X_test_std)\n",
    "y_pred_lr2 = lr_scratch.predict_proba(X_test_std)\n",
    "\n",
    "print(\"仮定関数hθ(x)の出力\")\n",
    "print(y_pred_lr2)\n",
    "print(\"予測値\")\n",
    "print(y_pred_lr)\n",
    "print(\"正解値\")\n",
    "print(y_test)"
   ]
  },
  {
   "cell_type": "code",
   "execution_count": 6,
   "metadata": {
    "ExecuteTime": {
     "end_time": "2021-01-21T13:10:40.378601Z",
     "start_time": "2021-01-21T13:10:40.151106Z"
    }
   },
   "outputs": [
    {
     "name": "stdout",
     "output_type": "stream",
     "text": [
      "loss：[0.38174468 0.37968747 0.3776183  ... 0.10823776 0.10822865 0.10821954]\n",
      "val_loss：[0.11310326 0.11200898 0.1109595  ... 0.02506425 0.02506122 0.0250582 ]\n"
     ]
    }
   ],
   "source": [
    "# 目的関数の推移を表示する（verbose =True）\n",
    "lr_scratch2 = ScratchLogisticRegression(verbose =True)\n",
    "lr_scratch2.fit(X_train_std, y_train, X_test_std, y_test)"
   ]
  },
  {
   "cell_type": "code",
   "execution_count": 7,
   "metadata": {
    "ExecuteTime": {
     "end_time": "2021-01-21T13:29:19.504593Z",
     "start_time": "2021-01-21T13:29:19.496093Z"
    }
   },
   "outputs": [],
   "source": [
    "# 評価（各指標値を確認）する\n",
    "from sklearn.metrics import accuracy_score\n",
    "from sklearn.metrics import precision_score\n",
    "from sklearn.metrics import recall_score\n",
    "from sklearn.metrics import f1_score\n",
    "from sklearn.metrics import confusion_matrix\n",
    "\n",
    "# 各指標値を表にまとめる\n",
    "pred_df = pd.DataFrame({'ScratchLogisticRegression' : [accuracy_score(y_test, y_pred_lr), \n",
    "                                                    precision_score(y_test, y_pred_lr), \n",
    "                                                    recall_score(y_test, y_pred_lr), \n",
    "                                                    f1_score(y_test, y_pred_lr), \n",
    "                                                    confusion_matrix(y_test, y_pred_lr)]}, \n",
    "                                               index=[\"accuracy\", \"precision\", \"recall\", \"f1\", \"confusion_matrix\"])"
   ]
  },
  {
   "cell_type": "code",
   "execution_count": 8,
   "metadata": {
    "ExecuteTime": {
     "end_time": "2021-01-21T13:29:28.869271Z",
     "start_time": "2021-01-21T13:29:28.862712Z"
    }
   },
   "outputs": [
    {
     "data": {
      "text/html": [
       "<div>\n",
       "<style scoped>\n",
       "    .dataframe tbody tr th:only-of-type {\n",
       "        vertical-align: middle;\n",
       "    }\n",
       "\n",
       "    .dataframe tbody tr th {\n",
       "        vertical-align: top;\n",
       "    }\n",
       "\n",
       "    .dataframe thead th {\n",
       "        text-align: right;\n",
       "    }\n",
       "</style>\n",
       "<table border=\"1\" class=\"dataframe\">\n",
       "  <thead>\n",
       "    <tr style=\"text-align: right;\">\n",
       "      <th></th>\n",
       "      <th>ScratchLogisticRegression</th>\n",
       "    </tr>\n",
       "  </thead>\n",
       "  <tbody>\n",
       "    <tr>\n",
       "      <th>accuracy</th>\n",
       "      <td>0.92</td>\n",
       "    </tr>\n",
       "    <tr>\n",
       "      <th>precision</th>\n",
       "      <td>0.916667</td>\n",
       "    </tr>\n",
       "    <tr>\n",
       "      <th>recall</th>\n",
       "      <td>0.916667</td>\n",
       "    </tr>\n",
       "    <tr>\n",
       "      <th>f1</th>\n",
       "      <td>0.916667</td>\n",
       "    </tr>\n",
       "    <tr>\n",
       "      <th>confusion_matrix</th>\n",
       "      <td>[[12, 1], [1, 11]]</td>\n",
       "    </tr>\n",
       "  </tbody>\n",
       "</table>\n",
       "</div>"
      ],
      "text/plain": [
       "                 ScratchLogisticRegression\n",
       "accuracy                              0.92\n",
       "precision                         0.916667\n",
       "recall                            0.916667\n",
       "f1                                0.916667\n",
       "confusion_matrix        [[12, 1], [1, 11]]"
      ]
     },
     "execution_count": 8,
     "metadata": {},
     "output_type": "execute_result"
    }
   ],
   "source": [
    "pred_df"
   ]
  },
  {
   "cell_type": "markdown",
   "metadata": {},
   "source": [
    "### scikit-learnによる実装の場合"
   ]
  },
  {
   "cell_type": "code",
   "execution_count": 9,
   "metadata": {
    "ExecuteTime": {
     "end_time": "2021-01-21T13:31:24.680842Z",
     "start_time": "2021-01-21T13:31:24.621990Z"
    }
   },
   "outputs": [
    {
     "name": "stdout",
     "output_type": "stream",
     "text": [
      "予測値\n",
      "[1 0 1 1 0 0 0 0 0 1 1 1 0 0 0 1 1 0 1 1 0 0 1 1 0]\n",
      "正解値\n",
      "[1 1 1 1 0 0 0 0 0 1 1 1 0 0 0 1 1 0 1 1 0 0 1 0 0]\n"
     ]
    }
   ],
   "source": [
    "#　ロジスティック回帰クラスを読み込む\n",
    "from sklearn.linear_model import LogisticRegression\n",
    "\n",
    "# インスタンスを生成し、学習する\n",
    "lr_sklearn = LogisticRegression()\n",
    "lr_sklearn.fit(X_train_std, y_train)\n",
    "\n",
    "# 推定し、結果を表示する\n",
    "y_pred_lr_sklearn = lr_sklearn.predict(X_test_std)\n",
    "\n",
    "print(\"予測値\")\n",
    "print(y_pred_lr_sklearn)\n",
    "print(\"正解値\")\n",
    "print(y_test)"
   ]
  },
  {
   "cell_type": "code",
   "execution_count": 11,
   "metadata": {
    "ExecuteTime": {
     "end_time": "2021-01-21T13:34:51.750355Z",
     "start_time": "2021-01-21T13:34:51.742948Z"
    }
   },
   "outputs": [],
   "source": [
    "# 各指標値を表にまとめる\n",
    "pred_df = pred_df.assign(sklearn_Logistic = [accuracy_score(y_test, y_pred_lr_sklearn), \n",
    "                                                   precision_score(y_test, y_pred_lr_sklearn), \n",
    "                                                   recall_score(y_test, y_pred_lr_sklearn), \n",
    "                                                   f1_score(y_test, y_pred_lr_sklearn), \n",
    "                                                   confusion_matrix(y_test, y_pred_lr_sklearn)])"
   ]
  },
  {
   "cell_type": "code",
   "execution_count": 12,
   "metadata": {
    "ExecuteTime": {
     "end_time": "2021-01-21T13:35:02.721229Z",
     "start_time": "2021-01-21T13:35:02.712757Z"
    }
   },
   "outputs": [
    {
     "data": {
      "text/html": [
       "<div>\n",
       "<style scoped>\n",
       "    .dataframe tbody tr th:only-of-type {\n",
       "        vertical-align: middle;\n",
       "    }\n",
       "\n",
       "    .dataframe tbody tr th {\n",
       "        vertical-align: top;\n",
       "    }\n",
       "\n",
       "    .dataframe thead th {\n",
       "        text-align: right;\n",
       "    }\n",
       "</style>\n",
       "<table border=\"1\" class=\"dataframe\">\n",
       "  <thead>\n",
       "    <tr style=\"text-align: right;\">\n",
       "      <th></th>\n",
       "      <th>ScratchLogisticRegression</th>\n",
       "      <th>sklearn_Logistic</th>\n",
       "    </tr>\n",
       "  </thead>\n",
       "  <tbody>\n",
       "    <tr>\n",
       "      <th>accuracy</th>\n",
       "      <td>0.92</td>\n",
       "      <td>0.92</td>\n",
       "    </tr>\n",
       "    <tr>\n",
       "      <th>precision</th>\n",
       "      <td>0.916667</td>\n",
       "      <td>0.916667</td>\n",
       "    </tr>\n",
       "    <tr>\n",
       "      <th>recall</th>\n",
       "      <td>0.916667</td>\n",
       "      <td>0.916667</td>\n",
       "    </tr>\n",
       "    <tr>\n",
       "      <th>f1</th>\n",
       "      <td>0.916667</td>\n",
       "      <td>0.916667</td>\n",
       "    </tr>\n",
       "    <tr>\n",
       "      <th>confusion_matrix</th>\n",
       "      <td>[[12, 1], [1, 11]]</td>\n",
       "      <td>[[12, 1], [1, 11]]</td>\n",
       "    </tr>\n",
       "  </tbody>\n",
       "</table>\n",
       "</div>"
      ],
      "text/plain": [
       "                 ScratchLogisticRegression    sklearn_Logistic\n",
       "accuracy                              0.92                0.92\n",
       "precision                         0.916667            0.916667\n",
       "recall                            0.916667            0.916667\n",
       "f1                                0.916667            0.916667\n",
       "confusion_matrix        [[12, 1], [1, 11]]  [[12, 1], [1, 11]]"
      ]
     },
     "execution_count": 12,
     "metadata": {},
     "output_type": "execute_result"
    }
   ],
   "source": [
    "pred_df"
   ]
  },
  {
   "cell_type": "markdown",
   "metadata": {},
   "source": [
    "**スクラッチもAPIも結果は同じなので問題無さそう。**"
   ]
  },
  {
   "cell_type": "markdown",
   "metadata": {},
   "source": [
    "## 【問題6】学習曲線のプロット\n",
    "\n",
    "学習曲線を見て損失が適切に下がっているかどうか確認してください。"
   ]
  },
  {
   "cell_type": "code",
   "execution_count": 13,
   "metadata": {
    "ExecuteTime": {
     "end_time": "2021-01-21T13:37:00.291980Z",
     "start_time": "2021-01-21T13:37:00.108609Z"
    }
   },
   "outputs": [
    {
     "data": {
      "image/png": "[encoded data removed]",
      "text/plain": [
       "<Figure size 720x504 with 1 Axes>"
      ]
     },
     "metadata": {},
     "output_type": "display_data"
    }
   ],
   "source": [
    "sns.set()\n",
    "lr_scratch.learning_curve()"
   ]
  },
  {
   "cell_type": "markdown",
   "metadata": {},
   "source": [
    "## 【問題7】決定領域の可視化\n",
    "決定領域を可視化してください。"
   ]
  },
  {
   "cell_type": "code",
   "execution_count": 14,
   "metadata": {
    "ExecuteTime": {
     "end_time": "2021-01-21T13:37:30.762022Z",
     "start_time": "2021-01-21T13:37:30.753736Z"
    }
   },
   "outputs": [],
   "source": [
    "from matplotlib.colors import ListedColormap\n",
    "import matplotlib.patches as mpatches\n",
    "\n",
    "def decision_region(X, y, model, step=0.01, title='decision region', xlabel='xlabel', ylabel='ylabel', target_names=['versicolor', 'virginica']):\n",
    "    scatter_color = ['red', 'blue']\n",
    "    contourf_color = ['pink', 'skyblue']\n",
    "    n_class = 2\n",
    "\n",
    "    mesh_f0, mesh_f1  = np.meshgrid(np.arange(np.min(X[:,0])-0.5, np.max(X[:,0])+0.5, step), np.arange(np.min(X[:,1])-0.5, np.max(X[:,1])+0.5, step))\n",
    "    mesh = np.c_[np.ravel(mesh_f0),np.ravel(mesh_f1)]\n",
    "    y_pred = model.predict(mesh).reshape(mesh_f0.shape)\n",
    "\n",
    "    plt.title(title)\n",
    "    plt.xlabel(xlabel)\n",
    "    plt.ylabel(ylabel)\n",
    "    plt.contourf(mesh_f0, mesh_f1, y_pred, n_class-1, cmap=ListedColormap(contourf_color))\n",
    "    plt.contour(mesh_f0, mesh_f1, y_pred, n_class-1, colors='y', linewidths=3, alpha=0.5)\n",
    "    for i, target in enumerate(set(y)):\n",
    "        plt.scatter(X[y==target][:, 0], X[y==target][:, 1], s=80, color=scatter_color[i], label=target_names[i], marker='o')\n",
    "    patches = [mpatches.Patch(color=scatter_color[i], label=target_names[i]) for i in range(n_class)]\n",
    "    plt.legend(handles=patches)\n",
    "    plt.legend()\n",
    "    plt.show()"
   ]
  },
  {
   "cell_type": "code",
   "execution_count": 15,
   "metadata": {
    "ExecuteTime": {
     "end_time": "2021-01-21T13:38:48.531202Z",
     "start_time": "2021-01-21T13:38:48.134488Z"
    }
   },
   "outputs": [
    {
     "data": {
      "image/png": "[encoded data removed]",
      "text/plain": [
       "<Figure size 432x288 with 1 Axes>"
      ]
     },
     "metadata": {},
     "output_type": "display_data"
    },
    {
     "data": {
      "image/png": "[encoded data removed]",
      "text/plain": [
       "<Figure size 432x288 with 1 Axes>"
      ]
     },
     "metadata": {},
     "output_type": "display_data"
    }
   ],
   "source": [
    "# scratchによる実装の場合\n",
    "\n",
    "#  訓練データをプロットしてどのように学習したか観察する\n",
    "decision_region(X_train_std, y_train, model=lr_scratch, title=\"LogisticRegression(scratch_train)\", xlabel=\"sepal_length\", ylabel=\"petal_length\")\n",
    "\n",
    "#  検証データをプロットしてどういった特徴量が間違って分類されたか観察する\n",
    "decision_region(X_test_std, y_test, model=lr_scratch, title=\" LogisticRegression(scratch_test)\", xlabel=\"sepal_length\", ylabel=\"petal_length\")"
   ]
  },
  {
   "cell_type": "code",
   "execution_count": 16,
   "metadata": {
    "ExecuteTime": {
     "end_time": "2021-01-21T13:39:24.921903Z",
     "start_time": "2021-01-21T13:39:24.553678Z"
    }
   },
   "outputs": [
    {
     "data": {
      "image/png": "[encoded data removed]",
      "text/plain": [
       "<Figure size 432x288 with 1 Axes>"
      ]
     },
     "metadata": {},
     "output_type": "display_data"
    },
    {
     "data": {
      "image/png": "[encoded data removed]",
      "text/plain": [
       "<Figure size 432x288 with 1 Axes>"
      ]
     },
     "metadata": {},
     "output_type": "display_data"
    }
   ],
   "source": [
    "# scikit-learnによる実装\n",
    "\n",
    "#  訓練データをプロットしてどのように学習したか観察する\n",
    "decision_region(X_train_std, y_train, model=lr_sklearn, title=\"LogisticRegression(sklearn_train)\", xlabel=\"sepal_length\", ylabel=\"petal_length\")\n",
    "\n",
    "#  検証データをプロットしてどういった特徴量が間違って分類されたか観察する\n",
    "decision_region(X_test_std, y_test, model=lr_sklearn, title=\"LogisticRegression(sklearn_test)\", xlabel=\"sepal_length\", ylabel=\"petal_length\")"
   ]
  },
  {
   "cell_type": "markdown",
   "metadata": {},
   "source": [
    "## 【問題8】（アドバンス課題）重みの保存\n",
    "検証が容易になるように、学習した重みを保存および読み込みができるようにしましょう。pickleモジュールやNumPyのnp.savezを利用します。"
   ]
  },
  {
   "cell_type": "code",
   "execution_count": 17,
   "metadata": {
    "ExecuteTime": {
     "end_time": "2021-01-21T13:41:53.618861Z",
     "start_time": "2021-01-21T13:41:53.611621Z"
    }
   },
   "outputs": [
    {
     "name": "stdout",
     "output_type": "stream",
     "text": [
      "[ 0.15332797 -1.42057963  7.31762884]\n"
     ]
    }
   ],
   "source": [
    "# 学習した重みを読み込んで出力する\n",
    "load = np.load(\"coef_.npz\")\n",
    "\n",
    "print(load[\"arr_0\"])"
   ]
  },
  {
   "cell_type": "code",
   "execution_count": null,
   "metadata": {},
   "outputs": [],
   "source": []
  }
 ],
 "metadata": {
  "kernelspec": {
   "display_name": "Python 3",
   "language": "python",
   "name": "python3"
  },
  "language_info": {
   "codemirror_mode": {
    "name": "ipython",
    "version": 3
   },
   "file_extension": ".py",
   "mimetype": "text/x-python",
   "name": "python",
   "nbconvert_exporter": "python",
   "pygments_lexer": "ipython3",
   "version": "3.7.2"
  },
  "nbTranslate": {
   "displayLangs": [
    "*"
   ],
   "hotkey": "alt-t",
   "langInMainMenu": true,
   "sourceLang": "en",
   "targetLang": "fr",
   "useGoogleTranslate": true
  },
  "toc": {
   "base_numbering": 1,
   "nav_menu": {},
   "number_sections": true,
   "sideBar": true,
   "skip_h1_title": false,
   "title_cell": "Table of Contents",
   "title_sidebar": "Contents",
   "toc_cell": false,
   "toc_position": {},
   "toc_section_display": true,
   "toc_window_display": true
  },
  "varInspector": {
   "cols": {
    "lenName": 16,
    "lenType": 16,
    "lenVar": 40
   },
   "kernels_config": {
    "python": {
     "delete_cmd_postfix": "",
     "delete_cmd_prefix": "del ",
     "library": "var_list.py",
     "varRefreshCmd": "print(var_dic_list())"
    },
    "r": {
     "delete_cmd_postfix": ") ",
     "delete_cmd_prefix": "rm(",
     "library": "var_list.r",
     "varRefreshCmd": "cat(var_dic_list()) "
    }
   },
   "types_to_exclude": [
    "module",
    "function",
    "builtin_function_or_method",
    "instance",
    "_Feature"
   ],
   "window_display": false
  }
 },
 "nbformat": 4,
 "nbformat_minor": 4
}
