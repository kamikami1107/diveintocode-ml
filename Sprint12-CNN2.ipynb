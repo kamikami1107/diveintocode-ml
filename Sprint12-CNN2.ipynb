{
 "cells": [
  {
   "cell_type": "markdown",
   "metadata": {},
   "source": [
    "## 2次元の畳み込みニューラルネットワークスクラッチ"
   ]
  },
  {
   "cell_type": "markdown",
   "metadata": {},
   "source": [
    "2次元に対応した畳み込みニューラルネットワーク（CNN）のクラスをスクラッチで作成していきます。NumPyなど最低限のライブラリのみを使いアルゴリズムを実装していきます。\n",
    "\n",
    "\n",
    "プーリング層なども作成することで、CNNの基本形を完成させます。クラスの名前はScratch2dCNNClassifierとしてください。\n",
    "\n",
    "### データセットの用意\n",
    "\n",
    "引き続きMNISTデータセットを使用します。2次元畳み込み層へは、28×28の状態で入力します。\n",
    "\n",
    "\n",
    "今回は白黒画像ですからチャンネルは1つしかありませんが、チャンネル方向の軸は用意しておく必要があります。\n",
    "\n",
    "\n",
    "`(n_samples, n_channels, height, width)`の`NCHW`または`(n_samples, height, width, n_channels)`の`NHWC`どちらかの形にしてください。"
   ]
  },
  {
   "cell_type": "code",
   "execution_count": 1,
   "metadata": {
    "ExecuteTime": {
     "end_time": "2021-01-25T16:25:48.228837Z",
     "start_time": "2021-01-25T16:25:45.889208Z"
    }
   },
   "outputs": [
    {
     "name": "stderr",
     "output_type": "stream",
     "text": [
      "Using TensorFlow backend.\n"
     ]
    }
   ],
   "source": [
    "from sklearn.metrics import accuracy_score\n",
    "from sklearn.model_selection import train_test_split\n",
    "from sklearn.preprocessing import OneHotEncoder\n",
    "import seaborn as sns\n",
    "import pandas as pd\n",
    "import numpy as np\n",
    "import tensorflow as tf\n",
    "import keras\n",
    "from keras.datasets import mnist\n",
    "from keras.models import Sequential\n",
    "from keras.layers import Dense, Dropout\n",
    "from keras.optimizers import RMSprop\n",
    "\n",
    "import matplotlib.pyplot as plt\n",
    "%matplotlib inline\n",
    "sns.set()"
   ]
  },
  {
   "cell_type": "markdown",
   "metadata": {},
   "source": [
    "### 【問題1】2次元畳み込み層の作成\n",
    "\n",
    "\n",
    "1次元畳み込み層のクラスConv1dを発展させ、2次元畳み込み層のクラスConv2dを作成してください。\n",
    "\n",
    "\n",
    "フォワードプロパゲーションの数式は以下のようになります。\n",
    "\n",
    "$$\n",
    "a_{i,j,m} = \\sum_{k=0}^{K-1}\\sum_{s=0}^{F_{h}-1}\\sum_{t=0}^{F_{w}-1}x_{(i+s),(j+t),k}w_{s,t,k,m}+b_{m}\n",
    "$$\n",
    "\n",
    "$a_{i,j,m}$ : 出力される配列のi行j列、mチャンネルの値\n",
    "\n",
    "\n",
    "$i$ : 配列の行方向のインデックス\n",
    "\n",
    "\n",
    "$j$ : 配列の列方向のインデックス\n",
    "\n",
    "\n",
    "$m$ : 出力チャンネルのインデックス\n",
    "\n",
    "\n",
    "$K$ : 入力チャンネル数\n",
    "\n",
    "\n",
    "$F_{h}, F_{w}$ : 高さ方向（h）と幅方向（w）のフィルタのサイズ\n",
    "\n",
    "\n",
    "$x_{(i+s),(j+t),k}$ : 入力の配列の(i+s)行(j+t)列、kチャンネルの値\n",
    "\n",
    "\n",
    "$w_{s,t,k,m}$ : 重みの配列のs行t列目。kチャンネルの入力に対して、mチャンネルへ出力する重み\n",
    "\n",
    "\n",
    "$b_m$ : mチャンネルへの出力のバイアス項\n",
    "\n",
    "\n",
    "全てスカラーです。\n",
    "\n",
    "\n",
    "次に更新式です。1次元畳み込み層や全結合層と同じ形です。\n",
    "\n",
    "$$\n",
    "w_{s,t,k,m}^{\\prime} = w_{s,t,k,m} - \\alpha \\frac{\\partial L}{\\partial w_{s,t,k,m}} \\\\\n",
    "b_{m}^{\\prime} = b_{m} - \\alpha \\frac{\\partial L}{\\partial b_{m}}\n",
    "$$\n",
    "\n",
    "$\\alpha$ : 学習率\n",
    "\n",
    "\n",
    "$\\frac{\\partial L}{\\partial w_{s,t,k,m}}$ : $w_{s,t,k,m}$ に関する損失 $L$ の勾配\n",
    "\n",
    "\n",
    "$\\frac{\\partial L}{\\partial b_{m}}$ : $b_{m}$ に関する損失 $L$ の勾配\n",
    "\n",
    "\n",
    "勾配 $\\frac{\\partial L}{\\partial w_{s,t,k,m}}$ や $\\frac{\\partial L}{\\partial b_{m}}$ を求めるためのバックプロパゲーションの数式が以下である。\n",
    "\n",
    "$$\n",
    "\\frac{\\partial L}{\\partial w_{s,t,k,m}} = \\sum_{i=0}^{N_{out,h}-1}\\sum_{j=0}^{N_{out,w}-1} \\frac{\\partial L}{\\partial a_{i,j,m}}x_{(i+s)(j+t),k}\\\\\n",
    "\\frac{\\partial L}{\\partial b_{m}} = \\sum_{i=0}^{N_{out,h}-1}\\sum_{j=0}^{N_{out,w}-1}\\frac{\\partial L}{\\partial a_{i,j,m}}\n",
    "$$\n",
    "\n",
    "$\\frac{\\partial L}{\\partial a_i}$ : 勾配の配列のi行j列、mチャンネルの値\n",
    "\n",
    "\n",
    "$N_{out,h},N_{out,w}$ : 高さ方向（h）と幅方向（w）の出力のサイズ\n",
    "\n",
    "\n",
    "前の層に流す誤差の数式は以下です。\n",
    "\n",
    "$$\n",
    "\\frac{\\partial L}{\\partial x_{i,j,k}} = \\sum_{m=0}^{M-1}\\sum_{s=0}^{F_{h}-1}\\sum_{t=0}^{F_{w}-1} \\frac{\\partial L}{\\partial a_{(i-s),(j-t),m}}w_{s,t,k,m}\n",
    "$$\n",
    "\n",
    "$\\frac{\\partial L}{\\partial x_{i,j,k}}$ : 前の層に流す誤差の配列のi列j行、kチャンネルの値\n",
    "\n",
    "\n",
    "$M$ : 出力チャンネル数\n",
    "\n",
    "\n",
    "ただし、 $i-s<0$ または $i-s>N_{out,h}-1$ または $j-t<0$ または $j-t>N_{out,w}-1$ のとき $\\frac{\\partial L}{\\partial a_{(i-s),(j-t),m}} =0$ です。"
   ]
  },
  {
   "cell_type": "code",
   "execution_count": 2,
   "metadata": {
    "ExecuteTime": {
     "end_time": "2021-01-25T16:26:10.020637Z",
     "start_time": "2021-01-25T16:26:10.011421Z"
    }
   },
   "outputs": [],
   "source": [
    "# ＜参考＞\n",
    "# https://github.com/oreilly-japan/deep-learning-from-scratch\n",
    "\n",
    "class Conv2d:\n",
    "    def __init__(self, initializer, optimizer, filter_num, C, filter_size, stride=1, pad=0):\n",
    "        # initializerのメソッドを使い、self.Wとself.Bを初期化\n",
    "        self.W = initializer.W(filter_num=filter_num,\n",
    "                               C=C, filter_size=filter_size)\n",
    "        self.B = initializer.B(filter_num)\n",
    "        self.optimizer = optimizer  # 最適化手法\n",
    "        self.stride = stride\n",
    "        self.pad = pad\n",
    "\n",
    "        self.X = None  # 中間データ（backward時に使用）\n",
    "        self.col = None\n",
    "        self.col_W = None\n",
    "\n",
    "        self.dW = None  # 重み・バイアスパラメータの勾配\n",
    "        self.db = None\n",
    "\n",
    "    def forward(self, X):\n",
    "        FN, C, FH, FW = self.W.shape  # （出力チャンネル、入力チャンネル、フィルタサイズ(縦)、フィルタサイズ(横)）\n",
    "        N, C, H, W = X.shape  # （バッチサイズ、入力チャンネル, 特徴量数(縦), 特徴量数(横)）\n",
    "\n",
    "        out_h, out_w = out_shape(H, FH, W, FW, self.stride, self.pad)\n",
    "\n",
    "        col = im2col(X, FH, FW, self.stride, self.pad)\n",
    "        col_W = self.W.reshape(FN, -1).T  # フィルタを展開\n",
    "\n",
    "        out = np.dot(col, col_W) + self.B\n",
    "        out = out.reshape(N, out_h, out_w, -1).transpose(0,\n",
    "                                                         3, 1, 2)  # (N, C, out_h ,out_w)\n",
    "\n",
    "        self.X = X\n",
    "        self.col = col\n",
    "        self.col_W = col_W\n",
    "\n",
    "        return out\n",
    "\n",
    "    def backward(self, dA):\n",
    "        FN, C, FH, FW = self.W.shape\n",
    "        dA = dA.transpose(0, 2, 3, 1).reshape(-1, FN)\n",
    "\n",
    "        self.dB = np.sum(dA, axis=0)  # （batch_size, n_output）\n",
    "        self.dW = np.dot(self.col.T, dA)\n",
    "        self.dW = self.dW.transpose(1, 0).reshape(FN, C, FH, FW)\n",
    "\n",
    "        dcol = np.dot(dA, self.col_W.T)\n",
    "        dX = col2im(dcol, self.X.shape, FH, FW,\n",
    "                    self.stride, self.pad)  # (N, C, H ,W)\n",
    "\n",
    "        self = self.optimizer.update(self)  # 重み、バイアスの更新\n",
    "        return dX"
   ]
  },
  {
   "cell_type": "code",
   "execution_count": 3,
   "metadata": {
    "ExecuteTime": {
     "end_time": "2021-01-25T16:26:25.843724Z",
     "start_time": "2021-01-25T16:26:25.837999Z"
    }
   },
   "outputs": [],
   "source": [
    "def im2col(X, FH, FW, stride=1, pad=0):\n",
    "    N, C, H, W = X.shape\n",
    "    out_h, out_w = out_shape(H, FH, W, FW, stride, pad)\n",
    "\n",
    "    img = np.pad(X, [(0, 0), (0, 0), (pad, pad),\n",
    "                     (pad, pad)], 'constant')  # パディング\n",
    "\n",
    "    col = np.zeros((N, C, FH, FW, out_h, out_w))\n",
    "    for y in range(FH):\n",
    "        y_max = y + stride * out_h\n",
    "        for x in range(FW):\n",
    "            x_max = x + stride * out_w\n",
    "            col[:, :, y, x, :, :] = img[:, :, y: y_max: stride, x: x_max: stride]\n",
    "\n",
    "    # (N,C,FH,FW,out_h,out_w)→(N,out_h,out_w,C,FH,FW)\n",
    "    col = col.transpose(0, 4, 5, 1, 2, 3).reshape(N * out_h * out_w, -1)\n",
    "    return col"
   ]
  },
  {
   "cell_type": "code",
   "execution_count": 4,
   "metadata": {
    "ExecuteTime": {
     "end_time": "2021-01-25T16:26:45.932727Z",
     "start_time": "2021-01-25T16:26:45.927376Z"
    }
   },
   "outputs": [],
   "source": [
    "def col2im(dcol, X_shape, FH, FW, stride=1, pad=0):\n",
    "    N, C, H, W = X_shape  # 入力データの形状（例：(10, 1, 28, 28)）\n",
    "    out_h, out_w = out_shape(H, FH, W, FW, stride, pad)\n",
    "\n",
    "    dcol = dcol.reshape(N, out_h, out_w, C, FH, FW).transpose(\n",
    "        0, 3, 4, 5, 1, 2)  # (N,out_h,out_w,C,FH,FW)→(N,C,FH,FW,out_h,out_w)\n",
    "\n",
    "    img = np.zeros((N, C, H + 2 * pad + stride - 1, W + 2 * pad + stride - 1))\n",
    "    for y in range(FH):\n",
    "        y_max = y + stride * out_h\n",
    "        for x in range(FW):\n",
    "            x_max = x + stride * out_w\n",
    "            img[:, :, y: y_max: stride, x: x_max: stride] += dcol[:, :, y, x, :, :]\n",
    "\n",
    "    return img[:, :, pad: H + pad, pad: W + pad]"
   ]
  },
  {
   "cell_type": "markdown",
   "metadata": {},
   "source": [
    "### 【問題2】2次元畳み込み後の出力サイズ\n",
    "\n",
    "畳み込みを行うと特徴マップのサイズが変化します。どのように変化するかは以下の数式から求められます。この計算を行う関数を作成してください。\n",
    "\n",
    "$$\n",
    "N_{h,out} =  \\frac{N_{h,in}+2P_{h}-F_{h}}{S_{h}} + 1\\\\\n",
    "N_{w,out} =  \\frac{N_{w,in}+2P_{w}-F_{w}}{S_{w}} + 1\n",
    "$$\n",
    "\n",
    "$N_{out}$ : 出力のサイズ（特徴量の数）\n",
    "\n",
    "\n",
    "$N_{in}$ : 入力のサイズ（特徴量の数）\n",
    "\n",
    "\n",
    "$P$ : ある方向へのパディングの数\n",
    "\n",
    "\n",
    "$F$ : フィルタのサイズ\n",
    "\n",
    "\n",
    "$S$ : ストライドのサイズ\n",
    "\n",
    "\n",
    "$h$ が高さ方向、 $w$ が幅方向である"
   ]
  },
  {
   "cell_type": "code",
   "execution_count": 5,
   "metadata": {
    "ExecuteTime": {
     "end_time": "2021-01-25T16:27:34.350577Z",
     "start_time": "2021-01-25T16:27:34.347327Z"
    }
   },
   "outputs": [],
   "source": [
    "def out_shape(H, FH, W, FW, S, P):\n",
    "    out_h = int((H + 2 * P - FH) / S) + 1  # 出力の高さ\n",
    "    out_w = int((W + 2 * P - FW) / S) + 1  # 出力の幅\n",
    "    return out_h, out_w"
   ]
  },
  {
   "cell_type": "markdown",
   "metadata": {},
   "source": [
    "### 【問題3】最大プーリング層の作成\n",
    "最大プーリング層のクラスMaxPool2Dを作成してください。プーリング層は数式で表さない方が分かりやすい部分もありますが、数式で表すとフォワードプロパゲーションは以下のようになります。\n",
    "\n",
    "$$\n",
    "a_{i,j,k} = \\max_{(p,q)\\in P_{i,j}}x_{p,q,k}\n",
    "$$\n",
    "\n",
    "$P_{i,j}$ : i行j列への出力する場合の入力配列のインデックスの集合。 $S_{h}×S_{w}$ の範囲内の行（p）と列（q）\n",
    "\n",
    "\n",
    "$S_{h}, S_{w}$ : 高さ方向（h）と幅方向（w）のストライドのサイズ\n",
    "\n",
    "\n",
    "$(p,q)\\in P_{i,j}$ : $P_{i,j}$ に含まれる行（p）と列（q）のインデックス\n",
    "\n",
    "\n",
    "$a_{i,j,m}$ : 出力される配列のi行j列、kチャンネルの値\n",
    "\n",
    "\n",
    "$x_{p,q,k}$ : 入力の配列のp行q列、kチャンネルの値\n",
    "\n",
    "ある範囲の中でチャンネル方向の軸は残したまま最大値を計算することになります。\n",
    "\n",
    "\n",
    "バックプロパゲーションのためには、フォワードプロパゲーションのときの最大値のインデックス $(p,q)$ を保持しておく必要があります。フォワード時に最大値を持っていた箇所にそのままの誤差を流し、そこ以外には0を入れるためです。\n"
   ]
  },
  {
   "cell_type": "code",
   "execution_count": 6,
   "metadata": {
    "ExecuteTime": {
     "end_time": "2021-01-25T16:28:28.290777Z",
     "start_time": "2021-01-25T16:28:28.282288Z"
    }
   },
   "outputs": [],
   "source": [
    "class MaxPool2D:\n",
    "    def __init__(self, pool_h=3, pool_w=3, stride=1, pad=0):\n",
    "        self.pool_h = pool_h  # 対象領域の高さ\n",
    "        self.pool_w = pool_w  # 対象領域の幅\n",
    "        self.stride = stride\n",
    "        self.pad = pad\n",
    "\n",
    "        self.X = None\n",
    "        self.arg_max = None\n",
    "\n",
    "    def forward(self, X):\n",
    "        N, C, H, W = X.shape\n",
    "        out_h, out_w = out_shape(\n",
    "            H, self.pool_h, W, self.pool_w, self.stride, self.pad)\n",
    "\n",
    "        col = im2col(X, self.pool_h, self.pool_w, self.stride, self.pad)\n",
    "        col = col.reshape(-1, self.pool_h * self.pool_w)\n",
    "\n",
    "        arg_max = np.argmax(col, axis=1)  # (N * out_h * out_w,)\n",
    "        out = np.max(col, axis=1)\n",
    "        out = out.reshape(N, out_h, out_w, C).transpose(\n",
    "            0, 3, 1, 2)  # (N, out_h, out_w, C)→(N, C, out_h, out_w)\n",
    "\n",
    "        self.X = X\n",
    "        self.arg_max = arg_max\n",
    "\n",
    "        return out\n",
    "\n",
    "    def backward(self, dout):\n",
    "        dout = dout.transpose(0, 2, 3, 1)\n",
    "\n",
    "        pool_size = self.pool_h * self.pool_w\n",
    "        dmax = np.zeros((dout.size, pool_size))\n",
    "        dmax[np.arange(self.arg_max.size),\n",
    "             self.arg_max.flatten()] = dout.flatten()\n",
    "        dmax = dmax.reshape(dout.shape + (pool_size,))\n",
    "\n",
    "        dcol = dmax.reshape(dmax.shape[0] * dmax.shape[1] * dmax.shape[2], -1)\n",
    "        dX = col2im(dcol, self.X.shape, self.pool_h,\n",
    "                    self.pool_w, self.stride, self.pad)\n",
    "\n",
    "        return dX"
   ]
  },
  {
   "cell_type": "markdown",
   "metadata": {},
   "source": [
    "### 【問題4】（アドバンス課題）平均プーリングの作成\n",
    "\n",
    "平均プーリング層のクラスAveragePool2Dを作成してください。\n",
    "\n",
    "\n",
    "範囲内の最大値ではなく、平均値を出力とするプーリング層です。\n",
    "\n",
    "\n",
    "画像認識関係では最大プーリング層が一般的で、平均プーリングはあまり使われません。"
   ]
  },
  {
   "cell_type": "code",
   "execution_count": 7,
   "metadata": {
    "ExecuteTime": {
     "end_time": "2021-01-25T16:29:17.610112Z",
     "start_time": "2021-01-25T16:29:17.601537Z"
    }
   },
   "outputs": [],
   "source": [
    "class AveragePool2D():\n",
    "\n",
    "    def __init__(self, P):\n",
    "        self.P = P\n",
    "        self.PA = None\n",
    "        self.Pindex = None\n",
    "\n",
    "    def forward(self, A):\n",
    "        N, F, OH, OW = A.shape\n",
    "        PS = self.P\n",
    "        PH, PW = int(OH/PS), int(OW/PS)\n",
    "\n",
    "        self.params = N, F, OH, OW, PS, PH, PW\n",
    "\n",
    "        # プーリングフィルター\n",
    "        self.PA = np.zeros([N, F, PH, PW])\n",
    "\n",
    "        for n in range(N):\n",
    "            # 出力チャンネル\n",
    "            for ch in range(F):\n",
    "                # 縦方向のスライド\n",
    "                for row in range(PH):\n",
    "                    # 横方向のスライド\n",
    "                    for col in range(PW):\n",
    "                        self.PA[n, ch, row, col] = \\\n",
    "                            np.mean(\n",
    "                                A[n, ch, row*PS:row*PS+PS, col*PS:col*PS+PS])\n",
    "\n",
    "        return self.PA\n",
    "\n",
    "    def backward(self, dA):\n",
    "\n",
    "        N, F, OH, OW, PS, PH, PW = self.params\n",
    "        dP = np.zeros([N, F, OH, OW])\n",
    "\n",
    "        for n in range(N):\n",
    "            # 出力チャンネル\n",
    "            for ch in range(F):\n",
    "                # 縦方向のスライド\n",
    "                for row in range(PH):\n",
    "                    # 横方向のスライド\n",
    "                    for col in range(PW):\n",
    "                        tmp = np.zeros((PS*PS))\n",
    "                        for i in range(PS*PS):\n",
    "                            tmp[i] = dA[n, ch, row, col]/(PS*PS)\n",
    "\n",
    "                        dP[n, ch, row*PS:row*PS+PS, col *\n",
    "                            PS:col*PS+PS] = tmp.reshape(PS, PS)\n",
    "\n",
    "        return dP"
   ]
  },
  {
   "cell_type": "code",
   "execution_count": 8,
   "metadata": {
    "ExecuteTime": {
     "end_time": "2021-01-25T16:29:18.367535Z",
     "start_time": "2021-01-25T16:29:18.363654Z"
    }
   },
   "outputs": [
    {
     "name": "stdout",
     "output_type": "stream",
     "text": [
      "[[[[1 3 5 4 5 6]\n",
      "   [8 5 0 6 4 4]\n",
      "   [5 3 3 7 4 8]\n",
      "   [7 6 8 7 5 7]\n",
      "   [4 1 7 3 6 3]\n",
      "   [7 8 6 4 0 6]]]]\n"
     ]
    }
   ],
   "source": [
    "X = np.random.randint(0, 9, 36).reshape(1, 1, 6, 6)\n",
    "print(X)"
   ]
  },
  {
   "cell_type": "code",
   "execution_count": 9,
   "metadata": {
    "ExecuteTime": {
     "end_time": "2021-01-25T16:29:19.155115Z",
     "start_time": "2021-01-25T16:29:19.150877Z"
    }
   },
   "outputs": [
    {
     "name": "stdout",
     "output_type": "stream",
     "text": [
      "(1, 1, 3, 3)\n",
      "[[[[4.25 3.75 4.75]\n",
      "   [5.25 6.25 6.  ]\n",
      "   [5.   5.   3.75]]]]\n"
     ]
    }
   ],
   "source": [
    "Pooling = AveragePool2D(P=2)\n",
    "A = Pooling.forward(X)\n",
    "\n",
    "print(A.shape)\n",
    "print(A)"
   ]
  },
  {
   "cell_type": "code",
   "execution_count": 10,
   "metadata": {
    "ExecuteTime": {
     "end_time": "2021-01-25T16:29:19.717986Z",
     "start_time": "2021-01-25T16:29:19.714715Z"
    }
   },
   "outputs": [
    {
     "name": "stdout",
     "output_type": "stream",
     "text": [
      "[[[[4 7 3]\n",
      "   [2 5 3]\n",
      "   [4 7 5]]]]\n"
     ]
    }
   ],
   "source": [
    "dA = np.random.randint(0, 9, 9).reshape(A.shape)\n",
    "print(dA)"
   ]
  },
  {
   "cell_type": "code",
   "execution_count": 11,
   "metadata": {
    "ExecuteTime": {
     "end_time": "2021-01-25T16:29:20.467782Z",
     "start_time": "2021-01-25T16:29:20.464233Z"
    }
   },
   "outputs": [
    {
     "name": "stdout",
     "output_type": "stream",
     "text": [
      "[[[[1.   1.   1.75 1.75 0.75 0.75]\n",
      "   [1.   1.   1.75 1.75 0.75 0.75]\n",
      "   [0.5  0.5  1.25 1.25 0.75 0.75]\n",
      "   [0.5  0.5  1.25 1.25 0.75 0.75]\n",
      "   [1.   1.   1.75 1.75 1.25 1.25]\n",
      "   [1.   1.   1.75 1.75 1.25 1.25]]]]\n"
     ]
    }
   ],
   "source": [
    "dZ = Pooling.backward(dA)\n",
    "\n",
    "print(dZ)"
   ]
  },
  {
   "cell_type": "markdown",
   "metadata": {},
   "source": [
    "### 【問題5】平滑化\n",
    "\n",
    "平滑化するためのFlattenクラスを作成してください。\n",
    "\n",
    "\n",
    "フォワードのときはチャンネル、高さ、幅の3次元を1次元にreshapeします。その値は記録しておき、バックワードのときに再びreshapeによって形を戻します。\n",
    "\n",
    "\n",
    "この平滑化のクラスを挟むことで出力前の全結合層に適した配列を作ることができます。"
   ]
  },
  {
   "cell_type": "code",
   "execution_count": 12,
   "metadata": {
    "ExecuteTime": {
     "end_time": "2021-01-25T16:29:34.636666Z",
     "start_time": "2021-01-25T16:29:34.633022Z"
    }
   },
   "outputs": [],
   "source": [
    "class Flatten():\n",
    "    def __init__(self):\n",
    "        self.X_shape = None\n",
    "\n",
    "    def forward(self, X):\n",
    "        X_1d = X.reshape(X.shape[0], -1)\n",
    "        self.X_shape = X.shape\n",
    "        return X_1d\n",
    "\n",
    "    def backward(self, dout):\n",
    "        return dout.reshape(self.X_shape)"
   ]
  },
  {
   "cell_type": "markdown",
   "metadata": {},
   "source": [
    "### 【問題6】学習と推定\n",
    "作成したConv2dを使用してMNISTを学習・推定し、Accuracyを計算してください。\n",
    "\n",
    "\n",
    "精度は低くともまずは動くことを目指してください。\n"
   ]
  },
  {
   "cell_type": "code",
   "execution_count": 13,
   "metadata": {
    "ExecuteTime": {
     "end_time": "2021-01-25T16:30:15.419230Z",
     "start_time": "2021-01-25T16:30:15.390850Z"
    }
   },
   "outputs": [],
   "source": [
    "class Scratch2dCNNClassifier():\n",
    "    def __init__(self, epoch=10, batch_size=20, activation='Sigmoid', optimizer='SGD', initializer='SimpleInitializer',\n",
    "                 sigma=0.1, lr=0.1, n_nodes1=200, n_nodes2=100, filter_num=3,  filter_size=3,\n",
    "                 stride=1, pad=0, verbose=False):\n",
    "        self.epoch = epoch\n",
    "        self.batch_size = batch_size\n",
    "        self.activation = activation\n",
    "        self.optimizer = optimizer\n",
    "        self.initializer = initializer\n",
    "        self.sigma = sigma\n",
    "        self.lr = lr\n",
    "        self.n_nodes1 = n_nodes1\n",
    "        self.n_nodes2 = n_nodes2\n",
    "        self.filter_num = filter_num  # フィルタの数\n",
    "        self.filter_size = filter_size  # フィルタのサイズ（縦横同じ）\n",
    "        self.stride = stride\n",
    "        self.pad = pad\n",
    "        self.verbose = verbose\n",
    "\n",
    "    def fit(self, X, y, X_val=None, y_val=None):  # (n_samples, n_features), (n_samples, one_hot)\n",
    "        if self.activation == 'Sigmoid':  # activationパラメータの選択\n",
    "            activate1 = Sigmoid()\n",
    "            activate2 = Sigmoid()\n",
    "            activate3 = Sigmoid()\n",
    "            activate4 = Sigmoid()\n",
    "        elif self.activation == 'Tanh':\n",
    "            activate1 = Tanh()\n",
    "            activate2 = Tanh()\n",
    "            activate3 = Tanh()\n",
    "            activate4 = Tanh()\n",
    "        elif self.activation == 'Relu':\n",
    "            activate1 = Relu()\n",
    "            activate2 = Relu()\n",
    "            activate3 = Relu()\n",
    "            activate4 = Relu()\n",
    "\n",
    "        if self.optimizer == 'SGD':  # optimizerパラメータの選択\n",
    "            optimizer1 = SGD(self.lr)\n",
    "            optimizer2 = SGD(self.lr)\n",
    "            optimizer3 = SGD(self.lr)\n",
    "            optimizer4 = SGD(self.lr)\n",
    "            optimizer5 = SGD(self.lr)\n",
    "        elif self.optimizer == 'AdaGrad':\n",
    "            optimizer1 = AdaGrad(self.lr)\n",
    "            optimizer2 = AdaGrad(self.lr)\n",
    "            optimizer3 = AdaGrad(self.lr)\n",
    "            optimizer4 = AdaGrad(self.lr)\n",
    "            optimizer5 = AdaGrad(self.lr)\n",
    "\n",
    "        if self.initializer == 'SimpleInitializer':  # initializerパラメータの選択\n",
    "            initializer1 = SimpleInitializer(self.sigma)\n",
    "            initializer2 = SimpleInitializer(self.sigma)\n",
    "            initializer3 = SimpleInitializer(self.sigma)\n",
    "            initializer4 = SimpleInitializer(self.sigma)\n",
    "            initializer5 = SimpleInitializer(self.sigma)\n",
    "        elif self.initializer == 'XavierInitializer':\n",
    "            initializer1 = XavierInitializer()\n",
    "            initializer2 = XavierInitializer()\n",
    "            initializer3 = XavierInitializer()\n",
    "            initializer4 = XavierInitializer()\n",
    "            initializer5 = XavierInitializer()\n",
    "        elif self.initializer == 'HeInitializer':\n",
    "            initializer1 = HeInitializer()\n",
    "            initializer2 = HeInitializer()\n",
    "            initializer3 = HeInitializer()\n",
    "            initializer4 = HeInitializer()\n",
    "            initializer5 = HeInitializer()\n",
    "\n",
    "        self.conv1 = Conv2d(initializer1, optimizer1, self.filter_num,\n",
    "                            X.shape[1], self.filter_size)  # 畳み込み層（＋プーリング層、活性化関数クラス）のインスタンス化\n",
    "        self.activation1 = activate1\n",
    "        self.pool1 = MaxPool2D()\n",
    "        self.conv2 = Conv2d(initializer2, optimizer2,\n",
    "                            self.filter_num, self.filter_num, self.filter_size)\n",
    "        self.activation2 = activate2\n",
    "        self.pool2 = MaxPool2D()\n",
    "        self.conv3 = Conv2d(initializer3, optimizer3,\n",
    "                            self.filter_num, self.filter_num, self.filter_size)\n",
    "        self.activation3 = activate3\n",
    "\n",
    "        self.flatten = Flatten()  # 平滑化層のインスタンス化\n",
    "\n",
    "        OH, OW = self._out_shape(\n",
    "            X.shape[2], self.filter_size, X.shape[3], self.filter_size, 'conv')  # 全結合前のサイズ\n",
    "        OH, OW = self._out_shape(OH, self.filter_size,\n",
    "                                 OW, self.filter_size, 'pool')\n",
    "        OH, OW = self._out_shape(OH, self.filter_size,\n",
    "                                 OW, self.filter_size, 'conv')\n",
    "        OH, OW = self._out_shape(OH, self.filter_size,\n",
    "                                 OW, self.filter_size, 'pool')\n",
    "        OH, OW = self._out_shape(OH, self.filter_size,\n",
    "                                 OW, self.filter_size, 'conv')\n",
    "        size = OH * OW * self.filter_num\n",
    "\n",
    "        self.FC1 = FC(size, self.n_nodes1, initializer4,\n",
    "                      optimizer4)  # 全結合層（＋活性化関数クラス）のインスタンス化\n",
    "        self.activation4 = activate4\n",
    "        self.FC2 = FC(self.n_nodes1, y.shape[1], initializer5, optimizer5)\n",
    "        self.activation5 = SoftmaxWithLoss()\n",
    "\n",
    "        self.loss = []  # epochごとの損失を記録\n",
    "        self.val_loss = []\n",
    "\n",
    "        train_mini_batch = GetMiniBatch(\n",
    "            X, y, self.batch_size)  # ミニバッチを取得するクラスのインスタンス化\n",
    "\n",
    "        if X_val is not None and y_val is not None:  # 検証データが入力された場合\n",
    "            test_mini_batch = GetMiniBatch(X_val, y_val)\n",
    "\n",
    "        for i in range(self.epoch):\n",
    "            self.mini_loss = []  # ミニバッチごとの損失を記録\n",
    "            for mini_X_train, mini_y_train in train_mini_batch:\n",
    "                self._forward(mini_X_train)  # フォワードプロパゲーション\n",
    "\n",
    "                # バックプロパゲーション\n",
    "                dA5, mini_loss = self.activation5.backward(\n",
    "                    mini_y_train)  # 全結合層\n",
    "                dZ4 = self.FC2.backward(dA5)\n",
    "                dA4 = self.activation4.backward(dZ4)\n",
    "                dZ3 = self.FC1.backward(dA4)\n",
    "                dZ3 = self.flatten.backward(dZ3)  # shapeを戻す\n",
    "\n",
    "                dA3 = self.activation3.backward(dZ3)  # 畳み込み層\n",
    "                dP2 = self.conv3.backward(dA3)\n",
    "                dZ2 = self.pool2.backward(dP2)\n",
    "                dA2 = self.activation2.backward(dZ2)\n",
    "                dP1 = self.conv2.backward(dA2)\n",
    "                dZ1 = self.pool1.backward(dP1)\n",
    "                dA1 = self.activation1.backward(dZ1)\n",
    "                dX = self.conv1.backward(dA1)\n",
    "\n",
    "                self.mini_loss.append(mini_loss)  # ミニバッチごとの損失\n",
    "\n",
    "            loss = np.mean(self.mini_loss)  # epochごとの損失\n",
    "            self.loss.append(loss)\n",
    "\n",
    "            if X_val is not None and y_val is not None:  # 検証データが入力された場合\n",
    "                self.mini_val_loss = []  # ミニバッチごとの損失を記録\n",
    "                for mini_X_val, mini_y_val in test_mini_batch:\n",
    "                    self._forward(mini_X_val)  # フォワードプロパゲーション\n",
    "\n",
    "                    _, mini_val_loss = self.activation5.backward(\n",
    "                        mini_y_val)  # バックプロパゲーション（損失を計算）\n",
    "\n",
    "                    self.mini_val_loss.append(mini_val_loss)  # ミニバッチごとの損失\n",
    "\n",
    "                # epochごとの損失（ミニバッジごとの損失の平均）\n",
    "                val_loss = np.mean(self.mini_val_loss)\n",
    "                self.val_loss.append(val_loss)\n",
    "\n",
    "            if self.verbose:  # verboseをTrueにした際は損失関数の推移を出力\n",
    "                print(\"epoch：\", i+1, \"　train_loss：\", self.loss[i])\n",
    "\n",
    "                if X_val is not None or y_val is not None:  # 検証データが入力された場合\n",
    "                    print(\"epoch：\", i+1, \"　val_loss：\", self.val_loss[i])\n",
    "\n",
    "    def _forward(self, X):  # (n_samples, n_features)\n",
    "        A1 = self.conv1.forward(X)  # 畳み込み層\n",
    "        Z1 = self.activation1.forward(A1)\n",
    "        P1 = self.pool1.forward(Z1)\n",
    "        A2 = self.conv2.forward(P1)\n",
    "        Z2 = self.activation2.forward(A2)\n",
    "        P2 = self.pool2.forward(Z2)\n",
    "        A3 = self.conv3.forward(P2)\n",
    "        Z3 = self.activation3.forward(A3)\n",
    "\n",
    "        Z3 = self.flatten.forward(Z3)  # 平滑化層\n",
    "\n",
    "        A4 = self.FC1.forward(Z3)  # 全結合層\n",
    "        Z4 = self.activation4.forward(A4)\n",
    "        A5 = self.FC2.forward(Z4)\n",
    "        Z5 = self.activation5.forward(A5)  # (n_samples, n_output)\n",
    "\n",
    "        return Z5\n",
    "\n",
    "    def _out_shape(self, H, FH, W, FW, layer):  # （高さ、フィルタの高さ、幅、フィルタの幅）\n",
    "        if layer == 'conv':\n",
    "            out_h = 1 + int((H + 2 * self.pad - FH) / self.stride)\n",
    "            out_w = 1 + int((W + 2 * self.pad - FW) / self.stride)\n",
    "        elif layer == 'pool':\n",
    "            out_h = 1 + int((H - FH) / self.stride)\n",
    "            out_w = 1 + int((W - FW) / self.stride)\n",
    "\n",
    "        return out_h, out_w\n",
    "\n",
    "    def predict(self, X):  # (n_samples, n_features)\n",
    "        y_pred = self._forward(X)\n",
    "        return np.argmax(y_pred, axis=1)\n",
    "\n",
    "    def graphs(self):\n",
    "        plt.figure(figsize=(8, 6))\n",
    "        plt.plot(np.arange(len(self.loss)), self.loss,\n",
    "                 linewidth=3.0, label=\"train\")\n",
    "        if X_val is not None or y_val is not None:  # 検証データが入力された場合\n",
    "            plt.plot(np.arange(len(self.val_loss)), self.val_loss,\n",
    "                     linewidth=3.0, label=\"val\", color=\"orange\")\n",
    "        plt.title(\"loss\")\n",
    "        plt.xlabel(\"epochs\")\n",
    "        plt.ylabel(\"cross_entropy_error\")\n",
    "        plt.legend(frameon=True)\n",
    "        plt.show()"
   ]
  },
  {
   "cell_type": "code",
   "execution_count": 14,
   "metadata": {
    "ExecuteTime": {
     "end_time": "2021-01-25T16:30:30.086780Z",
     "start_time": "2021-01-25T16:30:30.082029Z"
    }
   },
   "outputs": [],
   "source": [
    "# 全結合層のクラス\n",
    "\n",
    "class FC:\n",
    "    def __init__(self, n_nodes1, n_nodes2, initializer, optimizer):\n",
    "        # initializerのメソッドを使い、self.Wとself.Bを初期化\n",
    "        self.W = initializer.W(n_nodes1, n_nodes2)\n",
    "        self.B = initializer.B(n_nodes2)\n",
    "        self.optimizer = optimizer  # 最適化手法\n",
    "\n",
    "    def forward(self, Z1):  # (batch_size, n_nodes1)\n",
    "        self.Z = Z1.copy()\n",
    "        A = np.dot(Z1, self.W) + self.B  # (batch_size, n_nodes2)\n",
    "        return A\n",
    "\n",
    "    def backward(self, dA):  # (batch_size, n_nodes2)\n",
    "        self.dW = np.dot(self.Z.T, dA)\n",
    "        self.dB = np.sum(dA, axis=0)\n",
    "        dZ = np.dot(dA, self.W.T)  # (batch_size, n_nodes1)\n",
    "\n",
    "        self = self.optimizer.update(self)  # 重み、バイアスの更新\n",
    "        return dZ"
   ]
  },
  {
   "cell_type": "code",
   "execution_count": 15,
   "metadata": {
    "ExecuteTime": {
     "end_time": "2021-01-25T16:30:57.399431Z",
     "start_time": "2021-01-25T16:30:57.389782Z"
    }
   },
   "outputs": [],
   "source": [
    "# 重みの初期値\n",
    "\n",
    "# SimpleInitializerクラス\n",
    "class SimpleInitializer:\n",
    "    def __init__(self, sigma):\n",
    "        self.sigma = sigma\n",
    "\n",
    "    def W(self, n_nodes1=None, n_nodes2=None, filter_num=None, C=None, filter_size=None):\n",
    "\n",
    "        if filter_num is not None and C is not None and filter_size is not None:  # 畳み込み層\n",
    "            W = self.sigma * \\\n",
    "                np.random.randn(filter_num, C, filter_size, filter_size)\n",
    "\n",
    "        if n_nodes1 is not None and n_nodes2 is not None:  # 全結合層\n",
    "            W = self.sigma * np.random.randn(n_nodes1, n_nodes2)\n",
    "\n",
    "        return W\n",
    "\n",
    "    def B(self, n_nodes2):\n",
    "        B = np.zeros(n_nodes2)\n",
    "        return B\n",
    "\n",
    "# XavierInitializerクラス\n",
    "\n",
    "\n",
    "class XavierInitializer:\n",
    "    def __init__(self):\n",
    "        pass\n",
    "\n",
    "    def W(self, n_nodes1=None, n_nodes2=None, filter_num=None, C=None, filter_size=None):\n",
    "\n",
    "        if filter_num and C and filter_size is not None:  # 畳み込み層\n",
    "            W = np.random.randn(filter_num, C, filter_size,\n",
    "                                filter_size) / np.sqrt(filter_num)\n",
    "\n",
    "        else:  # 全結合層\n",
    "            W = np.random.randn(n_nodes1, n_nodes2) / np.sqrt(n_nodes1)\n",
    "\n",
    "        return W\n",
    "\n",
    "    def B(self, n_nodes2):\n",
    "        B = np.zeros(n_nodes2)\n",
    "        return B\n",
    "\n",
    "# HeInitializerクラス\n",
    "\n",
    "\n",
    "class HeInitializer:\n",
    "    def __init__(self):\n",
    "        pass\n",
    "\n",
    "    def W(self, n_nodes1=None, n_nodes2=None, filter_num=None, C=None, filter_size=None):\n",
    "\n",
    "        if filter_num and C and filter_size is not None:  # 畳み込み層\n",
    "            W = np.random.randn(filter_num, C, filter_size,\n",
    "                                filter_size) * np.sqrt(2 / filter_num)\n",
    "\n",
    "        else:  # 全結合層\n",
    "            W = np.random.randn(n_nodes1, n_nodes2) * np.sqrt(2 / n_nodes1)\n",
    "\n",
    "        return W\n",
    "\n",
    "    def B(self, n_nodes2):\n",
    "        B = np.zeros(n_nodes2)\n",
    "        return B"
   ]
  },
  {
   "cell_type": "code",
   "execution_count": 16,
   "metadata": {
    "ExecuteTime": {
     "end_time": "2021-01-25T16:31:12.651666Z",
     "start_time": "2021-01-25T16:31:12.644637Z"
    }
   },
   "outputs": [],
   "source": [
    "# 最適化手法\n",
    "\n",
    "# SGDクラス\n",
    "class SGD:\n",
    "    def __init__(self, lr):\n",
    "        self.lr = lr\n",
    "\n",
    "    def update(self, layer):\n",
    "        layer.W -= self.lr * layer.dW / \\\n",
    "            layer.dB.shape[0]  # (n_nodes1, n_nodes2)\n",
    "        layer.B -= self.lr * layer.dB.mean(axis=0)  # (n_nodes2)\n",
    "        return layer\n",
    "\n",
    "# AdaGradのクラス\n",
    "\n",
    "\n",
    "class AdaGrad:\n",
    "    def __init__(self, lr):\n",
    "        self.lr = lr\n",
    "        self.hW = None\n",
    "        self.hB = None\n",
    "\n",
    "    def update(self, layer):\n",
    "        if self.hW is None:\n",
    "            self.hW = np.zeros(layer.W.shape)\n",
    "        if self.hB is None:\n",
    "            self.hB = np.zeros(layer.B.shape)\n",
    "\n",
    "        self.hW += (layer.dW / layer.dB.shape[0]) ** 2\n",
    "        self.hB += (layer.dB.mean(axis=0)) ** 2\n",
    "\n",
    "        # (n_nodes1, n_nodes2)\n",
    "        layer.W -= self.lr / np.sqrt(self.hW + 1e-7) * \\\n",
    "            layer.dW / layer.dB.shape[0]\n",
    "        layer.B -= self.lr / np.sqrt(self.hB + 1e-7) * \\\n",
    "            layer.dB.mean(axis=0)  # (n_nodes2)\n",
    "        return layer"
   ]
  },
  {
   "cell_type": "code",
   "execution_count": 17,
   "metadata": {
    "ExecuteTime": {
     "end_time": "2021-01-25T16:31:31.124285Z",
     "start_time": "2021-01-25T16:31:31.115173Z"
    }
   },
   "outputs": [],
   "source": [
    "# 活性化関数\n",
    "\n",
    "# sigmoid関数のクラス\n",
    "class Sigmoid:\n",
    "    def __init__(self):\n",
    "        self.Z = None\n",
    "\n",
    "    def forward(self, A):  # (batch_size, n_nodes1)\n",
    "        A = -709*(A <= -709) + A*(A > -709)  # オーバーフロー対策\n",
    "        self.Z = 1 / (1 + np.exp(-A))\n",
    "        return self.Z\n",
    "\n",
    "    def backward(self, dZ):  # (batch_size, n_nodes1)\n",
    "        dA = dZ * self.Z * (1 - self.Z)\n",
    "        return dA\n",
    "\n",
    "# Hyperbolic tangent関数のクラス\n",
    "\n",
    "\n",
    "class Tanh:\n",
    "    def __init__(self):\n",
    "        self.Z = None\n",
    "\n",
    "    def forward(self, A):  # (batch_size, n_nodes1)\n",
    "        self.Z = np.tanh(A)\n",
    "        return self.Z\n",
    "\n",
    "    def backward(self, dZ):  # (batch_size, n_nodes1)\n",
    "        dA = dZ * (1 - self.Z ** 2)\n",
    "        return dA\n",
    "\n",
    "# ReLU関数のクラス\n",
    "\n",
    "\n",
    "class Relu:\n",
    "    def __init__(self):\n",
    "        self.X = None\n",
    "\n",
    "    def forward(self, A):  # (batch_size, n_nodes1)\n",
    "        self.X = A.copy()\n",
    "        Z = np.maximum(0, A)\n",
    "        return Z\n",
    "\n",
    "    def backward(self, dZ):  # (batch_size, n_nodes1)\n",
    "        dA = np.where(self.X > 0, dZ, 0)\n",
    "        return dA\n",
    "\n",
    "# softmax関数のクラス（with loss）\n",
    "\n",
    "\n",
    "class SoftmaxWithLoss:\n",
    "    def __init__(self):\n",
    "        self.Z = None\n",
    "\n",
    "    def forward(self, A):  # (batch_size, n_output)\n",
    "        c = np.max(A)  # オーバーフロー対策\n",
    "        self.Z = np.exp(A - c) / np.sum(np.exp(A - c), axis=1).reshape(-1, 1)\n",
    "        return self.Z\n",
    "\n",
    "    def backward(self, y):  # (batch_size, n_output)\n",
    "        loss_sum = np.sum(y * np.log(self.Z), axis=1)  # 交差エントロピー誤差\n",
    "        loss = -np.mean(loss_sum)\n",
    "\n",
    "        dA = self.Z - y  # 損失の勾配 (batch_size, n_nodes1)\n",
    "        return dA, loss"
   ]
  },
  {
   "cell_type": "code",
   "execution_count": 18,
   "metadata": {
    "ExecuteTime": {
     "end_time": "2021-01-25T16:31:43.709556Z",
     "start_time": "2021-01-25T16:31:43.702883Z"
    }
   },
   "outputs": [],
   "source": [
    "# ミニバッチを取得するクラス\n",
    "class GetMiniBatch:\n",
    "    def __init__(self, X, y, batch_size=10, seed=0):\n",
    "        self.batch_size = batch_size\n",
    "        np.random.seed(seed)\n",
    "        shuffle_index = np.random.permutation(np.arange(X.shape[0]))\n",
    "        self.X = X[shuffle_index]\n",
    "        self.y = y[shuffle_index]\n",
    "        self._stop = np.ceil(X.shape[0]/self.batch_size).astype(np.int)\n",
    "\n",
    "    def __len__(self):\n",
    "        return self._stop\n",
    "\n",
    "    def __getitem__(self, item):\n",
    "        p0 = item*self.batch_size\n",
    "        p1 = item*self.batch_size + self.batch_size\n",
    "        return self.X[p0:p1], self.y[p0:p1]\n",
    "\n",
    "    def __iter__(self):\n",
    "        self._counter = 0\n",
    "        return self\n",
    "\n",
    "    def __next__(self):\n",
    "        if self._counter >= self._stop:\n",
    "            raise StopIteration()\n",
    "        p0 = self._counter*self.batch_size\n",
    "        p1 = self._counter*self.batch_size + self.batch_size\n",
    "        self._counter += 1\n",
    "        return self.X[p0:p1], self.y[p0:p1]"
   ]
  },
  {
   "cell_type": "code",
   "execution_count": 19,
   "metadata": {
    "ExecuteTime": {
     "end_time": "2021-01-25T16:33:54.951040Z",
     "start_time": "2021-01-25T16:33:54.721630Z"
    }
   },
   "outputs": [],
   "source": [
    "# MNISTデータセットのダウンロード\n",
    "from keras.datasets import mnist\n",
    "(X_train, y_train), (X_test, y_test) = mnist.load_data()"
   ]
  },
  {
   "cell_type": "code",
   "execution_count": 20,
   "metadata": {
    "ExecuteTime": {
     "end_time": "2021-01-25T16:33:56.211336Z",
     "start_time": "2021-01-25T16:33:55.728091Z"
    }
   },
   "outputs": [
    {
     "name": "stdout",
     "output_type": "stream",
     "text": [
      "(48000, 1, 28, 28)\n",
      "(12000, 1, 28, 28)\n"
     ]
    }
   ],
   "source": [
    "# 型変換、正規化\n",
    "from sklearn.model_selection import train_test_split\n",
    "X_train = X_train.astype(np.float)\n",
    "X_test = X_test.astype(np.float)\n",
    "X_train /= 255\n",
    "X_test /= 255\n",
    "\n",
    "X_train = X_train.reshape(-1, 1, 28, 28)\n",
    "X_test = X_test.reshape(-1, 1, 28, 28)\n",
    "\n",
    "X_train, X_val, y_train, y_val = train_test_split(\n",
    "    X_train, y_train, test_size=0.2)\n",
    "print(X_train.shape)  # (48000, 784)\n",
    "print(X_val.shape)  # (12000, 784)"
   ]
  },
  {
   "cell_type": "code",
   "execution_count": 21,
   "metadata": {
    "ExecuteTime": {
     "end_time": "2021-01-25T16:34:10.963881Z",
     "start_time": "2021-01-25T16:34:10.947093Z"
    }
   },
   "outputs": [
    {
     "name": "stdout",
     "output_type": "stream",
     "text": [
      "(48000,)\n",
      "(48000, 10)\n",
      "float64\n"
     ]
    }
   ],
   "source": [
    "# 正解ラベル値をone-hotエンコーディング\n",
    "from sklearn.preprocessing import OneHotEncoder\n",
    "enc = OneHotEncoder(handle_unknown='ignore', sparse=False)\n",
    "y_train_one_hot = enc.fit_transform(y_train[:, np.newaxis])\n",
    "y_test_one_hot = enc.transform(y_test[:, np.newaxis])\n",
    "print(y_train.shape)  # (60000,)\n",
    "print(y_train_one_hot.shape)  # (60000, 10)\n",
    "print(y_train_one_hot.dtype)  # float64"
   ]
  },
  {
   "cell_type": "code",
   "execution_count": 22,
   "metadata": {
    "ExecuteTime": {
     "end_time": "2021-01-25T16:34:22.843036Z",
     "start_time": "2021-01-25T16:34:22.831402Z"
    }
   },
   "outputs": [
    {
     "name": "stdout",
     "output_type": "stream",
     "text": [
      "(12000, 10)\n",
      "(10000, 10)\n"
     ]
    },
    {
     "data": {
      "text/plain": [
       "(12000, 10)"
      ]
     },
     "execution_count": 22,
     "metadata": {},
     "output_type": "execute_result"
    }
   ],
   "source": [
    "# 検証データ、テストデータもone-hot表現に変換する\n",
    "y_val_one_hot = enc.fit_transform(y_val[:, np.newaxis])\n",
    "print(y_val_one_hot.shape)\n",
    "y_test_one_hot = enc.fit_transform(y_test[:, np.newaxis])\n",
    "print(y_test_one_hot.shape)\n",
    "(12000, 10)"
   ]
  },
  {
   "cell_type": "code",
   "execution_count": 23,
   "metadata": {
    "ExecuteTime": {
     "end_time": "2021-01-25T16:42:19.548957Z",
     "start_time": "2021-01-25T16:34:42.260748Z"
    }
   },
   "outputs": [
    {
     "name": "stdout",
     "output_type": "stream",
     "text": [
      "epoch： 1 　train_loss： 2.3496283723799443\n",
      "epoch： 1 　val_loss： 2.3051029014400015\n",
      "epoch： 2 　train_loss： 0.9542905159591858\n",
      "epoch： 2 　val_loss： 0.2894866238730532\n",
      "epoch： 3 　train_loss： 0.24925406518744458\n",
      "epoch： 3 　val_loss： 0.20850666018508826\n",
      "epoch： 4 　train_loss： 0.18498648731744732\n",
      "epoch： 4 　val_loss： 0.15699275829432727\n",
      "epoch： 5 　train_loss： 0.1421781376219194\n",
      "epoch： 5 　val_loss： 0.12553889224802864\n",
      "epoch： 6 　train_loss： 0.11790433469473494\n",
      "epoch： 6 　val_loss： 0.10862803288573221\n",
      "epoch： 7 　train_loss： 0.10416191823374424\n",
      "epoch： 7 　val_loss： 0.09988865812801885\n",
      "epoch： 8 　train_loss： 0.09515904752357215\n",
      "epoch： 8 　val_loss： 0.09461584143576161\n",
      "epoch： 9 　train_loss： 0.08821585311935277\n",
      "epoch： 9 　val_loss： 0.0905674347005073\n",
      "epoch： 10 　train_loss： 0.08258107705693024\n",
      "epoch： 10 　val_loss： 0.08915980749018519\n"
     ]
    }
   ],
   "source": [
    "# 学習\n",
    "dnnc = Scratch2dCNNClassifier(verbose=True)\n",
    "dnnc.fit(X_train, y_train_one_hot, X_val, y_val_one_hot)"
   ]
  },
  {
   "cell_type": "code",
   "execution_count": 24,
   "metadata": {
    "ExecuteTime": {
     "end_time": "2021-01-25T16:49:17.668119Z",
     "start_time": "2021-01-25T16:42:22.261717Z"
    }
   },
   "outputs": [
    {
     "name": "stdout",
     "output_type": "stream",
     "text": [
      "epoch： 1 　train_loss： 0.6154052759848836\n",
      "epoch： 1 　val_loss： 0.37390753781452973\n",
      "epoch： 2 　train_loss： 0.33177824189890476\n",
      "epoch： 2 　val_loss： 0.3000774462369166\n",
      "epoch： 3 　train_loss： 0.2748674703171029\n",
      "epoch： 3 　val_loss： 0.2593960844589657\n",
      "epoch： 4 　train_loss： 0.23901406861900285\n",
      "epoch： 4 　val_loss： 0.23160938845375412\n",
      "epoch： 5 　train_loss： 0.21312682142777922\n",
      "epoch： 5 　val_loss： 0.2104187321598646\n",
      "epoch： 6 　train_loss： 0.19346518726717055\n",
      "epoch： 6 　val_loss： 0.19386816346913674\n",
      "epoch： 7 　train_loss： 0.17758876118686312\n",
      "epoch： 7 　val_loss： 0.1801517576925713\n",
      "epoch： 8 　train_loss： 0.16454452449742724\n",
      "epoch： 8 　val_loss： 0.1691981376872977\n",
      "epoch： 9 　train_loss： 0.15369014386743798\n",
      "epoch： 9 　val_loss： 0.1599929771055739\n",
      "epoch： 10 　train_loss： 0.14441638247673047\n",
      "epoch： 10 　val_loss： 0.15233334956337177\n"
     ]
    }
   ],
   "source": [
    "# 学習（損失関数の推移も出力）\n",
    "# 「activation='Tanh'、optimizer='SGD'、initializer='XavierInitializer'」の場合\n",
    "dnnc2 = Scratch2dCNNClassifier(activation='Tanh', optimizer='SGD', initializer='XavierInitializer',\n",
    "                                          sigma=0.005, lr=0.005, verbose=True)\n",
    "dnnc2.fit(X_train, y_train_one_hot, X_val, y_val_one_hot)"
   ]
  },
  {
   "cell_type": "code",
   "execution_count": 25,
   "metadata": {
    "ExecuteTime": {
     "end_time": "2021-01-25T16:57:24.763791Z",
     "start_time": "2021-01-25T16:50:46.040853Z"
    }
   },
   "outputs": [
    {
     "name": "stdout",
     "output_type": "stream",
     "text": [
      "epoch： 1 　train_loss： 2.0534575378319944\n",
      "epoch： 1 　val_loss： 0.6487868965318694\n",
      "epoch： 2 　train_loss： 0.4242326452278059\n",
      "epoch： 2 　val_loss： 0.33316487769612424\n",
      "epoch： 3 　train_loss： 0.3045140219132087\n",
      "epoch： 3 　val_loss： 0.27794050973652884\n",
      "epoch： 4 　train_loss： 0.2615699469036963\n",
      "epoch： 4 　val_loss： 0.24695388395857334\n",
      "epoch： 5 　train_loss： 0.23548606251095397\n",
      "epoch： 5 　val_loss： 0.22891967263573132\n",
      "epoch： 6 　train_loss： 0.2177378230447053\n",
      "epoch： 6 　val_loss： 0.21724084213553957\n",
      "epoch： 7 　train_loss： 0.20434946813299334\n",
      "epoch： 7 　val_loss： 0.20873068339980838\n",
      "epoch： 8 　train_loss： 0.1935520054733365\n",
      "epoch： 8 　val_loss： 0.20165466406297078\n",
      "epoch： 9 　train_loss： 0.18438103738824435\n",
      "epoch： 9 　val_loss： 0.19617491581407395\n",
      "epoch： 10 　train_loss： 0.17652577427208016\n",
      "epoch： 10 　val_loss： 0.19245837150324618\n"
     ]
    }
   ],
   "source": [
    "# 学習（損失関数の推移も出力）\n",
    "# 「activation='Relu'、optimizer='SGD'、initializer='HeInitializer'」の場合\n",
    "dnnc3 = Scratch2dCNNClassifier(activation='Relu', optimizer='SGD', initializer='HeInitializer',\n",
    "                                          sigma=0.002, lr=0.002, verbose=True)\n",
    "dnnc3.fit(X_train, y_train_one_hot, X_val, y_val_one_hot)"
   ]
  },
  {
   "cell_type": "code",
   "execution_count": 26,
   "metadata": {
    "ExecuteTime": {
     "end_time": "2021-01-25T16:58:19.082968Z",
     "start_time": "2021-01-25T16:58:08.755568Z"
    }
   },
   "outputs": [
    {
     "name": "stdout",
     "output_type": "stream",
     "text": [
      "予測ラベル：[7 2 1 0 4 1 4 9 5 9 0 6 9 0 1 5 9 7 8 4]\n",
      "正解ラベル：[7 2 1 0 4 1 4 9 5 9 0 6 9 0 1 5 9 7 3 4]\n"
     ]
    }
   ],
   "source": [
    "# 推定\n",
    "y_pred = dnnc.predict(X_test)\n",
    "\n",
    "print(\"予測ラベル：{}\".format(y_pred[:20]))\n",
    "print(\"正解ラベル：{}\".format(y_test[:20]))"
   ]
  },
  {
   "cell_type": "code",
   "execution_count": 27,
   "metadata": {
    "ExecuteTime": {
     "end_time": "2021-01-25T16:58:26.394646Z",
     "start_time": "2021-01-25T16:58:26.206039Z"
    }
   },
   "outputs": [
    {
     "data": {
      "image/png": "[encoded data removed]",
      "text/plain": [
       "<Figure size 576x432 with 1 Axes>"
      ]
     },
     "metadata": {},
     "output_type": "display_data"
    }
   ],
   "source": [
    "# 可視化する\n",
    "dnnc.graphs()"
   ]
  },
  {
   "cell_type": "code",
   "execution_count": null,
   "metadata": {},
   "outputs": [],
   "source": []
  }
 ],
 "metadata": {
  "kernelspec": {
   "display_name": "Python 3",
   "language": "python",
   "name": "python3"
  },
  "language_info": {
   "codemirror_mode": {
    "name": "ipython",
    "version": 3
   },
   "file_extension": ".py",
   "mimetype": "text/x-python",
   "name": "python",
   "nbconvert_exporter": "python",
   "pygments_lexer": "ipython3",
   "version": "3.7.2"
  },
  "nbTranslate": {
   "displayLangs": [
    "*"
   ],
   "hotkey": "alt-t",
   "langInMainMenu": true,
   "sourceLang": "en",
   "targetLang": "fr",
   "useGoogleTranslate": true
  },
  "toc": {
   "base_numbering": 1,
   "nav_menu": {},
   "number_sections": true,
   "sideBar": true,
   "skip_h1_title": false,
   "title_cell": "Table of Contents",
   "title_sidebar": "Contents",
   "toc_cell": false,
   "toc_position": {},
   "toc_section_display": true,
   "toc_window_display": true
  },
  "varInspector": {
   "cols": {
    "lenName": 16,
    "lenType": 16,
    "lenVar": 40
   },
   "kernels_config": {
    "python": {
     "delete_cmd_postfix": "",
     "delete_cmd_prefix": "del ",
     "library": "var_list.py",
     "varRefreshCmd": "print(var_dic_list())"
    },
    "r": {
     "delete_cmd_postfix": ") ",
     "delete_cmd_prefix": "rm(",
     "library": "var_list.r",
     "varRefreshCmd": "cat(var_dic_list()) "
    }
   },
   "types_to_exclude": [
    "module",
    "function",
    "builtin_function_or_method",
    "instance",
    "_Feature"
   ],
   "window_display": false
  }
 },
 "nbformat": 4,
 "nbformat_minor": 4
}
