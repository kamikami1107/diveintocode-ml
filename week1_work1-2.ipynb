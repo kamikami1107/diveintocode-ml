{
 "cells": [
  {
   "cell_type": "markdown",
   "metadata": {},
   "source": [
    "### 【問題1】べき乗の算術演算子を使用して作成\n",
    "####  ポイント：pythonで数式計算\n",
    "\n",
    "べき乗の算術演算子を使用したプログラムを作ってください。  \n",
    "雛形として紙を1回折った時の厚さを計算するコードを用意しました。これを43回折った時のコードに書き換えてください。  \n",
    "\n",
    "《雛形》\n",
    "\n",
    "```py\n",
    "\"\"\"\n",
    "紙を1回折った時の厚さを計算するコード\n",
    "\"\"\"\n",
    "\n",
    "THICKNESS = 0.00008\n",
    "\n",
    "folded_thickness = THICKNESS*2\n",
    "\n",
    "print(\"厚さ： {}メートル\".format(folded_thickness))\n",
    "```"
   ]
  },
  {
   "cell_type": "code",
   "execution_count": 10,
   "metadata": {},
   "outputs": [
    {
     "name": "stdout",
     "output_type": "stream",
     "text": [
      "厚さ：703687441.77664メートル\n"
     ]
    }
   ],
   "source": [
    "THICKNESS = 0.00008\n",
    "folded_thickness = THICKNESS * (2**43)\n",
    "print(\"厚さ：{}メートル\".format(folded_thickness))"
   ]
  },
  {
   "cell_type": "markdown",
   "metadata": {},
   "source": [
    "### 【問題2】単位の変換\n",
    "\n",
    "単位がメートルだと実感が湧きづらいので、◯◯万キロメートル に変換して表示させてください。  \n",
    "\n",
    "サンプルとして ◯◯キロメートル に変換したコードを用意したので、参考にして取り組んでください。小数点以下は2桁まで表示されるようにも指定しています。  \n",
    "\n",
    "《サンプルコード》\n",
    "```py\n",
    "# メートルをキロメートルに変換して小数点以下2桁で表示する\n",
    "print(\"厚さ： {:.2f}キロメートル\".format(folded_thickness/1000))\n",
    "```\n",
    "「月までの距離」を検索して、折った紙が月に届くかどうか確認してみましょう。"
   ]
  },
  {
   "cell_type": "code",
   "execution_count": 40,
   "metadata": {
    "scrolled": true
   },
   "outputs": [
    {
     "name": "stdout",
     "output_type": "stream",
     "text": [
      "厚さ：703687.44177664キロメートル\n",
      "厚さ：70.37万キロメートル\n"
     ]
    }
   ],
   "source": [
    "print(\"厚さ：{}キロメートル\".format(folded_thickness/1000))\n",
    "print(\"厚さ：{:.2f}万キロメートル\".format((folded_thickness/1000)/10000))"
   ]
  },
  {
   "cell_type": "markdown",
   "metadata": {},
   "source": [
    "#### 【発展問題①】紙を43回折ったら、月まで届くか？\n",
    "もし折った紙で月に到達したら、そこから地球を見た感想をお願いします。\n",
    "- 到達or月を越したら→「ヒューストン、地球はやはり青かったー！」\n",
    "- 到達できなかったら→「ヒューストン、地球はやはり遠かった。。」\n",
    "- 地球から月までの距離はおよそ38万kmとする。"
   ]
  },
  {
   "cell_type": "code",
   "execution_count": 71,
   "metadata": {},
   "outputs": [
    {
     "name": "stdout",
     "output_type": "stream",
     "text": [
      "「ヒューストン、地球はやはり青かったー！」\n"
     ]
    }
   ],
   "source": [
    "moon_distance = 380000\n",
    "THICKNESS = 0.00008\n",
    "folded_thickness = THICKNESS * (2**43)\n",
    "if folded_thickness/1000 >= moon_distance:\n",
    "    print(\"「ヒューストン、地球はやはり青かったー！」\")\n",
    "else:\n",
    "    print(\"「ヒューストン、地球はやはり遠かった。。」\")"
   ]
  },
  {
   "cell_type": "markdown",
   "metadata": {},
   "source": [
    "### 【問題3】for文を使用して作成\n",
    "####  ポイント：for文とrangeの使い方\n",
    "\n",
    "次に、for文を使用したプログラムを作ってください。  \n",
    "\n",
    "べき乗の算術演算子は使ってはいけません。算術演算子は四則演算（+、-、*、/）のみ使えます。  \n",
    "\n",
    "《ヒント》\n",
    "\n",
    "べき乗は以下のように掛け算の繰り返しに置き換えることができます。\n",
    "\n",
    "$\n",
    "2^3 = 2 \\times 2 \\times 2\\\\\n",
    "2^5 = 2 \\times 2 \\times 2 \\times 2 \\times 2\n",
    "$\n",
    "\n"
   ]
  },
  {
   "cell_type": "code",
   "execution_count": 55,
   "metadata": {},
   "outputs": [
    {
     "name": "stdout",
     "output_type": "stream",
     "text": [
      "厚さ：703687441.77664メートル\n"
     ]
    }
   ],
   "source": [
    "#【問題3】for文を使用して作成\n",
    "\n",
    "THICKNESS = 0.00008\n",
    "for i in range(1, 44):\n",
    "  THICKNESS * (2**i)\n",
    "print(\"厚さ：\" + str(THICKNESS * (2**i)) + \"メートル\")"
   ]
  },
  {
   "cell_type": "markdown",
   "metadata": {},
   "source": [
    "### 【問題4】計算時間の比較\n",
    "####  ポイント：ベキ乗計算とfor文の計算時間\n",
    "\n",
    "2つの方法はどちらが正しいわけでもありませんが、コードの良さを評価する際には以下のような着目点があります。\n",
    "\n",
    "```\n",
    "計算速度\n",
    "メモリの使用量\n",
    "可読性\n",
    "拡張性\n",
    "再利用性\n",
    "```\n",
    "今回は計算速度を比較してみます。以下の雛形を使用して、2つの方法の計算時間を出力してください。そして、それぞれの計算時間の関係を簡単に説明してください。どちらの書き方が良さそうでしょうか。なお、変数の定義やprint文など、どちらの方法でも使われている部分は除いた範囲の時間を比較してください。\n",
    "\n",
    "《雛形》\n",
    "\n",
    "timeモジュールを用いることで現在の時間を取得できます。比較したい箇所の前後の時間の差を計算することで、実行時間を求めます。\n",
    "\n",
    "```py\n",
    "import time\n",
    "start = time.time()\n",
    "#####\n",
    "# ここに比較したいコードを貼り付ける\n",
    "#####\n",
    "elapsed_time = time.time() - start\n",
    "print(\"time : {}[s]\".format(elapsed_time))\n",
    "```\n",
    "\n"
   ]
  },
  {
   "cell_type": "code",
   "execution_count": 73,
   "metadata": {},
   "outputs": [
    {
     "name": "stdout",
     "output_type": "stream",
     "text": [
      "一般的な冪乗計算のtime : 6.604194641113281e-05[s]\n",
      "for文を用いた冪乗計算time : 0.00010609626770019531[s]\n"
     ]
    }
   ],
   "source": [
    "import time\n",
    "\n",
    "start = time.time()\n",
    "#####\n",
    "folded_thickness = THICKNESS * (2**43)\n",
    "#####\n",
    "elapsed_time = time.time() - start\n",
    "print(\"一般的な冪乗計算のtime : {}[s]\".format(elapsed_time))\n",
    "\n",
    "\n",
    "start = time.time()\n",
    "#####\n",
    "for i in range(1, 44):\n",
    "    THICKNESS * (2**i)\n",
    "#####\n",
    "elapsed_time = time.time() - start\n",
    "print(\"for文を用いた冪乗計算time : {}[s]\".format(elapsed_time))"
   ]
  },
  {
   "cell_type": "markdown",
   "metadata": {},
   "source": [
    "##### 【結果】一般的なべき乗計算の方が計算速度は早いことが多い（場合によってはfor文の方が早いこともある）"
   ]
  },
  {
   "cell_type": "markdown",
   "metadata": {},
   "source": [
    "#### 【発展問題②】各計算式をマジックコマンドで計測\n",
    "- 計算時間の平均を測定して、どちらが早いか改めて比較してみる。"
   ]
  },
  {
   "cell_type": "code",
   "execution_count": 67,
   "metadata": {},
   "outputs": [
    {
     "name": "stdout",
     "output_type": "stream",
     "text": [
      "45.6 ns ± 1.58 ns per loop (mean ± std. dev. of 7 runs, 10000000 loops each)\n"
     ]
    }
   ],
   "source": [
    "%%timeit\n",
    "THICKNESS = 0.00008\n",
    "folded_thickness = THICKNESS * (2**43)"
   ]
  },
  {
   "cell_type": "code",
   "execution_count": 62,
   "metadata": {},
   "outputs": [
    {
     "name": "stdout",
     "output_type": "stream",
     "text": [
      "11.4 µs ± 425 ns per loop (mean ± std. dev. of 7 runs, 100000 loops each)\n"
     ]
    }
   ],
   "source": [
    "%%timeit\n",
    "THICKNESS = 0.00008\n",
    "for i in range(1, 44):\n",
    "  THICKNESS * (2**i)"
   ]
  },
  {
   "cell_type": "markdown",
   "metadata": {},
   "source": [
    "##### 【結果】for構文を用いた方が約４倍ほど計算時間が早い。"
   ]
  },
  {
   "cell_type": "markdown",
   "metadata": {},
   "source": [
    "### 【問題5】リストへの保存\n",
    "####  ポイント：リストの概念と使用例\n",
    "\n",
    "ここまでは43回折った後の最後の値だけを使用していましたが、グラフで可視化するためには過程の値も必要です。for文を使用したコードに、過程の値合計44個を記録するコードを加えてください。\n",
    "\n",
    "#### 《ヒント》\n",
    "\n",
    "- 空のリストを作成する。\n",
    "- 折る前の値をリストに追加する。\n",
    "- for文の中でn回折った時の値をリストに追加していく。\n",
    "- 最終的にリストに44個の値が格納されていることをlen関数を用いて確認しておきましょう。\n",
    "\n",
    "#### （解説）\n",
    "\n",
    "計算結果をリストの最後尾に加えていきます。\n",
    "\n",
    "`[-1]`で最後尾が指定できるため、これを計算に使っていきます。"
   ]
  },
  {
   "cell_type": "code",
   "execution_count": 77,
   "metadata": {},
   "outputs": [
    {
     "name": "stdout",
     "output_type": "stream",
     "text": [
      "リスト↓↓\n",
      "[8e-05, 0.00016, 0.00032, 0.00064, 0.00128, 0.00256, 0.00512, 0.01024, 0.02048, 0.04096, 0.08192, 0.16384, 0.32768, 0.65536, 1.31072, 2.62144, 5.24288, 10.48576, 20.97152, 41.94304, 83.88608, 167.77216, 335.54432, 671.08864, 1342.17728, 2684.35456, 5368.70912, 10737.41824, 21474.83648, 42949.67296, 85899.34592, 171798.69184, 343597.38368, 687194.76736, 1374389.53472, 2748779.06944, 5497558.13888, 10995116.27776, 21990232.55552, 43980465.11104, 87960930.22208, 175921860.44416, 351843720.88832, 703687441.77664]\n",
      "「リスト内の要素の数は44です。」\n"
     ]
    }
   ],
   "source": [
    "#【問題5】リストへの保存\n",
    "\n",
    "j = []\n",
    "THICKNESS = 0.00008\n",
    "j.append(THICKNESS)\n",
    "for i in range(1, 44):\n",
    "  h = THICKNESS * (2**i)\n",
    "  j.append(h)\n",
    "print(\"リスト↓↓\")\n",
    "print(j)\n",
    "print(\"「リスト内の要素の数は\" + str(len(j)) + \"です。」\")"
   ]
  },
  {
   "cell_type": "markdown",
   "metadata": {},
   "source": [
    "### 【問題6】折れ線グラフの表示\n",
    "####  ポイント：matplotlibの使用例\n",
    "\n",
    "グラフの描画には Matplotlib という ライブラリ を用います。リストへ記録するコードの後ろで以下の雛形を使用してください。\n",
    "\n",
    "#### 《雛形》\n",
    "\n",
    "```py\n",
    "\"\"\"\n",
    "グラフを表示する。タイトルと軸ラベル名付き。\n",
    "\"\"\"\n",
    "import matplotlib.pyplot as plt\n",
    "%matplotlib inline\n",
    "\n",
    "plt.title(\"thickness of folded paper\")\n",
    "plt.xlabel(\"number of folds\")\n",
    "plt.ylabel(\"thickness[m]\")\n",
    "plt.plot(リスト名) # 「リスト名」のところにリストの変数名を入れる\n",
    "plt.show()\n",
    "```\n",
    "\n",
    "グラフを表示させた場合はそれに対する考察が重要です。厚さがどのように変化しているかを簡単に説明してください"
   ]
  },
  {
   "cell_type": "code",
   "execution_count": 79,
   "metadata": {},
   "outputs": [
    {
     "data": {
      "image/png": "[encoded data removed]",
      "text/plain": [
       "<Figure size 432x288 with 1 Axes>"
      ]
     },
     "metadata": {
      "needs_background": "light"
     },
     "output_type": "display_data"
    }
   ],
   "source": [
    "import matplotlib.pyplot as plt\n",
    "%matplotlib inline\n",
    "plt.title(\"thickness of folded paper\")\n",
    "plt.xlabel(\"number of folds\")\n",
    "plt.ylabel(\"thickness[m]\")\n",
    "plt.plot(j)\n",
    "plt.show()"
   ]
  },
  {
   "cell_type": "markdown",
   "metadata": {},
   "source": [
    "##### 「折る回数が40回を超えたあたりから対数的に増加していく。」"
   ]
  },
  {
   "cell_type": "markdown",
   "metadata": {},
   "source": [
    "### 【問題7】グラフのカスタマイズ\n",
    "####  ポイント：リファレンスを見て任意の変更をする。\n",
    "\n",
    "\n",
    "グラフをより見やすくカスタマイズしてみましょう。カスタマイズしたグラフを最低3種類作成してください。例えば以下のように書き換えることで、線の色を赤に変更できます。\n",
    "\n",
    "#### 《サンプルコード》\n",
    "```py\n",
    "\"\"\"\n",
    "赤い折れ線グラフを表示する。\n",
    "\"\"\"\n",
    "plt.title(\"thickness of folded paper\")\n",
    "plt.xlabel(\"number of folds\")\n",
    "plt.ylabel(\"thickness[m]\")\n",
    "plt.plot(リスト名, color='red')\n",
    "plt.show()\n",
    "```"
   ]
  },
  {
   "cell_type": "markdown",
   "metadata": {},
   "source": [
    "#### 【問題7】カスタマイズその①：グラフの線を青くする"
   ]
  },
  {
   "cell_type": "code",
   "execution_count": 36,
   "metadata": {},
   "outputs": [
    {
     "data": {
      "image/png": "[encoded data removed]",
      "text/plain": [
       "<Figure size 432x288 with 1 Axes>"
      ]
     },
     "metadata": {
      "needs_background": "light"
     },
     "output_type": "display_data"
    }
   ],
   "source": [
    "import matplotlib.pyplot as plt\n",
    "%matplotlib inline\n",
    "plt.title(\"thickness of folded paper\")\n",
    "plt.xlabel(\"number of folds\")\n",
    "plt.ylabel(\"thickness[m]\")\n",
    "plt.plot(j, color='b')\n",
    "plt.show()"
   ]
  },
  {
   "cell_type": "markdown",
   "metadata": {},
   "source": [
    "#### 【問題7】カスタマイズその②：カスタマイズその②：グラフのマーカーを正方形に、線を実線、色を黄色にする"
   ]
  },
  {
   "cell_type": "code",
   "execution_count": 80,
   "metadata": {},
   "outputs": [
    {
     "data": {
      "image/png": "[encoded data removed]",
      "text/plain": [
       "<Figure size 432x288 with 1 Axes>"
      ]
     },
     "metadata": {
      "needs_background": "light"
     },
     "output_type": "display_data"
    }
   ],
   "source": [
    "import matplotlib.pyplot as plt\n",
    "%matplotlib inline\n",
    "plt.title(\"thickness of folded paper\")\n",
    "plt.xlabel(\"number of folds\")\n",
    "plt.ylabel(\"thickness[m]\")\n",
    "plt.plot(j, 's' '-' 'y')\n",
    "plt.show()"
   ]
  },
  {
   "cell_type": "markdown",
   "metadata": {},
   "source": [
    "#### 【問題7-2】カスタマイズその③：ラベルの文字を大きくする"
   ]
  },
  {
   "cell_type": "code",
   "execution_count": 93,
   "metadata": {},
   "outputs": [
    {
     "data": {
      "image/png": "[encoded data removed]",
      "text/plain": [
       "<Figure size 432x288 with 1 Axes>"
      ]
     },
     "metadata": {
      "needs_background": "light"
     },
     "output_type": "display_data"
    }
   ],
   "source": [
    "import matplotlib.pyplot as plt\n",
    "%matplotlib inline\n",
    "plt.title(\"thickness of folded paper\")\n",
    "plt.xlabel(\"number of folds\")\n",
    "plt.ylabel(\"thickness[m]\")\n",
    "plt.tick_params(labelsize=12)\n",
    "plt.plot(j, 'g')\n",
    "plt.show()"
   ]
  }
 ],
 "metadata": {
  "kernelspec": {
   "display_name": "Python 3",
   "language": "python",
   "name": "python3"
  },
  "language_info": {
   "codemirror_mode": {
    "name": "ipython",
    "version": 3
   },
   "file_extension": ".py",
   "mimetype": "text/x-python",
   "name": "python",
   "nbconvert_exporter": "python",
   "pygments_lexer": "ipython3",
   "version": "3.7.6"
  }
 },
 "nbformat": 4,
 "nbformat_minor": 4
}
