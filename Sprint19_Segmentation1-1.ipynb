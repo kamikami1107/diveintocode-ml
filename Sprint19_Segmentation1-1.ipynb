{
 "cells": [
  {
   "cell_type": "markdown",
   "metadata": {},
   "source": [
    "KaggleのTGS Salt Identification Challengeのデータセットを使用し、セグメンテーションを行います。\n",
    "\n",
    "[TGS Salt Identification Challenge](https://www.kaggle.com/c/tgs-salt-identification-challenge)\n",
    "\n",
    "セグメンテーション手法としてU-Net[1]を使います。\n",
    "\n",
    "https://arxiv.org/pdf/1505.04597.pdf"
   ]
  },
  {
   "cell_type": "markdown",
   "metadata": {},
   "source": [
    "### 【問題1】学習・推定\n",
    "\n",
    "以下のKeras実装を使用して学習・推定を行ってください。\n",
    "\n",
    "https://github.com/zhixuhao/unet"
   ]
  },
  {
   "cell_type": "code",
   "execution_count": 1,
   "metadata": {},
   "outputs": [
    {
     "name": "stderr",
     "output_type": "stream",
     "text": [
      "Using TensorFlow backend.\n",
      "/Users/SHOTA/.pyenv/versions/anaconda3-5.3.1/lib/python3.7/site-packages/tensorflow/python/framework/dtypes.py:516: FutureWarning: Passing (type, 1) or '1type' as a synonym of type is deprecated; in a future version of numpy, it will be understood as (type, (1,)) / '(1,)type'.\n",
      "  _np_qint8 = np.dtype([(\"qint8\", np.int8, 1)])\n",
      "/Users/SHOTA/.pyenv/versions/anaconda3-5.3.1/lib/python3.7/site-packages/tensorflow/python/framework/dtypes.py:517: FutureWarning: Passing (type, 1) or '1type' as a synonym of type is deprecated; in a future version of numpy, it will be understood as (type, (1,)) / '(1,)type'.\n",
      "  _np_quint8 = np.dtype([(\"quint8\", np.uint8, 1)])\n",
      "/Users/SHOTA/.pyenv/versions/anaconda3-5.3.1/lib/python3.7/site-packages/tensorflow/python/framework/dtypes.py:518: FutureWarning: Passing (type, 1) or '1type' as a synonym of type is deprecated; in a future version of numpy, it will be understood as (type, (1,)) / '(1,)type'.\n",
      "  _np_qint16 = np.dtype([(\"qint16\", np.int16, 1)])\n",
      "/Users/SHOTA/.pyenv/versions/anaconda3-5.3.1/lib/python3.7/site-packages/tensorflow/python/framework/dtypes.py:519: FutureWarning: Passing (type, 1) or '1type' as a synonym of type is deprecated; in a future version of numpy, it will be understood as (type, (1,)) / '(1,)type'.\n",
      "  _np_quint16 = np.dtype([(\"quint16\", np.uint16, 1)])\n",
      "/Users/SHOTA/.pyenv/versions/anaconda3-5.3.1/lib/python3.7/site-packages/tensorflow/python/framework/dtypes.py:520: FutureWarning: Passing (type, 1) or '1type' as a synonym of type is deprecated; in a future version of numpy, it will be understood as (type, (1,)) / '(1,)type'.\n",
      "  _np_qint32 = np.dtype([(\"qint32\", np.int32, 1)])\n",
      "/Users/SHOTA/.pyenv/versions/anaconda3-5.3.1/lib/python3.7/site-packages/tensorflow/python/framework/dtypes.py:525: FutureWarning: Passing (type, 1) or '1type' as a synonym of type is deprecated; in a future version of numpy, it will be understood as (type, (1,)) / '(1,)type'.\n",
      "  np_resource = np.dtype([(\"resource\", np.ubyte, 1)])\n",
      "/Users/SHOTA/.pyenv/versions/anaconda3-5.3.1/lib/python3.7/site-packages/tensorboard/compat/tensorflow_stub/dtypes.py:541: FutureWarning: Passing (type, 1) or '1type' as a synonym of type is deprecated; in a future version of numpy, it will be understood as (type, (1,)) / '(1,)type'.\n",
      "  _np_qint8 = np.dtype([(\"qint8\", np.int8, 1)])\n",
      "/Users/SHOTA/.pyenv/versions/anaconda3-5.3.1/lib/python3.7/site-packages/tensorboard/compat/tensorflow_stub/dtypes.py:542: FutureWarning: Passing (type, 1) or '1type' as a synonym of type is deprecated; in a future version of numpy, it will be understood as (type, (1,)) / '(1,)type'.\n",
      "  _np_quint8 = np.dtype([(\"quint8\", np.uint8, 1)])\n",
      "/Users/SHOTA/.pyenv/versions/anaconda3-5.3.1/lib/python3.7/site-packages/tensorboard/compat/tensorflow_stub/dtypes.py:543: FutureWarning: Passing (type, 1) or '1type' as a synonym of type is deprecated; in a future version of numpy, it will be understood as (type, (1,)) / '(1,)type'.\n",
      "  _np_qint16 = np.dtype([(\"qint16\", np.int16, 1)])\n",
      "/Users/SHOTA/.pyenv/versions/anaconda3-5.3.1/lib/python3.7/site-packages/tensorboard/compat/tensorflow_stub/dtypes.py:544: FutureWarning: Passing (type, 1) or '1type' as a synonym of type is deprecated; in a future version of numpy, it will be understood as (type, (1,)) / '(1,)type'.\n",
      "  _np_quint16 = np.dtype([(\"quint16\", np.uint16, 1)])\n",
      "/Users/SHOTA/.pyenv/versions/anaconda3-5.3.1/lib/python3.7/site-packages/tensorboard/compat/tensorflow_stub/dtypes.py:545: FutureWarning: Passing (type, 1) or '1type' as a synonym of type is deprecated; in a future version of numpy, it will be understood as (type, (1,)) / '(1,)type'.\n",
      "  _np_qint32 = np.dtype([(\"qint32\", np.int32, 1)])\n",
      "/Users/SHOTA/.pyenv/versions/anaconda3-5.3.1/lib/python3.7/site-packages/tensorboard/compat/tensorflow_stub/dtypes.py:550: FutureWarning: Passing (type, 1) or '1type' as a synonym of type is deprecated; in a future version of numpy, it will be understood as (type, (1,)) / '(1,)type'.\n",
      "  np_resource = np.dtype([(\"resource\", np.ubyte, 1)])\n"
     ]
    }
   ],
   "source": [
    "from model import *\n",
    "from data import *"
   ]
  },
  {
   "cell_type": "code",
   "execution_count": 2,
   "metadata": {},
   "outputs": [
    {
     "name": "stderr",
     "output_type": "stream",
     "text": [
      "/Users/SHOTA/.pyenv/versions/anaconda3-5.3.1/lib/python3.7/site-packages/tensorflow/python/framework/dtypes.py:516: FutureWarning: Passing (type, 1) or '1type' as a synonym of type is deprecated; in a future version of numpy, it will be understood as (type, (1,)) / '(1,)type'.\n",
      "  _np_qint8 = np.dtype([(\"qint8\", np.int8, 1)])\n",
      "/Users/SHOTA/.pyenv/versions/anaconda3-5.3.1/lib/python3.7/site-packages/tensorflow/python/framework/dtypes.py:517: FutureWarning: Passing (type, 1) or '1type' as a synonym of type is deprecated; in a future version of numpy, it will be understood as (type, (1,)) / '(1,)type'.\n",
      "  _np_quint8 = np.dtype([(\"quint8\", np.uint8, 1)])\n",
      "/Users/SHOTA/.pyenv/versions/anaconda3-5.3.1/lib/python3.7/site-packages/tensorflow/python/framework/dtypes.py:518: FutureWarning: Passing (type, 1) or '1type' as a synonym of type is deprecated; in a future version of numpy, it will be understood as (type, (1,)) / '(1,)type'.\n",
      "  _np_qint16 = np.dtype([(\"qint16\", np.int16, 1)])\n",
      "/Users/SHOTA/.pyenv/versions/anaconda3-5.3.1/lib/python3.7/site-packages/tensorflow/python/framework/dtypes.py:519: FutureWarning: Passing (type, 1) or '1type' as a synonym of type is deprecated; in a future version of numpy, it will be understood as (type, (1,)) / '(1,)type'.\n",
      "  _np_quint16 = np.dtype([(\"quint16\", np.uint16, 1)])\n",
      "/Users/SHOTA/.pyenv/versions/anaconda3-5.3.1/lib/python3.7/site-packages/tensorflow/python/framework/dtypes.py:520: FutureWarning: Passing (type, 1) or '1type' as a synonym of type is deprecated; in a future version of numpy, it will be understood as (type, (1,)) / '(1,)type'.\n",
      "  _np_qint32 = np.dtype([(\"qint32\", np.int32, 1)])\n",
      "/Users/SHOTA/.pyenv/versions/anaconda3-5.3.1/lib/python3.7/site-packages/tensorflow/python/framework/dtypes.py:525: FutureWarning: Passing (type, 1) or '1type' as a synonym of type is deprecated; in a future version of numpy, it will be understood as (type, (1,)) / '(1,)type'.\n",
      "  np_resource = np.dtype([(\"resource\", np.ubyte, 1)])\n",
      "/Users/SHOTA/.pyenv/versions/anaconda3-5.3.1/lib/python3.7/site-packages/tensorboard/compat/tensorflow_stub/dtypes.py:541: FutureWarning: Passing (type, 1) or '1type' as a synonym of type is deprecated; in a future version of numpy, it will be understood as (type, (1,)) / '(1,)type'.\n",
      "  _np_qint8 = np.dtype([(\"qint8\", np.int8, 1)])\n",
      "/Users/SHOTA/.pyenv/versions/anaconda3-5.3.1/lib/python3.7/site-packages/tensorboard/compat/tensorflow_stub/dtypes.py:542: FutureWarning: Passing (type, 1) or '1type' as a synonym of type is deprecated; in a future version of numpy, it will be understood as (type, (1,)) / '(1,)type'.\n",
      "  _np_quint8 = np.dtype([(\"quint8\", np.uint8, 1)])\n",
      "/Users/SHOTA/.pyenv/versions/anaconda3-5.3.1/lib/python3.7/site-packages/tensorboard/compat/tensorflow_stub/dtypes.py:543: FutureWarning: Passing (type, 1) or '1type' as a synonym of type is deprecated; in a future version of numpy, it will be understood as (type, (1,)) / '(1,)type'.\n",
      "  _np_qint16 = np.dtype([(\"qint16\", np.int16, 1)])\n",
      "/Users/SHOTA/.pyenv/versions/anaconda3-5.3.1/lib/python3.7/site-packages/tensorboard/compat/tensorflow_stub/dtypes.py:544: FutureWarning: Passing (type, 1) or '1type' as a synonym of type is deprecated; in a future version of numpy, it will be understood as (type, (1,)) / '(1,)type'.\n",
      "  _np_quint16 = np.dtype([(\"quint16\", np.uint16, 1)])\n",
      "/Users/SHOTA/.pyenv/versions/anaconda3-5.3.1/lib/python3.7/site-packages/tensorboard/compat/tensorflow_stub/dtypes.py:545: FutureWarning: Passing (type, 1) or '1type' as a synonym of type is deprecated; in a future version of numpy, it will be understood as (type, (1,)) / '(1,)type'.\n",
      "  _np_qint32 = np.dtype([(\"qint32\", np.int32, 1)])\n",
      "/Users/SHOTA/.pyenv/versions/anaconda3-5.3.1/lib/python3.7/site-packages/tensorboard/compat/tensorflow_stub/dtypes.py:550: FutureWarning: Passing (type, 1) or '1type' as a synonym of type is deprecated; in a future version of numpy, it will be understood as (type, (1,)) / '(1,)type'.\n",
      "  np_resource = np.dtype([(\"resource\", np.ubyte, 1)])\n"
     ]
    }
   ],
   "source": [
    "import tensorflow"
   ]
  },
  {
   "cell_type": "code",
   "execution_count": 4,
   "metadata": {},
   "outputs": [
    {
     "data": {
      "text/plain": [
       "'1.14.0'"
      ]
     },
     "execution_count": 4,
     "metadata": {},
     "output_type": "execute_result"
    }
   ],
   "source": [
    "tensorflow.__version__"
   ]
  },
  {
   "cell_type": "code",
   "execution_count": 6,
   "metadata": {},
   "outputs": [],
   "source": [
    "import keras"
   ]
  },
  {
   "cell_type": "code",
   "execution_count": 7,
   "metadata": {},
   "outputs": [
    {
     "data": {
      "text/plain": [
       "'2.2.4'"
      ]
     },
     "execution_count": 7,
     "metadata": {},
     "output_type": "execute_result"
    }
   ],
   "source": [
    "keras.__version__"
   ]
  },
  {
   "cell_type": "markdown",
   "metadata": {},
   "source": [
    "## Train your Unet with membrane data\n",
    "membrane data is in folder membrane/, it is a binary classification task.\n",
    "\n",
    "The input shape of image and mask are the same :(batch_size,rows,cols,channel = 1)"
   ]
  },
  {
   "cell_type": "markdown",
   "metadata": {},
   "source": [
    "### Train with data generator"
   ]
  },
  {
   "cell_type": "code",
   "execution_count": 4,
   "metadata": {},
   "outputs": [
    {
     "name": "stdout",
     "output_type": "stream",
     "text": [
      "Epoch 1/5\n",
      "Found 30 images belonging to 1 classes.\n",
      "Found 30 images belonging to 1 classes.\n",
      "50/50 [==============================] - 194s 4s/step - loss: 0.6624 - acc: 0.7464\n",
      "\n",
      "Epoch 00001: loss improved from inf to 0.66239, saving model to unet_membrane.hdf5\n",
      "Epoch 2/5\n",
      "50/50 [==============================] - 188s 4s/step - loss: 0.5262 - acc: 0.8166\n",
      "\n",
      "Epoch 00002: loss improved from 0.66239 to 0.52616, saving model to unet_membrane.hdf5\n",
      "Epoch 3/5\n",
      "50/50 [==============================] - 203s 4s/step - loss: 0.5199 - acc: 0.8009\n",
      "\n",
      "Epoch 00003: loss improved from 0.52616 to 0.51986, saving model to unet_membrane.hdf5\n",
      "Epoch 4/5\n",
      "50/50 [==============================] - 229s 5s/step - loss: 0.5010 - acc: 0.8036\n",
      "\n",
      "Epoch 00004: loss improved from 0.51986 to 0.50104, saving model to unet_membrane.hdf5\n",
      "Epoch 5/5\n",
      "50/50 [==============================] - 229s 5s/step - loss: 0.5074 - acc: 0.7996\n",
      "\n",
      "Epoch 00005: loss did not improve from 0.50104\n"
     ]
    },
    {
     "data": {
      "text/plain": [
       "<keras.callbacks.History at 0x7f91ac7b7c88>"
      ]
     },
     "execution_count": 4,
     "metadata": {},
     "output_type": "execute_result"
    }
   ],
   "source": [
    "data_gen_args = dict(rotation_range=0.2,\n",
    "                    width_shift_range=0.05,\n",
    "                    height_shift_range=0.05,\n",
    "                    shear_range=0.05,\n",
    "                    zoom_range=0.05,\n",
    "                    horizontal_flip=True,\n",
    "                    fill_mode='nearest')\n",
    "myGene = trainGenerator(2,'data/membrane/train','image','label',data_gen_args,save_to_dir = None)\n",
    "model = unet()\n",
    "model_checkpoint = ModelCheckpoint('unet_membrane.hdf5', monitor='loss',verbose=1, save_best_only=True)\n",
    "model.fit_generator(myGene,steps_per_epoch=50,epochs=5,callbacks=[model_checkpoint])"
   ]
  },
  {
   "cell_type": "markdown",
   "metadata": {},
   "source": [
    "### Train with npy file"
   ]
  },
  {
   "cell_type": "code",
   "execution_count": null,
   "metadata": {},
   "outputs": [],
   "source": [
    "#imgs_train,imgs_mask_train = geneTrainNpy(\"data/membrane/train/aug/\",\"data/membrane/train/aug/\")\n",
    "#model.fit(imgs_train, imgs_mask_train, batch_size=2, nb_epoch=10, verbose=1,validation_split=0.2, shuffle=True, callbacks=[model_checkpoint])"
   ]
  },
  {
   "cell_type": "markdown",
   "metadata": {},
   "source": [
    "### test your model and save predicted results"
   ]
  },
  {
   "cell_type": "code",
   "execution_count": 6,
   "metadata": {},
   "outputs": [
    {
     "name": "stdout",
     "output_type": "stream",
     "text": [
      "30/30 [==============================] - 27s 916ms/step\n"
     ]
    },
    {
     "name": "stderr",
     "output_type": "stream",
     "text": [
      "Lossy conversion from float32 to uint8. Range [0, 1]. Convert image to uint8 prior to saving to suppress this warning.\n",
      "Lossy conversion from float32 to uint8. Range [0, 1]. Convert image to uint8 prior to saving to suppress this warning.\n",
      "Lossy conversion from float32 to uint8. Range [0, 1]. Convert image to uint8 prior to saving to suppress this warning.\n",
      "Lossy conversion from float32 to uint8. Range [0, 1]. Convert image to uint8 prior to saving to suppress this warning.\n",
      "Lossy conversion from float32 to uint8. Range [0, 1]. Convert image to uint8 prior to saving to suppress this warning.\n",
      "Lossy conversion from float32 to uint8. Range [0, 1]. Convert image to uint8 prior to saving to suppress this warning.\n",
      "Lossy conversion from float32 to uint8. Range [0, 1]. Convert image to uint8 prior to saving to suppress this warning.\n",
      "Lossy conversion from float32 to uint8. Range [0, 1]. Convert image to uint8 prior to saving to suppress this warning.\n",
      "Lossy conversion from float32 to uint8. Range [0, 1]. Convert image to uint8 prior to saving to suppress this warning.\n",
      "Lossy conversion from float32 to uint8. Range [0, 1]. Convert image to uint8 prior to saving to suppress this warning.\n",
      "Lossy conversion from float32 to uint8. Range [0, 1]. Convert image to uint8 prior to saving to suppress this warning.\n",
      "Lossy conversion from float32 to uint8. Range [0, 1]. Convert image to uint8 prior to saving to suppress this warning.\n",
      "Lossy conversion from float32 to uint8. Range [0, 1]. Convert image to uint8 prior to saving to suppress this warning.\n",
      "Lossy conversion from float32 to uint8. Range [0, 1]. Convert image to uint8 prior to saving to suppress this warning.\n",
      "Lossy conversion from float32 to uint8. Range [0, 1]. Convert image to uint8 prior to saving to suppress this warning.\n",
      "Lossy conversion from float32 to uint8. Range [0, 1]. Convert image to uint8 prior to saving to suppress this warning.\n",
      "Lossy conversion from float32 to uint8. Range [0, 1]. Convert image to uint8 prior to saving to suppress this warning.\n",
      "Lossy conversion from float32 to uint8. Range [0, 1]. Convert image to uint8 prior to saving to suppress this warning.\n",
      "Lossy conversion from float32 to uint8. Range [0, 1]. Convert image to uint8 prior to saving to suppress this warning.\n",
      "Lossy conversion from float32 to uint8. Range [0, 1]. Convert image to uint8 prior to saving to suppress this warning.\n",
      "Lossy conversion from float32 to uint8. Range [0, 1]. Convert image to uint8 prior to saving to suppress this warning.\n",
      "Lossy conversion from float32 to uint8. Range [0, 1]. Convert image to uint8 prior to saving to suppress this warning.\n",
      "Lossy conversion from float32 to uint8. Range [0, 1]. Convert image to uint8 prior to saving to suppress this warning.\n",
      "Lossy conversion from float32 to uint8. Range [0, 1]. Convert image to uint8 prior to saving to suppress this warning.\n",
      "Lossy conversion from float32 to uint8. Range [0, 1]. Convert image to uint8 prior to saving to suppress this warning.\n",
      "Lossy conversion from float32 to uint8. Range [0, 1]. Convert image to uint8 prior to saving to suppress this warning.\n",
      "Lossy conversion from float32 to uint8. Range [0, 1]. Convert image to uint8 prior to saving to suppress this warning.\n",
      "Lossy conversion from float32 to uint8. Range [0, 1]. Convert image to uint8 prior to saving to suppress this warning.\n",
      "Lossy conversion from float32 to uint8. Range [0, 1]. Convert image to uint8 prior to saving to suppress this warning.\n",
      "Lossy conversion from float32 to uint8. Range [0, 1]. Convert image to uint8 prior to saving to suppress this warning.\n"
     ]
    },
    {
     "name": "stdout",
     "output_type": "stream",
     "text": [
      "[[[[0.49475956]\n",
      "   [0.49067315]\n",
      "   [0.48667186]\n",
      "   ...\n",
      "   [0.4875566 ]\n",
      "   [0.48932192]\n",
      "   [0.4893291 ]]\n",
      "\n",
      "  [[0.4884763 ]\n",
      "   [0.48327932]\n",
      "   [0.47968802]\n",
      "   ...\n",
      "   [0.48088598]\n",
      "   [0.48412094]\n",
      "   [0.48567373]]\n",
      "\n",
      "  [[0.48436454]\n",
      "   [0.47745416]\n",
      "   [0.47392392]\n",
      "   ...\n",
      "   [0.4755525 ]\n",
      "   [0.4797212 ]\n",
      "   [0.48230243]]\n",
      "\n",
      "  ...\n",
      "\n",
      "  [[0.48525333]\n",
      "   [0.47878897]\n",
      "   [0.47498512]\n",
      "   ...\n",
      "   [0.47687057]\n",
      "   [0.48020795]\n",
      "   [0.48402184]]\n",
      "\n",
      "  [[0.48544356]\n",
      "   [0.4810919 ]\n",
      "   [0.47849965]\n",
      "   ...\n",
      "   [0.48088813]\n",
      "   [0.48367777]\n",
      "   [0.48903525]]\n",
      "\n",
      "  [[0.49091923]\n",
      "   [0.4898555 ]\n",
      "   [0.48854077]\n",
      "   ...\n",
      "   [0.48878282]\n",
      "   [0.49043962]\n",
      "   [0.49281183]]]\n",
      "\n",
      "\n",
      " [[[0.49474618]\n",
      "   [0.49063748]\n",
      "   [0.48667163]\n",
      "   ...\n",
      "   [0.4875107 ]\n",
      "   [0.48926926]\n",
      "   [0.4892781 ]]\n",
      "\n",
      "  [[0.48847088]\n",
      "   [0.4833097 ]\n",
      "   [0.47972095]\n",
      "   ...\n",
      "   [0.48077205]\n",
      "   [0.48395303]\n",
      "   [0.4855101 ]]\n",
      "\n",
      "  [[0.48433214]\n",
      "   [0.47741222]\n",
      "   [0.4738969 ]\n",
      "   ...\n",
      "   [0.47528505]\n",
      "   [0.4794672 ]\n",
      "   [0.4822053 ]]\n",
      "\n",
      "  ...\n",
      "\n",
      "  [[0.48514277]\n",
      "   [0.47852007]\n",
      "   [0.4747194 ]\n",
      "   ...\n",
      "   [0.4762432 ]\n",
      "   [0.47962636]\n",
      "   [0.4837516 ]]\n",
      "\n",
      "  [[0.4853465 ]\n",
      "   [0.48086983]\n",
      "   [0.4783212 ]\n",
      "   ...\n",
      "   [0.48032996]\n",
      "   [0.48329702]\n",
      "   [0.48907453]]\n",
      "\n",
      "  [[0.49085328]\n",
      "   [0.48991203]\n",
      "   [0.4886616 ]\n",
      "   ...\n",
      "   [0.48877764]\n",
      "   [0.49059537]\n",
      "   [0.49303192]]]\n",
      "\n",
      "\n",
      " [[[0.494743  ]\n",
      "   [0.49065673]\n",
      "   [0.48668167]\n",
      "   ...\n",
      "   [0.48759767]\n",
      "   [0.48934165]\n",
      "   [0.48933077]]\n",
      "\n",
      "  [[0.48847508]\n",
      "   [0.48332793]\n",
      "   [0.47972175]\n",
      "   ...\n",
      "   [0.48094186]\n",
      "   [0.48410138]\n",
      "   [0.4856246 ]]\n",
      "\n",
      "  [[0.48435462]\n",
      "   [0.47746623]\n",
      "   [0.47387043]\n",
      "   ...\n",
      "   [0.4756462 ]\n",
      "   [0.47965434]\n",
      "   [0.48227078]]\n",
      "\n",
      "  ...\n",
      "\n",
      "  [[0.4853684 ]\n",
      "   [0.47900978]\n",
      "   [0.47523072]\n",
      "   ...\n",
      "   [0.47613555]\n",
      "   [0.47948718]\n",
      "   [0.4836709 ]]\n",
      "\n",
      "  [[0.48556542]\n",
      "   [0.48130473]\n",
      "   [0.47863662]\n",
      "   ...\n",
      "   [0.48012197]\n",
      "   [0.48313063]\n",
      "   [0.48909602]]\n",
      "\n",
      "  [[0.49096775]\n",
      "   [0.48980838]\n",
      "   [0.48841628]\n",
      "   ...\n",
      "   [0.48874947]\n",
      "   [0.49063036]\n",
      "   [0.49309316]]]\n",
      "\n",
      "\n",
      " ...\n",
      "\n",
      "\n",
      " [[[0.49475327]\n",
      "   [0.49071354]\n",
      "   [0.4867643 ]\n",
      "   ...\n",
      "   [0.487804  ]\n",
      "   [0.4893983 ]\n",
      "   [0.48932377]]\n",
      "\n",
      "  [[0.48855725]\n",
      "   [0.48352832]\n",
      "   [0.47994015]\n",
      "   ...\n",
      "   [0.48125786]\n",
      "   [0.48446372]\n",
      "   [0.48603347]]\n",
      "\n",
      "  [[0.4843946 ]\n",
      "   [0.47774535]\n",
      "   [0.4742066 ]\n",
      "   ...\n",
      "   [0.47645488]\n",
      "   [0.48001233]\n",
      "   [0.48269784]]\n",
      "\n",
      "  ...\n",
      "\n",
      "  [[0.48517388]\n",
      "   [0.4785738 ]\n",
      "   [0.4747868 ]\n",
      "   ...\n",
      "   [0.47688997]\n",
      "   [0.48025134]\n",
      "   [0.4840315 ]]\n",
      "\n",
      "  [[0.48538673]\n",
      "   [0.48092926]\n",
      "   [0.4783547 ]\n",
      "   ...\n",
      "   [0.48099095]\n",
      "   [0.48374197]\n",
      "   [0.4889741 ]]\n",
      "\n",
      "  [[0.49087536]\n",
      "   [0.48989382]\n",
      "   [0.48861957]\n",
      "   ...\n",
      "   [0.48887205]\n",
      "   [0.49038452]\n",
      "   [0.49268577]]]\n",
      "\n",
      "\n",
      " [[[0.49476743]\n",
      "   [0.4906787 ]\n",
      "   [0.4867095 ]\n",
      "   ...\n",
      "   [0.4874717 ]\n",
      "   [0.48925573]\n",
      "   [0.48926175]]\n",
      "\n",
      "  [[0.48853987]\n",
      "   [0.4834585 ]\n",
      "   [0.4798782 ]\n",
      "   ...\n",
      "   [0.48073152]\n",
      "   [0.48388767]\n",
      "   [0.48548162]]\n",
      "\n",
      "  [[0.48430446]\n",
      "   [0.47760028]\n",
      "   [0.4741508 ]\n",
      "   ...\n",
      "   [0.47511023]\n",
      "   [0.4794516 ]\n",
      "   [0.48215863]]\n",
      "\n",
      "  ...\n",
      "\n",
      "  [[0.48511684]\n",
      "   [0.4785664 ]\n",
      "   [0.47475988]\n",
      "   ...\n",
      "   [0.47640836]\n",
      "   [0.47981113]\n",
      "   [0.48381996]]\n",
      "\n",
      "  [[0.48531684]\n",
      "   [0.48088267]\n",
      "   [0.47837374]\n",
      "   ...\n",
      "   [0.48055482]\n",
      "   [0.48343593]\n",
      "   [0.48903275]]\n",
      "\n",
      "  [[0.49083415]\n",
      "   [0.48989454]\n",
      "   [0.48861355]\n",
      "   ...\n",
      "   [0.48880163]\n",
      "   [0.49052453]\n",
      "   [0.49291316]]]\n",
      "\n",
      "\n",
      " [[[0.4947831 ]\n",
      "   [0.49054003]\n",
      "   [0.4865457 ]\n",
      "   ...\n",
      "   [0.48730367]\n",
      "   [0.48904946]\n",
      "   [0.48902777]]\n",
      "\n",
      "  [[0.48832026]\n",
      "   [0.48284045]\n",
      "   [0.47944042]\n",
      "   ...\n",
      "   [0.4803243 ]\n",
      "   [0.48348475]\n",
      "   [0.48511717]]\n",
      "\n",
      "  [[0.48426408]\n",
      "   [0.47684714]\n",
      "   [0.47342312]\n",
      "   ...\n",
      "   [0.47441843]\n",
      "   [0.4789348 ]\n",
      "   [0.4818212 ]]\n",
      "\n",
      "  ...\n",
      "\n",
      "  [[0.4849854 ]\n",
      "   [0.4780587 ]\n",
      "   [0.4742957 ]\n",
      "   ...\n",
      "   [0.47594184]\n",
      "   [0.47928494]\n",
      "   [0.48358238]]\n",
      "\n",
      "  [[0.48525926]\n",
      "   [0.4804659 ]\n",
      "   [0.47804374]\n",
      "   ...\n",
      "   [0.47996485]\n",
      "   [0.4830297 ]\n",
      "   [0.48908886]]\n",
      "\n",
      "  [[0.49076825]\n",
      "   [0.49001247]\n",
      "   [0.48881313]\n",
      "   ...\n",
      "   [0.4888108 ]\n",
      "   [0.4906816 ]\n",
      "   [0.49315637]]]]\n"
     ]
    }
   ],
   "source": [
    "testGene = testGenerator(\"data/membrane/test\")\n",
    "model = unet()\n",
    "model.load_weights(\"unet_membrane.hdf5\")\n",
    "results = model.predict_generator(testGene,30,verbose=1)\n",
    "saveResult(\"data/membrane/test\",results)\n",
    "print(results)"
   ]
  },
  {
   "cell_type": "code",
   "execution_count": 8,
   "metadata": {},
   "outputs": [
    {
     "data": {
      "text/plain": [
       "<matplotlib.image.AxesImage at 0x7fe6daa1a2e8>"
      ]
     },
     "execution_count": 8,
     "metadata": {},
     "output_type": "execute_result"
    },
    {
     "data": {
      "image/png": "[encoded data removed]",
      "text/plain": [
       "<Figure size 144x144 with 1 Axes>"
      ]
     },
     "metadata": {
      "needs_background": "light"
     },
     "output_type": "display_data"
    }
   ],
   "source": [
    "%matplotlib inline\n",
    "import matplotlib.pyplot as plt\n",
    "import matplotlib.image as mpimg\n",
    "plt.figure(figsize=(2,2))\n",
    "plt.imshow(mpimg.imread(\"./data/membrane/test/1.png\"))"
   ]
  },
  {
   "cell_type": "code",
   "execution_count": 9,
   "metadata": {},
   "outputs": [
    {
     "data": {
      "text/plain": [
       "<matplotlib.image.AxesImage at 0x7fe6dab99240>"
      ]
     },
     "execution_count": 9,
     "metadata": {},
     "output_type": "execute_result"
    },
    {
     "data": {
      "image/png": "[encoded data removed]",
      "text/plain": [
       "<Figure size 144x144 with 1 Axes>"
      ]
     },
     "metadata": {
      "needs_background": "light"
     },
     "output_type": "display_data"
    }
   ],
   "source": [
    "plt.figure(figsize=(2,2))\n",
    "plt.imshow(mpimg.imread(\"./data/membrane/test/0_predict.png\"))"
   ]
  },
  {
   "cell_type": "markdown",
   "metadata": {},
   "source": [
    "### 【問題2】コードリーディング\n",
    "\n",
    "論文[1]に目を通した上で、上記実装のコードリーディングを行ってください。\n",
    "\n",
    "**Train with data generator**で`my Gene=`でtrainGeneratorで対象のディレクトリから　image　と　labelを抜いてきてmodel.pyファイルに記載してあるunetメソッドに通す。\n",
    "\n",
    "`model.fit_generator`で学習を行った結果は../u-net/master/data/membrance/train/argに保存される。\n",
    "\n",
    "**test your model and save predicted results**でtestGeneから読み込まれた画像データが予測を経て、同フォルダ内に*_predictの形で出力される。"
   ]
  },
  {
   "cell_type": "code",
   "execution_count": null,
   "metadata": {},
   "outputs": [],
   "source": []
  }
 ],
 "metadata": {
  "kernelspec": {
   "display_name": "Python 3",
   "language": "python",
   "name": "python3"
  },
  "language_info": {
   "codemirror_mode": {
    "name": "ipython",
    "version": 3
   },
   "file_extension": ".py",
   "mimetype": "text/x-python",
   "name": "python",
   "nbconvert_exporter": "python",
   "pygments_lexer": "ipython3",
   "version": "3.7.2"
  }
 },
 "nbformat": 4,
 "nbformat_minor": 2
}
