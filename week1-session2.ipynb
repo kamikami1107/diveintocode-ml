{
 "cells": [
  {
   "cell_type": "markdown",
   "metadata": {},
   "source": [
    "## 何回折ったら富士山を超えるか問題"
   ]
  },
  {
   "cell_type": "markdown",
   "metadata": {},
   "source": [
    "「Pythonを使ってみよう」の問題では「1枚の紙を43回折り曲げた時の厚さを計算するプログラム」を作成し、43回折ることで月に届くことが確認できました。\n",
    "\n",
    "\n",
    "ここで「何回折ったらある厚さになるのか」という疑問が生まれます。こういったことを計算するプログラムを作成していきましょう。"
   ]
  },
  {
   "cell_type": "markdown",
   "metadata": {},
   "source": [
    "### 紙を折った時の厚さの数式\n",
    "\n",
    "授業前課題と同様ですが確認しておきます。\n",
    "\n",
    "\n",
    "n回折った紙の厚さ$t_{n}$は以下のように表せます。\n",
    "\n",
    "$$\n",
    "t_{n} = t_{0}×2^{n}\n",
    "$$\n",
    "\n",
    "折る前の紙の厚さ $t_{0}$ は0.00008mとします。一般的なコピー用紙の厚さです。"
   ]
  },
  {
   "cell_type": "markdown",
   "metadata": {},
   "source": [
    "### 【問題1】富士山を超える最小の折る回数\n",
    "\n",
    "厚さが「富士山(3776m)」を超えるのは何回紙を折った時か計算するプログラムを作成してください。"
   ]
  },
  {
   "cell_type": "code",
   "execution_count": 9,
   "metadata": {},
   "outputs": [
    {
     "name": "stdout",
     "output_type": "stream",
     "text": [
      "26回目で富士山を超え、その時の高さは5368.71mである。\n"
     ]
    }
   ],
   "source": [
    "#【問題1】富士山を超える最小の折る回数\n",
    "FUZISAN = 3776\n",
    "THICKNESS = 0.00008\n",
    "n_folded = 0\n",
    "folded_thickness = THICKNESS\n",
    "while folded_thickness <= FUZISAN :\n",
    "    n_folded += 1\n",
    "    #print(folded_thickness)\n",
    "    folded_thickness = THICKNESS * (2**n_folded)\n",
    "print(\"{}回目で富士山を超え、その時の高さは{:.2f}mである。\".format(n_folded, folded_thickness))"
   ]
  },
  {
   "cell_type": "markdown",
   "metadata": {},
   "source": [
    "### 【問題2】任意の厚さに対応した関数を作成\n",
    "\n",
    "距離を入力すると、何回折った時に超えるかを出力する関数を作成してください。引数として、折る前の厚さ $t_{0}$ も設定できるようにしましょう。\n",
    "\n",
    "\n",
    "この関数を利用して、「最も近い太陽以外の恒星」に到達するには紙を何回折る必要があるか計算してください。「最も近い太陽以外の恒星」の距離は調査してください。"
   ]
  },
  {
   "cell_type": "markdown",
   "metadata": {},
   "source": [
    "- 地球から最も近い太陽以外の恒星はケンタウルス座α星で4.32光年。\n",
    "- 1光年：9460730472580800m"
   ]
  },
  {
   "cell_type": "code",
   "execution_count": 10,
   "metadata": {},
   "outputs": [
    {
     "name": "stdout",
     "output_type": "stream",
     "text": [
      "69回目で超えて、その時の高さは47223664828696456.00mである。\n"
     ]
    }
   ],
   "source": [
    "Kentaurusu_za_α_sei = 9460730472580800 * 4.32\n",
    "#print(Kentaurusu_za_α_sei)\n",
    "\n",
    "THICKNESS = 0.00008\n",
    "n_folded = 0\n",
    "folded_thickness = 0\n",
    "while folded_thickness <= Kentaurusu_za_α_sei:\n",
    "    folded_thickness = THICKNESS * (2**n_folded)\n",
    "    n_folded += 1\n",
    "print(\"{}回目で超えて、その時の高さは{:.2f}mである。\".format(n_folded-1, folded_thickness))\n",
    "#print(\"{:.2f}m\".format(folded_thickness))"
   ]
  },
  {
   "cell_type": "markdown",
   "metadata": {},
   "source": [
    "### 【問題3】必要な紙の長さ\n",
    "\n",
    "実際のところ身近にある紙は43回はおろか10回も折れません。しかし、大きな紙ほどたくさん折ることができ、トイレットペーパーのような長い紙を一方向に折ることを考えた時の折れる回数を求める公式が存在します。\n",
    "\n",
    "\n",
    "厚さ $t_{0}$ の紙をn回折るために必要な紙の長さLは以下の公式で求まります。\n",
    "\n",
    "$$\n",
    "L = \\frac{\\pi t_{0}}{6}(2^n + 4)(2^n - 1)\n",
    "$$\n",
    "\n",
    "この公式を利用して、実際に紙を折り任意の厚さに到達するために必要な紙の長さを求める関数を作成してください。\n",
    "\n",
    "\n",
    "そしてこれを使って「月」「富士山」「最も近い太陽以外の恒星」に届くために必要な紙の長さを求めてください。"
   ]
  },
  {
   "cell_type": "markdown",
   "metadata": {},
   "source": [
    "- 月の場合"
   ]
  },
  {
   "cell_type": "code",
   "execution_count": 11,
   "metadata": {},
   "outputs": [
    {
     "name": "stdout",
     "output_type": "stream",
     "text": [
      "3.240919444170781e+21m\n"
     ]
    }
   ],
   "source": [
    "import math\n",
    "\n",
    "TSUKI = 384400*1000\n",
    "THICKNESS = 0.00008\n",
    "\n",
    "n_folded = 0\n",
    "folded_thickness = 0\n",
    "\n",
    "while folded_thickness <= TSUKI :\n",
    "    folded_thickness = THICKNESS * (2**n_folded)\n",
    "    n_folded += 1\n",
    "    \n",
    "#print(\"{}回目\".format(n_folded-1))\n",
    "#print(\"{:.2f}m\".format(folded_thickness))\n",
    "print(\"月を超えるには{}mの紙が必要である。\".format(math.pi*THICKNESS*(2**(n_folded-1)+4)*(2**(n_folded-1)-1)/6))"
   ]
  },
  {
   "cell_type": "markdown",
   "metadata": {},
   "source": [
    "- 富士山の場合"
   ]
  },
  {
   "cell_type": "code",
   "execution_count": 12,
   "metadata": {},
   "outputs": [
    {
     "name": "stdout",
     "output_type": "stream",
     "text": [
      "188646348487.24014m\n"
     ]
    }
   ],
   "source": [
    "import math\n",
    "\n",
    "FUZISAN = 3776\n",
    "THICKNESS = 0.00008\n",
    "\n",
    "n_folded = 0\n",
    "folded_thickness = 0\n",
    "\n",
    "while folded_thickness <= FUZISAN :\n",
    "    folded_thickness = THICKNESS * (2**n_folded)\n",
    "    n_folded += 1\n",
    "    \n",
    "#print(\"{}回目\".format(n_folded-1))\n",
    "#print(\"{:.2f}m\".format(folded_thickness))\n",
    "print(\"富士山を超えるには{}mの紙が必要である。\".format(math.pi*THICKNESS*(2**(n_folded-1)+4)*(2**(n_folded-1)-1)/6))"
   ]
  },
  {
   "cell_type": "markdown",
   "metadata": {},
   "source": [
    "- 最も近い太陽以外の恒星の場合"
   ]
  },
  {
   "cell_type": "code",
   "execution_count": 14,
   "metadata": {},
   "outputs": [
    {
     "name": "stdout",
     "output_type": "stream",
     "text": [
      "最も近い太陽以外の恒星を超えるには1.4595803601100348e+37mの紙が必要である。\n"
     ]
    }
   ],
   "source": [
    "import math\n",
    "\n",
    "Kentaurusu_za_α_sei = 9460730472580800 * 4.32\n",
    "THICKNESS = 0.00008\n",
    "\n",
    "n_folded = 0\n",
    "folded_thickness = 0\n",
    "\n",
    "while folded_thickness <= Kentaurusu_za_α_sei  :\n",
    "    folded_thickness = THICKNESS * (2**n_folded)\n",
    "    n_folded += 1\n",
    "    \n",
    "#print(\"{}回目\".format(n_folded-1))\n",
    "#print(\"{:.2f}m\".format(folded_thickness))\n",
    "print(\"最も近い太陽以外の恒星を超えるには{}mの紙が必要である。\".format(math.pi*THICKNESS*(2**(n_folded-1)+4)*(2**(n_folded-1)-1)/6))"
   ]
  },
  {
   "cell_type": "code",
   "execution_count": null,
   "metadata": {},
   "outputs": [],
   "source": []
  }
 ],
 "metadata": {
  "kernelspec": {
   "display_name": "Python 3",
   "language": "python",
   "name": "python3"
  },
  "language_info": {
   "codemirror_mode": {
    "name": "ipython",
    "version": 3
   },
   "file_extension": ".py",
   "mimetype": "text/x-python",
   "name": "python",
   "nbconvert_exporter": "python",
   "pygments_lexer": "ipython3",
   "version": "3.7.2"
  }
 },
 "nbformat": 4,
 "nbformat_minor": 4
}
