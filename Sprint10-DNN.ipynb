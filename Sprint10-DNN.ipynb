{
 "cells": [
  {
   "cell_type": "markdown",
   "metadata": {},
   "source": [
    "# Deep_learning scratch"
   ]
  },
  {
   "cell_type": "code",
   "execution_count": 2,
   "metadata": {
    "ExecuteTime": {
     "end_time": "2021-01-24T16:59:30.907288Z",
     "start_time": "2021-01-24T16:59:29.426542Z"
    }
   },
   "outputs": [],
   "source": [
    "import numpy as np\n",
    "import seaborn as sns\n",
    "import matplotlib.pyplot as plt\n",
    "from sklearn.metrics import accuracy_score\n",
    "%matplotlib inline"
   ]
  },
  {
   "cell_type": "markdown",
   "metadata": {},
   "source": [
    "## ディープニューラルネットワークスクラッチ"
   ]
  },
  {
   "cell_type": "markdown",
   "metadata": {},
   "source": [
    "前回は3層のニューラルネットワークを作成しましたが、今回はこれを任意の層数に拡張しやすいものに書き換えていきます。その上で、活性化関数や初期値、最適化手法について発展的なものを扱えるようにしていきます。\n",
    "\n",
    "\n",
    "このようなスクラッチを行うことで、今後各種フレームワークを利用していくにあたり、内部の動きが想像できることを目指します。\n",
    "\n",
    "\n",
    "名前は新しくScratchDeepNeuralNetrowkClassifierクラスとしてください。"
   ]
  },
  {
   "cell_type": "markdown",
   "metadata": {},
   "source": [
    "### 層などのクラス化"
   ]
  },
  {
   "cell_type": "markdown",
   "metadata": {},
   "source": [
    "クラスにまとめて行くことで、構成を変更しやすい実装にしていきます。\n",
    "\n",
    "\n",
    "手を加える箇所\n",
    "\n",
    "\n",
    "- 層の数\n",
    "- 層の種類（今後畳み込み層など他のタイプの層が登場する）\n",
    "- 活性化関数の種類\n",
    "- 重みやバイアスの初期化方法\n",
    "- 最適化手法\n",
    "\n",
    "そのために、全結合層、各種活性化関数、重みやバイアスの初期化、最適化手法それぞれのクラスを作成します。\n",
    "\n",
    "\n",
    "実装方法は自由ですが、簡単な例を紹介します。サンプルコード1のように全結合層と活性化関数のインスタンスを作成し、サンプルコード2,3のようにして使用します。それぞれのクラスについてはこのあと解説します。\n"
   ]
  },
  {
   "cell_type": "markdown",
   "metadata": {},
   "source": [
    "**《サンプルコード1》**\n",
    "\n",
    "ScratchDeepNeuralNetrowkClassifierのfitメソッド内"
   ]
  },
  {
   "cell_type": "markdown",
   "metadata": {},
   "source": [
    "self.sigma : ガウス分布の標準偏差\n",
    "\n",
    "self.lr : 学習率\n",
    "\n",
    "self.n_nodes1 : 1層目のノード数\n",
    "\n",
    "self.n_nodes2 : 2層目のノード数\n",
    "\n",
    "self.n_output : 出力層のノード数\n",
    "\n",
    "\n",
    "optimizer = SGD(self.lr)\n",
    "\n",
    "self.FC1 = FC(self.n_features, self.n_nodes1, SimpleInitializer(self.sigma), optimizer)\n",
    "\n",
    "self.activation1 = Tanh()\n",
    "\n",
    "self.FC2 = FC(self.n_nodes1, self.n_nodes2, SimpleInitializer(self.sigma), optimizer)\n",
    "\n",
    "self.activation2 = Tanh()\n",
    "\n",
    "self.FC3 = FC(self.n_nodes2, self.n_output, SimpleInitializer(self.sigma), optimizer)\n",
    "\n",
    "self.activation3 = Softmax()"
   ]
  },
  {
   "cell_type": "markdown",
   "metadata": {},
   "source": [
    "**《サンプルコード2》**\n",
    "\n",
    "\n",
    "イテレーションごとのフォワード"
   ]
  },
  {
   "cell_type": "markdown",
   "metadata": {},
   "source": [
    "A1 = self.FC1.forward(X)\n",
    "\n",
    "Z1 = self.activation1.forward(A1)\n",
    "\n",
    "A2 = self.FC2.forward(Z1)\n",
    "\n",
    "Z2 = self.activation2.forward(A2)\n",
    "\n",
    "A3 = self.FC3.forward(Z2)\n",
    "\n",
    "Z3 = self.activation3.forward(A3)"
   ]
  },
  {
   "cell_type": "markdown",
   "metadata": {},
   "source": [
    "**《サンプルコード3》**\n",
    "\n",
    "\n",
    "イテレーションごとのバックワード"
   ]
  },
  {
   "cell_type": "markdown",
   "metadata": {},
   "source": [
    "dA3 = self.activation3.backward(Z3, Y) # 交差エントロピー誤差とソフトマックスを合わせている\n",
    "\n",
    "dZ2 = self.FC3.backward(dA3)\n",
    "\n",
    "dA2 = self.activation2.backward(dZ2)\n",
    "\n",
    "dZ1 = self.FC2.backward(dA2)\n",
    "\n",
    "dA1 = self.activation1.backward(dZ1)\n",
    "\n",
    "dZ0 = self.FC1.backward(dA1) # dZ0は使用しない"
   ]
  },
  {
   "cell_type": "markdown",
   "metadata": {},
   "source": [
    "### 【問題1】全結合層のクラス化\n",
    "\n",
    "全結合層のクラス化を行なってください。\n",
    "\n",
    "\n",
    "以下に雛形を載せました。コンストラクタで重みやバイアスの初期化をして、あとはフォワードとバックワードのメソッドを用意します。重みW、バイアスB、およびフォワード時の入力Xをインスタンス変数として保持しておくことで、煩雑な入出力は不要になります。\n",
    "\n",
    "\n",
    "なお、インスタンスも引数として渡すことができます。そのため、初期化方法のインスタンスinitializerをコンストラクタで受け取れば、それにより初期化が行われます。渡すインスタンスを変えれば、初期化方法が変えられます。\n",
    "\n",
    "\n",
    "また、引数として自身のインスタンスselfを渡すこともできます。これを利用してself.optimizer.update(self)という風に層の重みの更新が可能です。更新に必要な値は複数ありますが、全て全結合層が持つインスタンス変数にすることができます。\n",
    "\n",
    "\n",
    "初期化方法と最適化手法のクラスについては後述します。"
   ]
  },
  {
   "cell_type": "code",
   "execution_count": 3,
   "metadata": {
    "ExecuteTime": {
     "end_time": "2021-01-24T16:59:34.298109Z",
     "start_time": "2021-01-24T16:59:34.292657Z"
    }
   },
   "outputs": [],
   "source": [
    "class FC:\n",
    "    def __init__(self, n_nodes1, n_nodes2, initializer, optimizer):\n",
    "        # 初期化\n",
    "        # initializerのメソッドを使い、self.Wとself.Bを初期化する\n",
    "        self.W = initializer.W(n_nodes1, n_nodes2)\n",
    "        self.B = initializer.B(n_nodes2)\n",
    "        self.optimizer = optimizer\n",
    "        self.X = None\n",
    "        self.dW = None\n",
    "        self.dB = None\n",
    "\n",
    "    def forward(self, X): \n",
    "        self.X = X\n",
    "        A = np.dot(X, self.W) + self.B\n",
    "        return A\n",
    "\n",
    "    def backward(self, dA):\n",
    "        dW = np.dot(self.X.T, dA)\n",
    "        dB =  np.sum(dA, axis=0)\n",
    "        dZ =  np.dot(dA, self.W.T)\n",
    "\n",
    "        self.optimizer.update(self, dW, dB) # 更新\n",
    "        return dZ"
   ]
  },
  {
   "cell_type": "markdown",
   "metadata": {},
   "source": [
    "### 【問題2】初期化方法のクラス化\n",
    "\n",
    "初期化を行うコードをクラス化してください。\n",
    "\n",
    "\n",
    "前述のように、全結合層のコンストラクタに初期化方法のインスタンスを渡せるようにします。以下の雛形に必要なコードを書き加えていってください。標準偏差の値（sigma）はコンストラクタで受け取るようにすることで、全結合層のクラス内にこの値（sigma）を渡さなくてすむようになります。\n",
    "\n",
    "\n",
    "これまで扱ってきた初期化方法はSimpleInitializerクラスと名付けることにします。"
   ]
  },
  {
   "cell_type": "code",
   "execution_count": 4,
   "metadata": {
    "ExecuteTime": {
     "end_time": "2021-01-24T17:00:31.777522Z",
     "start_time": "2021-01-24T17:00:31.773845Z"
    }
   },
   "outputs": [],
   "source": [
    "class SimpleInitializer:\n",
    "    def __init__(self, sigma):\n",
    "        self.sigma = sigma\n",
    "        \n",
    "    def W(self, n_nodes1, n_nodes2):\n",
    "        W = self.sigma * np.random.randn(n_nodes1, n_nodes2)\n",
    "        return W\n",
    "    \n",
    "    def B(self, n_nodes2):\n",
    "        B = self.sigma * np.random.randn(n_nodes2)\n",
    "        return B"
   ]
  },
  {
   "cell_type": "markdown",
   "metadata": {},
   "source": [
    "### 【問題3】最適化手法のクラス化\n",
    "\n",
    "最適化手法のクラス化を行なってください。\n",
    "\n",
    "\n",
    "最適化手法に関しても初期化方法同様に全結合層にインスタンスとして渡します。バックワードのときにself.optimizer.update(self)のように更新できるようにします。以下の雛形に必要なコードを書き加えていってください。\n",
    "\n",
    "\n",
    "これまで扱ってきた最適化手法はSGDクラス（Stochastic Gradient Descent、確率的勾配降下法）として作成します。"
   ]
  },
  {
   "cell_type": "code",
   "execution_count": 5,
   "metadata": {
    "ExecuteTime": {
     "end_time": "2021-01-24T17:01:43.632471Z",
     "start_time": "2021-01-24T17:01:43.628843Z"
    }
   },
   "outputs": [],
   "source": [
    "class SGD:\n",
    "    def __init__(self, lr):\n",
    "        self.lr = lr\n",
    "        \n",
    "    def update(self, layer, dW, dB):\n",
    "        layer.W -= self.lr * dW\n",
    "        layer.B -= self.lr * dB\n",
    "        return self"
   ]
  },
  {
   "cell_type": "markdown",
   "metadata": {},
   "source": [
    "### 【問題4】活性化関数のクラス化\n",
    "\n",
    "活性化関数のクラス化を行なってください。\n",
    "\n",
    "\n",
    "ソフトマックス関数のバックプロパゲーションには交差エントロピー誤差の計算も含む実装を行うことで計算が簡略化されます。\n"
   ]
  },
  {
   "cell_type": "markdown",
   "metadata": {},
   "source": [
    "#### 発展的要素\n",
    "活性化関数や重みの初期値、最適化手法に関してこれまで見てきた以外のものを実装していきます。"
   ]
  },
  {
   "cell_type": "code",
   "execution_count": 6,
   "metadata": {
    "ExecuteTime": {
     "end_time": "2021-01-24T17:03:08.490204Z",
     "start_time": "2021-01-24T17:03:08.486069Z"
    }
   },
   "outputs": [],
   "source": [
    "# sigmoid関数のクラス\n",
    "class Sigmoid:\n",
    "    def forward(self, A):\n",
    "        A = -709*(A <= -709) + A*(A > -709) # オーバーフロー対策\n",
    "        self.Z = 1 / (1 + np.exp(-A))\n",
    "        return self.Z\n",
    "    \n",
    "    def backward(self, dZ):\n",
    "        dA = dZ * self.Z * (1- self.Z)\n",
    "        return dA"
   ]
  },
  {
   "cell_type": "code",
   "execution_count": 7,
   "metadata": {
    "ExecuteTime": {
     "end_time": "2021-01-24T17:03:17.329823Z",
     "start_time": "2021-01-24T17:03:17.138739Z"
    }
   },
   "outputs": [
    {
     "data": {
      "image/png": "[encoded data removed]",
      "text/plain": [
       "<Figure size 432x288 with 1 Axes>"
      ]
     },
     "metadata": {},
     "output_type": "display_data"
    }
   ],
   "source": [
    "# 可視化する（forwardのみ）\n",
    "sns.set()\n",
    "X = np.arange(-8, 8, 0.1)\n",
    "Y = Sigmoid().forward(X)\n",
    "plt.plot(X,Y)\n",
    "plt.xlim(-1, 1)\n",
    "plt.ylim(0.25, 0.75)\n",
    "plt.title(\"Sigmoid_forward\")\n",
    "plt.show()"
   ]
  },
  {
   "cell_type": "code",
   "execution_count": 8,
   "metadata": {
    "ExecuteTime": {
     "end_time": "2021-01-24T17:03:28.345492Z",
     "start_time": "2021-01-24T17:03:28.342118Z"
    }
   },
   "outputs": [],
   "source": [
    "# Hyperbolic tangent関数のクラス\n",
    "class Tanh:\n",
    "    def forward(self, A):\n",
    "        self.Z = np.tanh(A)  \n",
    "        return self.Z\n",
    "\n",
    "    def backward(self, dZ):\n",
    "        dA = dZ * (1 - self.Z ** 2)\n",
    "        return dA"
   ]
  },
  {
   "cell_type": "code",
   "execution_count": 9,
   "metadata": {
    "ExecuteTime": {
     "end_time": "2021-01-24T17:03:38.655424Z",
     "start_time": "2021-01-24T17:03:38.516845Z"
    }
   },
   "outputs": [
    {
     "data": {
      "image/png": "[encoded data removed]",
      "text/plain": [
       "<Figure size 432x288 with 1 Axes>"
      ]
     },
     "metadata": {},
     "output_type": "display_data"
    }
   ],
   "source": [
    "# 可視化する（forwardのみ）\n",
    "X = np.arange(-8, 8, 0.1)\n",
    "Y = Tanh().forward(X)\n",
    "plt.plot(X,Y)\n",
    "plt.xlim(-1, 1)\n",
    "plt.ylim(-0.8, 0.8)\n",
    "plt.title(\"Tanh_forward\")\n",
    "plt.show()"
   ]
  },
  {
   "cell_type": "code",
   "execution_count": 10,
   "metadata": {
    "ExecuteTime": {
     "end_time": "2021-01-24T17:04:07.911076Z",
     "start_time": "2021-01-24T17:04:07.907138Z"
    }
   },
   "outputs": [],
   "source": [
    "# softmax関数のクラス\n",
    "class Softmax:\n",
    "    def forward(self, A3):\n",
    "        c = np.max(A3) # オーバーフロー対策\n",
    "        Z3 = np.exp(A3 - c) / np.sum(np.exp(A3 - c), axis=1).reshape(-1, 1)\n",
    "        return Z3\n",
    "\n",
    "    def backward(self, Z3, y):\n",
    "        dA3 = Z3 - y\n",
    "        return dA3"
   ]
  },
  {
   "cell_type": "markdown",
   "metadata": {},
   "source": [
    "### 【問題5】ReLUクラスの作成\n",
    "\n",
    "現在一般的に使われている活性化関数であるReLU（Rectified Linear Unit）をReLUクラスとして実装してください。\n",
    "\n",
    "\n",
    "ReLUは以下の数式です。\n",
    "\n",
    "$$\n",
    "f(x) = ReLU(x) = \\begin{cases}\n",
    "x  & \\text{if $x>0$,}\\\\\n",
    "0 & \\text{if $x\\leqq0$.}\n",
    "\\end{cases}\n",
    "$$\n",
    "\n",
    "$x$ : ある特徴量。スカラー\n",
    "\n",
    "\n",
    "実装上はnp.maximumを使い配列に対してまとめて計算が可能です。\n",
    "\n",
    "https://docs.scipy.org/doc/numpy-1.15.0/reference/generated/numpy.maximum.html\n",
    "\n",
    "一方、バックプロパゲーションのための $x$ に関する $f(x)$ の微分は以下のようになります。\n",
    "\n",
    "$$\n",
    "\\frac{\\partial f(x)}{\\partial x} = \\begin{cases}\n",
    "1  & \\text{if $x>0$,}\\\\\n",
    "0 & \\text{if $x\\leqq0$.}\n",
    "\\end{cases}\n",
    "$$\n",
    "\n",
    "数学的には微分可能ではないですが、 $x=0$ のとき $0$ とすることで対応しています。\n",
    "\n",
    "\n",
    "フォワード時の $x$ の正負により、勾配を逆伝播するかどうかが決まるということになります。"
   ]
  },
  {
   "cell_type": "code",
   "execution_count": 11,
   "metadata": {
    "ExecuteTime": {
     "end_time": "2021-01-24T17:06:41.109789Z",
     "start_time": "2021-01-24T17:06:41.106005Z"
    }
   },
   "outputs": [],
   "source": [
    "# ReLUクラス\n",
    "class ReLU:\n",
    "    def __init__(self):\n",
    "        self.mask = None\n",
    "\n",
    "    def forward(self, A):\n",
    "        self.mask = (A <= 0)\n",
    "        Z = A.copy()\n",
    "        Z[self.mask] = 0\n",
    "        return Z\n",
    "\n",
    "    def backward(self, dZ):\n",
    "        dZ[self.mask] = 0\n",
    "        dA = dZ\n",
    "        return dA"
   ]
  },
  {
   "cell_type": "code",
   "execution_count": 12,
   "metadata": {
    "ExecuteTime": {
     "end_time": "2021-01-24T17:06:49.399291Z",
     "start_time": "2021-01-24T17:06:49.216529Z"
    }
   },
   "outputs": [
    {
     "data": {
      "image/png": "[encoded data removed]",
      "text/plain": [
       "<Figure size 432x288 with 1 Axes>"
      ]
     },
     "metadata": {},
     "output_type": "display_data"
    }
   ],
   "source": [
    "# 可視化する（forwardのみ）\n",
    "X = np.arange(-8, 8, 0.1)\n",
    "Y = ReLU().forward(X)\n",
    "plt.plot(X,Y)\n",
    "plt.xlim(-1, 1)\n",
    "plt.ylim(-0.1, 1.1)\n",
    "plt.title(\"ReLU_forward\")\n",
    "plt.show()\n"
   ]
  },
  {
   "cell_type": "markdown",
   "metadata": {},
   "source": [
    "### 【問題6】重みの初期値\n",
    "\n",
    "ここまでは重みやバイアスの初期値は単純にガウス分布で、標準偏差をハイパーパラメータとして扱ってきました。しかし、どのような値にすると良いかが知られています。シグモイド関数やハイパボリックタンジェント関数のときは Xavierの初期値 （またはGlorotの初期値）、ReLUのときは Heの初期値 が使われます。\n",
    "\n",
    "\n",
    "XavierInitializerクラスと、HeInitializerクラスを作成してください。"
   ]
  },
  {
   "cell_type": "markdown",
   "metadata": {},
   "source": [
    "#### Xavierの初期値\n",
    "\n",
    "Xavierの初期値における標準偏差 $\\sigma$ は次の式で求められます。\n",
    "\n",
    "$$\n",
    "\\sigma = \\frac{1}{\\sqrt{n}}\n",
    "$$\n",
    "\n",
    "$n$ : 前の層のノード数\n",
    "\n",
    "《論文》\n",
    "\n",
    "http://proceedings.mlr.press/v9/glorot10a/glorot10a.pdf"
   ]
  },
  {
   "cell_type": "code",
   "execution_count": 13,
   "metadata": {
    "ExecuteTime": {
     "end_time": "2021-01-24T17:10:48.689707Z",
     "start_time": "2021-01-24T17:10:48.686400Z"
    }
   },
   "outputs": [],
   "source": [
    "# XavierInitializerクラス\n",
    "class XavierInitializer:\n",
    "    def W(self, n_nodes1, n_nodes2):\n",
    "        self.sigma = 1 / np.sqrt(n_nodes1)\n",
    "        W = self.sigma * np.random.randn(n_nodes1, n_nodes2)\n",
    "        return W\n",
    "\n",
    "    def B(self, n_nodes2):\n",
    "        B = self.sigma * np.random.randn(n_nodes2)\n",
    "        return B"
   ]
  },
  {
   "cell_type": "markdown",
   "metadata": {},
   "source": [
    "#### Heの初期値\n",
    "Heの初期値における標準偏差 $\\sigma$ は次の式で求められます。\n",
    "\n",
    "$$\n",
    "\\sigma = \\sqrt{\\frac{2}{n}}\n",
    "$$\n",
    "\n",
    "$n$ : 前の層のノード数\n",
    "\n",
    "《論文》\n",
    "\n",
    "https://arxiv.org/pdf/1502.01852.pdf"
   ]
  },
  {
   "cell_type": "code",
   "execution_count": 14,
   "metadata": {
    "ExecuteTime": {
     "end_time": "2021-01-24T17:10:59.893956Z",
     "start_time": "2021-01-24T17:10:59.890278Z"
    }
   },
   "outputs": [],
   "source": [
    "# HeInitializerクラス\n",
    "class HeInitializer:\n",
    "    def W(self, n_nodes1, n_nodes2):\n",
    "        self.sigma = np.sqrt(2 / n_nodes1)\n",
    "        W =  self.sigma * np.random.randn(n_nodes1, n_nodes2)\n",
    "        return W\n",
    "\n",
    "    def B(self, n_nodes2):\n",
    "        B = self.sigma * np.random.randn(n_nodes2)\n",
    "        return B"
   ]
  },
  {
   "cell_type": "markdown",
   "metadata": {},
   "source": [
    "### 【問題7】最適化手法\n",
    "\n",
    "学習率は学習過程で変化させていく方法が一般的です。基本的な手法である AdaGrad のクラスを作成してください。\n",
    "\n",
    "\n",
    "まず、これまで使ってきたSGDを確認します。\n",
    "\n",
    "$$\n",
    "W_i^{\\prime} = W_i - \\alpha E(\\frac{\\partial L}{\\partial W_i}) \\\\\n",
    "B_i^{\\prime} = B_i - \\alpha E(\\frac{\\partial L}{\\partial B_i})\n",
    "$$\n",
    "\n",
    "$\\alpha$ : 学習率（層ごとに変えることも可能だが、基本的には全て同じとする）\n",
    "\n",
    "\n",
    "$\\frac{\\partial L}{\\partial W_i}$ : $W_i$ に関する損失 $L$ の勾配\n",
    "\n",
    "\n",
    "$\\frac{\\partial L}{\\partial B_i}$ : $B_i$ に関する損失 $L$ の勾配\n",
    "\n",
    "\n",
    "$E()$ : ミニバッチ方向にベクトルの平均を計算\n",
    "\n",
    "\n",
    "続いて、AdaGradです。バイアスの数式は省略しますが、重みと同様のことをします。\n",
    "\n",
    "\n",
    "更新された分だけその重みに対する学習率を徐々に下げていきます。イテレーションごとの勾配の二乗和 $H$ を保存しておき、その分だけ学習率を小さくします。\n",
    "\n",
    "\n",
    "学習率は重み一つひとつに対して異なることになります。\n",
    "\n",
    "$$\n",
    "H_i^{\\prime}  = H_i+E(\\frac{\\partial L}{\\partial W_i})×E(\\frac{\\partial L}{\\partial W_i})\\\\\n",
    "W_i^{\\prime} = W_i - \\alpha \\frac{1}{\\sqrt{H_i^{\\prime} }} E(\\frac{\\partial L}{\\partial W_i}) \\\\\n",
    "$$\n",
    "\n",
    "$H_i$ : i層目に関して、前のイテレーションまでの勾配の二乗和（初期値は0）\n",
    "\n",
    "\n",
    "$H_i^{\\prime}$ : 更新した $H_i$\n",
    "\n",
    "《論文》\n",
    "http://www.jmlr.org/papers/volume12/duchi11a/duchi11a.pdf"
   ]
  },
  {
   "cell_type": "code",
   "execution_count": 15,
   "metadata": {
    "ExecuteTime": {
     "end_time": "2021-01-24T17:13:44.337871Z",
     "start_time": "2021-01-24T17:13:44.333310Z"
    }
   },
   "outputs": [],
   "source": [
    "# AdaGradのクラス\n",
    "class AdaGrad:\n",
    "    def __init__(self, lr):\n",
    "        self.lr = lr\n",
    "\n",
    "    def update(self, layer, dW, dB):\n",
    "        self.hW = np.zeros_like(dW)\n",
    "        self.hB = np.zeros_like(dB)\n",
    "        \n",
    "        self.hW += dW ** 2\n",
    "        self.hB += dB ** 2\n",
    "        \n",
    "        layer.W -= self.lr * dW / (np.sqrt(self.hW) + 1e-7)\n",
    "        layer.B -= self.lr * dB / (np.sqrt(self.hB) + 1e-7)\n",
    "        return self"
   ]
  },
  {
   "cell_type": "markdown",
   "metadata": {},
   "source": [
    "### 【問題8】クラスの完成\n",
    "\n",
    "任意の構成で学習と推定が行えるScratchDeepNeuralNetrowkClassifierクラスを完成させてください。"
   ]
  },
  {
   "cell_type": "code",
   "execution_count": 16,
   "metadata": {
    "ExecuteTime": {
     "end_time": "2021-01-24T17:16:45.764263Z",
     "start_time": "2021-01-24T17:16:45.741699Z"
    }
   },
   "outputs": [],
   "source": [
    "class ScratchDeepNeuralNetrowkClassifier:\n",
    "    def __init__(self, epochs=10, batch_size=20, optimizer=\"SGD\", initializer=\"SimpleInitializer\",\n",
    "                 activation=\"Sigmoid\", n_features=28*28, n_nodes1=400, n_nodes2=200, \n",
    "                 n_output=10, sigma=0.01, lr=0.01, verbose=False):\n",
    "        self.epochs = epochs\n",
    "        self.batch_size = batch_size\n",
    "        self.optimizer = optimizer\n",
    "        self.initializer = initializer\n",
    "        self.activation = activation\n",
    "        self.n_features = n_features\n",
    "        self.n_nodes1 = n_nodes1\n",
    "        self.n_nodes2= n_nodes2\n",
    "        self.n_output= n_output\n",
    "        self.sigma = sigma\n",
    "        self.lr = lr\n",
    "        self.verbose = verbose\n",
    "\n",
    "    def _cross_entropy(self, y, z3): # 交差エントロピー誤差\n",
    "        return  -np.sum(y * np.log(z3 + 1e-7)) / y.shape[0]\n",
    "    \n",
    "    def fit(self, X, y, X_val=None, y_val=None):\n",
    "        if self.optimizer == \"SGD\": # optimizerパラメータの選択\n",
    "            self.optimizer = SGD(self.lr)\n",
    "        elif self.optimizer == \"AdaGrad\":\n",
    "            self.optimizer = AdaGrad(self.lr)\n",
    "        \n",
    "        if self.initializer == \"SimpleInitializer\": # initializerパラメータの選択\n",
    "            self.initializer = SimpleInitializer(self.sigma)\n",
    "        elif self.initializer == \"XavierInitializer\":\n",
    "            self.initializer = XavierInitializer()            \n",
    "        elif self.initializer == \"HeInitializer\":        \n",
    "            self.initializer = HeInitializer()\n",
    "        \n",
    "        if self.activation == \"Sigmoid\":# activationパラメータの選択\n",
    "            activator1 = Sigmoid()\n",
    "            activator2 = Sigmoid()\n",
    "        elif self.activation == \"Tanh\":\n",
    "            activator1 = Tanh()\n",
    "            activator2 = Tanh()\n",
    "        elif self.activation == \"ReLU\":\n",
    "            activator1 = ReLU()\n",
    "            activator2 = ReLU()\n",
    "            \n",
    "        self.FC1 = FC(self.n_features, self.n_nodes1, self.initializer, self.optimizer)\n",
    "        self.activation1 = activator1\n",
    "        self.FC2 = FC(self.n_nodes1, self.n_nodes2, self.initializer, self.optimizer)\n",
    "        self.activation2 = activator2\n",
    "        self.FC3 = FC(self.n_nodes2, self.n_output, self.initializer, self.optimizer)\n",
    "        self.activation3 = Softmax()\n",
    "        \n",
    "        self.loss = []\n",
    "        self.accuracy_train = []\n",
    "        self.accuracy_val = []\n",
    "        get_mini_batch = GetMiniBatch(X, y, self.batch_size)\n",
    "\n",
    "        for i in range(self.epochs):\n",
    "            for mini_X, mini_y in get_mini_batch:               \n",
    "                A1 = self.FC1.forward(mini_X)\n",
    "                Z1 = self.activation1.forward(A1)\n",
    "                A2 = self.FC2.forward(Z1)\n",
    "                Z2 = self.activation2.forward(A2)\n",
    "                A3 = self.FC3.forward(Z2)\n",
    "                Z3 = self.activation3.forward(A3)\n",
    "            \n",
    "                dA3 = self.activation3.backward(Z3, mini_y)\n",
    "                dZ2 = self.FC3.backward(dA3)\n",
    "                dA2 = self.activation2.backward(dZ2)\n",
    "                dZ1 = self.FC2.backward(dA2)\n",
    "                dA1 = self.activation1.backward(dZ1)\n",
    "                dZ0 = self.FC1.backward(dA1) # dZ0は使用しない\n",
    "            self.loss.append(self._cross_entropy(mini_y, Z3)) #　交差エントロピー誤差はepochごとに計算\n",
    "\n",
    "            if self.verbose: # verboseをTrueにした際は学習精度の推移を出力\n",
    "                y_pred_train = self.predict(X)\n",
    "                y_collect_train = y.argmax(axis=1)\n",
    "                acc_train = accuracy_score(y_collect_train, y_pred_train)\n",
    "                self.accuracy_train.append(acc_train)\n",
    "                print(\"epoch：\", i+1, \"　acc_train：\", acc_train)\n",
    "\n",
    "            if hasattr(X_val, \"__array__\") and hasattr(y_val, \"__array__\"): # 検証データが入力された（array属性を有する）場合\n",
    "                y_pred_val = self.predict(X_val)\n",
    "                y_collect_val = y_val.argmax(axis=1)\n",
    "                acc_val = accuracy_score(y_collect_val, y_pred_val)\n",
    "                self.accuracy_val.append(acc_val)\n",
    "                print(\"epoch：\", i+1, \"　acc_val：\", acc_val)            \n",
    "            \n",
    "        if self.verbose: # verboseをTrueにした際は損失関数の推移を出力\n",
    "            print(\"loss：{}\".format(self.loss))\n",
    "                      \n",
    "    def predict(self,X):\n",
    "        A1 = self.FC1.forward(X)\n",
    "        Z1 = self.activation1.forward(A1)\n",
    "        A2 = self.FC2.forward(Z1)\n",
    "        Z2 = self.activation2.forward(A2)\n",
    "        A3 = self.FC3.forward(Z2)\n",
    "        y = self.activation3.forward(A3)\n",
    "        \n",
    "        y_pred_test = np.argmax(y, axis=1)\n",
    "        return y_pred_test\n",
    "\n",
    "    def graphs(self): # 可視化用の関数（損失関数・学習精度）\n",
    "        plt.figure(figsize=(5, 3.5))\n",
    "        plt.plot(np.arange(len(self.loss)) , self.loss, linewidth = 3.0)\n",
    "        plt.title(\"train_loss\")\n",
    "        plt.xlabel(\"epochs\")\n",
    "        plt.ylabel(\"cross_entropy_error\")\n",
    "        \n",
    "        plt.figure(figsize=(5, 3.5))\n",
    "        plt.plot(np.arange(len(self.accuracy_train)), self.accuracy_train, linewidth = 3.0, label = \"train\")\n",
    "        if hasattr(X_val, \"__array__\") and hasattr(y_val, \"__array__\"): # 検証データが入力された場合\n",
    "            plt.plot(np.arange(len(self.accuracy_val)), self.accuracy_val, linewidth = 3.0, label =\"val\", color=\"orange\")\n",
    "        plt.title(\"accuracy_score\")\n",
    "        plt.xlabel(\"epochs\")\n",
    "        plt.ylabel(\"accuracy\")\n",
    "        plt.legend(frameon=True)\n",
    "        plt.show()"
   ]
  },
  {
   "cell_type": "markdown",
   "metadata": {},
   "source": [
    "### 【問題9】学習と推定\n",
    "層の数や活性化関数を変えたいくつかのネットワークを作成してください。そして、MNISTのデータを学習・推定し、Accuracyを計算してください。"
   ]
  },
  {
   "cell_type": "code",
   "execution_count": 17,
   "metadata": {
    "ExecuteTime": {
     "end_time": "2021-01-24T17:17:32.324094Z",
     "start_time": "2021-01-24T17:17:30.075848Z"
    }
   },
   "outputs": [
    {
     "name": "stderr",
     "output_type": "stream",
     "text": [
      "Using TensorFlow backend.\n"
     ]
    }
   ],
   "source": [
    "# mnistのデータセットを読み込む\n",
    "from keras.datasets import mnist\n",
    "(X_train, y_train), (X_test, y_test) = mnist.load_data()"
   ]
  },
  {
   "cell_type": "code",
   "execution_count": 18,
   "metadata": {
    "ExecuteTime": {
     "end_time": "2021-01-24T17:17:44.123566Z",
     "start_time": "2021-01-24T17:17:43.493590Z"
    }
   },
   "outputs": [
    {
     "name": "stdout",
     "output_type": "stream",
     "text": [
      "(48000, 784)\n",
      "(12000, 784)\n"
     ]
    }
   ],
   "source": [
    "X_train = X_train.reshape(-1, 784)\n",
    "X_test = X_test.reshape(-1, 784)\n",
    "\n",
    "X_train = X_train.astype(np.float)\n",
    "X_test = X_test.astype(np.float)\n",
    "X_train /= 255\n",
    "X_test /= 255\n",
    "\n",
    "from sklearn.model_selection import train_test_split\n",
    "X_train, X_val, y_train, y_val = train_test_split(X_train, y_train, test_size=0.2)\n",
    "print(X_train.shape) # (48000, 784)\n",
    "print(X_val.shape) # (12000, 784)\n"
   ]
  },
  {
   "cell_type": "code",
   "execution_count": 19,
   "metadata": {
    "ExecuteTime": {
     "end_time": "2021-01-24T17:17:56.108197Z",
     "start_time": "2021-01-24T17:17:56.087386Z"
    }
   },
   "outputs": [
    {
     "name": "stdout",
     "output_type": "stream",
     "text": [
      "(48000,)\n",
      "(48000, 10)\n",
      "float64\n"
     ]
    }
   ],
   "source": [
    "# OneHotEncoderのサンプルコードを実行する\n",
    "from sklearn.preprocessing import OneHotEncoder\n",
    "enc = OneHotEncoder(handle_unknown='ignore', sparse=False)\n",
    "y_train_one_hot = enc.fit_transform(y_train[:, np.newaxis])\n",
    "y_test_one_hot = enc.transform(y_test[:, np.newaxis])\n",
    "print(y_train.shape) # (60000,)\n",
    "print(y_train_one_hot.shape) # (60000, 10)\n",
    "print(y_train_one_hot.dtype) # float64"
   ]
  },
  {
   "cell_type": "code",
   "execution_count": 20,
   "metadata": {
    "ExecuteTime": {
     "end_time": "2021-01-24T17:18:08.341149Z",
     "start_time": "2021-01-24T17:18:08.330983Z"
    }
   },
   "outputs": [
    {
     "name": "stdout",
     "output_type": "stream",
     "text": [
      "(12000, 10)\n",
      "(10000, 10)\n"
     ]
    }
   ],
   "source": [
    "# 検証データ、テストデータもone-hot表現に変換する\n",
    "y_val_one_hot = enc.fit_transform(y_val[:, np.newaxis])\n",
    "print(y_val_one_hot.shape)\n",
    "y_test_one_hot = enc.fit_transform(y_test[:, np.newaxis])\n",
    "print(y_test_one_hot.shape)"
   ]
  },
  {
   "cell_type": "code",
   "execution_count": 21,
   "metadata": {
    "ExecuteTime": {
     "end_time": "2021-01-24T17:18:18.799428Z",
     "start_time": "2021-01-24T17:18:18.792891Z"
    }
   },
   "outputs": [],
   "source": [
    "# ミニバッチを取得するクラスを導入する\n",
    "class GetMiniBatch:\n",
    "    def __init__(self, X, y, batch_size = 20, seed=0):\n",
    "        self.batch_size = batch_size\n",
    "        np.random.seed(seed)\n",
    "        shuffle_index = np.random.permutation(np.arange(X.shape[0]))\n",
    "        self._X = X[shuffle_index]\n",
    "        self._y = y[shuffle_index]\n",
    "        self._stop = np.ceil(X.shape[0]/self.batch_size).astype(np.int)\n",
    "    def __len__(self):\n",
    "        return self._stop\n",
    "    def __getitem__(self,item):\n",
    "        p0 = item*self.batch_size\n",
    "        p1 = item*self.batch_size + self.batch_size\n",
    "        return self._X[p0:p1], self._y[p0:p1]        \n",
    "    def __iter__(self):\n",
    "        self._counter = 0\n",
    "        return self\n",
    "    def __next__(self):\n",
    "        if self._counter >= self._stop:\n",
    "            raise StopIteration()\n",
    "        p0 = self._counter*self.batch_size\n",
    "        p1 = self._counter*self.batch_size + self.batch_size\n",
    "        self._counter += 1\n",
    "        return self._X[p0:p1], self._y[p0:p1]"
   ]
  },
  {
   "cell_type": "code",
   "execution_count": 22,
   "metadata": {
    "ExecuteTime": {
     "end_time": "2021-01-24T17:20:01.555753Z",
     "start_time": "2021-01-24T17:18:32.509438Z"
    }
   },
   "outputs": [
    {
     "name": "stdout",
     "output_type": "stream",
     "text": [
      "epoch： 1 　acc_train： 0.34108333333333335\n",
      "epoch： 1 　acc_val： 0.3423333333333333\n",
      "epoch： 2 　acc_train： 0.8357916666666667\n",
      "epoch： 2 　acc_val： 0.8343333333333334\n",
      "epoch： 3 　acc_train： 0.9110625\n",
      "epoch： 3 　acc_val： 0.9061666666666667\n",
      "epoch： 4 　acc_train： 0.9301041666666666\n",
      "epoch： 4 　acc_val： 0.9245833333333333\n",
      "epoch： 5 　acc_train： 0.9449791666666667\n",
      "epoch： 5 　acc_val： 0.937\n",
      "epoch： 6 　acc_train： 0.95375\n",
      "epoch： 6 　acc_val： 0.9449166666666666\n",
      "epoch： 7 　acc_train： 0.961\n",
      "epoch： 7 　acc_val： 0.95275\n",
      "epoch： 8 　acc_train： 0.9671458333333334\n",
      "epoch： 8 　acc_val： 0.9585\n",
      "epoch： 9 　acc_train： 0.9713125\n",
      "epoch： 9 　acc_val： 0.9628333333333333\n",
      "epoch： 10 　acc_train： 0.9745208333333333\n",
      "epoch： 10 　acc_val： 0.9641666666666666\n",
      "loss：[1.459121648453261, 0.29837510073852236, 0.082618013204531, 0.07385076626439596, 0.06113679890430344, 0.03873099166032621, 0.023855784317101343, 0.015563898090526418, 0.01078903783167386, 0.008072686091780582]\n"
     ]
    }
   ],
   "source": [
    "# optimizer=\"SGD\"、initializer=\"SimpleInitializer\"、activation=\"Sigmoid\"の場合\n",
    "scratch = ScratchDeepNeuralNetrowkClassifier(verbose=True)\n",
    "scratch.fit(X_train, y_train_one_hot, X_val, y_val_one_hot)"
   ]
  },
  {
   "cell_type": "code",
   "execution_count": 23,
   "metadata": {
    "ExecuteTime": {
     "end_time": "2021-01-24T17:20:22.331834Z",
     "start_time": "2021-01-24T17:20:22.051414Z"
    }
   },
   "outputs": [
    {
     "data": {
      "image/png": "[encoded data removed]",
      "text/plain": [
       "<Figure size 360x252 with 1 Axes>"
      ]
     },
     "metadata": {},
     "output_type": "display_data"
    },
    {
     "data": {
      "image/png": "[encoded data removed]",
      "text/plain": [
       "<Figure size 360x252 with 1 Axes>"
      ]
     },
     "metadata": {},
     "output_type": "display_data"
    }
   ],
   "source": [
    "# 可視化する（損失関数・学習精度）\n",
    "scratch.graphs()"
   ]
  },
  {
   "cell_type": "code",
   "execution_count": 24,
   "metadata": {
    "ExecuteTime": {
     "end_time": "2021-01-24T17:20:27.622359Z",
     "start_time": "2021-01-24T17:20:27.342183Z"
    }
   },
   "outputs": [
    {
     "name": "stdout",
     "output_type": "stream",
     "text": [
      "予測値：[7 2 1 ... 4 5 6]\n",
      "正解値：[7 2 1 ... 4 5 6]\n",
      "Accuracy：0.9661\n"
     ]
    }
   ],
   "source": [
    "# 推定、評価\n",
    "y_pred = scratch.predict(X_test)\n",
    "print(\"予測値：{}\".format(y_pred))\n",
    "print(\"正解値：{}\".format(y_test))\n",
    "print(\"Accuracy：{}\".format(accuracy_score(y_test, y_pred)))"
   ]
  },
  {
   "cell_type": "markdown",
   "metadata": {},
   "source": [
    "---"
   ]
  },
  {
   "cell_type": "code",
   "execution_count": 25,
   "metadata": {
    "ExecuteTime": {
     "end_time": "2021-01-24T17:21:43.722342Z",
     "start_time": "2021-01-24T17:20:31.213221Z"
    }
   },
   "outputs": [
    {
     "name": "stdout",
     "output_type": "stream",
     "text": [
      "epoch： 1 　acc_train： 0.9564166666666667\n",
      "epoch： 1 　acc_val： 0.9513333333333334\n",
      "epoch： 2 　acc_train： 0.9731458333333334\n",
      "epoch： 2 　acc_val： 0.9650833333333333\n",
      "epoch： 3 　acc_train： 0.9782916666666667\n",
      "epoch： 3 　acc_val： 0.9666666666666667\n",
      "epoch： 4 　acc_train： 0.9853333333333333\n",
      "epoch： 4 　acc_val： 0.97125\n",
      "epoch： 5 　acc_train： 0.9873541666666666\n",
      "epoch： 5 　acc_val： 0.9705\n",
      "epoch： 6 　acc_train： 0.9914791666666667\n",
      "epoch： 6 　acc_val： 0.9734166666666667\n",
      "epoch： 7 　acc_train： 0.9949166666666667\n",
      "epoch： 7 　acc_val： 0.9749166666666667\n",
      "epoch： 8 　acc_train： 0.9968333333333333\n",
      "epoch： 8 　acc_val： 0.9768333333333333\n",
      "epoch： 9 　acc_train： 0.9980208333333334\n",
      "epoch： 9 　acc_val： 0.9789166666666667\n",
      "epoch： 10 　acc_train： 0.998875\n",
      "epoch： 10 　acc_val： 0.9778333333333333\n",
      "loss：[0.02179079593714807, 0.008174608096509038, 0.004670767659436758, 0.0006192800982850695, 0.0007441615106048552, 0.000587311610052716, 0.0032840110733811136, 0.00018116291046579722, 0.00017319072756497361, 0.0005510775809492402]\n"
     ]
    }
   ],
   "source": [
    "# initializer=\"XavierInitializer\",activation =\"Tanh\"の場合（optimizer=\"SGD\"）\n",
    "scratch2 = ScratchDeepNeuralNetrowkClassifier(initializer=\"XavierInitializer\",activation =\"Tanh\", verbose=True)\n",
    "scratch2.fit(X_train, y_train_one_hot, X_val, y_val_one_hot)"
   ]
  },
  {
   "cell_type": "code",
   "execution_count": 26,
   "metadata": {
    "ExecuteTime": {
     "end_time": "2021-01-24T17:21:49.677988Z",
     "start_time": "2021-01-24T17:21:49.408511Z"
    }
   },
   "outputs": [
    {
     "data": {
      "image/png": "[encoded data removed]",
      "text/plain": [
       "<Figure size 360x252 with 1 Axes>"
      ]
     },
     "metadata": {},
     "output_type": "display_data"
    },
    {
     "data": {
      "image/png": "[encoded data removed]",
      "text/plain": [
       "<Figure size 360x252 with 1 Axes>"
      ]
     },
     "metadata": {},
     "output_type": "display_data"
    }
   ],
   "source": [
    "# 可視化する（損失関数・学習精度）\n",
    "scratch2.graphs()"
   ]
  },
  {
   "cell_type": "code",
   "execution_count": 27,
   "metadata": {
    "ExecuteTime": {
     "end_time": "2021-01-24T17:21:52.917589Z",
     "start_time": "2021-01-24T17:21:52.683316Z"
    }
   },
   "outputs": [
    {
     "name": "stdout",
     "output_type": "stream",
     "text": [
      "予測値：[7 2 1 ... 4 5 6]\n",
      "正解値：[7 2 1 ... 4 5 6]\n",
      "Accuracy：0.9763\n"
     ]
    }
   ],
   "source": [
    "# 推定し、評価\n",
    "y_pred2 = scratch2.predict(X_test)\n",
    "print(\"予測値：{}\".format(y_pred2))\n",
    "print(\"正解値：{}\".format(y_test))\n",
    "print(\"Accuracy：{}\".format(accuracy_score(y_test, y_pred2)))"
   ]
  },
  {
   "cell_type": "markdown",
   "metadata": {},
   "source": [
    "---"
   ]
  },
  {
   "cell_type": "code",
   "execution_count": 28,
   "metadata": {
    "ExecuteTime": {
     "end_time": "2021-01-24T17:23:04.017767Z",
     "start_time": "2021-01-24T17:21:56.445929Z"
    }
   },
   "outputs": [
    {
     "name": "stdout",
     "output_type": "stream",
     "text": [
      "epoch： 1 　acc_train： 0.9725833333333334\n",
      "epoch： 1 　acc_val： 0.9659166666666666\n",
      "epoch： 2 　acc_train： 0.9801041666666667\n",
      "epoch： 2 　acc_val： 0.96725\n",
      "epoch： 3 　acc_train： 0.986125\n",
      "epoch： 3 　acc_val： 0.9714166666666667\n",
      "epoch： 4 　acc_train： 0.9868541666666667\n",
      "epoch： 4 　acc_val： 0.9729166666666667\n",
      "epoch： 5 　acc_train： 0.9890625\n",
      "epoch： 5 　acc_val： 0.9725\n",
      "epoch： 6 　acc_train： 0.9871458333333333\n",
      "epoch： 6 　acc_val： 0.9709166666666667\n",
      "epoch： 7 　acc_train： 0.9944375\n",
      "epoch： 7 　acc_val： 0.97575\n",
      "epoch： 8 　acc_train： 0.9932916666666667\n",
      "epoch： 8 　acc_val： 0.9755\n",
      "epoch： 9 　acc_train： 0.9968125\n",
      "epoch： 9 　acc_val： 0.978\n",
      "epoch： 10 　acc_train： 0.9981041666666667\n",
      "epoch： 10 　acc_val： 0.9799166666666667\n",
      "loss：[0.0059108404794218725, 0.0009734871075022378, 0.0007185850032264613, 0.00020386478000015214, 0.00025496795104081775, 0.0006166589556846479, 7.922588234492952e-06, 2.161604896273773e-05, 6.579534681907703e-06, 3.84104064809116e-06]\n"
     ]
    }
   ],
   "source": [
    "# initializer=\"HeInitializer\",activation =\"ReLU\"の場合（optimizer=\"SGD\"）\n",
    "# これまでの学習率（lr=0.01）ではloss（損失関数）がキレイな右肩下がりにならなかったため、調整（lr=0.008）。\n",
    "scratch3 = ScratchDeepNeuralNetrowkClassifier(initializer=\"HeInitializer\",activation =\"ReLU\", lr=0.008, verbose=True)\n",
    "scratch3.fit(X_train, y_train_one_hot, X_val, y_val_one_hot)"
   ]
  },
  {
   "cell_type": "code",
   "execution_count": 29,
   "metadata": {
    "ExecuteTime": {
     "end_time": "2021-01-24T17:23:32.578861Z",
     "start_time": "2021-01-24T17:23:32.309522Z"
    }
   },
   "outputs": [
    {
     "data": {
      "image/png": "[encoded data removed]",
      "text/plain": [
       "<Figure size 360x252 with 1 Axes>"
      ]
     },
     "metadata": {},
     "output_type": "display_data"
    },
    {
     "data": {
      "image/png": "[encoded data removed]",
      "text/plain": [
       "<Figure size 360x252 with 1 Axes>"
      ]
     },
     "metadata": {},
     "output_type": "display_data"
    }
   ],
   "source": [
    "# 可視化する（損失関数・学習精度）\n",
    "scratch3.graphs()"
   ]
  },
  {
   "cell_type": "code",
   "execution_count": 30,
   "metadata": {
    "ExecuteTime": {
     "end_time": "2021-01-24T17:23:36.377459Z",
     "start_time": "2021-01-24T17:23:36.158772Z"
    }
   },
   "outputs": [
    {
     "name": "stdout",
     "output_type": "stream",
     "text": [
      "予測値：[7 2 1 ... 4 5 6]\n",
      "正解値：[7 2 1 ... 4 5 6]\n",
      "Accuracy：0.9804\n"
     ]
    }
   ],
   "source": [
    "# 推定、評価\n",
    "y_pred3 = scratch3.predict(X_test)\n",
    "print(\"予測値：{}\".format(y_pred3))\n",
    "print(\"正解値：{}\".format(y_test))\n",
    "print(\"Accuracy：{}\".format(accuracy_score(y_test, y_pred3)))"
   ]
  },
  {
   "cell_type": "code",
   "execution_count": null,
   "metadata": {},
   "outputs": [],
   "source": []
  }
 ],
 "metadata": {
  "kernelspec": {
   "display_name": "Python 3",
   "language": "python",
   "name": "python3"
  },
  "language_info": {
   "codemirror_mode": {
    "name": "ipython",
    "version": 3
   },
   "file_extension": ".py",
   "mimetype": "text/x-python",
   "name": "python",
   "nbconvert_exporter": "python",
   "pygments_lexer": "ipython3",
   "version": "3.7.2"
  },
  "nbTranslate": {
   "displayLangs": [
    "*"
   ],
   "hotkey": "alt-t",
   "langInMainMenu": true,
   "sourceLang": "en",
   "targetLang": "fr",
   "useGoogleTranslate": true
  },
  "toc": {
   "base_numbering": 1,
   "nav_menu": {},
   "number_sections": true,
   "sideBar": true,
   "skip_h1_title": false,
   "title_cell": "Table of Contents",
   "title_sidebar": "Contents",
   "toc_cell": false,
   "toc_position": {},
   "toc_section_display": true,
   "toc_window_display": true
  },
  "varInspector": {
   "cols": {
    "lenName": 16,
    "lenType": 16,
    "lenVar": 40
   },
   "kernels_config": {
    "python": {
     "delete_cmd_postfix": "",
     "delete_cmd_prefix": "del ",
     "library": "var_list.py",
     "varRefreshCmd": "print(var_dic_list())"
    },
    "r": {
     "delete_cmd_postfix": ") ",
     "delete_cmd_prefix": "rm(",
     "library": "var_list.r",
     "varRefreshCmd": "cat(var_dic_list()) "
    }
   },
   "types_to_exclude": [
    "module",
    "function",
    "builtin_function_or_method",
    "instance",
    "_Feature"
   ],
   "window_display": false
  }
 },
 "nbformat": 4,
 "nbformat_minor": 4
}
