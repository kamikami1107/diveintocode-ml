{
 "cells": [
  {
   "cell_type": "markdown",
   "metadata": {},
   "source": [
    "# 住宅価格の予測"
   ]
  },
  {
   "cell_type": "markdown",
   "metadata": {},
   "source": [
    "Week3で使用したアイオワ州エイムズ市の住宅価格データセットを使い、回帰問題を解く練習をします。\n",
    "\n",
    "\n",
    "79種類の特徴量（説明変数）を活用し、住宅価格の数値を推測する問題が設定できます。こういった連続値のものを推測する問題を回帰問題と呼びます。\n",
    "\n",
    "[House Prices](https://www.kaggle.com/c/house-prices-advanced-regression-techniques/data)"
   ]
  },
  {
   "cell_type": "markdown",
   "metadata": {},
   "source": [
    "Week3同様にKaggleからデータセットをダウンロードしてください。train.csvのみを使用します。\n",
    "\n",
    "[House Prices](https://www.kaggle.com/c/house-prices-advanced-regression-techniques)"
   ]
  },
  {
   "cell_type": "code",
   "execution_count": 1,
   "metadata": {},
   "outputs": [],
   "source": [
    "import matplotlib.pyplot as plt\n",
    "%matplotlib inline\n",
    "import numpy as np\n",
    "import pandas as pd\n",
    "import seaborn as sns"
   ]
  },
  {
   "cell_type": "code",
   "execution_count": 2,
   "metadata": {},
   "outputs": [],
   "source": [
    "train = pd.read_csv('train.csv')"
   ]
  },
  {
   "cell_type": "code",
   "execution_count": 3,
   "metadata": {},
   "outputs": [
    {
     "data": {
      "text/plain": [
       "(1460, 81)"
      ]
     },
     "execution_count": 3,
     "metadata": {},
     "output_type": "execute_result"
    }
   ],
   "source": [
    "train.shape"
   ]
  },
  {
   "cell_type": "code",
   "execution_count": 4,
   "metadata": {},
   "outputs": [
    {
     "data": {
      "text/html": [
       "<div>\n",
       "<style scoped>\n",
       "    .dataframe tbody tr th:only-of-type {\n",
       "        vertical-align: middle;\n",
       "    }\n",
       "\n",
       "    .dataframe tbody tr th {\n",
       "        vertical-align: top;\n",
       "    }\n",
       "\n",
       "    .dataframe thead th {\n",
       "        text-align: right;\n",
       "    }\n",
       "</style>\n",
       "<table border=\"1\" class=\"dataframe\">\n",
       "  <thead>\n",
       "    <tr style=\"text-align: right;\">\n",
       "      <th></th>\n",
       "      <th>Id</th>\n",
       "      <th>MSSubClass</th>\n",
       "      <th>MSZoning</th>\n",
       "      <th>LotFrontage</th>\n",
       "      <th>LotArea</th>\n",
       "      <th>Street</th>\n",
       "      <th>Alley</th>\n",
       "      <th>LotShape</th>\n",
       "      <th>LandContour</th>\n",
       "      <th>Utilities</th>\n",
       "      <th>...</th>\n",
       "      <th>PoolArea</th>\n",
       "      <th>PoolQC</th>\n",
       "      <th>Fence</th>\n",
       "      <th>MiscFeature</th>\n",
       "      <th>MiscVal</th>\n",
       "      <th>MoSold</th>\n",
       "      <th>YrSold</th>\n",
       "      <th>SaleType</th>\n",
       "      <th>SaleCondition</th>\n",
       "      <th>SalePrice</th>\n",
       "    </tr>\n",
       "  </thead>\n",
       "  <tbody>\n",
       "    <tr>\n",
       "      <th>0</th>\n",
       "      <td>1</td>\n",
       "      <td>60</td>\n",
       "      <td>RL</td>\n",
       "      <td>65.0</td>\n",
       "      <td>8450</td>\n",
       "      <td>Pave</td>\n",
       "      <td>NaN</td>\n",
       "      <td>Reg</td>\n",
       "      <td>Lvl</td>\n",
       "      <td>AllPub</td>\n",
       "      <td>...</td>\n",
       "      <td>0</td>\n",
       "      <td>NaN</td>\n",
       "      <td>NaN</td>\n",
       "      <td>NaN</td>\n",
       "      <td>0</td>\n",
       "      <td>2</td>\n",
       "      <td>2008</td>\n",
       "      <td>WD</td>\n",
       "      <td>Normal</td>\n",
       "      <td>208500</td>\n",
       "    </tr>\n",
       "    <tr>\n",
       "      <th>1</th>\n",
       "      <td>2</td>\n",
       "      <td>20</td>\n",
       "      <td>RL</td>\n",
       "      <td>80.0</td>\n",
       "      <td>9600</td>\n",
       "      <td>Pave</td>\n",
       "      <td>NaN</td>\n",
       "      <td>Reg</td>\n",
       "      <td>Lvl</td>\n",
       "      <td>AllPub</td>\n",
       "      <td>...</td>\n",
       "      <td>0</td>\n",
       "      <td>NaN</td>\n",
       "      <td>NaN</td>\n",
       "      <td>NaN</td>\n",
       "      <td>0</td>\n",
       "      <td>5</td>\n",
       "      <td>2007</td>\n",
       "      <td>WD</td>\n",
       "      <td>Normal</td>\n",
       "      <td>181500</td>\n",
       "    </tr>\n",
       "    <tr>\n",
       "      <th>2</th>\n",
       "      <td>3</td>\n",
       "      <td>60</td>\n",
       "      <td>RL</td>\n",
       "      <td>68.0</td>\n",
       "      <td>11250</td>\n",
       "      <td>Pave</td>\n",
       "      <td>NaN</td>\n",
       "      <td>IR1</td>\n",
       "      <td>Lvl</td>\n",
       "      <td>AllPub</td>\n",
       "      <td>...</td>\n",
       "      <td>0</td>\n",
       "      <td>NaN</td>\n",
       "      <td>NaN</td>\n",
       "      <td>NaN</td>\n",
       "      <td>0</td>\n",
       "      <td>9</td>\n",
       "      <td>2008</td>\n",
       "      <td>WD</td>\n",
       "      <td>Normal</td>\n",
       "      <td>223500</td>\n",
       "    </tr>\n",
       "    <tr>\n",
       "      <th>3</th>\n",
       "      <td>4</td>\n",
       "      <td>70</td>\n",
       "      <td>RL</td>\n",
       "      <td>60.0</td>\n",
       "      <td>9550</td>\n",
       "      <td>Pave</td>\n",
       "      <td>NaN</td>\n",
       "      <td>IR1</td>\n",
       "      <td>Lvl</td>\n",
       "      <td>AllPub</td>\n",
       "      <td>...</td>\n",
       "      <td>0</td>\n",
       "      <td>NaN</td>\n",
       "      <td>NaN</td>\n",
       "      <td>NaN</td>\n",
       "      <td>0</td>\n",
       "      <td>2</td>\n",
       "      <td>2006</td>\n",
       "      <td>WD</td>\n",
       "      <td>Abnorml</td>\n",
       "      <td>140000</td>\n",
       "    </tr>\n",
       "    <tr>\n",
       "      <th>4</th>\n",
       "      <td>5</td>\n",
       "      <td>60</td>\n",
       "      <td>RL</td>\n",
       "      <td>84.0</td>\n",
       "      <td>14260</td>\n",
       "      <td>Pave</td>\n",
       "      <td>NaN</td>\n",
       "      <td>IR1</td>\n",
       "      <td>Lvl</td>\n",
       "      <td>AllPub</td>\n",
       "      <td>...</td>\n",
       "      <td>0</td>\n",
       "      <td>NaN</td>\n",
       "      <td>NaN</td>\n",
       "      <td>NaN</td>\n",
       "      <td>0</td>\n",
       "      <td>12</td>\n",
       "      <td>2008</td>\n",
       "      <td>WD</td>\n",
       "      <td>Normal</td>\n",
       "      <td>250000</td>\n",
       "    </tr>\n",
       "    <tr>\n",
       "      <th>5</th>\n",
       "      <td>6</td>\n",
       "      <td>50</td>\n",
       "      <td>RL</td>\n",
       "      <td>85.0</td>\n",
       "      <td>14115</td>\n",
       "      <td>Pave</td>\n",
       "      <td>NaN</td>\n",
       "      <td>IR1</td>\n",
       "      <td>Lvl</td>\n",
       "      <td>AllPub</td>\n",
       "      <td>...</td>\n",
       "      <td>0</td>\n",
       "      <td>NaN</td>\n",
       "      <td>MnPrv</td>\n",
       "      <td>Shed</td>\n",
       "      <td>700</td>\n",
       "      <td>10</td>\n",
       "      <td>2009</td>\n",
       "      <td>WD</td>\n",
       "      <td>Normal</td>\n",
       "      <td>143000</td>\n",
       "    </tr>\n",
       "    <tr>\n",
       "      <th>6</th>\n",
       "      <td>7</td>\n",
       "      <td>20</td>\n",
       "      <td>RL</td>\n",
       "      <td>75.0</td>\n",
       "      <td>10084</td>\n",
       "      <td>Pave</td>\n",
       "      <td>NaN</td>\n",
       "      <td>Reg</td>\n",
       "      <td>Lvl</td>\n",
       "      <td>AllPub</td>\n",
       "      <td>...</td>\n",
       "      <td>0</td>\n",
       "      <td>NaN</td>\n",
       "      <td>NaN</td>\n",
       "      <td>NaN</td>\n",
       "      <td>0</td>\n",
       "      <td>8</td>\n",
       "      <td>2007</td>\n",
       "      <td>WD</td>\n",
       "      <td>Normal</td>\n",
       "      <td>307000</td>\n",
       "    </tr>\n",
       "    <tr>\n",
       "      <th>7</th>\n",
       "      <td>8</td>\n",
       "      <td>60</td>\n",
       "      <td>RL</td>\n",
       "      <td>NaN</td>\n",
       "      <td>10382</td>\n",
       "      <td>Pave</td>\n",
       "      <td>NaN</td>\n",
       "      <td>IR1</td>\n",
       "      <td>Lvl</td>\n",
       "      <td>AllPub</td>\n",
       "      <td>...</td>\n",
       "      <td>0</td>\n",
       "      <td>NaN</td>\n",
       "      <td>NaN</td>\n",
       "      <td>Shed</td>\n",
       "      <td>350</td>\n",
       "      <td>11</td>\n",
       "      <td>2009</td>\n",
       "      <td>WD</td>\n",
       "      <td>Normal</td>\n",
       "      <td>200000</td>\n",
       "    </tr>\n",
       "    <tr>\n",
       "      <th>8</th>\n",
       "      <td>9</td>\n",
       "      <td>50</td>\n",
       "      <td>RM</td>\n",
       "      <td>51.0</td>\n",
       "      <td>6120</td>\n",
       "      <td>Pave</td>\n",
       "      <td>NaN</td>\n",
       "      <td>Reg</td>\n",
       "      <td>Lvl</td>\n",
       "      <td>AllPub</td>\n",
       "      <td>...</td>\n",
       "      <td>0</td>\n",
       "      <td>NaN</td>\n",
       "      <td>NaN</td>\n",
       "      <td>NaN</td>\n",
       "      <td>0</td>\n",
       "      <td>4</td>\n",
       "      <td>2008</td>\n",
       "      <td>WD</td>\n",
       "      <td>Abnorml</td>\n",
       "      <td>129900</td>\n",
       "    </tr>\n",
       "    <tr>\n",
       "      <th>9</th>\n",
       "      <td>10</td>\n",
       "      <td>190</td>\n",
       "      <td>RL</td>\n",
       "      <td>50.0</td>\n",
       "      <td>7420</td>\n",
       "      <td>Pave</td>\n",
       "      <td>NaN</td>\n",
       "      <td>Reg</td>\n",
       "      <td>Lvl</td>\n",
       "      <td>AllPub</td>\n",
       "      <td>...</td>\n",
       "      <td>0</td>\n",
       "      <td>NaN</td>\n",
       "      <td>NaN</td>\n",
       "      <td>NaN</td>\n",
       "      <td>0</td>\n",
       "      <td>1</td>\n",
       "      <td>2008</td>\n",
       "      <td>WD</td>\n",
       "      <td>Normal</td>\n",
       "      <td>118000</td>\n",
       "    </tr>\n",
       "  </tbody>\n",
       "</table>\n",
       "<p>10 rows × 81 columns</p>\n",
       "</div>"
      ],
      "text/plain": [
       "   Id  MSSubClass MSZoning  LotFrontage  LotArea Street Alley LotShape  \\\n",
       "0   1          60       RL         65.0     8450   Pave   NaN      Reg   \n",
       "1   2          20       RL         80.0     9600   Pave   NaN      Reg   \n",
       "2   3          60       RL         68.0    11250   Pave   NaN      IR1   \n",
       "3   4          70       RL         60.0     9550   Pave   NaN      IR1   \n",
       "4   5          60       RL         84.0    14260   Pave   NaN      IR1   \n",
       "5   6          50       RL         85.0    14115   Pave   NaN      IR1   \n",
       "6   7          20       RL         75.0    10084   Pave   NaN      Reg   \n",
       "7   8          60       RL          NaN    10382   Pave   NaN      IR1   \n",
       "8   9          50       RM         51.0     6120   Pave   NaN      Reg   \n",
       "9  10         190       RL         50.0     7420   Pave   NaN      Reg   \n",
       "\n",
       "  LandContour Utilities  ... PoolArea PoolQC  Fence MiscFeature MiscVal  \\\n",
       "0         Lvl    AllPub  ...        0    NaN    NaN         NaN       0   \n",
       "1         Lvl    AllPub  ...        0    NaN    NaN         NaN       0   \n",
       "2         Lvl    AllPub  ...        0    NaN    NaN         NaN       0   \n",
       "3         Lvl    AllPub  ...        0    NaN    NaN         NaN       0   \n",
       "4         Lvl    AllPub  ...        0    NaN    NaN         NaN       0   \n",
       "5         Lvl    AllPub  ...        0    NaN  MnPrv        Shed     700   \n",
       "6         Lvl    AllPub  ...        0    NaN    NaN         NaN       0   \n",
       "7         Lvl    AllPub  ...        0    NaN    NaN        Shed     350   \n",
       "8         Lvl    AllPub  ...        0    NaN    NaN         NaN       0   \n",
       "9         Lvl    AllPub  ...        0    NaN    NaN         NaN       0   \n",
       "\n",
       "  MoSold YrSold  SaleType  SaleCondition  SalePrice  \n",
       "0      2   2008        WD         Normal     208500  \n",
       "1      5   2007        WD         Normal     181500  \n",
       "2      9   2008        WD         Normal     223500  \n",
       "3      2   2006        WD        Abnorml     140000  \n",
       "4     12   2008        WD         Normal     250000  \n",
       "5     10   2009        WD         Normal     143000  \n",
       "6      8   2007        WD         Normal     307000  \n",
       "7     11   2009        WD         Normal     200000  \n",
       "8      4   2008        WD        Abnorml     129900  \n",
       "9      1   2008        WD         Normal     118000  \n",
       "\n",
       "[10 rows x 81 columns]"
      ]
     },
     "execution_count": 4,
     "metadata": {},
     "output_type": "execute_result"
    }
   ],
   "source": [
    "train.head(10)"
   ]
  },
  {
   "cell_type": "markdown",
   "metadata": {},
   "source": [
    "### 練習のための準備\n",
    "\n",
    "このデータセットには79種類の特徴量（目的変数）がありますが、Week3で探索して分かったように様々なタイプのデータ含まれています。これをどう前処理するかということは機械学習において重要な箇所ですが、今回は回帰問題の学習や評価の練習を優先するため、説明変数(特徴量)`GrLivArea`と`YearBuilt`の2つだけを利用することにします。"
   ]
  },
  {
   "cell_type": "markdown",
   "metadata": {},
   "source": [
    "### 【問題1】練習のために特徴量の選択\n",
    "データセットを読み込んだ後、説明変数GrLivAreaとYearBuilt、目的変数SalePriceをそれぞれ抜き出してください。"
   ]
  },
  {
   "cell_type": "code",
   "execution_count": 5,
   "metadata": {},
   "outputs": [
    {
     "name": "stdout",
     "output_type": "stream",
     "text": [
      "      GrLivArea  YearBuilt\n",
      "0          1710       2003\n",
      "1          1262       1976\n",
      "2          1786       2001\n",
      "3          1717       1915\n",
      "4          2198       2000\n",
      "...         ...        ...\n",
      "1455       1647       1999\n",
      "1456       2073       1978\n",
      "1457       2340       1941\n",
      "1458       1078       1950\n",
      "1459       1256       1965\n",
      "\n",
      "[1460 rows x 2 columns]\n"
     ]
    },
    {
     "data": {
      "text/plain": [
       "(1460, 2)"
      ]
     },
     "execution_count": 5,
     "metadata": {},
     "output_type": "execute_result"
    }
   ],
   "source": [
    "X = pd.DataFrame(train, columns = ['GrLivArea', 'YearBuilt'])\n",
    "np.set_printoptions(threshold=10)\n",
    "print(X)\n",
    "X.shape"
   ]
  },
  {
   "cell_type": "code",
   "execution_count": 6,
   "metadata": {},
   "outputs": [
    {
     "data": {
      "text/plain": [
       "(1460, 1)"
      ]
     },
     "execution_count": 6,
     "metadata": {},
     "output_type": "execute_result"
    }
   ],
   "source": [
    "y = pd.DataFrame(train, columns = ['SalePrice'])\n",
    "y.shape"
   ]
  },
  {
   "cell_type": "markdown",
   "metadata": {},
   "source": [
    "### 【問題2】線形回帰による推定と評価\n",
    "データを簡単に分析、前処理し、 **線形回帰**による学習、推定、評価、可視化までの一連の流れを作成・実行してください。\n",
    "\n",
    "[LinearRegression](https://scikit-learn.org/stable/modules/generated/sklearn.linear_model.LinearRegression.html)\n",
    "\n",
    "\n",
    "評価のための指標値は回帰問題では**平均二乗誤差（Mean Squared Error, MSE）**を使うことが一般的です。\n",
    "\n",
    "[MSE](https://scikit-learn.org/stable/modules/generated/sklearn.metrics.mean_squared_error.html)\n",
    "\n",
    "可視化は横軸にある特徴量、縦軸に推測した住宅価格といった方法で行えます。\n",
    "scatterを用いて、実際のデータと予測結果を比較できるグラフを作りましょう。"
   ]
  },
  {
   "cell_type": "code",
   "execution_count": 7,
   "metadata": {},
   "outputs": [
    {
     "data": {
      "text/plain": [
       "GrLivArea    0\n",
       "YearBuilt    0\n",
       "dtype: int64"
      ]
     },
     "execution_count": 7,
     "metadata": {},
     "output_type": "execute_result"
    }
   ],
   "source": [
    "# 欠損値の確認\n",
    "X.isnull().sum()"
   ]
  },
  {
   "cell_type": "code",
   "execution_count": 8,
   "metadata": {},
   "outputs": [
    {
     "data": {
      "text/plain": [
       "SalePrice    0\n",
       "dtype: int64"
      ]
     },
     "execution_count": 8,
     "metadata": {},
     "output_type": "execute_result"
    }
   ],
   "source": [
    "# 欠損値の確認\n",
    "y.isnull().sum()"
   ]
  },
  {
   "cell_type": "code",
   "execution_count": 9,
   "metadata": {},
   "outputs": [
    {
     "data": {
      "text/plain": [
       "<seaborn.axisgrid.FacetGrid at 0x7f89efa49898>"
      ]
     },
     "execution_count": 9,
     "metadata": {},
     "output_type": "execute_result"
    },
    {
     "data": {
      "image/png": "[encoded data removed]",
      "text/plain": [
       "<Figure size 445.125x360 with 1 Axes>"
      ]
     },
     "metadata": {
      "needs_background": "light"
     },
     "output_type": "display_data"
    },
    {
     "data": {
      "image/png": "[encoded data removed]",
      "text/plain": [
       "<Figure size 441.875x360 with 1 Axes>"
      ]
     },
     "metadata": {
      "needs_background": "light"
     },
     "output_type": "display_data"
    }
   ],
   "source": [
    "#分布の確認\n",
    "sns.displot(X, kde=False)\n",
    "sns.displot(y, kde=False)"
   ]
  },
  {
   "cell_type": "code",
   "execution_count": 10,
   "metadata": {},
   "outputs": [],
   "source": [
    "from sklearn.model_selection import train_test_split"
   ]
  },
  {
   "cell_type": "code",
   "execution_count": 11,
   "metadata": {},
   "outputs": [
    {
     "name": "stdout",
     "output_type": "stream",
     "text": [
      "X <class 'numpy.ndarray'>\n",
      "y <class 'numpy.ndarray'>\n",
      "y.shape (1460,)\n",
      "X_train :  (1095, 2) X_test :  (365, 2)\n",
      "y_train :  (1095,) y_test :  (365,)\n"
     ]
    }
   ],
   "source": [
    "#データを変換\n",
    "X =X.values\n",
    "y = y.values\n",
    "y = y.reshape(-1)\n",
    "\n",
    "#データを分割\n",
    "X_train, X_test, y_train, y_test = train_test_split(X, y, test_size=0.25, random_state=42)\n",
    "\n",
    "print(\"X\", type(X))\n",
    "print(\"y\", type(y))\n",
    "print(\"y.shape\", y.shape)\n",
    "print(\"X_train : \", X_train.shape, \"X_test : \", X_test.shape)\n",
    "print(\"y_train : \", y_train.shape, \"y_test : \", y_test.shape)\n"
   ]
  },
  {
   "cell_type": "code",
   "execution_count": 12,
   "metadata": {},
   "outputs": [],
   "source": [
    "from sklearn.preprocessing import StandardScaler"
   ]
  },
  {
   "cell_type": "code",
   "execution_count": 13,
   "metadata": {},
   "outputs": [
    {
     "name": "stdout",
     "output_type": "stream",
     "text": [
      "X_train_std (1095, 2)\n",
      "X_test_std (365, 2)\n",
      "X_train_std.mean [-1.35425664e-16 -7.55357218e-16]\n",
      "X_train_std.std [1. 1.]\n"
     ]
    }
   ],
   "source": [
    "# 標準化\n",
    "\n",
    "scaler = StandardScaler()\n",
    "\n",
    "scaler.fit(X_train)\n",
    "\n",
    "X_train_std = scaler.transform(X_train)\n",
    "X_test_std = scaler.transform(X_test)\n",
    "\n",
    "print(\"X_train_std\", X_train_std.shape)\n",
    "print(\"X_test_std\", X_test_std.shape)\n",
    "print(\"X_train_std.mean\", X_train_std.mean(axis=0))# 平均\n",
    "print(\"X_train_std.std\", X_train_std.std(axis=0))# 分散"
   ]
  },
  {
   "cell_type": "code",
   "execution_count": 14,
   "metadata": {},
   "outputs": [],
   "source": [
    "from sklearn.linear_model import LinearRegression"
   ]
  },
  {
   "cell_type": "code",
   "execution_count": 15,
   "metadata": {},
   "outputs": [
    {
     "data": {
      "text/plain": [
       "array([130445.81129484, 306448.48211547,  88741.8324304 , ...,\n",
       "       273133.55871006, 235276.23501721, 137452.40556876])"
      ]
     },
     "execution_count": 15,
     "metadata": {},
     "output_type": "execute_result"
    }
   ],
   "source": [
    "# 学習、推定\n",
    "\n",
    "linear = LinearRegression()\n",
    "\n",
    "linear.fit(X_train_std, y_train)\n",
    "y_pred = linear.predict(X_test_std)\n",
    "\n",
    "np.set_printoptions(threshold=10)\n",
    "y_pred"
   ]
  },
  {
   "cell_type": "code",
   "execution_count": 16,
   "metadata": {},
   "outputs": [
    {
     "data": {
      "text/plain": [
       "2314465092.7320137"
      ]
     },
     "execution_count": 16,
     "metadata": {},
     "output_type": "execute_result"
    }
   ],
   "source": [
    "#評価、MSEの算出\n",
    "from sklearn.metrics import mean_squared_error\n",
    "mean_squared_error(y_test, y_pred)"
   ]
  },
  {
   "cell_type": "code",
   "execution_count": 17,
   "metadata": {},
   "outputs": [
    {
     "data": {
      "text/plain": [
       "<matplotlib.legend.Legend at 0x7f89f091f710>"
      ]
     },
     "execution_count": 17,
     "metadata": {},
     "output_type": "execute_result"
    },
    {
     "data": {
      "image/png": "[encoded data removed]",
      "text/plain": [
       "<Figure size 432x288 with 1 Axes>"
      ]
     },
     "metadata": {
      "needs_background": "light"
     },
     "output_type": "display_data"
    }
   ],
   "source": [
    "x_1 = X_test_std[:, 0]# GrLivAreaでラベル1でTure\n",
    "x_2 = X_test_std[:, 0]# GrLivAreaでラベル2でPred\n",
    "\n",
    "y_1 = y_test# SalePriceでラベル1\n",
    "y_2 = y_pred# SalePriceでラベル2\n",
    "\n",
    "# 散布図を描画\n",
    "plt.title(\"House Price_Linear\", size=20, weight='heavy')\n",
    "plt.xlabel(\"GrLivArea\", size=18)\n",
    "plt.ylabel(\"SalePrice\", size=18)\n",
    "plt.tick_params(labelsize=12)\n",
    "#plt.scatter(x_0, y_0, c='green')\n",
    "plt.scatter(x_1, y_1, c='red', label='True')\n",
    "plt.scatter(x_2, y_2, c='blue', label='Pred')\n",
    "plt.legend()"
   ]
  },
  {
   "cell_type": "code",
   "execution_count": 18,
   "metadata": {},
   "outputs": [
    {
     "data": {
      "text/plain": [
       "<matplotlib.legend.Legend at 0x7f89f0a0fda0>"
      ]
     },
     "execution_count": 18,
     "metadata": {},
     "output_type": "execute_result"
    },
    {
     "data": {
      "image/png": "[encoded data removed]",
      "text/plain": [
       "<Figure size 432x288 with 1 Axes>"
      ]
     },
     "metadata": {
      "needs_background": "light"
     },
     "output_type": "display_data"
    }
   ],
   "source": [
    "x_1 = X_test_std[:, 1]# YearBuiltでラベル1\n",
    "x_2 = X_test_std[:, 1]# YearBuiltでラベル2\n",
    "\n",
    "y_1 = y_test# SalePriceでラベル1\n",
    "y_2 = y_pred# SalePriceでラベル2\n",
    "\n",
    "# 散布図を描画\n",
    "plt.title(\"House Price\", size=20, weight='heavy')\n",
    "plt.xlabel(\"YearBuilt\", size=18)\n",
    "plt.ylabel(\"SalePrice\", size=18)\n",
    "plt.tick_params(labelsize=12)\n",
    "#plt.scatter(x_0, y_0, c='green')\n",
    "plt.scatter(x_1, y_1, c='red', label='True')\n",
    "plt.scatter(x_2, y_2, c='blue', label='Pred')\n",
    "plt.legend()"
   ]
  },
  {
   "cell_type": "markdown",
   "metadata": {},
   "source": [
    "### 【問題3】手法の比較\n",
    "\n",
    "以下の全ての手法について学習・推定・評価・可視化を行ってください。そして、指標値を１つの表にまとめてください。その表と可視化した図を利用して結果を簡単に考察してください。どの手法がどの指標値が良かったかや、どういった図になっていたかを述べてください。\n",
    "\n",
    "1. 線形回帰\n",
    "2. SVM\n",
    "3. 決定木\n",
    "4. ランダムフォレスト\n",
    "\n",
    "SVM、決定木、ランダムフォレストは分類問題でも使用した手法ですが、回帰問題用のライブラリはそれぞれ専用のものに分かれています。\n",
    "\n",
    "[SVM](https://scikit-learn.org/stable/modules/generated/sklearn.svm.SVR.html)\n",
    "\n",
    "[決定木](https://scikit-learn.org/stable/modules/generated/sklearn.tree.DecisionTreeRegressor.html)\n",
    "\n",
    "[ランダムフォレスト](https://scikit-learn.org/stable/modules/generated/sklearn.ensemble.RandomForestRegressor.html)\n",
    "\n",
    "線形回帰は問題3にて終了しているので表のみ作成とする。"
   ]
  },
  {
   "cell_type": "markdown",
   "metadata": {},
   "source": [
    "#### 1. 線形回帰 "
   ]
  },
  {
   "cell_type": "code",
   "execution_count": 19,
   "metadata": {},
   "outputs": [],
   "source": [
    "# 表の作成\n",
    "\n",
    "pred_df = pd.DataFrame({'LinearRegression' : [mean_squared_error(y_test, y_pred)]}, \n",
    "                                               index = ['MSE'])"
   ]
  },
  {
   "cell_type": "code",
   "execution_count": 20,
   "metadata": {},
   "outputs": [
    {
     "data": {
      "text/html": [
       "<div>\n",
       "<style scoped>\n",
       "    .dataframe tbody tr th:only-of-type {\n",
       "        vertical-align: middle;\n",
       "    }\n",
       "\n",
       "    .dataframe tbody tr th {\n",
       "        vertical-align: top;\n",
       "    }\n",
       "\n",
       "    .dataframe thead th {\n",
       "        text-align: right;\n",
       "    }\n",
       "</style>\n",
       "<table border=\"1\" class=\"dataframe\">\n",
       "  <thead>\n",
       "    <tr style=\"text-align: right;\">\n",
       "      <th></th>\n",
       "      <th>LinearRegression</th>\n",
       "    </tr>\n",
       "  </thead>\n",
       "  <tbody>\n",
       "    <tr>\n",
       "      <th>MSE</th>\n",
       "      <td>2.314465e+09</td>\n",
       "    </tr>\n",
       "  </tbody>\n",
       "</table>\n",
       "</div>"
      ],
      "text/plain": [
       "     LinearRegression\n",
       "MSE      2.314465e+09"
      ]
     },
     "execution_count": 20,
     "metadata": {},
     "output_type": "execute_result"
    }
   ],
   "source": [
    "pred_df"
   ]
  },
  {
   "cell_type": "markdown",
   "metadata": {},
   "source": [
    "#### 2. SVM"
   ]
  },
  {
   "cell_type": "code",
   "execution_count": 21,
   "metadata": {},
   "outputs": [
    {
     "data": {
      "text/plain": [
       "array([164844.89487193, 165181.29359015, 164836.20308932, ...,\n",
       "       165282.71638756, 165288.67710752, 164859.8115595 ])"
      ]
     },
     "execution_count": 21,
     "metadata": {},
     "output_type": "execute_result"
    }
   ],
   "source": [
    "#学習、推定\n",
    "from sklearn.svm import SVR\n",
    "svm = SVR()\n",
    "svm.fit(X_train_std, y_train)\n",
    "y_pred_svm = svm.predict(X_test_std)\n",
    "np.set_printoptions(threshold=10)\n",
    "y_pred_svm"
   ]
  },
  {
   "cell_type": "code",
   "execution_count": 22,
   "metadata": {},
   "outputs": [
    {
     "data": {
      "text/plain": [
       "7169223057.829623"
      ]
     },
     "execution_count": 22,
     "metadata": {},
     "output_type": "execute_result"
    }
   ],
   "source": [
    "# 評価\n",
    "\n",
    "mean_squared_error(y_test, y_pred_svm)"
   ]
  },
  {
   "cell_type": "code",
   "execution_count": 23,
   "metadata": {},
   "outputs": [],
   "source": [
    "# 表作成用\n",
    "\n",
    "pred_df = pred_df.assign(SVM = [mean_squared_error(y_test, y_pred_svm)])"
   ]
  },
  {
   "cell_type": "code",
   "execution_count": 24,
   "metadata": {},
   "outputs": [
    {
     "data": {
      "text/plain": [
       "<matplotlib.legend.Legend at 0x7f89f0c8bcf8>"
      ]
     },
     "execution_count": 24,
     "metadata": {},
     "output_type": "execute_result"
    },
    {
     "data": {
      "image/png": "[encoded data removed]",
      "text/plain": [
       "<Figure size 432x288 with 1 Axes>"
      ]
     },
     "metadata": {
      "needs_background": "light"
     },
     "output_type": "display_data"
    }
   ],
   "source": [
    "#可視化\n",
    "\n",
    "x_1 = X_test_std[:, 0]# GrLivArea\n",
    "x_2 = X_test_std[:, 0]# GrLivArea\n",
    "\n",
    "y_1 = y_test# SalePrice\n",
    "y_2 = y_pred_svm# SalePrice\n",
    "\n",
    "# 散布図を描画\n",
    "plt.title(\"House Price_SVM\", size=20, weight='heavy')\n",
    "plt.xlabel(\"GrLivArea\", size=18)\n",
    "plt.ylabel(\"SalePrice\", size=18)\n",
    "plt.tick_params(labelsize=12)\n",
    "#plt.scatter(x_0, y_0, c='green')\n",
    "plt.scatter(x_1, y_1, c='red', label='True')\n",
    "plt.scatter(x_2, y_2, c='blue', label='Pred')\n",
    "plt.legend()"
   ]
  },
  {
   "cell_type": "code",
   "execution_count": 25,
   "metadata": {},
   "outputs": [
    {
     "data": {
      "text/plain": [
       "<matplotlib.legend.Legend at 0x7f89f0d76eb8>"
      ]
     },
     "execution_count": 25,
     "metadata": {},
     "output_type": "execute_result"
    },
    {
     "data": {
      "image/png": "[encoded data removed]",
      "text/plain": [
       "<Figure size 432x288 with 1 Axes>"
      ]
     },
     "metadata": {
      "needs_background": "light"
     },
     "output_type": "display_data"
    }
   ],
   "source": [
    "x_1 = X_test_std[:, 1]# YearBuiltでTrue\n",
    "x_2 = X_test_std[:, 1]# YearBuiltでPred\n",
    "\n",
    "y_1 = y_test# SalePriceでTrue\n",
    "y_2 = y_pred_svm# SalePriceでPred\n",
    "\n",
    "# 散布図を描画\n",
    "plt.title(\"House Price_SVM\", size=20, weight='heavy')\n",
    "plt.xlabel(\"YearBuilt\", size=18)\n",
    "plt.ylabel(\"SalePrice\", size=18)\n",
    "plt.tick_params(labelsize=12)\n",
    "plt.scatter(x_1, y_1, c='red', label='True')\n",
    "plt.scatter(x_2, y_2, c='blue', label='Pred')\n",
    "plt.legend()"
   ]
  },
  {
   "cell_type": "markdown",
   "metadata": {},
   "source": [
    "#### 3. 決定木"
   ]
  },
  {
   "cell_type": "code",
   "execution_count": 26,
   "metadata": {},
   "outputs": [
    {
     "data": {
      "text/plain": [
       "array([132000., 336000.,  88000., ..., 313000., 221000., 155000.])"
      ]
     },
     "execution_count": 26,
     "metadata": {},
     "output_type": "execute_result"
    }
   ],
   "source": [
    "#学習、推定\n",
    "from sklearn.model_selection import cross_val_score\n",
    "from sklearn.tree import DecisionTreeRegressor\n",
    "tree =  DecisionTreeRegressor()\n",
    "tree.fit(X_train_std, y_train)\n",
    "y_pred_tree = tree.predict(X_test_std)\n",
    "y_pred_tree"
   ]
  },
  {
   "cell_type": "code",
   "execution_count": 27,
   "metadata": {},
   "outputs": [
    {
     "data": {
      "text/plain": [
       "2302522981.885236"
      ]
     },
     "execution_count": 27,
     "metadata": {},
     "output_type": "execute_result"
    }
   ],
   "source": [
    "#評価\n",
    "mean_squared_error(y_test, y_pred_tree)"
   ]
  },
  {
   "cell_type": "code",
   "execution_count": 28,
   "metadata": {},
   "outputs": [],
   "source": [
    "#表作成用\n",
    "pred_df = pred_df.assign(Dicision_Tree=[mean_squared_error(y_test, y_pred_tree)])"
   ]
  },
  {
   "cell_type": "code",
   "execution_count": 29,
   "metadata": {},
   "outputs": [
    {
     "data": {
      "text/plain": [
       "<matplotlib.legend.Legend at 0x7f89f0e026d8>"
      ]
     },
     "execution_count": 29,
     "metadata": {},
     "output_type": "execute_result"
    },
    {
     "data": {
      "image/png": "[encoded data removed]",
      "text/plain": [
       "<Figure size 432x288 with 1 Axes>"
      ]
     },
     "metadata": {
      "needs_background": "light"
     },
     "output_type": "display_data"
    }
   ],
   "source": [
    "#可視化\n",
    "\n",
    "x_1 = X_test_std[:, 0]# GrLivArea\n",
    "x_2 = X_test_std[:, 0]# GrLivArea\n",
    "\n",
    "y_1 = y_test# SalePrice\n",
    "y_2 = y_pred_tree# SalePrice\n",
    "\n",
    "# 散布図を描画\n",
    "plt.title(\"House Price_Dicision Tree\", size=20, weight='heavy')\n",
    "plt.xlabel(\"GrLivArea\", size=18)\n",
    "plt.ylabel(\"SalePrice\", size=18)\n",
    "plt.tick_params(labelsize=12)\n",
    "#plt.scatter(x_0, y_0, c='green')\n",
    "plt.scatter(x_1, y_1, c='red', label='True')\n",
    "plt.scatter(x_2, y_2, c='blue', label='Pred')\n",
    "plt.legend()"
   ]
  },
  {
   "cell_type": "code",
   "execution_count": 30,
   "metadata": {},
   "outputs": [
    {
     "data": {
      "text/plain": [
       "<matplotlib.legend.Legend at 0x7f89f187d208>"
      ]
     },
     "execution_count": 30,
     "metadata": {},
     "output_type": "execute_result"
    },
    {
     "data": {
      "image/png": "[encoded data removed]",
      "text/plain": [
       "<Figure size 432x288 with 1 Axes>"
      ]
     },
     "metadata": {
      "needs_background": "light"
     },
     "output_type": "display_data"
    }
   ],
   "source": [
    "x_1 = X_test_std[:, 1]# YearBuiltでTrue\n",
    "x_2 = X_test_std[:, 1]# YearBuiltでPred\n",
    "\n",
    "y_1 = y_test# SalePriceでTrue\n",
    "y_2 = y_pred_tree# SalePriceでPred\n",
    "\n",
    "# 散布図を描画\n",
    "plt.title(\"House Price_Dicision Tree\", size=20, weight='heavy')\n",
    "plt.xlabel(\"YearBuilt\", size=18)\n",
    "plt.ylabel(\"SalePrice\", size=18)\n",
    "plt.tick_params(labelsize=12)\n",
    "plt.scatter(x_1, y_1, c='red', label='True')\n",
    "plt.scatter(x_2, y_2, c='blue', label='Pred')\n",
    "plt.legend()"
   ]
  },
  {
   "cell_type": "markdown",
   "metadata": {},
   "source": [
    "#### 4. ランダムフォレスト"
   ]
  },
  {
   "cell_type": "code",
   "execution_count": 31,
   "metadata": {},
   "outputs": [
    {
     "data": {
      "text/plain": [
       "array([144301.25, 329765.  ,  97062.  , ..., 275240.52, 219182.5 ,\n",
       "       155763.5 ])"
      ]
     },
     "execution_count": 31,
     "metadata": {},
     "output_type": "execute_result"
    }
   ],
   "source": [
    "#学習、推定\n",
    "from sklearn.ensemble import RandomForestRegressor\n",
    "rf = RandomForestRegressor()\n",
    "rf.fit(X_train_std, y_train)\n",
    "y_pred_rf = rf.predict(X_test_std)\n",
    "y_pred_rf"
   ]
  },
  {
   "cell_type": "code",
   "execution_count": 32,
   "metadata": {},
   "outputs": [
    {
     "data": {
      "text/plain": [
       "1639961421.460401"
      ]
     },
     "execution_count": 32,
     "metadata": {},
     "output_type": "execute_result"
    }
   ],
   "source": [
    "#評価\n",
    "mean_squared_error(y_test, y_pred_rf)"
   ]
  },
  {
   "cell_type": "code",
   "execution_count": 33,
   "metadata": {},
   "outputs": [],
   "source": [
    "#表作成用\n",
    "pred_df = pred_df.assign(RandomForest=[mean_squared_error(y_test, y_pred_rf)])"
   ]
  },
  {
   "cell_type": "code",
   "execution_count": 34,
   "metadata": {},
   "outputs": [
    {
     "data": {
      "text/plain": [
       "<matplotlib.legend.Legend at 0x7f89f251e320>"
      ]
     },
     "execution_count": 34,
     "metadata": {},
     "output_type": "execute_result"
    },
    {
     "data": {
      "image/png": "[encoded data removed]",
      "text/plain": [
       "<Figure size 432x288 with 1 Axes>"
      ]
     },
     "metadata": {
      "needs_background": "light"
     },
     "output_type": "display_data"
    }
   ],
   "source": [
    "#可視化\n",
    "\n",
    "x_1 = X_test_std[:, 0]# GrLivArea\n",
    "x_2 = X_test_std[:, 0]# GrLivArea\n",
    "\n",
    "y_1 = y_test# SalePrice\n",
    "y_2 = y_pred_rf# SalePrice\n",
    "\n",
    "# 散布図を描画\n",
    "plt.title(\"House Price_RandomForest\", size=20, weight='heavy')\n",
    "plt.xlabel(\"GrLivArea\", size=18)\n",
    "plt.ylabel(\"SalePrice\", size=18)\n",
    "plt.tick_params(labelsize=12)\n",
    "#plt.scatter(x_0, y_0, c='green')\n",
    "plt.scatter(x_1, y_1, c='red', label='True')\n",
    "plt.scatter(x_2, y_2, c='blue', label='Pred')\n",
    "plt.legend()"
   ]
  },
  {
   "cell_type": "code",
   "execution_count": 35,
   "metadata": {},
   "outputs": [
    {
     "data": {
      "text/plain": [
       "<matplotlib.legend.Legend at 0x7f89f26104e0>"
      ]
     },
     "execution_count": 35,
     "metadata": {},
     "output_type": "execute_result"
    },
    {
     "data": {
      "image/png": "[encoded data removed]",
      "text/plain": [
       "<Figure size 432x288 with 1 Axes>"
      ]
     },
     "metadata": {
      "needs_background": "light"
     },
     "output_type": "display_data"
    }
   ],
   "source": [
    "x_1 = X_test_std[:, 1]# YearBuiltでTrue\n",
    "x_2 = X_test_std[:, 1]# YearBuiltでPred\n",
    "\n",
    "y_1 = y_test# SalePriceでTrue\n",
    "y_2 = y_pred_rf# SalePriceでPred\n",
    "\n",
    "# 散布図を描画\n",
    "plt.title(\"House Price_RandomForest\", size=20, weight='heavy')\n",
    "plt.xlabel(\"YearBuilt\", size=18)\n",
    "plt.ylabel(\"SalePrice\", size=18)\n",
    "plt.tick_params(labelsize=12)\n",
    "plt.scatter(x_1, y_1, c='red', label='True')\n",
    "plt.scatter(x_2, y_2, c='blue', label='Pred')\n",
    "plt.legend()"
   ]
  },
  {
   "cell_type": "code",
   "execution_count": 36,
   "metadata": {},
   "outputs": [
    {
     "data": {
      "text/html": [
       "<div>\n",
       "<style scoped>\n",
       "    .dataframe tbody tr th:only-of-type {\n",
       "        vertical-align: middle;\n",
       "    }\n",
       "\n",
       "    .dataframe tbody tr th {\n",
       "        vertical-align: top;\n",
       "    }\n",
       "\n",
       "    .dataframe thead th {\n",
       "        text-align: right;\n",
       "    }\n",
       "</style>\n",
       "<table border=\"1\" class=\"dataframe\">\n",
       "  <thead>\n",
       "    <tr style=\"text-align: right;\">\n",
       "      <th></th>\n",
       "      <th>LinearRegression</th>\n",
       "      <th>SVM</th>\n",
       "      <th>Dicision_Tree</th>\n",
       "      <th>RandomForest</th>\n",
       "    </tr>\n",
       "  </thead>\n",
       "  <tbody>\n",
       "    <tr>\n",
       "      <th>MSE</th>\n",
       "      <td>2.314465e+09</td>\n",
       "      <td>7.169223e+09</td>\n",
       "      <td>2.302523e+09</td>\n",
       "      <td>1.639961e+09</td>\n",
       "    </tr>\n",
       "  </tbody>\n",
       "</table>\n",
       "</div>"
      ],
      "text/plain": [
       "     LinearRegression           SVM  Dicision_Tree  RandomForest\n",
       "MSE      2.314465e+09  7.169223e+09   2.302523e+09  1.639961e+09"
      ]
     },
     "execution_count": 36,
     "metadata": {},
     "output_type": "execute_result"
    }
   ],
   "source": [
    "#表出力\n",
    "pred_df"
   ]
  },
  {
   "cell_type": "markdown",
   "metadata": {},
   "source": [
    "#### 【結果、考察】\n",
    "MSEの値が一番小さく精度が高い物はランダムフォレストであった。\n",
    "散布図はSVMの予測が上手くできていない様が描かれており、SVMの学習が上手くいってないように思う。今回はパラメーターの調整ができていない為なのか、次回以降パラメーターを割り当てて学習させて見たいと思う。SVMはMSEも他に比べて大きかった。"
   ]
  },
  {
   "cell_type": "markdown",
   "metadata": {},
   "source": [
    "### 【問題4】（アドバンス課題）他の特徴量も使用しての学習\n",
    "\n",
    "ここまでは練習のために2つの特徴量だけを使いましたが、他の特徴量を加えるとどのようになるか検証してください。どう選択・加工するかにはデータ分析が重要になってきます。\n",
    "\n",
    "KaggleのNotebooksも参考にできます。\n",
    "\n",
    "[House Prices - Advanced Regression Techniques](https://www.kaggle.com/c/house-prices-advanced-regression-techniques/kernels?competitionId=5407&sortBy=voteCount)"
   ]
  },
  {
   "cell_type": "markdown",
   "metadata": {},
   "source": [
    "まずは目的変数(SalePrice)と相関性の高いものを抜き出してみる。"
   ]
  },
  {
   "cell_type": "code",
   "execution_count": 37,
   "metadata": {},
   "outputs": [
    {
     "data": {
      "text/plain": [
       "OverallQual     0.790982\n",
       "GrLivArea       0.708624\n",
       "GarageCars      0.640409\n",
       "GarageArea      0.623431\n",
       "TotalBsmtSF     0.613581\n",
       "1stFlrSF        0.605852\n",
       "FullBath        0.560664\n",
       "TotRmsAbvGrd    0.533723\n",
       "YearBuilt       0.522897\n",
       "YearRemodAdd    0.507101\n",
       "Name: SalePrice, dtype: float64"
      ]
     },
     "execution_count": 37,
     "metadata": {},
     "output_type": "execute_result"
    }
   ],
   "source": [
    "train_corr = train.corr()\n",
    "\n",
    "train_corr_list = train_corr['SalePrice'].sort_values(ascending=False)\n",
    "train_corr_list[1:11]"
   ]
  },
  {
   "cell_type": "markdown",
   "metadata": {},
   "source": [
    "GrLivArea以外の上位３つのOverallQual、GarageCars、GarageAreaについて欠損値の有無を調べてみる。"
   ]
  },
  {
   "cell_type": "code",
   "execution_count": 38,
   "metadata": {},
   "outputs": [
    {
     "data": {
      "text/html": [
       "<div>\n",
       "<style scoped>\n",
       "    .dataframe tbody tr th:only-of-type {\n",
       "        vertical-align: middle;\n",
       "    }\n",
       "\n",
       "    .dataframe tbody tr th {\n",
       "        vertical-align: top;\n",
       "    }\n",
       "\n",
       "    .dataframe thead th {\n",
       "        text-align: right;\n",
       "    }\n",
       "</style>\n",
       "<table border=\"1\" class=\"dataframe\">\n",
       "  <thead>\n",
       "    <tr style=\"text-align: right;\">\n",
       "      <th></th>\n",
       "      <th>OverallQual</th>\n",
       "      <th>GarageCars</th>\n",
       "      <th>GarageArea</th>\n",
       "    </tr>\n",
       "  </thead>\n",
       "  <tbody>\n",
       "    <tr>\n",
       "      <th>0</th>\n",
       "      <td>7</td>\n",
       "      <td>2</td>\n",
       "      <td>548</td>\n",
       "    </tr>\n",
       "    <tr>\n",
       "      <th>1</th>\n",
       "      <td>6</td>\n",
       "      <td>2</td>\n",
       "      <td>460</td>\n",
       "    </tr>\n",
       "    <tr>\n",
       "      <th>2</th>\n",
       "      <td>7</td>\n",
       "      <td>2</td>\n",
       "      <td>608</td>\n",
       "    </tr>\n",
       "    <tr>\n",
       "      <th>3</th>\n",
       "      <td>7</td>\n",
       "      <td>3</td>\n",
       "      <td>642</td>\n",
       "    </tr>\n",
       "    <tr>\n",
       "      <th>4</th>\n",
       "      <td>8</td>\n",
       "      <td>3</td>\n",
       "      <td>836</td>\n",
       "    </tr>\n",
       "    <tr>\n",
       "      <th>...</th>\n",
       "      <td>...</td>\n",
       "      <td>...</td>\n",
       "      <td>...</td>\n",
       "    </tr>\n",
       "    <tr>\n",
       "      <th>1455</th>\n",
       "      <td>6</td>\n",
       "      <td>2</td>\n",
       "      <td>460</td>\n",
       "    </tr>\n",
       "    <tr>\n",
       "      <th>1456</th>\n",
       "      <td>6</td>\n",
       "      <td>2</td>\n",
       "      <td>500</td>\n",
       "    </tr>\n",
       "    <tr>\n",
       "      <th>1457</th>\n",
       "      <td>7</td>\n",
       "      <td>1</td>\n",
       "      <td>252</td>\n",
       "    </tr>\n",
       "    <tr>\n",
       "      <th>1458</th>\n",
       "      <td>5</td>\n",
       "      <td>1</td>\n",
       "      <td>240</td>\n",
       "    </tr>\n",
       "    <tr>\n",
       "      <th>1459</th>\n",
       "      <td>5</td>\n",
       "      <td>1</td>\n",
       "      <td>276</td>\n",
       "    </tr>\n",
       "  </tbody>\n",
       "</table>\n",
       "<p>1460 rows × 3 columns</p>\n",
       "</div>"
      ],
      "text/plain": [
       "      OverallQual  GarageCars  GarageArea\n",
       "0               7           2         548\n",
       "1               6           2         460\n",
       "2               7           2         608\n",
       "3               7           3         642\n",
       "4               8           3         836\n",
       "...           ...         ...         ...\n",
       "1455            6           2         460\n",
       "1456            6           2         500\n",
       "1457            7           1         252\n",
       "1458            5           1         240\n",
       "1459            5           1         276\n",
       "\n",
       "[1460 rows x 3 columns]"
      ]
     },
     "execution_count": 38,
     "metadata": {},
     "output_type": "execute_result"
    }
   ],
   "source": [
    "X1 = pd.DataFrame(train, columns=['OverallQual', 'GarageCars', 'GarageArea'])\n",
    "X1"
   ]
  },
  {
   "cell_type": "code",
   "execution_count": 39,
   "metadata": {},
   "outputs": [
    {
     "data": {
      "text/plain": [
       "OverallQual    0\n",
       "GarageCars     0\n",
       "GarageArea     0\n",
       "dtype: int64"
      ]
     },
     "execution_count": 39,
     "metadata": {},
     "output_type": "execute_result"
    }
   ],
   "source": [
    "# 欠損値の確認\n",
    "X1.isnull().sum()"
   ]
  },
  {
   "cell_type": "code",
   "execution_count": 40,
   "metadata": {},
   "outputs": [
    {
     "data": {
      "text/plain": [
       "<seaborn.axisgrid.FacetGrid at 0x7f89ee8eac18>"
      ]
     },
     "execution_count": 40,
     "metadata": {},
     "output_type": "execute_result"
    },
    {
     "data": {
      "image/png": "[encoded data removed]",
      "text/plain": [
       "<Figure size 360x360 with 1 Axes>"
      ]
     },
     "metadata": {
      "needs_background": "light"
     },
     "output_type": "display_data"
    },
    {
     "data": {
      "image/png": "[encoded data removed]",
      "text/plain": [
       "<Figure size 360x360 with 1 Axes>"
      ]
     },
     "metadata": {
      "needs_background": "light"
     },
     "output_type": "display_data"
    },
    {
     "data": {
      "image/png": "[encoded data removed]",
      "text/plain": [
       "<Figure size 360x360 with 1 Axes>"
      ]
     },
     "metadata": {
      "needs_background": "light"
     },
     "output_type": "display_data"
    }
   ],
   "source": [
    "# 分布の確認\n",
    "sns.displot(X1['OverallQual'], kde=False)\n",
    "sns.displot(X1['GarageCars'], kde=False)\n",
    "sns.displot(X1['GarageArea'], kde=False)"
   ]
  },
  {
   "cell_type": "markdown",
   "metadata": {},
   "source": [
    "GrLivArea、YearBuiltの他に、OverallQual、GarageCars、GarageAreaの３つの特徴量も足した、合計5つの特徴量で行ってみる。"
   ]
  },
  {
   "cell_type": "code",
   "execution_count": 41,
   "metadata": {},
   "outputs": [
    {
     "name": "stdout",
     "output_type": "stream",
     "text": [
      "<class 'numpy.ndarray'>\n",
      "<class 'pandas.core.frame.DataFrame'>\n"
     ]
    }
   ],
   "source": [
    "print(type(X))\n",
    "print(type(X1))"
   ]
  },
  {
   "cell_type": "code",
   "execution_count": 42,
   "metadata": {},
   "outputs": [
    {
     "data": {
      "text/plain": [
       "numpy.ndarray"
      ]
     },
     "execution_count": 42,
     "metadata": {},
     "output_type": "execute_result"
    }
   ],
   "source": [
    "X1 = X1.values\n",
    "type(X1)"
   ]
  },
  {
   "cell_type": "code",
   "execution_count": 43,
   "metadata": {},
   "outputs": [
    {
     "name": "stdout",
     "output_type": "stream",
     "text": [
      "[[1710 2003    7    2  548]\n",
      " [1262 1976    6    2  460]\n",
      " [1786 2001    7    2  608]\n",
      " ...\n",
      " [2340 1941    7    1  252]\n",
      " [1078 1950    5    1  240]\n",
      " [1256 1965    5    1  276]]\n",
      "(1460, 5)\n"
     ]
    }
   ],
   "source": [
    "X_x = np.concatenate([X, X1], axis=1)\n",
    "print(X_x)\n",
    "print(X_x.shape)"
   ]
  },
  {
   "cell_type": "code",
   "execution_count": 44,
   "metadata": {},
   "outputs": [
    {
     "name": "stdout",
     "output_type": "stream",
     "text": [
      "X <class 'numpy.ndarray'>\n",
      "X_train :  (1095, 5) X_test :  (365, 5)\n"
     ]
    }
   ],
   "source": [
    "#データを分割\n",
    "X_train, X_test = train_test_split(X_x, test_size=0.25, random_state=42)\n",
    "\n",
    "print(\"X\", type(X))\n",
    "print(\"X_train : \", X_train.shape, \"X_test : \", X_test.shape)"
   ]
  },
  {
   "cell_type": "code",
   "execution_count": 45,
   "metadata": {},
   "outputs": [
    {
     "name": "stdout",
     "output_type": "stream",
     "text": [
      "X_train_std (1095, 5)\n",
      "X_test_std (365, 5)\n",
      "X_train_std.mean [-1.35425664e-16 -7.55357218e-16 -2.97276156e-16 -3.42698979e-17\n",
      "  8.43566718e-17]\n",
      "X_train_std.std [1. 1. 1. 1. 1.]\n"
     ]
    }
   ],
   "source": [
    "# 標準化\n",
    "scaler = StandardScaler()\n",
    "\n",
    "scaler.fit(X_train)\n",
    "\n",
    "X_train_std = scaler.transform(X_train)\n",
    "X_test_std = scaler.transform(X_test)\n",
    "\n",
    "print(\"X_train_std\", X_train_std.shape)\n",
    "print(\"X_test_std\", X_test_std.shape)\n",
    "print(\"X_train_std.mean\", X_train_std.mean(axis=0))# 平均\n",
    "print(\"X_train_std.std\", X_train_std.std(axis=0))# 分散"
   ]
  },
  {
   "cell_type": "code",
   "execution_count": 46,
   "metadata": {},
   "outputs": [
    {
     "name": "stdout",
     "output_type": "stream",
     "text": [
      "[136824.76768538 299397.737679   111072.15110271 ... 276538.01159162\n",
      " 228441.6545574  120969.9367397 ]\n",
      "1614956770.3081925\n"
     ]
    }
   ],
   "source": [
    "#線形回帰で学習、推定、評価\n",
    "linear = LinearRegression()\n",
    "\n",
    "linear.fit(X_train_std, y_train)\n",
    "y_pred = linear.predict(X_test_std)\n",
    "\n",
    "np.set_printoptions(threshold=10)\n",
    "print(y_pred)\n",
    "\n",
    "print(mean_squared_error(y_test, y_pred))\n",
    "\n",
    "#表作成用\n",
    "pred_df = pred_df.assign(Linear_5=[mean_squared_error(y_test, y_pred)])"
   ]
  },
  {
   "cell_type": "code",
   "execution_count": 47,
   "metadata": {},
   "outputs": [
    {
     "name": "stdout",
     "output_type": "stream",
     "text": [
      "[164916.91991281 165230.07810474 164924.83969014 ... 165285.7763472\n",
      " 165257.55410089 164887.20428062]\n",
      "7172538565.079906\n"
     ]
    }
   ],
   "source": [
    "#SVMで学習、推定、評価\n",
    "\n",
    "svm = SVR()\n",
    "svm.fit(X_train_std, y_train)\n",
    "y_pred_svm = svm.predict(X_test_std)\n",
    "np.set_printoptions(threshold=10)\n",
    "print(y_pred_svm)\n",
    "print(mean_squared_error(y_test, y_pred_svm))\n",
    "\n",
    "#表作成用\n",
    "pred_df = pred_df.assign(SVM_5=[mean_squared_error(y_test, y_pred_svm)])"
   ]
  },
  {
   "cell_type": "code",
   "execution_count": 48,
   "metadata": {},
   "outputs": [
    {
     "name": "stdout",
     "output_type": "stream",
     "text": [
      "[140000. 336000.  85000. ... 250000. 176500. 125000.]\n",
      "1595330510.992694\n"
     ]
    }
   ],
   "source": [
    "#決定木で学習、推定、評価\n",
    "\n",
    "tree =  DecisionTreeRegressor()\n",
    "tree.fit(X_train_std, y_train)\n",
    "y_pred_tree = tree.predict(X_test_std)\n",
    "print(y_pred_tree)\n",
    "print(mean_squared_error(y_test, y_pred_tree))\n",
    "\n",
    "#表作成用\n",
    "pred_df = pred_df.assign(DecisionTree_5=[mean_squared_error(y_test, y_pred_tree)])"
   ]
  },
  {
   "cell_type": "code",
   "execution_count": 49,
   "metadata": {},
   "outputs": [
    {
     "name": "stdout",
     "output_type": "stream",
     "text": [
      "[137415.   313104.11 104957.   ... 263132.24 201528.59 138094.  ]\n",
      "1110820097.4923046\n"
     ]
    }
   ],
   "source": [
    "#ランダムフォレストで学習、推定\n",
    "rf = RandomForestRegressor()\n",
    "rf.fit(X_train_std, y_train)\n",
    "y_pred_rf = rf.predict(X_test_std)\n",
    "print(y_pred_rf)\n",
    "print(mean_squared_error(y_test, y_pred_rf))\n",
    "\n",
    "#表作成用\n",
    "pred_df = pred_df.assign(RandomForest_5=[mean_squared_error(y_test, y_pred_rf)])"
   ]
  },
  {
   "cell_type": "markdown",
   "metadata": {},
   "source": [
    "**ランダムフォレストが最もMSEが小さかったので可視化してみる**"
   ]
  },
  {
   "cell_type": "code",
   "execution_count": 50,
   "metadata": {},
   "outputs": [
    {
     "data": {
      "text/plain": [
       "<matplotlib.legend.Legend at 0x7f89efc3c080>"
      ]
     },
     "execution_count": 50,
     "metadata": {},
     "output_type": "execute_result"
    },
    {
     "data": {
      "image/png": "[encoded data removed]",
      "text/plain": [
       "<Figure size 432x288 with 1 Axes>"
      ]
     },
     "metadata": {
      "needs_background": "light"
     },
     "output_type": "display_data"
    }
   ],
   "source": [
    "#可視化\n",
    "\n",
    "x_1 = X_test_std[:, 0]# GrLivArea\n",
    "x_2 = X_test_std[:, 0]# GrLivArea\n",
    "\n",
    "y_1 = y_test# SalePrice\n",
    "y_2 = y_pred_rf# SalePrice\n",
    "\n",
    "# 散布図を描画\n",
    "plt.title(\"House Price_RandomForest\", size=20, weight='heavy')\n",
    "plt.xlabel(\"GrLivArea\", size=18)\n",
    "plt.ylabel(\"SalePrice\", size=18)\n",
    "plt.tick_params(labelsize=12)\n",
    "#plt.scatter(x_0, y_0, c='green')\n",
    "plt.scatter(x_1, y_1, c='red', label='True')\n",
    "plt.scatter(x_2, y_2, c='blue', label='Pred')\n",
    "plt.legend()"
   ]
  },
  {
   "cell_type": "code",
   "execution_count": 51,
   "metadata": {},
   "outputs": [
    {
     "data": {
      "text/plain": [
       "<matplotlib.legend.Legend at 0x7f89ef98c240>"
      ]
     },
     "execution_count": 51,
     "metadata": {},
     "output_type": "execute_result"
    },
    {
     "data": {
      "image/png": "[encoded data removed]",
      "text/plain": [
       "<Figure size 432x288 with 1 Axes>"
      ]
     },
     "metadata": {
      "needs_background": "light"
     },
     "output_type": "display_data"
    }
   ],
   "source": [
    "#可視化\n",
    "\n",
    "x_1 = X_test_std[:, 1]# YearBuilt\n",
    "x_2 = X_test_std[:, 1]#YearBuilt\n",
    "\n",
    "y_1 = y_test# SalePrice\n",
    "y_2 = y_pred_rf# SalePrice\n",
    "\n",
    "# 散布図を描画\n",
    "plt.title(\"House Price_RandomForest\", size=20, weight='heavy')\n",
    "plt.xlabel(\"YearBuilt\", size=18)\n",
    "plt.ylabel(\"SalePrice\", size=18)\n",
    "plt.tick_params(labelsize=12)\n",
    "#plt.scatter(x_0, y_0, c='green')\n",
    "plt.scatter(x_1, y_1, c='red', label='True')\n",
    "plt.scatter(x_2, y_2, c='blue', label='Pred')\n",
    "plt.legend()"
   ]
  },
  {
   "cell_type": "code",
   "execution_count": 52,
   "metadata": {},
   "outputs": [
    {
     "data": {
      "text/plain": [
       "<matplotlib.legend.Legend at 0x7f89ef4a9470>"
      ]
     },
     "execution_count": 52,
     "metadata": {},
     "output_type": "execute_result"
    },
    {
     "data": {
      "image/png": "[encoded data removed]",
      "text/plain": [
       "<Figure size 432x288 with 1 Axes>"
      ]
     },
     "metadata": {
      "needs_background": "light"
     },
     "output_type": "display_data"
    }
   ],
   "source": [
    "#可視化\n",
    "\n",
    "x_1 = X_test_std[:, 2]# OverallQual \n",
    "x_2 = X_test_std[:, 2]#OverallQual \n",
    "\n",
    "y_1 = y_test# SalePrice\n",
    "y_2 = y_pred_rf# SalePrice\n",
    "\n",
    "# 散布図を描画\n",
    "plt.title(\"House Price_RandomForest\", size=20, weight='heavy')\n",
    "plt.xlabel(\"OverallQual \", size=18)\n",
    "plt.ylabel(\"SalePrice\", size=18)\n",
    "plt.tick_params(labelsize=12)\n",
    "#plt.scatter(x_0, y_0, c='green')\n",
    "plt.scatter(x_1, y_1, c='red', label='True')\n",
    "plt.scatter(x_2, y_2, c='blue', label='Pred')\n",
    "plt.legend()"
   ]
  },
  {
   "cell_type": "code",
   "execution_count": 53,
   "metadata": {},
   "outputs": [
    {
     "data": {
      "text/plain": [
       "<matplotlib.legend.Legend at 0x7f89ef6b1f60>"
      ]
     },
     "execution_count": 53,
     "metadata": {},
     "output_type": "execute_result"
    },
    {
     "data": {
      "image/png": "[encoded data removed]",
      "text/plain": [
       "<Figure size 432x288 with 1 Axes>"
      ]
     },
     "metadata": {
      "needs_background": "light"
     },
     "output_type": "display_data"
    }
   ],
   "source": [
    "#可視化\n",
    "\n",
    "x_1 = X_test_std[:, 3]# GarageCars\n",
    "x_2 = X_test_std[:, 3]#GarageCars\n",
    "\n",
    "y_1 = y_test# SalePrice\n",
    "y_2 = y_pred_rf# SalePrice\n",
    "\n",
    "# 散布図を描画\n",
    "plt.title(\"House Price_RandomForest\", size=20, weight='heavy')\n",
    "plt.xlabel(\"GarageCars\", size=18)\n",
    "plt.ylabel(\"SalePrice\", size=18)\n",
    "plt.tick_params(labelsize=12)\n",
    "#plt.scatter(x_0, y_0, c='green')\n",
    "plt.scatter(x_1, y_1, c='red', label='True')\n",
    "plt.scatter(x_2, y_2, c='blue', label='Pred')\n",
    "plt.legend()"
   ]
  },
  {
   "cell_type": "code",
   "execution_count": 54,
   "metadata": {},
   "outputs": [
    {
     "data": {
      "text/plain": [
       "<matplotlib.legend.Legend at 0x7f89ef7ef668>"
      ]
     },
     "execution_count": 54,
     "metadata": {},
     "output_type": "execute_result"
    },
    {
     "data": {
      "image/png": "[encoded data removed]",
      "text/plain": [
       "<Figure size 432x288 with 1 Axes>"
      ]
     },
     "metadata": {
      "needs_background": "light"
     },
     "output_type": "display_data"
    }
   ],
   "source": [
    "#可視化\n",
    "\n",
    "x_1 = X_test_std[:, 4]# GarageArea\n",
    "x_2 = X_test_std[:, 4]# GarageArea\n",
    "\n",
    "y_1 = y_test# SalePrice\n",
    "y_2 = y_pred_rf# SalePrice\n",
    "\n",
    "# 散布図を描画\n",
    "plt.title(\"House Price_RandomForest\", size=20, weight='heavy')\n",
    "plt.xlabel(\"GarageArea\", size=18)\n",
    "plt.ylabel(\"SalePrice\", size=18)\n",
    "plt.tick_params(labelsize=12)\n",
    "#plt.scatter(x_0, y_0, c='green')\n",
    "plt.scatter(x_1, y_1, c='red', label='True')\n",
    "plt.scatter(x_2, y_2, c='blue', label='Pred')\n",
    "plt.legend()"
   ]
  },
  {
   "cell_type": "code",
   "execution_count": 55,
   "metadata": {},
   "outputs": [
    {
     "data": {
      "text/html": [
       "<div>\n",
       "<style scoped>\n",
       "    .dataframe tbody tr th:only-of-type {\n",
       "        vertical-align: middle;\n",
       "    }\n",
       "\n",
       "    .dataframe tbody tr th {\n",
       "        vertical-align: top;\n",
       "    }\n",
       "\n",
       "    .dataframe thead th {\n",
       "        text-align: right;\n",
       "    }\n",
       "</style>\n",
       "<table border=\"1\" class=\"dataframe\">\n",
       "  <thead>\n",
       "    <tr style=\"text-align: right;\">\n",
       "      <th></th>\n",
       "      <th>LinearRegression</th>\n",
       "      <th>SVM</th>\n",
       "      <th>Dicision_Tree</th>\n",
       "      <th>RandomForest</th>\n",
       "      <th>Linear_5</th>\n",
       "      <th>SVM_5</th>\n",
       "      <th>DecisionTree_5</th>\n",
       "      <th>RandomForest_5</th>\n",
       "    </tr>\n",
       "  </thead>\n",
       "  <tbody>\n",
       "    <tr>\n",
       "      <th>MSE</th>\n",
       "      <td>2.314465e+09</td>\n",
       "      <td>7.169223e+09</td>\n",
       "      <td>2.302523e+09</td>\n",
       "      <td>1.639961e+09</td>\n",
       "      <td>1.614957e+09</td>\n",
       "      <td>7.172539e+09</td>\n",
       "      <td>1.595331e+09</td>\n",
       "      <td>1.110820e+09</td>\n",
       "    </tr>\n",
       "  </tbody>\n",
       "</table>\n",
       "</div>"
      ],
      "text/plain": [
       "     LinearRegression           SVM  Dicision_Tree  RandomForest  \\\n",
       "MSE      2.314465e+09  7.169223e+09   2.302523e+09  1.639961e+09   \n",
       "\n",
       "         Linear_5         SVM_5  DecisionTree_5  RandomForest_5  \n",
       "MSE  1.614957e+09  7.172539e+09    1.595331e+09    1.110820e+09  "
      ]
     },
     "execution_count": 55,
     "metadata": {},
     "output_type": "execute_result"
    }
   ],
   "source": [
    "#表出力\n",
    "pred_df"
   ]
  },
  {
   "cell_type": "markdown",
   "metadata": {},
   "source": [
    "#### 【結果、考察】\n",
    "今回はSalePriceとの相関が高そうな5つの特徴量をピックアップして、各モデルにて学習を行わせてみた。その結果、SVM以外全てのモデルでMSEの減少がみられた。\n",
    "\n",
    "この事からも、目的変数に相関性の高い特徴量の数を多く学ばせることで、推定の精度が高まることが言えそうである。"
   ]
  },
  {
   "cell_type": "code",
   "execution_count": null,
   "metadata": {},
   "outputs": [],
   "source": []
  }
 ],
 "metadata": {
  "kernelspec": {
   "display_name": "Python 3",
   "language": "python",
   "name": "python3"
  },
  "language_info": {
   "codemirror_mode": {
    "name": "ipython",
    "version": 3
   },
   "file_extension": ".py",
   "mimetype": "text/x-python",
   "name": "python",
   "nbconvert_exporter": "python",
   "pygments_lexer": "ipython3",
   "version": "3.7.2"
  }
 },
 "nbformat": 4,
 "nbformat_minor": 4
}
