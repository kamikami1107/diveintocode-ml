{
 "cells": [
  {
   "cell_type": "markdown",
   "metadata": {},
   "source": [
    "# クラスタリングスクラッチ"
   ]
  },
  {
   "cell_type": "code",
   "execution_count": 363,
   "metadata": {},
   "outputs": [],
   "source": [
    "import random\n",
    "import numpy as np\n",
    "import pandas as pd\n",
    "import matplotlib.pyplot as plt\n",
    "%matplotlib inline"
   ]
  },
  {
   "cell_type": "code",
   "execution_count": 364,
   "metadata": {},
   "outputs": [
    {
     "name": "stdout",
     "output_type": "stream",
     "text": [
      "[[ 0.72086751  3.71347124]\n",
      " [-1.89468423  7.96898545]\n",
      " [ 1.35678894  4.36462484]\n",
      " [ 1.05374379  4.49286859]\n",
      " [ 1.59141542  4.90497725]\n",
      " [ 0.78260667  4.15263595]\n",
      " [-1.95751686  3.87291474]\n",
      " [-0.77354537  7.87923564]\n",
      " [ 0.12313498  5.27917503]\n",
      " [-1.43284669  7.71577043]\n",
      " [-0.92819001  7.02698199]\n",
      " [-1.74836345  7.06307447]\n",
      " [-1.26789718  7.25141327]\n",
      " [-0.98661744  7.74968685]\n",
      " [-0.81984047  7.50994722]\n",
      " [ 2.99684287  0.22378413]\n",
      " [ 1.46870582  1.86947425]\n",
      " [-0.33533163  3.390122  ]\n",
      " [-1.86407034  2.93379754]\n",
      " [ 2.62496786  0.28025075]\n",
      " [ 2.11114739  3.57660449]\n",
      " [-1.8219901   7.61654999]\n",
      " [-1.91186205  3.18750686]\n",
      " [ 2.28809874  0.12954182]\n",
      " [ 0.5285368   4.49723858]\n",
      " [-1.57613028  2.58614312]\n",
      " [-0.565433    3.65813966]\n",
      " [ 0.802314    4.38196181]\n",
      " [ 2.79939362  1.84560825]\n",
      " [ 2.64465731  0.80770124]\n",
      " [ 1.7190373   0.71788708]\n",
      " [-0.93564005  7.03443119]\n",
      " [ 2.14398059  0.69677319]\n",
      " [ 2.06051753  1.79059891]\n",
      " [-1.21986433  3.3789856 ]\n",
      " [ 1.13280393  3.87673946]\n",
      " [-1.497272    8.80022604]\n",
      " [ 1.85367905  1.5088862 ]\n",
      " [-0.1666378   8.50372399]\n",
      " [-1.89928142  2.50466299]\n",
      " [ 1.04829186  5.03092408]\n",
      " [-1.44356727  3.23539798]\n",
      " [-1.57006498  6.72375844]\n",
      " [-1.98331513  3.47639041]\n",
      " [-1.87418794  2.84306499]\n",
      " [-1.86097353  8.2576415 ]\n",
      " [ 1.61986895  0.60823883]\n",
      " [-1.84482705  3.25609891]\n",
      " [ 0.72144399  4.08475018]\n",
      " [ 0.5323772   3.31338909]\n",
      " [ 0.3498724   4.69253251]\n",
      " [ 1.89949126  0.92574633]\n",
      " [-1.2386086   2.81373288]\n",
      " [-1.74448079  3.84251413]\n",
      " [-0.96358605  2.37791651]\n",
      " [-1.26041884  7.46644456]\n",
      " [-0.8623605   8.24721209]\n",
      " [ 2.4198128   0.96215512]\n",
      " [ 2.23345072  1.25095024]\n",
      " [-0.65424088  7.99393132]\n",
      " [-1.42525273  7.14798437]\n",
      " [ 1.51989121  1.42488952]\n",
      " [ 2.11872357  1.09865834]\n",
      " [ 1.74265969  5.03846671]\n",
      " [ 1.42002502  1.38236201]\n",
      " [-0.69842598  8.16309188]\n",
      " [-2.18485772  2.68708996]\n",
      " [-1.32890066  2.37135151]\n",
      " [ 2.15940501  1.38598318]\n",
      " [ 1.19820169  4.47062449]\n",
      " [-1.7653772   8.17625727]\n",
      " [ 1.4726926   1.3480769 ]\n",
      " [ 0.92466065  4.50908658]\n",
      " [-1.47602203  7.8441996 ]\n",
      " [ 0.99914934  4.2101954 ]\n",
      " [ 1.40848818  3.93270482]\n",
      " [-0.59312453  3.37090459]\n",
      " [-1.6609057   3.31911046]\n",
      " [ 2.25643834  0.55525861]\n",
      " [ 1.24016835  1.12905479]\n",
      " [ 1.64869438  0.03452236]\n",
      " [-1.61803727  8.60696731]\n",
      " [-1.37778493  3.58107521]\n",
      " [ 0.16932115  4.19741719]\n",
      " [ 1.73810647  0.71629308]\n",
      " [-1.05327803  2.84037721]\n",
      " [ 1.60161834  0.92363636]\n",
      " [ 1.84845803  0.52393625]\n",
      " [ 1.72330962  4.2012082 ]\n",
      " [ 1.00952869  4.45502328]\n",
      " [ 0.96217896  4.51795326]\n",
      " [-1.33869125  2.36818187]\n",
      " [ 0.4519936   3.59377836]\n",
      " [-1.19075663  3.12161318]\n",
      " [-2.27253281  3.13757811]\n",
      " [-1.80044744  7.86154256]\n",
      " [-1.64996061  7.49068513]\n",
      " [-1.56102482  3.77455362]\n",
      " [-0.78782636  7.99482384]\n",
      " [-0.30022483  4.63059663]]\n",
      "(100, 2)\n",
      "(100,)\n",
      "(100,)\n",
      "[[-0.30022483  4.63059663]]\n"
     ]
    }
   ],
   "source": [
    "from sklearn.datasets import make_blobs\n",
    "X, _ = make_blobs(n_samples=100, n_features=2, centers=4, cluster_std=0.5, shuffle=True, random_state=0)\n",
    "print(X)\n",
    "print(X.shape)\n",
    "print(X[:, 0].shape)\n",
    "print(X[:, 1].shape)\n",
    "print(X[99:100, :])"
   ]
  },
  {
   "cell_type": "code",
   "execution_count": 365,
   "metadata": {},
   "outputs": [
    {
     "data": {
      "text/plain": [
       "<matplotlib.collections.PathCollection at 0x7fe987e3a160>"
      ]
     },
     "execution_count": 365,
     "metadata": {},
     "output_type": "execute_result"
    },
    {
     "data": {
      "image/png": "[encoded data removed]",
      "text/plain": [
       "<Figure size 432x288 with 1 Axes>"
      ]
     },
     "metadata": {
      "needs_background": "light"
     },
     "output_type": "display_data"
    }
   ],
   "source": [
    "plt.xlabel(\"line0\", size=18)\n",
    "plt.ylabel(\"line1\", size=18)\n",
    "plt.tick_params(labelsize=12)\n",
    "plt.scatter(X[:, 0], X[:, 1], c='blue')"
   ]
  },
  {
   "cell_type": "markdown",
   "metadata": {},
   "source": [
    "4つのクラスタに分ければ良さそう。。"
   ]
  },
  {
   "cell_type": "markdown",
   "metadata": {},
   "source": [
    "**実装手順の確認**\n",
    "\n",
    "1. サンプル数のインデックスに対し、kクラス分のランダムな初期ラベルを割り当てる\n",
    "\n",
    "2. 各ラベル毎にデータ点をグルーピングし、クラスタを作成する\n",
    "\n",
    "3. クラスタ毎にデータ点の平均値を求め、そのクラスタの重心とする\n",
    "\n",
    "4. その重心から、すべてのサンプルのデータ点との距離を計算する\n",
    "\n",
    "5. 各データ点から見て、距離が最小となる重心のクラスタにそのデータ点を割り当てる\n",
    "\n",
    "6. 3〜5を繰り返す\n",
    "\n",
    "7. 収束条件(値が変化しない・定義した反復回数に達した等)を満たしたら、終了\n",
    "\n",
    "8. 初期値を変更し1~7をn回繰り返し、SSEが最小のものを選ぶ\n",
    " "
   ]
  },
  {
   "cell_type": "code",
   "execution_count": 366,
   "metadata": {},
   "outputs": [
    {
     "name": "stdout",
     "output_type": "stream",
     "text": [
      "(100, 1)\n"
     ]
    }
   ],
   "source": [
    "#①ラベルつくり\n",
    "y0 = np.full(25, 0)\n",
    "y1 = np.full(25, 1)\n",
    "y2 = np.full(25, 2)\n",
    "y3 = np.full(25, 3)\n",
    "\n",
    "y = np.concatenate([y0.reshape(-1, 1), y1.reshape(-1, 1), \n",
    "                    y2.reshape(-1, 1), y3.reshape(-1, 1)], axis=0)\n",
    "print(y.shape)"
   ]
  },
  {
   "cell_type": "code",
   "execution_count": 367,
   "metadata": {},
   "outputs": [
    {
     "name": "stdout",
     "output_type": "stream",
     "text": [
      "(25, 2)\n",
      "(25, 2)\n",
      "(25, 2)\n",
      "(25, 2)\n"
     ]
    }
   ],
   "source": [
    "X0 = X[:25, :]\n",
    "print(X0.shape)\n",
    "X1 = X[25:50, :]\n",
    "print(X1.shape)\n",
    "X2 = X[50:75, :]\n",
    "print(X2.shape)\n",
    "X3 = X[75:100, :]\n",
    "print(X3.shape)"
   ]
  },
  {
   "cell_type": "code",
   "execution_count": 368,
   "metadata": {},
   "outputs": [
    {
     "name": "stdout",
     "output_type": "stream",
     "text": [
      "[[ 0.72086751  3.71347124  0.        ]\n",
      " [-1.89468423  7.96898545  0.        ]\n",
      " [ 1.35678894  4.36462484  0.        ]\n",
      " [ 1.05374379  4.49286859  0.        ]\n",
      " [ 1.59141542  4.90497725  0.        ]\n",
      " [ 0.78260667  4.15263595  0.        ]\n",
      " [-1.95751686  3.87291474  0.        ]\n",
      " [-0.77354537  7.87923564  0.        ]\n",
      " [ 0.12313498  5.27917503  0.        ]\n",
      " [-1.43284669  7.71577043  0.        ]\n",
      " [-0.92819001  7.02698199  0.        ]\n",
      " [-1.74836345  7.06307447  0.        ]\n",
      " [-1.26789718  7.25141327  0.        ]\n",
      " [-0.98661744  7.74968685  0.        ]\n",
      " [-0.81984047  7.50994722  0.        ]\n",
      " [ 2.99684287  0.22378413  0.        ]\n",
      " [ 1.46870582  1.86947425  0.        ]\n",
      " [-0.33533163  3.390122    0.        ]\n",
      " [-1.86407034  2.93379754  0.        ]\n",
      " [ 2.62496786  0.28025075  0.        ]\n",
      " [ 2.11114739  3.57660449  0.        ]\n",
      " [-1.8219901   7.61654999  0.        ]\n",
      " [-1.91186205  3.18750686  0.        ]\n",
      " [ 2.28809874  0.12954182  0.        ]\n",
      " [ 0.5285368   4.49723858  0.        ]\n",
      " [-1.57613028  2.58614312  1.        ]\n",
      " [-0.565433    3.65813966  1.        ]\n",
      " [ 0.802314    4.38196181  1.        ]\n",
      " [ 2.79939362  1.84560825  1.        ]\n",
      " [ 2.64465731  0.80770124  1.        ]\n",
      " [ 1.7190373   0.71788708  1.        ]\n",
      " [-0.93564005  7.03443119  1.        ]\n",
      " [ 2.14398059  0.69677319  1.        ]\n",
      " [ 2.06051753  1.79059891  1.        ]\n",
      " [-1.21986433  3.3789856   1.        ]\n",
      " [ 1.13280393  3.87673946  1.        ]\n",
      " [-1.497272    8.80022604  1.        ]\n",
      " [ 1.85367905  1.5088862   1.        ]\n",
      " [-0.1666378   8.50372399  1.        ]\n",
      " [-1.89928142  2.50466299  1.        ]\n",
      " [ 1.04829186  5.03092408  1.        ]\n",
      " [-1.44356727  3.23539798  1.        ]\n",
      " [-1.57006498  6.72375844  1.        ]\n",
      " [-1.98331513  3.47639041  1.        ]\n",
      " [-1.87418794  2.84306499  1.        ]\n",
      " [-1.86097353  8.2576415   1.        ]\n",
      " [ 1.61986895  0.60823883  1.        ]\n",
      " [-1.84482705  3.25609891  1.        ]\n",
      " [ 0.72144399  4.08475018  1.        ]\n",
      " [ 0.5323772   3.31338909  1.        ]\n",
      " [ 0.3498724   4.69253251  2.        ]\n",
      " [ 1.89949126  0.92574633  2.        ]\n",
      " [-1.2386086   2.81373288  2.        ]\n",
      " [-1.74448079  3.84251413  2.        ]\n",
      " [-0.96358605  2.37791651  2.        ]\n",
      " [-1.26041884  7.46644456  2.        ]\n",
      " [-0.8623605   8.24721209  2.        ]\n",
      " [ 2.4198128   0.96215512  2.        ]\n",
      " [ 2.23345072  1.25095024  2.        ]\n",
      " [-0.65424088  7.99393132  2.        ]\n",
      " [-1.42525273  7.14798437  2.        ]\n",
      " [ 1.51989121  1.42488952  2.        ]\n",
      " [ 2.11872357  1.09865834  2.        ]\n",
      " [ 1.74265969  5.03846671  2.        ]\n",
      " [ 1.42002502  1.38236201  2.        ]\n",
      " [-0.69842598  8.16309188  2.        ]\n",
      " [-2.18485772  2.68708996  2.        ]\n",
      " [-1.32890066  2.37135151  2.        ]\n",
      " [ 2.15940501  1.38598318  2.        ]\n",
      " [ 1.19820169  4.47062449  2.        ]\n",
      " [-1.7653772   8.17625727  2.        ]\n",
      " [ 1.4726926   1.3480769   2.        ]\n",
      " [ 0.92466065  4.50908658  2.        ]\n",
      " [-1.47602203  7.8441996   2.        ]\n",
      " [ 0.99914934  4.2101954   2.        ]\n",
      " [ 1.40848818  3.93270482  3.        ]\n",
      " [-0.59312453  3.37090459  3.        ]\n",
      " [-1.6609057   3.31911046  3.        ]\n",
      " [ 2.25643834  0.55525861  3.        ]\n",
      " [ 1.24016835  1.12905479  3.        ]\n",
      " [ 1.64869438  0.03452236  3.        ]\n",
      " [-1.61803727  8.60696731  3.        ]\n",
      " [-1.37778493  3.58107521  3.        ]\n",
      " [ 0.16932115  4.19741719  3.        ]\n",
      " [ 1.73810647  0.71629308  3.        ]\n",
      " [-1.05327803  2.84037721  3.        ]\n",
      " [ 1.60161834  0.92363636  3.        ]\n",
      " [ 1.84845803  0.52393625  3.        ]\n",
      " [ 1.72330962  4.2012082   3.        ]\n",
      " [ 1.00952869  4.45502328  3.        ]\n",
      " [ 0.96217896  4.51795326  3.        ]\n",
      " [-1.33869125  2.36818187  3.        ]\n",
      " [ 0.4519936   3.59377836  3.        ]\n",
      " [-1.19075663  3.12161318  3.        ]\n",
      " [-2.27253281  3.13757811  3.        ]\n",
      " [-1.80044744  7.86154256  3.        ]\n",
      " [-1.64996061  7.49068513  3.        ]\n",
      " [-1.56102482  3.77455362  3.        ]\n",
      " [-0.78782636  7.99482384  3.        ]\n",
      " [-0.30022483  4.63059663  3.        ]]\n"
     ]
    }
   ],
   "source": [
    "Xy =  np.concatenate([X, y], axis=1)\n",
    "print(Xy)"
   ]
  },
  {
   "cell_type": "code",
   "execution_count": 373,
   "metadata": {},
   "outputs": [
    {
     "name": "stdout",
     "output_type": "stream",
     "text": [
      "(100,)\n"
     ]
    }
   ],
   "source": [
    "# クラスタ数\n",
    "n_clusters = 4\n",
    "\n",
    "# 最大ループ数\n",
    "max_iter = 550\n",
    "\n",
    "# 所属クラスタ\n",
    "clusters = np.random.randint(0, n_clusters, Xy.shape[0])\n",
    "print(clusters.shape)"
   ]
  },
  {
   "cell_type": "code",
   "execution_count": 377,
   "metadata": {},
   "outputs": [
    {
     "name": "stdout",
     "output_type": "stream",
     "text": [
      "中心点の更新回数：0\n",
      "中心点の座標:[[-0.22989824  4.59921394]\n",
      " [-0.54015297  4.49371268]\n",
      " [ 0.34853072  3.78010296]\n",
      " [ 0.57041434  3.31276416]]\n"
     ]
    },
    {
     "ename": "NameError",
     "evalue": "name 'c' is not defined",
     "output_type": "error",
     "traceback": [
      "\u001b[0;31m---------------------------------------------------------------------------\u001b[0m",
      "\u001b[0;31mNameError\u001b[0m                                 Traceback (most recent call last)",
      "\u001b[0;32m<ipython-input-377-a85745d0902a>\u001b[0m in \u001b[0;36m<module>\u001b[0;34m\u001b[0m\n\u001b[1;32m     14\u001b[0m     \u001b[0;31m#SSEの算出\u001b[0m\u001b[0;34m\u001b[0m\u001b[0;34m\u001b[0m\u001b[0;34m\u001b[0m\u001b[0m\n\u001b[1;32m     15\u001b[0m     \u001b[0mr\u001b[0m \u001b[0;34m=\u001b[0m \u001b[0;36m1\u001b[0m\u001b[0;34m\u001b[0m\u001b[0;34m\u001b[0m\u001b[0m\n\u001b[0;32m---> 16\u001b[0;31m     \u001b[0mSSE\u001b[0m \u001b[0;34m=\u001b[0m \u001b[0mnp\u001b[0m\u001b[0;34m.\u001b[0m\u001b[0margmin\u001b[0m\u001b[0;34m(\u001b[0m\u001b[0mnp\u001b[0m\u001b[0;34m.\u001b[0m\u001b[0msum\u001b[0m\u001b[0;34m(\u001b[0m\u001b[0;34m(\u001b[0m\u001b[0mX\u001b[0m\u001b[0;34m[\u001b[0m\u001b[0mi\u001b[0m\u001b[0;34m,\u001b[0m\u001b[0;36m0\u001b[0m\u001b[0;34m:\u001b[0m\u001b[0;36m2\u001b[0m\u001b[0;34m]\u001b[0m \u001b[0;34m-\u001b[0m \u001b[0mc\u001b[0m\u001b[0;34m)\u001b[0m\u001b[0;34m**\u001b[0m\u001b[0;36m2\u001b[0m\u001b[0;34m,\u001b[0m\u001b[0maxis\u001b[0m\u001b[0;34m=\u001b[0m\u001b[0;36m1\u001b[0m\u001b[0;34m)\u001b[0m\u001b[0;34m)\u001b[0m\u001b[0;34m\u001b[0m\u001b[0;34m\u001b[0m\u001b[0m\n\u001b[0m\u001b[1;32m     17\u001b[0m     \u001b[0mprint\u001b[0m\u001b[0;34m(\u001b[0m\u001b[0;34m\"新しいクラスター：{}\"\u001b[0m\u001b[0;34m.\u001b[0m\u001b[0mformat\u001b[0m\u001b[0;34m(\u001b[0m\u001b[0mnew_clusters\u001b[0m\u001b[0;34m)\u001b[0m\u001b[0;34m)\u001b[0m\u001b[0;34m\u001b[0m\u001b[0;34m\u001b[0m\u001b[0m\n\u001b[1;32m     18\u001b[0m     \u001b[0mprint\u001b[0m\u001b[0;34m(\u001b[0m\u001b[0;34m\"SSE：{}\"\u001b[0m\u001b[0;34m.\u001b[0m\u001b[0mformat\u001b[0m\u001b[0;34m(\u001b[0m\u001b[0mnew_clusters\u001b[0m\u001b[0;34m)\u001b[0m\u001b[0;34m)\u001b[0m\u001b[0;34m\u001b[0m\u001b[0;34m\u001b[0m\u001b[0m\n",
      "\u001b[0;31mNameError\u001b[0m: name 'c' is not defined"
     ]
    }
   ],
   "source": [
    "for i in range(max_iter):\n",
    "    # 中心点の更新\n",
    "    # 各クラスタのデータ点の平均をとる\n",
    "    centroids = np.array([Xy[clusters == n, 0:2].mean(axis = 0)\n",
    "                          for n in range(n_clusters)])\n",
    "    print(\"中心点の更新回数：{}\".format(i))\n",
    "    print(\"中心点の座標:{}\".format(centroids))\n",
    "\n",
    "    # 所属クラスタの更新\n",
    "    # 一番近い中心点のクラスタを所属クラスタに更新する\n",
    "    # np.linalg.normでノルムが計算できる（ユーグリット距離）\n",
    "    # argminで最小値のインデックスを取得できる(SSE)\n",
    "    new_clusters = np.array([np.linalg.norm(Xy[:, 0:2] - c, axis = 1)for c in centroids]).argmin(axis = 0)\n",
    "    #SSEの算出\n",
    "    r = 1\n",
    "    SSE = np.argmin(np.sum((X[i,0:2] - c)**2,axis=1))\n",
    "    print(\"新しいクラスター：{}\".format(new_clusters))\n",
    "    print(\"SSE：{}\".format(new_clusters))\n",
    "    # 空のクラスタがあった場合は中心点をランダムな点に割り当てなおす\n",
    "    for n in range(n_clusters):\n",
    "        if not np.any(new_clusters == n):\n",
    "            centroids[n] = Xy[np.random.choice(Xy.shape[0], 1), :]\n",
    "\n",
    "    # 収束判定\n",
    "    if np.allclose(clusters, new_clusters):\n",
    "        break\n",
    "\n",
    "    clusters = new_clusters\n",
    "    "
   ]
  },
  {
   "cell_type": "code",
   "execution_count": 375,
   "metadata": {},
   "outputs": [
    {
     "data": {
      "image/png": "[encoded data removed]",
      "text/plain": [
       "<Figure size 432x288 with 1 Axes>"
      ]
     },
     "metadata": {
      "needs_background": "light"
     },
     "output_type": "display_data"
    }
   ],
   "source": [
    "p = plt.subplot()\n",
    "\n",
    "p.scatter(Xy[clusters==0, 0], Xy[clusters==0, 1], c = 'red')\n",
    "p.scatter(Xy[clusters==1, 0], Xy[clusters==1, 1], c = 'white', edgecolors='black')\n",
    "p.scatter(Xy[clusters==2, 0], Xy[clusters==2, 1], c = 'blue')\n",
    "p.scatter(Xy[clusters==3, 0], Xy[clusters==3, 1], c = 'green')\n",
    "\n",
    "# 中心点\n",
    "p.scatter(centroids[:, 0], centroids[:, 1], color='orange', marker='s')\n",
    "\n",
    "plt.show()"
   ]
  },
  {
   "cell_type": "markdown",
   "metadata": {},
   "source": [
    "### 【問題2】SSEを求める関数の作成\n",
    "クラスタ内誤差平方和（SSE, Sum of Squared Errors）を計算する関数を作成してください。\n",
    "\n",
    "K-meansはこのSSEを最小化する $r_{nk}$ と $\\mu_k$ を求めることが目的となります。複数個の初期値で計算したクラスタリング結果から、どれを最終的に採用するかを決める際にこのSSEを求める関数を使用します。\n",
    "\n",
    "$$\n",
    "SSE = \\sum_{n=1}^N \\sum_{k=1}^K r_{nk} \\|X_n - \\mu_k\\|^2\n",
    "$$\n",
    "\n",
    "$n$ : データ点のインデックス\n",
    "\n",
    "\n",
    "$k$ : クラスタのインデックス\n",
    "\n",
    "\n",
    "$X_n$ : $n$番目のデータ点\n",
    "\n",
    "\n",
    "$\\mu_k$ : $k$番目の中心点\n",
    "\n",
    "\n",
    "$r_{nk}$ : データ点$X_n$がクラスタ$k$に所属していたら1、そうでなければ0\n",
    "\n"
   ]
  },
  {
   "cell_type": "code",
   "execution_count": 313,
   "metadata": {},
   "outputs": [],
   "source": [
    "distance = []\n",
    "idx = np.zeros(X.shape[0])\n",
    "#print(idx)\n",
    "\n",
    "for i in range(X.shape[0]):\n",
    "    distance.append(np.sum((X[i, :] - centroids)**2, axis=1))# X全ての座標を4つの中心点から引いた距離\n",
    "    idx[i] = np.argmin(np.sum((X[i, :] - centroids)**2, axis=1))#中心点との距離が一番短いX座標のインデックス\n",
    "\n",
    "#print(distance)\n",
    "#print(idx)"
   ]
  },
  {
   "cell_type": "code",
   "execution_count": 314,
   "metadata": {},
   "outputs": [],
   "source": [
    "allocation = np.c_[idx, distance]\n",
    "#print(allocation)"
   ]
  },
  {
   "cell_type": "code",
   "execution_count": 359,
   "metadata": {},
   "outputs": [
    {
     "name": "stdout",
     "output_type": "stream",
     "text": [
      "6917.554305456082\n",
      "[126.11705049100487, 186.01178874287984, 302.18053152203163, 416.47097614962286, 499.0480674585606, 600.8613543131106, 689.1899413045771, 784.5035522865803, 853.9476839168444, 925.6170942681382, 1015.6196632083576, 1101.1426028985086, 1194.5755430411355, 1277.8192847923879, 1346.8290404463535, 1431.6087971428265, 1500.3760604963325, 1579.4008856598614, 1649.4940502812653, 1750.617062216606, 1823.1797116922125, 1930.6297954460117, 2019.258001518245, 2100.763415477799, 2196.2042556032966, 2306.739561951643, 2402.140701711482, 2498.6748820441235, 2571.9299335610312, 2655.1119445559953, 2737.0260983945554, 2830.0910433252066, 2915.014578434812, 3013.8715331467733, 3087.362720948547, 3221.243226548393, 3334.881650503172, 3407.8982959691043, 3527.315462676256, 3614.85596092189, 3722.70378456008, 3820.955726466379, 3902.006474300326, 4005.9739510376967, 4121.254257418375, 4222.145175969359, 4350.365799117158, 4456.147637723989, 4549.021850597743, 4648.118031193893, 4685.257522556884, 4727.445776111781, 4767.211103916581, 4814.6453911194185, 4851.749482340057, 4892.754752760606, 4945.605779736137, 4982.2415767091225, 5019.87571065292, 5059.605810361772, 5102.422333661854, 5139.138074897162, 5177.091250230303, 5214.02260005807, 5264.414427180749, 5305.353726366242, 5344.200915985521, 5382.8384251020125, 5425.215236007113, 5460.240209519787, 5506.505520776882, 5545.790460655324, 5584.941432403559, 5621.283711114815, 5658.000649307763, 5709.982217254325, 5748.122586852942, 5803.4482211439945, 5857.518453383634, 5912.351733222687, 5950.287324151148, 5994.289885578857, 6054.701570204623, 6102.008569145286, 6155.57351501937, 6211.8918140903925, 6264.48138428485, 6312.954616280582, 6361.7540604967035, 6412.756102456713, 6475.818611928213, 6530.382521074824, 6569.669854521156, 6619.237005643858, 6664.0243183057855, 6710.476296644264, 6765.190431387849, 6810.534219577995, 6871.115577982145, 6917.554305456082]\n"
     ]
    }
   ],
   "source": [
    "sse = 0\n",
    "sse_list = []\n",
    "for j in range(centroids.shape[0]):\n",
    "    for i in range(allocation.shape[0]):\n",
    "        if j == allocation[i, 0]:\n",
    "            sse += sum(allocation[i])\n",
    "            sse_list.append(sse)\n",
    "            #print(sse)\n",
    "print(sse)\n",
    "print(sse_list)"
   ]
  },
  {
   "cell_type": "code",
   "execution_count": 354,
   "metadata": {},
   "outputs": [
    {
     "name": "stdout",
     "output_type": "stream",
     "text": [
      "[6917.554305456082, 6871.115577982145, 6810.534219577995, 6765.190431387849, 6710.476296644264, 6664.0243183057855, 6619.237005643858, 6569.669854521156, 6530.382521074824, 6475.818611928213, 6412.756102456713, 6361.7540604967035, 6312.954616280582, 6264.48138428485, 6211.8918140903925, 6155.57351501937, 6102.008569145286, 6054.701570204623, 5994.289885578857, 5950.287324151148, 5912.351733222687, 5857.518453383634, 5803.4482211439945, 5748.122586852942, 5709.982217254325, 5658.000649307763, 5621.283711114815, 5584.941432403559, 5545.790460655324, 5506.505520776882, 5460.240209519787, 5425.215236007113, 5382.8384251020125, 5344.200915985521, 5305.353726366242, 5264.414427180749, 5214.02260005807, 5177.091250230303, 5139.138074897162, 5102.422333661854, 5059.605810361772, 5019.87571065292, 4982.2415767091225, 4945.605779736137, 4892.754752760606, 4851.749482340057, 4814.6453911194185, 4767.211103916581, 4727.445776111781, 4685.257522556884, 4648.118031193893, 4549.021850597743, 4456.147637723989, 4350.365799117158, 4222.145175969359, 4121.254257418375, 4005.9739510376967, 3902.006474300326, 3820.955726466379, 3722.70378456008, 3614.85596092189, 3527.315462676256, 3407.8982959691043, 3334.881650503172, 3221.243226548393, 3087.362720948547, 3013.8715331467733, 2915.014578434812, 2830.0910433252066, 2737.0260983945554, 2655.1119445559953, 2571.9299335610312, 2498.6748820441235, 2402.140701711482, 2306.739561951643, 2196.2042556032966, 2100.763415477799, 2019.258001518245, 1930.6297954460117, 1823.1797116922125, 1750.617062216606, 1649.4940502812653, 1579.4008856598614, 1500.3760604963325, 1431.6087971428265, 1346.8290404463535, 1277.8192847923879, 1194.5755430411355, 1101.1426028985086, 1015.6196632083576, 925.6170942681382, 853.9476839168444, 784.5035522865803, 689.1899413045771, 600.8613543131106, 499.0480674585606, 416.47097614962286, 302.18053152203163, 186.01178874287984, 126.11705049100487]\n"
     ]
    }
   ],
   "source": [
    "print(sorted(sse_list, reverse=True))"
   ]
  },
  {
   "cell_type": "code",
   "execution_count": 360,
   "metadata": {},
   "outputs": [
    {
     "ename": "ConversionError",
     "evalue": "Failed to convert value(s) to axis units: 'Number of clusters'",
     "output_type": "error",
     "traceback": [
      "\u001b[0;31m---------------------------------------------------------------------------\u001b[0m",
      "\u001b[0;31mValueError\u001b[0m                                Traceback (most recent call last)",
      "\u001b[0;32m~/.pyenv/versions/anaconda3-5.3.1/lib/python3.7/site-packages/matplotlib/axis.py\u001b[0m in \u001b[0;36mconvert_units\u001b[0;34m(self, x)\u001b[0m\n\u001b[1;32m   1519\u001b[0m         \u001b[0;32mtry\u001b[0m\u001b[0;34m:\u001b[0m\u001b[0;34m\u001b[0m\u001b[0;34m\u001b[0m\u001b[0m\n\u001b[0;32m-> 1520\u001b[0;31m             \u001b[0mret\u001b[0m \u001b[0;34m=\u001b[0m \u001b[0mself\u001b[0m\u001b[0;34m.\u001b[0m\u001b[0mconverter\u001b[0m\u001b[0;34m.\u001b[0m\u001b[0mconvert\u001b[0m\u001b[0;34m(\u001b[0m\u001b[0mx\u001b[0m\u001b[0;34m,\u001b[0m \u001b[0mself\u001b[0m\u001b[0;34m.\u001b[0m\u001b[0munits\u001b[0m\u001b[0;34m,\u001b[0m \u001b[0mself\u001b[0m\u001b[0;34m)\u001b[0m\u001b[0;34m\u001b[0m\u001b[0;34m\u001b[0m\u001b[0m\n\u001b[0m\u001b[1;32m   1521\u001b[0m         \u001b[0;32mexcept\u001b[0m \u001b[0mException\u001b[0m \u001b[0;32mas\u001b[0m \u001b[0me\u001b[0m\u001b[0;34m:\u001b[0m\u001b[0;34m\u001b[0m\u001b[0;34m\u001b[0m\u001b[0m\n",
      "\u001b[0;32m~/.pyenv/versions/anaconda3-5.3.1/lib/python3.7/site-packages/matplotlib/category.py\u001b[0m in \u001b[0;36mconvert\u001b[0;34m(value, unit, axis)\u001b[0m\n\u001b[1;32m     49\u001b[0m             raise ValueError(\n\u001b[0;32m---> 50\u001b[0;31m                 \u001b[0;34m'Missing category information for StrCategoryConverter; '\u001b[0m\u001b[0;34m\u001b[0m\u001b[0;34m\u001b[0m\u001b[0m\n\u001b[0m\u001b[1;32m     51\u001b[0m                 \u001b[0;34m'this might be caused by unintendedly mixing categorical and '\u001b[0m\u001b[0;34m\u001b[0m\u001b[0;34m\u001b[0m\u001b[0m\n",
      "\u001b[0;31mValueError\u001b[0m: Missing category information for StrCategoryConverter; this might be caused by unintendedly mixing categorical and numeric data",
      "\nThe above exception was the direct cause of the following exception:\n",
      "\u001b[0;31mConversionError\u001b[0m                           Traceback (most recent call last)",
      "\u001b[0;32m<ipython-input-360-69bbae977d6f>\u001b[0m in \u001b[0;36m<module>\u001b[0;34m\u001b[0m\n\u001b[1;32m      1\u001b[0m \u001b[0mplt\u001b[0m\u001b[0;34m.\u001b[0m\u001b[0mplot\u001b[0m\u001b[0;34m(\u001b[0m\u001b[0mrange\u001b[0m\u001b[0;34m(\u001b[0m\u001b[0;36m1\u001b[0m\u001b[0;34m,\u001b[0m\u001b[0;36m101\u001b[0m\u001b[0;34m)\u001b[0m\u001b[0;34m,\u001b[0m \u001b[0msorted\u001b[0m\u001b[0;34m(\u001b[0m\u001b[0msse_list\u001b[0m\u001b[0;34m,\u001b[0m \u001b[0mreverse\u001b[0m\u001b[0;34m=\u001b[0m\u001b[0;32mTrue\u001b[0m\u001b[0;34m)\u001b[0m\u001b[0;34m,\u001b[0m \u001b[0mmarker\u001b[0m\u001b[0;34m=\u001b[0m\u001b[0;34m'o'\u001b[0m\u001b[0;34m)\u001b[0m\u001b[0;34m\u001b[0m\u001b[0;34m\u001b[0m\u001b[0m\n\u001b[0;32m----> 2\u001b[0;31m \u001b[0mplt\u001b[0m\u001b[0;34m.\u001b[0m\u001b[0mxticks\u001b[0m\u001b[0;34m(\u001b[0m\u001b[0;34m'Number of clusters'\u001b[0m\u001b[0;34m)\u001b[0m\u001b[0;34m\u001b[0m\u001b[0;34m\u001b[0m\u001b[0m\n\u001b[0m\u001b[1;32m      3\u001b[0m \u001b[0mplt\u001b[0m\u001b[0;34m.\u001b[0m\u001b[0mxlabel\u001b[0m\u001b[0;34m(\u001b[0m\u001b[0mnp\u001b[0m\u001b[0;34m.\u001b[0m\u001b[0marange\u001b[0m\u001b[0;34m(\u001b[0m\u001b[0;36m1\u001b[0m\u001b[0;34m,\u001b[0m\u001b[0;36m101\u001b[0m\u001b[0;34m,\u001b[0m\u001b[0;36m10\u001b[0m\u001b[0;34m)\u001b[0m\u001b[0;34m)\u001b[0m\u001b[0;34m\u001b[0m\u001b[0;34m\u001b[0m\u001b[0m\n\u001b[1;32m      4\u001b[0m \u001b[0mplt\u001b[0m\u001b[0;34m.\u001b[0m\u001b[0mylabel\u001b[0m\u001b[0;34m(\u001b[0m\u001b[0;34m'SSE'\u001b[0m\u001b[0;34m)\u001b[0m\u001b[0;34m\u001b[0m\u001b[0;34m\u001b[0m\u001b[0m\n\u001b[1;32m      5\u001b[0m \u001b[0mplt\u001b[0m\u001b[0;34m.\u001b[0m\u001b[0mshow\u001b[0m\u001b[0;34m(\u001b[0m\u001b[0;34m)\u001b[0m\u001b[0;34m\u001b[0m\u001b[0;34m\u001b[0m\u001b[0m\n",
      "\u001b[0;32m~/.pyenv/versions/anaconda3-5.3.1/lib/python3.7/site-packages/matplotlib/pyplot.py\u001b[0m in \u001b[0;36mxticks\u001b[0;34m(ticks, labels, **kwargs)\u001b[0m\n\u001b[1;32m   1636\u001b[0m                             \"without setting 'ticks'\")\n\u001b[1;32m   1637\u001b[0m     \u001b[0;32melse\u001b[0m\u001b[0;34m:\u001b[0m\u001b[0;34m\u001b[0m\u001b[0;34m\u001b[0m\u001b[0m\n\u001b[0;32m-> 1638\u001b[0;31m         \u001b[0mlocs\u001b[0m \u001b[0;34m=\u001b[0m \u001b[0max\u001b[0m\u001b[0;34m.\u001b[0m\u001b[0mset_xticks\u001b[0m\u001b[0;34m(\u001b[0m\u001b[0mticks\u001b[0m\u001b[0;34m)\u001b[0m\u001b[0;34m\u001b[0m\u001b[0;34m\u001b[0m\u001b[0m\n\u001b[0m\u001b[1;32m   1639\u001b[0m \u001b[0;34m\u001b[0m\u001b[0m\n\u001b[1;32m   1640\u001b[0m     \u001b[0;32mif\u001b[0m \u001b[0mlabels\u001b[0m \u001b[0;32mis\u001b[0m \u001b[0;32mNone\u001b[0m\u001b[0;34m:\u001b[0m\u001b[0;34m\u001b[0m\u001b[0;34m\u001b[0m\u001b[0m\n",
      "\u001b[0;32m~/.pyenv/versions/anaconda3-5.3.1/lib/python3.7/site-packages/matplotlib/axes/_base.py\u001b[0m in \u001b[0;36mwrapper\u001b[0;34m(self, *args, **kwargs)\u001b[0m\n\u001b[1;32m     61\u001b[0m \u001b[0;34m\u001b[0m\u001b[0m\n\u001b[1;32m     62\u001b[0m         \u001b[0;32mdef\u001b[0m \u001b[0mwrapper\u001b[0m\u001b[0;34m(\u001b[0m\u001b[0mself\u001b[0m\u001b[0;34m,\u001b[0m \u001b[0;34m*\u001b[0m\u001b[0margs\u001b[0m\u001b[0;34m,\u001b[0m \u001b[0;34m**\u001b[0m\u001b[0mkwargs\u001b[0m\u001b[0;34m)\u001b[0m\u001b[0;34m:\u001b[0m\u001b[0;34m\u001b[0m\u001b[0;34m\u001b[0m\u001b[0m\n\u001b[0;32m---> 63\u001b[0;31m             \u001b[0;32mreturn\u001b[0m \u001b[0mget_method\u001b[0m\u001b[0;34m(\u001b[0m\u001b[0mself\u001b[0m\u001b[0;34m)\u001b[0m\u001b[0;34m(\u001b[0m\u001b[0;34m*\u001b[0m\u001b[0margs\u001b[0m\u001b[0;34m,\u001b[0m \u001b[0;34m**\u001b[0m\u001b[0mkwargs\u001b[0m\u001b[0;34m)\u001b[0m\u001b[0;34m\u001b[0m\u001b[0;34m\u001b[0m\u001b[0m\n\u001b[0m\u001b[1;32m     64\u001b[0m \u001b[0;34m\u001b[0m\u001b[0m\n\u001b[1;32m     65\u001b[0m         \u001b[0mwrapper\u001b[0m\u001b[0;34m.\u001b[0m\u001b[0m__module__\u001b[0m \u001b[0;34m=\u001b[0m \u001b[0mowner\u001b[0m\u001b[0;34m.\u001b[0m\u001b[0m__module__\u001b[0m\u001b[0;34m\u001b[0m\u001b[0;34m\u001b[0m\u001b[0m\n",
      "\u001b[0;32m~/.pyenv/versions/anaconda3-5.3.1/lib/python3.7/site-packages/matplotlib/cbook/deprecation.py\u001b[0m in \u001b[0;36mwrapper\u001b[0;34m(*args, **kwargs)\u001b[0m\n\u001b[1;32m    449\u001b[0m                 \u001b[0;34m\"parameter will become keyword-only %(removal)s.\"\u001b[0m\u001b[0;34m,\u001b[0m\u001b[0;34m\u001b[0m\u001b[0;34m\u001b[0m\u001b[0m\n\u001b[1;32m    450\u001b[0m                 name=name, obj_type=f\"parameter of {func.__name__}()\")\n\u001b[0;32m--> 451\u001b[0;31m         \u001b[0;32mreturn\u001b[0m \u001b[0mfunc\u001b[0m\u001b[0;34m(\u001b[0m\u001b[0;34m*\u001b[0m\u001b[0margs\u001b[0m\u001b[0;34m,\u001b[0m \u001b[0;34m**\u001b[0m\u001b[0mkwargs\u001b[0m\u001b[0;34m)\u001b[0m\u001b[0;34m\u001b[0m\u001b[0;34m\u001b[0m\u001b[0m\n\u001b[0m\u001b[1;32m    452\u001b[0m \u001b[0;34m\u001b[0m\u001b[0m\n\u001b[1;32m    453\u001b[0m     \u001b[0;32mreturn\u001b[0m \u001b[0mwrapper\u001b[0m\u001b[0;34m\u001b[0m\u001b[0;34m\u001b[0m\u001b[0m\n",
      "\u001b[0;32m~/.pyenv/versions/anaconda3-5.3.1/lib/python3.7/site-packages/matplotlib/axis.py\u001b[0m in \u001b[0;36mset_ticks\u001b[0;34m(self, ticks, minor)\u001b[0m\n\u001b[1;32m   1806\u001b[0m         \"\"\"\n\u001b[1;32m   1807\u001b[0m         \u001b[0;31m# XXX if the user changes units, the information will be lost here\u001b[0m\u001b[0;34m\u001b[0m\u001b[0;34m\u001b[0m\u001b[0;34m\u001b[0m\u001b[0m\n\u001b[0;32m-> 1808\u001b[0;31m         \u001b[0mticks\u001b[0m \u001b[0;34m=\u001b[0m \u001b[0mself\u001b[0m\u001b[0;34m.\u001b[0m\u001b[0mconvert_units\u001b[0m\u001b[0;34m(\u001b[0m\u001b[0mticks\u001b[0m\u001b[0;34m)\u001b[0m\u001b[0;34m\u001b[0m\u001b[0;34m\u001b[0m\u001b[0m\n\u001b[0m\u001b[1;32m   1809\u001b[0m         \u001b[0;32mif\u001b[0m \u001b[0mlen\u001b[0m\u001b[0;34m(\u001b[0m\u001b[0mticks\u001b[0m\u001b[0;34m)\u001b[0m \u001b[0;34m>\u001b[0m \u001b[0;36m1\u001b[0m\u001b[0;34m:\u001b[0m\u001b[0;34m\u001b[0m\u001b[0;34m\u001b[0m\u001b[0m\n\u001b[1;32m   1810\u001b[0m             \u001b[0mxleft\u001b[0m\u001b[0;34m,\u001b[0m \u001b[0mxright\u001b[0m \u001b[0;34m=\u001b[0m \u001b[0mself\u001b[0m\u001b[0;34m.\u001b[0m\u001b[0mget_view_interval\u001b[0m\u001b[0;34m(\u001b[0m\u001b[0;34m)\u001b[0m\u001b[0;34m\u001b[0m\u001b[0;34m\u001b[0m\u001b[0m\n",
      "\u001b[0;32m~/.pyenv/versions/anaconda3-5.3.1/lib/python3.7/site-packages/matplotlib/axis.py\u001b[0m in \u001b[0;36mconvert_units\u001b[0;34m(self, x)\u001b[0m\n\u001b[1;32m   1521\u001b[0m         \u001b[0;32mexcept\u001b[0m \u001b[0mException\u001b[0m \u001b[0;32mas\u001b[0m \u001b[0me\u001b[0m\u001b[0;34m:\u001b[0m\u001b[0;34m\u001b[0m\u001b[0;34m\u001b[0m\u001b[0m\n\u001b[1;32m   1522\u001b[0m             raise munits.ConversionError('Failed to convert value(s) to axis '\n\u001b[0;32m-> 1523\u001b[0;31m                                          f'units: {x!r}') from e\n\u001b[0m\u001b[1;32m   1524\u001b[0m         \u001b[0;32mreturn\u001b[0m \u001b[0mret\u001b[0m\u001b[0;34m\u001b[0m\u001b[0;34m\u001b[0m\u001b[0m\n\u001b[1;32m   1525\u001b[0m \u001b[0;34m\u001b[0m\u001b[0m\n",
      "\u001b[0;31mConversionError\u001b[0m: Failed to convert value(s) to axis units: 'Number of clusters'"
     ]
    },
    {
     "data": {
      "image/png": "[encoded data removed]",
      "text/plain": [
       "<Figure size 432x288 with 1 Axes>"
      ]
     },
     "metadata": {
      "needs_background": "light"
     },
     "output_type": "display_data"
    }
   ],
   "source": [
    "plt.plot(range(1,1), sorted(sse_list, reverse=True), marker='o')\n",
    "plt.xticks('Number of clusters')\n",
    "plt.xlabel(np.arange(1,11,1))\n",
    "plt.ylabel('SSE')\n",
    "plt.show()"
   ]
  },
  {
   "cell_type": "code",
   "execution_count": 228,
   "metadata": {},
   "outputs": [],
   "source": [
    "#初期値を更新するプログラム"
   ]
  },
  {
   "cell_type": "code",
   "execution_count": null,
   "metadata": {},
   "outputs": [],
   "source": [
    "p = plt.subplot()\n",
    "\n",
    "p.scatter(Xy[clusters==0, 0], Xy[clusters==0, 1], c = 'red')\n",
    "p.scatter(Xy[clusters==1, 0], Xy[clusters==1, 1], c = 'white', edgecolors='black')\n",
    "p.scatter(Xy[clusters==2, 0], Xy[clusters==2, 1], c = 'blue')\n",
    "p.scatter(Xy[clusters==3, 0], Xy[clusters==3, 1], c = 'green')\n",
    "\n",
    "# 中心点\n",
    "p.scatter(centroids[:, 0], centroids[:, 1], color='orange', marker='s')\n",
    "\n",
    "plt.show()"
   ]
  },
  {
   "cell_type": "code",
   "execution_count": 235,
   "metadata": {},
   "outputs": [
    {
     "ename": "ValueError",
     "evalue": "operands could not be broadcast together with shapes (3,) (2,) ",
     "output_type": "error",
     "traceback": [
      "\u001b[0;31m---------------------------------------------------------------------------\u001b[0m",
      "\u001b[0;31mValueError\u001b[0m                                Traceback (most recent call last)",
      "\u001b[0;32m<ipython-input-235-ad01dad33a09>\u001b[0m in \u001b[0;36m<module>\u001b[0;34m\u001b[0m\n\u001b[1;32m      3\u001b[0m \u001b[0;32mfor\u001b[0m \u001b[0mi\u001b[0m \u001b[0;32min\u001b[0m \u001b[0mrange\u001b[0m\u001b[0;34m(\u001b[0m\u001b[0mn_clusters\u001b[0m\u001b[0;34m)\u001b[0m\u001b[0;34m:\u001b[0m\u001b[0;34m\u001b[0m\u001b[0;34m\u001b[0m\u001b[0m\n\u001b[1;32m      4\u001b[0m     \u001b[0;32mfor\u001b[0m \u001b[0mj\u001b[0m \u001b[0;32min\u001b[0m \u001b[0mrange\u001b[0m\u001b[0;34m(\u001b[0m\u001b[0mX\u001b[0m\u001b[0;34m.\u001b[0m\u001b[0mshape\u001b[0m\u001b[0;34m[\u001b[0m\u001b[0;36m0\u001b[0m\u001b[0;34m]\u001b[0m\u001b[0;34m)\u001b[0m\u001b[0;34m:\u001b[0m\u001b[0;34m\u001b[0m\u001b[0;34m\u001b[0m\u001b[0m\n\u001b[0;32m----> 5\u001b[0;31m         \u001b[0mdiff\u001b[0m \u001b[0;34m=\u001b[0m \u001b[0mcentroids\u001b[0m\u001b[0;34m[\u001b[0m\u001b[0mi\u001b[0m\u001b[0;34m]\u001b[0m \u001b[0;34m-\u001b[0m \u001b[0mX\u001b[0m\u001b[0;34m[\u001b[0m\u001b[0mj\u001b[0m\u001b[0;34m]\u001b[0m\u001b[0;34m\u001b[0m\u001b[0;34m\u001b[0m\u001b[0m\n\u001b[0m\u001b[1;32m      6\u001b[0m         \u001b[0mdistance_matrix\u001b[0m\u001b[0;34m[\u001b[0m\u001b[0mj\u001b[0m\u001b[0;34m]\u001b[0m\u001b[0;34m[\u001b[0m\u001b[0mi\u001b[0m\u001b[0;34m]\u001b[0m \u001b[0;34m=\u001b[0m \u001b[0mnp\u001b[0m\u001b[0;34m.\u001b[0m\u001b[0mlinalg\u001b[0m\u001b[0;34m.\u001b[0m\u001b[0mnorm\u001b[0m\u001b[0;34m(\u001b[0m\u001b[0mdiff\u001b[0m\u001b[0;34m)\u001b[0m\u001b[0;34m\u001b[0m\u001b[0;34m\u001b[0m\u001b[0m\n",
      "\u001b[0;31mValueError\u001b[0m: operands could not be broadcast together with shapes (3,) (2,) "
     ]
    }
   ],
   "source": [
    "distance_matrix = np.zeros((X.shape[0], 4))\n",
    "\n",
    "for i in range(n_clusters):\n",
    "    for j in range(X.shape[0]):\n",
    "        diff = centroids[i] - X[j]\n",
    "        distance_matrix[j][i] = np.linalg.norm(diff)   "
   ]
  },
  {
   "cell_type": "code",
   "execution_count": null,
   "metadata": {},
   "outputs": [],
   "source": []
  }
 ],
 "metadata": {
  "kernelspec": {
   "display_name": "Python 3",
   "language": "python",
   "name": "python3"
  },
  "language_info": {
   "codemirror_mode": {
    "name": "ipython",
    "version": 3
   },
   "file_extension": ".py",
   "mimetype": "text/x-python",
   "name": "python",
   "nbconvert_exporter": "python",
   "pygments_lexer": "ipython3",
   "version": "3.7.2"
  }
 },
 "nbformat": 4,
 "nbformat_minor": 4
}
